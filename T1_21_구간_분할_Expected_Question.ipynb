{
  "nbformat": 4,
  "nbformat_minor": 0,
  "metadata": {
    "colab": {
      "name": "T1-21. 구간 분할 Expected Question",
      "provenance": [],
      "collapsed_sections": [],
      "authorship_tag": "ABX9TyOoYXNakrl+YgtO6GsnVoWF",
      "include_colab_link": true
    },
    "kernelspec": {
      "name": "python3",
      "display_name": "Python 3"
    },
    "language_info": {
      "name": "python"
    }
  },
  "cells": [
    {
      "cell_type": "markdown",
      "metadata": {
        "id": "view-in-github",
        "colab_type": "text"
      },
      "source": [
        "<a href=\"https://colab.research.google.com/github/ejrtks1020/Bigdata_Analysis_Certification/blob/main/T1_21_%EA%B5%AC%EA%B0%84_%EB%B6%84%ED%95%A0_Expected_Question.ipynb\" target=\"_parent\"><img src=\"https://colab.research.google.com/assets/colab-badge.svg\" alt=\"Open In Colab\"/></a>"
      ]
    },
    {
      "cell_type": "markdown",
      "metadata": {
        "id": "yURGNXJ_ttlM"
      },
      "source": [
        "나이 구간 나누기\n",
        "\n",
        "basic1 데이터 중 'age'컬럼 이상치를 제거하고, 동일한 개수로 나이 순으로 3그룹으로 나눈 뒤 각 그룹의 중앙값을 더하시오"
      ]
    },
    {
      "cell_type": "code",
      "metadata": {
        "id": "TmAr2YYfpDsO"
      },
      "source": [
        "import pandas as pd\n",
        "\n",
        "df = pd.read_csv('basic1.csv')"
      ],
      "execution_count": null,
      "outputs": []
    },
    {
      "cell_type": "code",
      "metadata": {
        "colab": {
          "base_uri": "https://localhost:8080/"
        },
        "id": "m8_2XMtKP5Ei",
        "outputId": "d9e03096-bed0-4910-93e1-bc841bd0dba4"
      },
      "source": [
        "df['age'].describe()"
      ],
      "execution_count": null,
      "outputs": [
        {
          "output_type": "execute_result",
          "data": {
            "text/plain": [
              "count    100.000000\n",
              "mean      50.963000\n",
              "std       30.442759\n",
              "min      -13.500000\n",
              "25%       26.875000\n",
              "50%       52.500000\n",
              "75%       77.000000\n",
              "max      100.000000\n",
              "Name: age, dtype: float64"
            ]
          },
          "metadata": {},
          "execution_count": 2
        }
      ]
    },
    {
      "cell_type": "code",
      "metadata": {
        "id": "t1bXW6CqP82p"
      },
      "source": [
        "index = df[df['age'] <= 0].index"
      ],
      "execution_count": null,
      "outputs": []
    },
    {
      "cell_type": "code",
      "metadata": {
        "id": "kSecYvcAQH45"
      },
      "source": [
        "df2 = df.drop(index = index, axis = 0)"
      ],
      "execution_count": null,
      "outputs": []
    },
    {
      "cell_type": "code",
      "metadata": {
        "colab": {
          "base_uri": "https://localhost:8080/"
        },
        "id": "eq7GuJtcQJaJ",
        "outputId": "c405ca04-00d7-41e5-9248-3f59affcf1d6"
      },
      "source": [
        "df.shape, df2.shape"
      ],
      "execution_count": null,
      "outputs": [
        {
          "output_type": "execute_result",
          "data": {
            "text/plain": [
              "((100, 8), (96, 8))"
            ]
          },
          "metadata": {},
          "execution_count": 15
        }
      ]
    },
    {
      "cell_type": "code",
      "metadata": {
        "colab": {
          "base_uri": "https://localhost:8080/",
          "height": 408
        },
        "id": "e3AvxRO1QW65",
        "outputId": "c0eb2e99-f946-4f6a-c791-f9c87be6d3c7"
      },
      "source": [
        "df3 = df2.sort_values(by = 'age')\n",
        "df3"
      ],
      "execution_count": null,
      "outputs": [
        {
          "output_type": "execute_result",
          "data": {
            "text/html": [
              "<div>\n",
              "<style scoped>\n",
              "    .dataframe tbody tr th:only-of-type {\n",
              "        vertical-align: middle;\n",
              "    }\n",
              "\n",
              "    .dataframe tbody tr th {\n",
              "        vertical-align: top;\n",
              "    }\n",
              "\n",
              "    .dataframe thead th {\n",
              "        text-align: right;\n",
              "    }\n",
              "</style>\n",
              "<table border=\"1\" class=\"dataframe\">\n",
              "  <thead>\n",
              "    <tr style=\"text-align: right;\">\n",
              "      <th></th>\n",
              "      <th>id</th>\n",
              "      <th>age</th>\n",
              "      <th>city</th>\n",
              "      <th>f1</th>\n",
              "      <th>f2</th>\n",
              "      <th>f3</th>\n",
              "      <th>f4</th>\n",
              "      <th>f5</th>\n",
              "    </tr>\n",
              "  </thead>\n",
              "  <tbody>\n",
              "    <tr>\n",
              "      <th>98</th>\n",
              "      <td>id99</td>\n",
              "      <td>1.0</td>\n",
              "      <td>경기</td>\n",
              "      <td>47.0</td>\n",
              "      <td>0</td>\n",
              "      <td>NaN</td>\n",
              "      <td>ESFJ</td>\n",
              "      <td>97.381034</td>\n",
              "    </tr>\n",
              "    <tr>\n",
              "      <th>0</th>\n",
              "      <td>id01</td>\n",
              "      <td>2.0</td>\n",
              "      <td>서울</td>\n",
              "      <td>NaN</td>\n",
              "      <td>0</td>\n",
              "      <td>NaN</td>\n",
              "      <td>ENFJ</td>\n",
              "      <td>91.297791</td>\n",
              "    </tr>\n",
              "    <tr>\n",
              "      <th>85</th>\n",
              "      <td>id86</td>\n",
              "      <td>2.0</td>\n",
              "      <td>경기</td>\n",
              "      <td>NaN</td>\n",
              "      <td>0</td>\n",
              "      <td>NaN</td>\n",
              "      <td>ESTP</td>\n",
              "      <td>29.269869</td>\n",
              "    </tr>\n",
              "    <tr>\n",
              "      <th>56</th>\n",
              "      <td>id57</td>\n",
              "      <td>3.0</td>\n",
              "      <td>대구</td>\n",
              "      <td>111.0</td>\n",
              "      <td>0</td>\n",
              "      <td>NaN</td>\n",
              "      <td>ISFJ</td>\n",
              "      <td>29.269869</td>\n",
              "    </tr>\n",
              "    <tr>\n",
              "      <th>8</th>\n",
              "      <td>id09</td>\n",
              "      <td>3.3</td>\n",
              "      <td>서울</td>\n",
              "      <td>35.0</td>\n",
              "      <td>2</td>\n",
              "      <td>NaN</td>\n",
              "      <td>ESFJ</td>\n",
              "      <td>17.252986</td>\n",
              "    </tr>\n",
              "    <tr>\n",
              "      <th>...</th>\n",
              "      <td>...</td>\n",
              "      <td>...</td>\n",
              "      <td>...</td>\n",
              "      <td>...</td>\n",
              "      <td>...</td>\n",
              "      <td>...</td>\n",
              "      <td>...</td>\n",
              "      <td>...</td>\n",
              "    </tr>\n",
              "    <tr>\n",
              "      <th>91</th>\n",
              "      <td>id92</td>\n",
              "      <td>97.0</td>\n",
              "      <td>경기</td>\n",
              "      <td>78.0</td>\n",
              "      <td>1</td>\n",
              "      <td>NaN</td>\n",
              "      <td>INFP</td>\n",
              "      <td>97.381034</td>\n",
              "    </tr>\n",
              "    <tr>\n",
              "      <th>51</th>\n",
              "      <td>id52</td>\n",
              "      <td>97.0</td>\n",
              "      <td>대구</td>\n",
              "      <td>82.0</td>\n",
              "      <td>1</td>\n",
              "      <td>NaN</td>\n",
              "      <td>ISFJ</td>\n",
              "      <td>90.496999</td>\n",
              "    </tr>\n",
              "    <tr>\n",
              "      <th>44</th>\n",
              "      <td>id45</td>\n",
              "      <td>97.0</td>\n",
              "      <td>대구</td>\n",
              "      <td>88.0</td>\n",
              "      <td>0</td>\n",
              "      <td>NaN</td>\n",
              "      <td>ENFJ</td>\n",
              "      <td>13.049921</td>\n",
              "    </tr>\n",
              "    <tr>\n",
              "      <th>36</th>\n",
              "      <td>id37</td>\n",
              "      <td>100.0</td>\n",
              "      <td>부산</td>\n",
              "      <td>NaN</td>\n",
              "      <td>0</td>\n",
              "      <td>NaN</td>\n",
              "      <td>ESTP</td>\n",
              "      <td>33.308999</td>\n",
              "    </tr>\n",
              "    <tr>\n",
              "      <th>96</th>\n",
              "      <td>id97</td>\n",
              "      <td>100.0</td>\n",
              "      <td>경기</td>\n",
              "      <td>NaN</td>\n",
              "      <td>0</td>\n",
              "      <td>NaN</td>\n",
              "      <td>INFP</td>\n",
              "      <td>67.886373</td>\n",
              "    </tr>\n",
              "  </tbody>\n",
              "</table>\n",
              "<p>96 rows × 8 columns</p>\n",
              "</div>"
            ],
            "text/plain": [
              "      id    age city     f1  f2   f3    f4         f5\n",
              "98  id99    1.0   경기   47.0   0  NaN  ESFJ  97.381034\n",
              "0   id01    2.0   서울    NaN   0  NaN  ENFJ  91.297791\n",
              "85  id86    2.0   경기    NaN   0  NaN  ESTP  29.269869\n",
              "56  id57    3.0   대구  111.0   0  NaN  ISFJ  29.269869\n",
              "8   id09    3.3   서울   35.0   2  NaN  ESFJ  17.252986\n",
              "..   ...    ...  ...    ...  ..  ...   ...        ...\n",
              "91  id92   97.0   경기   78.0   1  NaN  INFP  97.381034\n",
              "51  id52   97.0   대구   82.0   1  NaN  ISFJ  90.496999\n",
              "44  id45   97.0   대구   88.0   0  NaN  ENFJ  13.049921\n",
              "36  id37  100.0   부산    NaN   0  NaN  ESTP  33.308999\n",
              "96  id97  100.0   경기    NaN   0  NaN  INFP  67.886373\n",
              "\n",
              "[96 rows x 8 columns]"
            ]
          },
          "metadata": {},
          "execution_count": 16
        }
      ]
    },
    {
      "cell_type": "code",
      "metadata": {
        "id": "Ak81fF9xQzMq"
      },
      "source": [
        "df3.groupby('age')"
      ],
      "execution_count": null,
      "outputs": []
    },
    {
      "cell_type": "code",
      "metadata": {
        "colab": {
          "base_uri": "https://localhost:8080/"
        },
        "id": "MMymDPqdUKyC",
        "outputId": "8529642e-5b98-4ad6-b974-59cd55a6c94c"
      },
      "source": [
        "print(\"전체 데이터: \", df.shape)\n",
        "df2 = df[df['age'] > 0]\n",
        "print(\"0보다 작거나 같은 값 제거후 데이터 크기: \", df2.shape)\n",
        "\n",
        "df3 = df2[(df2['age'] == round(df2['age'], 0))]\n",
        "print(\"소수점 제거 후 데이터 크기: \", df3.shape)"
      ],
      "execution_count": null,
      "outputs": [
        {
          "output_type": "stream",
          "name": "stdout",
          "text": [
            "전체 데이터:  (100, 8)\n",
            "0보다 작거나 같은 값 제거후 데이터 크기:  (96, 8)\n",
            "소수점 제거 후 데이터 크기:  (90, 8)\n"
          ]
        }
      ]
    },
    {
      "cell_type": "code",
      "metadata": {
        "colab": {
          "base_uri": "https://localhost:8080/"
        },
        "id": "-m5vn2DGUN4-",
        "outputId": "aa5f6813-92b9-4f1e-8cc8-1448abce6641"
      },
      "source": [
        "sum(~(df['age'] == round(df['age'], 0)))"
      ],
      "execution_count": null,
      "outputs": [
        {
          "output_type": "execute_result",
          "data": {
            "text/plain": [
              "8"
            ]
          },
          "metadata": {},
          "execution_count": 20
        }
      ]
    },
    {
      "cell_type": "code",
      "metadata": {
        "colab": {
          "base_uri": "https://localhost:8080/",
          "height": 290
        },
        "id": "rUfY_bafVAqg",
        "outputId": "e91a740b-0c0b-47d1-c5df-cb14ff7cbe21"
      },
      "source": [
        "df[~(df['age'] == round(df['age'], 0))]"
      ],
      "execution_count": null,
      "outputs": [
        {
          "output_type": "execute_result",
          "data": {
            "text/html": [
              "<div>\n",
              "<style scoped>\n",
              "    .dataframe tbody tr th:only-of-type {\n",
              "        vertical-align: middle;\n",
              "    }\n",
              "\n",
              "    .dataframe tbody tr th {\n",
              "        vertical-align: top;\n",
              "    }\n",
              "\n",
              "    .dataframe thead th {\n",
              "        text-align: right;\n",
              "    }\n",
              "</style>\n",
              "<table border=\"1\" class=\"dataframe\">\n",
              "  <thead>\n",
              "    <tr style=\"text-align: right;\">\n",
              "      <th></th>\n",
              "      <th>id</th>\n",
              "      <th>age</th>\n",
              "      <th>city</th>\n",
              "      <th>f1</th>\n",
              "      <th>f2</th>\n",
              "      <th>f3</th>\n",
              "      <th>f4</th>\n",
              "      <th>f5</th>\n",
              "    </tr>\n",
              "  </thead>\n",
              "  <tbody>\n",
              "    <tr>\n",
              "      <th>6</th>\n",
              "      <td>id07</td>\n",
              "      <td>36.3</td>\n",
              "      <td>서울</td>\n",
              "      <td>60.0</td>\n",
              "      <td>1</td>\n",
              "      <td>NaN</td>\n",
              "      <td>ISFJ</td>\n",
              "      <td>9.796378</td>\n",
              "    </tr>\n",
              "    <tr>\n",
              "      <th>8</th>\n",
              "      <td>id09</td>\n",
              "      <td>3.3</td>\n",
              "      <td>서울</td>\n",
              "      <td>35.0</td>\n",
              "      <td>2</td>\n",
              "      <td>NaN</td>\n",
              "      <td>ESFJ</td>\n",
              "      <td>17.252986</td>\n",
              "    </tr>\n",
              "    <tr>\n",
              "      <th>21</th>\n",
              "      <td>id22</td>\n",
              "      <td>-6.3</td>\n",
              "      <td>부산</td>\n",
              "      <td>72.0</td>\n",
              "      <td>1</td>\n",
              "      <td>NaN</td>\n",
              "      <td>ENFP</td>\n",
              "      <td>52.667078</td>\n",
              "    </tr>\n",
              "    <tr>\n",
              "      <th>28</th>\n",
              "      <td>id29</td>\n",
              "      <td>-13.5</td>\n",
              "      <td>부산</td>\n",
              "      <td>47.0</td>\n",
              "      <td>2</td>\n",
              "      <td>NaN</td>\n",
              "      <td>ENTP</td>\n",
              "      <td>67.886373</td>\n",
              "    </tr>\n",
              "    <tr>\n",
              "      <th>46</th>\n",
              "      <td>id47</td>\n",
              "      <td>34.6</td>\n",
              "      <td>대구</td>\n",
              "      <td>75.0</td>\n",
              "      <td>1</td>\n",
              "      <td>NaN</td>\n",
              "      <td>ESTJ</td>\n",
              "      <td>90.496999</td>\n",
              "    </tr>\n",
              "    <tr>\n",
              "      <th>64</th>\n",
              "      <td>id65</td>\n",
              "      <td>26.5</td>\n",
              "      <td>경기</td>\n",
              "      <td>NaN</td>\n",
              "      <td>0</td>\n",
              "      <td>NaN</td>\n",
              "      <td>ISFP</td>\n",
              "      <td>91.297791</td>\n",
              "    </tr>\n",
              "    <tr>\n",
              "      <th>84</th>\n",
              "      <td>id85</td>\n",
              "      <td>83.6</td>\n",
              "      <td>경기</td>\n",
              "      <td>55.0</td>\n",
              "      <td>0</td>\n",
              "      <td>NaN</td>\n",
              "      <td>INFJ</td>\n",
              "      <td>80.138280</td>\n",
              "    </tr>\n",
              "    <tr>\n",
              "      <th>92</th>\n",
              "      <td>id93</td>\n",
              "      <td>21.8</td>\n",
              "      <td>경기</td>\n",
              "      <td>57.0</td>\n",
              "      <td>0</td>\n",
              "      <td>NaN</td>\n",
              "      <td>ISFP</td>\n",
              "      <td>73.586397</td>\n",
              "    </tr>\n",
              "  </tbody>\n",
              "</table>\n",
              "</div>"
            ],
            "text/plain": [
              "      id   age city    f1  f2   f3    f4         f5\n",
              "6   id07  36.3   서울  60.0   1  NaN  ISFJ   9.796378\n",
              "8   id09   3.3   서울  35.0   2  NaN  ESFJ  17.252986\n",
              "21  id22  -6.3   부산  72.0   1  NaN  ENFP  52.667078\n",
              "28  id29 -13.5   부산  47.0   2  NaN  ENTP  67.886373\n",
              "46  id47  34.6   대구  75.0   1  NaN  ESTJ  90.496999\n",
              "64  id65  26.5   경기   NaN   0  NaN  ISFP  91.297791\n",
              "84  id85  83.6   경기  55.0   0  NaN  INFJ  80.138280\n",
              "92  id93  21.8   경기  57.0   0  NaN  ISFP  73.586397"
            ]
          },
          "metadata": {},
          "execution_count": 25
        }
      ]
    },
    {
      "cell_type": "code",
      "metadata": {
        "colab": {
          "base_uri": "https://localhost:8080/"
        },
        "id": "j3hZbhahVOlw",
        "outputId": "9fb3de1e-7be7-4b65-f2b2-eb8b8ed95958"
      },
      "source": [
        "#기준 확인\n",
        "pd.qcut(df3['age'], q = 3)"
      ],
      "execution_count": null,
      "outputs": [
        {
          "output_type": "execute_result",
          "data": {
            "text/plain": [
              "0      (0.999, 38.667]\n",
              "1      (0.999, 38.667]\n",
              "2      (0.999, 38.667]\n",
              "3      (73.333, 100.0]\n",
              "4      (0.999, 38.667]\n",
              "            ...       \n",
              "95     (73.333, 100.0]\n",
              "96     (73.333, 100.0]\n",
              "97    (38.667, 73.333]\n",
              "98     (0.999, 38.667]\n",
              "99    (38.667, 73.333]\n",
              "Name: age, Length: 90, dtype: category\n",
              "Categories (3, interval[float64]): [(0.999, 38.667] < (38.667, 73.333] < (73.333, 100.0]]"
            ]
          },
          "metadata": {},
          "execution_count": 26
        }
      ]
    },
    {
      "cell_type": "code",
      "metadata": {
        "id": "BGax7pJ0Xpzu"
      },
      "source": [
        "#구간 분할\n",
        "df['range'] = pd.qcut(df3['age'], q = 3, labels =['group1', 'group2', 'group3'])"
      ],
      "execution_count": null,
      "outputs": []
    },
    {
      "cell_type": "code",
      "metadata": {
        "colab": {
          "base_uri": "https://localhost:8080/"
        },
        "id": "wI7bb3LZY6te",
        "outputId": "6e9fcb8f-6ba1-4a3a-87df-9e45103e3dbf"
      },
      "source": [
        "#수량 비교\n",
        "df['range'].value_counts()"
      ],
      "execution_count": null,
      "outputs": [
        {
          "output_type": "execute_result",
          "data": {
            "text/plain": [
              "group3    30\n",
              "group2    30\n",
              "group1    30\n",
              "Name: range, dtype: int64"
            ]
          },
          "metadata": {},
          "execution_count": 29
        }
      ]
    },
    {
      "cell_type": "code",
      "metadata": {
        "colab": {
          "base_uri": "https://localhost:8080/"
        },
        "id": "1fT3LkDCZAqc",
        "outputId": "4d582ef7-f8c6-4bed-81ad-2ac3238f40ad"
      },
      "source": [
        "\n",
        "g1_median = df[df['range'] == 'group1']['age'].median()\n",
        "g2_median = df[df['range'] == 'group2']['age'].median()\n",
        "g3_median = df[df['range'] == 'group3']['age'].median()\n",
        "print(g1_median + g2_median + g3_median)"
      ],
      "execution_count": null,
      "outputs": [
        {
          "output_type": "stream",
          "name": "stdout",
          "text": [
            "165.0\n"
          ]
        }
      ]
    },
    {
      "cell_type": "code",
      "metadata": {
        "id": "0mnpiUgfZf0m"
      },
      "source": [
        ""
      ],
      "execution_count": null,
      "outputs": []
    }
  ]
}