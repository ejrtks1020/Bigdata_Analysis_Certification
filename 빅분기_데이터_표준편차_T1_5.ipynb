{
  "nbformat": 4,
  "nbformat_minor": 0,
  "metadata": {
    "colab": {
      "name": "빅분기_데이터_표준편차 T1-5",
      "provenance": [],
      "collapsed_sections": [],
      "authorship_tag": "ABX9TyNOJh+R3egmqGYZQk9GSw10",
      "include_colab_link": true
    },
    "kernelspec": {
      "name": "python3",
      "display_name": "Python 3"
    },
    "language_info": {
      "name": "python"
    }
  },
  "cells": [
    {
      "cell_type": "markdown",
      "metadata": {
        "id": "view-in-github",
        "colab_type": "text"
      },
      "source": [
        "<a href=\"https://colab.research.google.com/github/ejrtks1020/Bigdata_Analysis_Certification/blob/main/%EB%B9%85%EB%B6%84%EA%B8%B0_%EB%8D%B0%EC%9D%B4%ED%84%B0_%ED%91%9C%EC%A4%80%ED%8E%B8%EC%B0%A8_T1_5.ipynb\" target=\"_parent\"><img src=\"https://colab.research.google.com/assets/colab-badge.svg\" alt=\"Open In Colab\"/></a>"
      ]
    },
    {
      "cell_type": "markdown",
      "metadata": {
        "id": "mikkNprsBoFI"
      },
      "source": [
        "#조건에 맞는 데이터 표준편차 구하기\n",
        "* 주어진 데이터 중 basic1.csv에서 'f4'컬럼 값이 'ENFJ'와 'INFP'인 'f1'의 표준편차 차이를 절대값으로 구하시오"
      ]
    },
    {
      "cell_type": "code",
      "metadata": {
        "id": "ph8Jvp6ABgwe"
      },
      "source": [
        "import pandas as pd\n",
        "import numpy as np"
      ],
      "execution_count": null,
      "outputs": []
    },
    {
      "cell_type": "code",
      "metadata": {
        "id": "0BQQjH5EBxaA"
      },
      "source": [
        "df = pd.read_csv('basic1.csv')"
      ],
      "execution_count": null,
      "outputs": []
    },
    {
      "cell_type": "code",
      "metadata": {
        "id": "gOUmfjGKCInY"
      },
      "source": [
        "ENFJ = df[df['f4'] == 'ENFJ']['f1']\n",
        "INFP = df[df['f4'] == 'INFP']['f1']"
      ],
      "execution_count": null,
      "outputs": []
    },
    {
      "cell_type": "code",
      "metadata": {
        "colab": {
          "base_uri": "https://localhost:8080/"
        },
        "id": "LuUiXuXTCYgv",
        "outputId": "0f324105-0c9a-43b3-80ed-b6fee2a398d1"
      },
      "source": [
        "ENFJ.head()"
      ],
      "execution_count": null,
      "outputs": [
        {
          "output_type": "execute_result",
          "data": {
            "text/plain": [
              "0      NaN\n",
              "1     70.0\n",
              "32    94.0\n",
              "40    55.0\n",
              "44    88.0\n",
              "Name: f1, dtype: float64"
            ]
          },
          "metadata": {},
          "execution_count": 4
        }
      ]
    },
    {
      "cell_type": "code",
      "metadata": {
        "id": "5X1yn8KICZ7H"
      },
      "source": [
        "std = np.abs(ENFJ.std() - INFP.std())"
      ],
      "execution_count": null,
      "outputs": []
    },
    {
      "cell_type": "code",
      "metadata": {
        "colab": {
          "base_uri": "https://localhost:8080/"
        },
        "id": "YpdvGgdWCn2R",
        "outputId": "28ebfa41-7463-4dd7-95dd-3d82198317b2"
      },
      "source": [
        "std"
      ],
      "execution_count": null,
      "outputs": [
        {
          "output_type": "execute_result",
          "data": {
            "text/plain": [
              "5.859621525876811"
            ]
          },
          "metadata": {},
          "execution_count": 11
        }
      ]
    },
    {
      "cell_type": "code",
      "metadata": {
        "colab": {
          "base_uri": "https://localhost:8080/"
        },
        "id": "mbCElt0_CofX",
        "outputId": "6735feb3-1631-4a32-f929-666fd1648059"
      },
      "source": [
        "ENFJ.std()"
      ],
      "execution_count": null,
      "outputs": [
        {
          "output_type": "execute_result",
          "data": {
            "text/plain": [
              "17.727097901235837"
            ]
          },
          "metadata": {},
          "execution_count": 9
        }
      ]
    },
    {
      "cell_type": "code",
      "metadata": {
        "id": "ct5VR5SsCsnf"
      },
      "source": [
        ""
      ],
      "execution_count": null,
      "outputs": []
    }
  ]
}