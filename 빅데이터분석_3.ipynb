{
  "nbformat": 4,
  "nbformat_minor": 0,
  "metadata": {
    "colab": {
      "name": "빅데이터분석 3",
      "provenance": [],
      "collapsed_sections": [],
      "authorship_tag": "ABX9TyO01HbtaWhjdMFBZw9d8u1p",
      "include_colab_link": true
    },
    "kernelspec": {
      "name": "python3",
      "display_name": "Python 3"
    },
    "language_info": {
      "name": "python"
    }
  },
  "cells": [
    {
      "cell_type": "markdown",
      "metadata": {
        "id": "view-in-github",
        "colab_type": "text"
      },
      "source": [
        "<a href=\"https://colab.research.google.com/github/ejrtks1020/Bigdata_Analysis_Certification/blob/main/%EB%B9%85%EB%8D%B0%EC%9D%B4%ED%84%B0%EB%B6%84%EC%84%9D_3.ipynb\" target=\"_parent\"><img src=\"https://colab.research.google.com/assets/colab-badge.svg\" alt=\"Open In Colab\"/></a>"
      ]
    },
    {
      "cell_type": "markdown",
      "metadata": {
        "id": "ElkwC0rpPQvc"
      },
      "source": [
        "#7. 머신러닝 프로세스4: 모델 훈련과 세부튜닝"
      ]
    },
    {
      "cell_type": "markdown",
      "metadata": {
        "id": "A4R3NPw4PjkU"
      },
      "source": [
        "세부 튜닝은 모델의 하이퍼 파라미터를 찾는것을 의미한다.\n",
        "\n",
        "LogisticRegression의 핵심 파라미터는 'C'이며 디폴트 값은 'C = 1'이다.\n",
        "\n",
        "하이퍼 파라미터를 찾는 방법은 크게 2가지이다.\n",
        "\n",
        "1. 그리드 서치(Grid Search)\n",
        "\n",
        "2. 랜덤 서치(Random Search)"
      ]
    },
    {
      "cell_type": "markdown",
      "metadata": {
        "id": "_JQFvPfuP64b"
      },
      "source": [
        "##7.1 데이터 불러오기 및 데이터 셋 분할"
      ]
    },
    {
      "cell_type": "code",
      "metadata": {
        "id": "QdU0S5wePNAN"
      },
      "source": [
        "import warnings\n",
        "warnings.filterwarnings(\"ignore\")\n",
        "import pandas as pd\n",
        "df = pd.read_csv('Fvote.csv')"
      ],
      "execution_count": null,
      "outputs": []
    },
    {
      "cell_type": "code",
      "metadata": {
        "id": "TJZgQj2aQMPk"
      },
      "source": [
        "#특성변수와 레이블 데이터셋 분할\n",
        "X = df[df.columns[1:13]]\n",
        "y = df[['vote']]"
      ],
      "execution_count": null,
      "outputs": []
    },
    {
      "cell_type": "code",
      "metadata": {
        "id": "SDeei1FLR3sX"
      },
      "source": [
        "from sklearn.model_selection import train_test_split\n",
        "X_train, X_test, y_train, y_test = train_test_split(X, y, random_state = 42, stratify = y)"
      ],
      "execution_count": null,
      "outputs": []
    },
    {
      "cell_type": "markdown",
      "metadata": {
        "id": "zhxknETNQfRS"
      },
      "source": [
        "##7.2 Grid Search"
      ]
    },
    {
      "cell_type": "code",
      "metadata": {
        "id": "6B-D9ymdQcAq"
      },
      "source": [
        "#C값을 6개 제시하면 6개 C값에 대한 모델 결과 6개가 제시된다.\n",
        "from sklearn.model_selection import GridSearchCV\n",
        "param_grid = {'C' : [0.001, 0.1, 0.1, 1, 10 ,100]}\n"
      ],
      "execution_count": null,
      "outputs": []
    },
    {
      "cell_type": "code",
      "metadata": {
        "id": "LukutwPoRDia"
      },
      "source": [
        "from sklearn.linear_model import LogisticRegression"
      ],
      "execution_count": null,
      "outputs": []
    },
    {
      "cell_type": "markdown",
      "metadata": {
        "id": "VjKOAWVSRXHz"
      },
      "source": [
        "* GridSearch(Model명(), 설정한 그리드 서치, cv(옵션), return_train_score(옵션)"
      ]
    },
    {
      "cell_type": "code",
      "metadata": {
        "colab": {
          "base_uri": "https://localhost:8080/"
        },
        "id": "QBCTt297RPGC",
        "outputId": "e8112895-475a-422d-a187-a06ba0b8f365"
      },
      "source": [
        "grid_search = GridSearchCV(estimator = LogisticRegression(),\n",
        "                           param_grid=param_grid,\n",
        "                           cv = 5,\n",
        "                           return_train_score = True)\n",
        "grid_search.fit(X_train, y_train)"
      ],
      "execution_count": null,
      "outputs": [
        {
          "output_type": "execute_result",
          "data": {
            "text/plain": [
              "GridSearchCV(cv=5, error_score=nan,\n",
              "             estimator=LogisticRegression(C=1.0, class_weight=None, dual=False,\n",
              "                                          fit_intercept=True,\n",
              "                                          intercept_scaling=1, l1_ratio=None,\n",
              "                                          max_iter=100, multi_class='auto',\n",
              "                                          n_jobs=None, penalty='l2',\n",
              "                                          random_state=None, solver='lbfgs',\n",
              "                                          tol=0.0001, verbose=0,\n",
              "                                          warm_start=False),\n",
              "             iid='deprecated', n_jobs=None,\n",
              "             param_grid={'C': [0.001, 0.1, 0.1, 1, 10, 100]},\n",
              "             pre_dispatch='2*n_jobs', refit=True, return_train_score=True,\n",
              "             scoring=None, verbose=0)"
            ]
          },
          "metadata": {},
          "execution_count": 8
        }
      ]
    },
    {
      "cell_type": "code",
      "metadata": {
        "colab": {
          "base_uri": "https://localhost:8080/"
        },
        "id": "YpAJx8TdSMUi",
        "outputId": "66373cf8-8dcd-4edf-8506-cd64d782106e"
      },
      "source": [
        "# 정확도가 가장 높은 하이퍼 파라미터 C는 'grid_search.best_params_'에 있다.\n",
        "print(\"Best Parameter: \", grid_search.best_params_)\n",
        "print(\"Best Score: \", grid_search.best_score_)"
      ],
      "execution_count": null,
      "outputs": [
        {
          "output_type": "stream",
          "name": "stdout",
          "text": [
            "Best Parameter:  {'C': 10}\n",
            "Best Score:  0.7274193548387096\n"
          ]
        }
      ]
    },
    {
      "cell_type": "markdown",
      "metadata": {
        "id": "oirVvkhCSpmV"
      },
      "source": [
        "C = 10일때, 정확도는 0.72로 가장 높았다."
      ]
    },
    {
      "cell_type": "code",
      "metadata": {
        "colab": {
          "base_uri": "https://localhost:8080/"
        },
        "id": "IqkTpN_GSnWq",
        "outputId": "8ddcaa2b-1fc4-4f9c-eb53-fc2dfc6de7a6"
      },
      "source": [
        "print(\"Test set Score: {:.3f}\".format(grid_search.score(X_test, y_test)))"
      ],
      "execution_count": null,
      "outputs": [
        {
          "output_type": "stream",
          "name": "stdout",
          "text": [
            "Test set Score: 0.679\n"
          ]
        }
      ]
    },
    {
      "cell_type": "markdown",
      "metadata": {
        "id": "nDQMy2pTS_ub"
      },
      "source": [
        "테스트데이터에 적용한 정확도는 67.9%로 나타났다."
      ]
    },
    {
      "cell_type": "code",
      "metadata": {
        "colab": {
          "base_uri": "https://localhost:8080/",
          "height": 282
        },
        "id": "k9P8lrSTS-GT",
        "outputId": "883c468a-e936-4f27-a0ad-6e329e4ed210"
      },
      "source": [
        "#그리드 서치 하이퍼파라미터별, cross validation별, 상세 결곽밧은 'grid_search.cv_results_'에 있다.\n",
        "result_grid = pd.DataFrame(grid_search.cv_results_)\n",
        "result_grid"
      ],
      "execution_count": null,
      "outputs": [
        {
          "output_type": "execute_result",
          "data": {
            "text/html": [
              "<div>\n",
              "<style scoped>\n",
              "    .dataframe tbody tr th:only-of-type {\n",
              "        vertical-align: middle;\n",
              "    }\n",
              "\n",
              "    .dataframe tbody tr th {\n",
              "        vertical-align: top;\n",
              "    }\n",
              "\n",
              "    .dataframe thead th {\n",
              "        text-align: right;\n",
              "    }\n",
              "</style>\n",
              "<table border=\"1\" class=\"dataframe\">\n",
              "  <thead>\n",
              "    <tr style=\"text-align: right;\">\n",
              "      <th></th>\n",
              "      <th>mean_fit_time</th>\n",
              "      <th>std_fit_time</th>\n",
              "      <th>mean_score_time</th>\n",
              "      <th>std_score_time</th>\n",
              "      <th>param_C</th>\n",
              "      <th>params</th>\n",
              "      <th>split0_test_score</th>\n",
              "      <th>split1_test_score</th>\n",
              "      <th>split2_test_score</th>\n",
              "      <th>split3_test_score</th>\n",
              "      <th>split4_test_score</th>\n",
              "      <th>mean_test_score</th>\n",
              "      <th>std_test_score</th>\n",
              "      <th>rank_test_score</th>\n",
              "      <th>split0_train_score</th>\n",
              "      <th>split1_train_score</th>\n",
              "      <th>split2_train_score</th>\n",
              "      <th>split3_train_score</th>\n",
              "      <th>split4_train_score</th>\n",
              "      <th>mean_train_score</th>\n",
              "      <th>std_train_score</th>\n",
              "    </tr>\n",
              "  </thead>\n",
              "  <tbody>\n",
              "    <tr>\n",
              "      <th>0</th>\n",
              "      <td>0.006335</td>\n",
              "      <td>0.003245</td>\n",
              "      <td>0.001032</td>\n",
              "      <td>0.000098</td>\n",
              "      <td>0.001</td>\n",
              "      <td>{'C': 0.001}</td>\n",
              "      <td>0.68750</td>\n",
              "      <td>0.71875</td>\n",
              "      <td>0.71875</td>\n",
              "      <td>0.709677</td>\n",
              "      <td>0.709677</td>\n",
              "      <td>0.708871</td>\n",
              "      <td>0.011430</td>\n",
              "      <td>6</td>\n",
              "      <td>0.714286</td>\n",
              "      <td>0.706349</td>\n",
              "      <td>0.706349</td>\n",
              "      <td>0.708661</td>\n",
              "      <td>0.708661</td>\n",
              "      <td>0.708861</td>\n",
              "      <td>0.002903</td>\n",
              "    </tr>\n",
              "    <tr>\n",
              "      <th>1</th>\n",
              "      <td>0.007857</td>\n",
              "      <td>0.000569</td>\n",
              "      <td>0.001128</td>\n",
              "      <td>0.000117</td>\n",
              "      <td>0.1</td>\n",
              "      <td>{'C': 0.1}</td>\n",
              "      <td>0.71875</td>\n",
              "      <td>0.71875</td>\n",
              "      <td>0.71875</td>\n",
              "      <td>0.677419</td>\n",
              "      <td>0.774194</td>\n",
              "      <td>0.721573</td>\n",
              "      <td>0.030797</td>\n",
              "      <td>3</td>\n",
              "      <td>0.738095</td>\n",
              "      <td>0.746032</td>\n",
              "      <td>0.738095</td>\n",
              "      <td>0.740157</td>\n",
              "      <td>0.716535</td>\n",
              "      <td>0.735783</td>\n",
              "      <td>0.010053</td>\n",
              "    </tr>\n",
              "    <tr>\n",
              "      <th>2</th>\n",
              "      <td>0.009635</td>\n",
              "      <td>0.002168</td>\n",
              "      <td>0.001383</td>\n",
              "      <td>0.000204</td>\n",
              "      <td>0.1</td>\n",
              "      <td>{'C': 0.1}</td>\n",
              "      <td>0.71875</td>\n",
              "      <td>0.71875</td>\n",
              "      <td>0.71875</td>\n",
              "      <td>0.677419</td>\n",
              "      <td>0.774194</td>\n",
              "      <td>0.721573</td>\n",
              "      <td>0.030797</td>\n",
              "      <td>3</td>\n",
              "      <td>0.738095</td>\n",
              "      <td>0.746032</td>\n",
              "      <td>0.738095</td>\n",
              "      <td>0.740157</td>\n",
              "      <td>0.716535</td>\n",
              "      <td>0.735783</td>\n",
              "      <td>0.010053</td>\n",
              "    </tr>\n",
              "    <tr>\n",
              "      <th>3</th>\n",
              "      <td>0.012051</td>\n",
              "      <td>0.000382</td>\n",
              "      <td>0.001247</td>\n",
              "      <td>0.000160</td>\n",
              "      <td>1</td>\n",
              "      <td>{'C': 1}</td>\n",
              "      <td>0.71875</td>\n",
              "      <td>0.68750</td>\n",
              "      <td>0.78125</td>\n",
              "      <td>0.580645</td>\n",
              "      <td>0.806452</td>\n",
              "      <td>0.714919</td>\n",
              "      <td>0.079466</td>\n",
              "      <td>5</td>\n",
              "      <td>0.738095</td>\n",
              "      <td>0.793651</td>\n",
              "      <td>0.730159</td>\n",
              "      <td>0.763780</td>\n",
              "      <td>0.724409</td>\n",
              "      <td>0.750019</td>\n",
              "      <td>0.025634</td>\n",
              "    </tr>\n",
              "    <tr>\n",
              "      <th>4</th>\n",
              "      <td>0.015716</td>\n",
              "      <td>0.002955</td>\n",
              "      <td>0.001196</td>\n",
              "      <td>0.000119</td>\n",
              "      <td>10</td>\n",
              "      <td>{'C': 10}</td>\n",
              "      <td>0.75000</td>\n",
              "      <td>0.68750</td>\n",
              "      <td>0.81250</td>\n",
              "      <td>0.580645</td>\n",
              "      <td>0.806452</td>\n",
              "      <td>0.727419</td>\n",
              "      <td>0.086175</td>\n",
              "      <td>1</td>\n",
              "      <td>0.746032</td>\n",
              "      <td>0.769841</td>\n",
              "      <td>0.730159</td>\n",
              "      <td>0.779528</td>\n",
              "      <td>0.724409</td>\n",
              "      <td>0.749994</td>\n",
              "      <td>0.021586</td>\n",
              "    </tr>\n",
              "    <tr>\n",
              "      <th>5</th>\n",
              "      <td>0.018607</td>\n",
              "      <td>0.004097</td>\n",
              "      <td>0.001305</td>\n",
              "      <td>0.000250</td>\n",
              "      <td>100</td>\n",
              "      <td>{'C': 100}</td>\n",
              "      <td>0.75000</td>\n",
              "      <td>0.68750</td>\n",
              "      <td>0.81250</td>\n",
              "      <td>0.580645</td>\n",
              "      <td>0.806452</td>\n",
              "      <td>0.727419</td>\n",
              "      <td>0.086175</td>\n",
              "      <td>1</td>\n",
              "      <td>0.746032</td>\n",
              "      <td>0.769841</td>\n",
              "      <td>0.730159</td>\n",
              "      <td>0.771654</td>\n",
              "      <td>0.724409</td>\n",
              "      <td>0.748419</td>\n",
              "      <td>0.019567</td>\n",
              "    </tr>\n",
              "  </tbody>\n",
              "</table>\n",
              "</div>"
            ],
            "text/plain": [
              "   mean_fit_time  std_fit_time  ...  mean_train_score  std_train_score\n",
              "0       0.006335      0.003245  ...          0.708861         0.002903\n",
              "1       0.007857      0.000569  ...          0.735783         0.010053\n",
              "2       0.009635      0.002168  ...          0.735783         0.010053\n",
              "3       0.012051      0.000382  ...          0.750019         0.025634\n",
              "4       0.015716      0.002955  ...          0.749994         0.021586\n",
              "5       0.018607      0.004097  ...          0.748419         0.019567\n",
              "\n",
              "[6 rows x 21 columns]"
            ]
          },
          "metadata": {},
          "execution_count": 12
        }
      ]
    },
    {
      "cell_type": "markdown",
      "metadata": {
        "id": "Jy67-CyVTzC8"
      },
      "source": [
        "도표로 하이퍼파라미터(C)값별로 훈련데이터와 테스트데이터의 정확도를 살펴보기 위해\n",
        "\n",
        "X축에 result_grid['param_c']\n",
        "\n",
        "Y축에 result_grid['mean_train_score'], result_grid['mean_test_score']를 넣고 비교해볼수 있다"
      ]
    },
    {
      "cell_type": "code",
      "metadata": {
        "colab": {
          "base_uri": "https://localhost:8080/",
          "height": 265
        },
        "id": "j68cxPpRTkpT",
        "outputId": "94e1e448-dc71-47d6-a9d7-214cadeee738"
      },
      "source": [
        "import matplotlib.pyplot as plt\n",
        "\n",
        "plt.plot(result_grid['param_C'], result_grid['mean_train_score'], label = 'Train')\n",
        "plt.plot(result_grid['param_C'], result_grid['mean_test_score'], label = 'Test')\n",
        "plt.legend()\n",
        "plt.show()"
      ],
      "execution_count": null,
      "outputs": [
        {
          "output_type": "display_data",
          "data": {
            "image/png": "[encoded data removed]",
            "text/plain": [
              "<Figure size 432x288 with 1 Axes>"
            ]
          },
          "metadata": {
            "needs_background": "light"
          }
        }
      ]
    },
    {
      "cell_type": "markdown",
      "metadata": {
        "id": "2ILws16CUyPN"
      },
      "source": [
        "##7.3 Random Search"
      ]
    },
    {
      "cell_type": "markdown",
      "metadata": {
        "id": "BZhGkkonU2yy"
      },
      "source": [
        "랜덤은 범위를 정하고 그 안에서 무작위로 C값을 찾는 것이다."
      ]
    },
    {
      "cell_type": "code",
      "metadata": {
        "id": "pWeDj8rKUtHM"
      },
      "source": [
        "from sklearn.model_selection import RandomizedSearchCV\n",
        "from scipy.stats import randint\n",
        "\n",
        "param_distribs = {'C': randint(low = 0.001, high = 100)}"
      ],
      "execution_count": null,
      "outputs": []
    },
    {
      "cell_type": "code",
      "metadata": {
        "colab": {
          "base_uri": "https://localhost:8080/"
        },
        "id": "dNks0YbyVPg1",
        "outputId": "c20887a8-aed2-46a8-e44c-dbb9120be3b7"
      },
      "source": [
        "print(randint(low = 0.001, high = 100))"
      ],
      "execution_count": null,
      "outputs": [
        {
          "output_type": "stream",
          "name": "stdout",
          "text": [
            "<scipy.stats._distn_infrastructure.rv_frozen object at 0x7f4fd8381910>\n"
          ]
        }
      ]
    },
    {
      "cell_type": "markdown",
      "metadata": {
        "id": "DzjY2F8BWrLZ"
      },
      "source": [
        "랜덤서치의 기본구조는 그리드서치와 유사하나,\n",
        "param_distribution, n_iter 등이 다르다.\n",
        "\n",
        "n_iter는 랜덤하게 C값을 몇번 뽑는가를 정의한다.(n_iter = 100은 100개의 모델을 결과를 제시)\n"
      ]
    },
    {
      "cell_type": "code",
      "metadata": {
        "colab": {
          "base_uri": "https://localhost:8080/"
        },
        "id": "6b6JX0tAXB1Z",
        "outputId": "8fca470a-b083-437d-bb9a-580e18e03910"
      },
      "source": [
        "random_search = RandomizedSearchCV(estimator = LogisticRegression(),\n",
        "                                   param_distributions = param_distribs,\n",
        "                                   cv = 5,\n",
        "                                   #n_iter = 100, 기본 랜덤 횟수는 10\n",
        "                                   return_train_score = True)\n",
        "\n",
        "random_search.fit(X_train, y_train)"
      ],
      "execution_count": null,
      "outputs": [
        {
          "output_type": "execute_result",
          "data": {
            "text/plain": [
              "RandomizedSearchCV(cv=5, error_score=nan,\n",
              "                   estimator=LogisticRegression(C=1.0, class_weight=None,\n",
              "                                                dual=False, fit_intercept=True,\n",
              "                                                intercept_scaling=1,\n",
              "                                                l1_ratio=None, max_iter=100,\n",
              "                                                multi_class='auto', n_jobs=None,\n",
              "                                                penalty='l2', random_state=None,\n",
              "                                                solver='lbfgs', tol=0.0001,\n",
              "                                                verbose=0, warm_start=False),\n",
              "                   iid='deprecated', n_iter=10, n_jobs=None,\n",
              "                   param_distributions={'C': <scipy.stats._distn_infrastructure.rv_frozen object at 0x7f4fd8369910>},\n",
              "                   pre_dispatch='2*n_jobs', random_state=None, refit=True,\n",
              "                   return_train_score=True, scoring=None, verbose=0)"
            ]
          },
          "metadata": {},
          "execution_count": 19
        }
      ]
    },
    {
      "cell_type": "code",
      "metadata": {
        "colab": {
          "base_uri": "https://localhost:8080/"
        },
        "id": "U4i6-7mkXkzb",
        "outputId": "fe734277-8d15-41d2-8575-c9bd79bbd622"
      },
      "source": [
        "print(\"Best param : \", random_search.best_params_)\n",
        "print(\"Best score : \", random_search.best_score_)"
      ],
      "execution_count": null,
      "outputs": [
        {
          "output_type": "stream",
          "name": "stdout",
          "text": [
            "Best param :  {'C': 50}\n",
            "Best score :  0.7274193548387096\n"
          ]
        }
      ]
    },
    {
      "cell_type": "markdown",
      "metadata": {
        "id": "odkMW_hqX2fL"
      },
      "source": [
        "C = 50일때 정확도 72로 가장 높게 나온다."
      ]
    },
    {
      "cell_type": "code",
      "metadata": {
        "colab": {
          "base_uri": "https://localhost:8080/"
        },
        "id": "x7fIOSYnXx8a",
        "outputId": "b1c7d252-d6d5-494b-9ebb-44ae4cc2c7f8"
      },
      "source": [
        "print(\"Test Set Score: {:.3f}\".format(random_search.score(X_test, y_test)))"
      ],
      "execution_count": null,
      "outputs": [
        {
          "output_type": "stream",
          "name": "stdout",
          "text": [
            "Test Set Score: 0.679\n"
          ]
        }
      ]
    },
    {
      "cell_type": "markdown",
      "metadata": {
        "id": "i3BucE7sYLUj"
      },
      "source": [
        "테스트 데이터에 최적 탐색 하이퍼파라미터를 적용한 정확도는 67.9%로 그리드 탐색과 유사한 결과를 보이고 있다."
      ]
    },
    {
      "cell_type": "code",
      "metadata": {
        "colab": {
          "base_uri": "https://localhost:8080/",
          "height": 371
        },
        "id": "1f8toe4HYH4T",
        "outputId": "d2f0b1db-69b7-4d67-dbc3-3ac93b15c59e"
      },
      "source": [
        "result_random = pd.DataFrame(random_search.cv_results_)\n",
        "result_random"
      ],
      "execution_count": null,
      "outputs": [
        {
          "output_type": "execute_result",
          "data": {
            "text/html": [
              "<div>\n",
              "<style scoped>\n",
              "    .dataframe tbody tr th:only-of-type {\n",
              "        vertical-align: middle;\n",
              "    }\n",
              "\n",
              "    .dataframe tbody tr th {\n",
              "        vertical-align: top;\n",
              "    }\n",
              "\n",
              "    .dataframe thead th {\n",
              "        text-align: right;\n",
              "    }\n",
              "</style>\n",
              "<table border=\"1\" class=\"dataframe\">\n",
              "  <thead>\n",
              "    <tr style=\"text-align: right;\">\n",
              "      <th></th>\n",
              "      <th>mean_fit_time</th>\n",
              "      <th>std_fit_time</th>\n",
              "      <th>mean_score_time</th>\n",
              "      <th>std_score_time</th>\n",
              "      <th>param_C</th>\n",
              "      <th>params</th>\n",
              "      <th>split0_test_score</th>\n",
              "      <th>split1_test_score</th>\n",
              "      <th>split2_test_score</th>\n",
              "      <th>split3_test_score</th>\n",
              "      <th>split4_test_score</th>\n",
              "      <th>mean_test_score</th>\n",
              "      <th>std_test_score</th>\n",
              "      <th>rank_test_score</th>\n",
              "      <th>split0_train_score</th>\n",
              "      <th>split1_train_score</th>\n",
              "      <th>split2_train_score</th>\n",
              "      <th>split3_train_score</th>\n",
              "      <th>split4_train_score</th>\n",
              "      <th>mean_train_score</th>\n",
              "      <th>std_train_score</th>\n",
              "    </tr>\n",
              "  </thead>\n",
              "  <tbody>\n",
              "    <tr>\n",
              "      <th>0</th>\n",
              "      <td>0.017003</td>\n",
              "      <td>0.000662</td>\n",
              "      <td>0.001159</td>\n",
              "      <td>0.000020</td>\n",
              "      <td>50</td>\n",
              "      <td>{'C': 50}</td>\n",
              "      <td>0.75000</td>\n",
              "      <td>0.6875</td>\n",
              "      <td>0.81250</td>\n",
              "      <td>0.580645</td>\n",
              "      <td>0.806452</td>\n",
              "      <td>0.727419</td>\n",
              "      <td>0.086175</td>\n",
              "      <td>1</td>\n",
              "      <td>0.746032</td>\n",
              "      <td>0.769841</td>\n",
              "      <td>0.730159</td>\n",
              "      <td>0.771654</td>\n",
              "      <td>0.724409</td>\n",
              "      <td>0.748419</td>\n",
              "      <td>0.019567</td>\n",
              "    </tr>\n",
              "    <tr>\n",
              "      <th>1</th>\n",
              "      <td>0.017073</td>\n",
              "      <td>0.000743</td>\n",
              "      <td>0.001168</td>\n",
              "      <td>0.000030</td>\n",
              "      <td>16</td>\n",
              "      <td>{'C': 16}</td>\n",
              "      <td>0.75000</td>\n",
              "      <td>0.6875</td>\n",
              "      <td>0.81250</td>\n",
              "      <td>0.580645</td>\n",
              "      <td>0.806452</td>\n",
              "      <td>0.727419</td>\n",
              "      <td>0.086175</td>\n",
              "      <td>1</td>\n",
              "      <td>0.746032</td>\n",
              "      <td>0.769841</td>\n",
              "      <td>0.730159</td>\n",
              "      <td>0.779528</td>\n",
              "      <td>0.724409</td>\n",
              "      <td>0.749994</td>\n",
              "      <td>0.021586</td>\n",
              "    </tr>\n",
              "    <tr>\n",
              "      <th>2</th>\n",
              "      <td>0.015800</td>\n",
              "      <td>0.001243</td>\n",
              "      <td>0.001163</td>\n",
              "      <td>0.000021</td>\n",
              "      <td>17</td>\n",
              "      <td>{'C': 17}</td>\n",
              "      <td>0.75000</td>\n",
              "      <td>0.6875</td>\n",
              "      <td>0.81250</td>\n",
              "      <td>0.580645</td>\n",
              "      <td>0.806452</td>\n",
              "      <td>0.727419</td>\n",
              "      <td>0.086175</td>\n",
              "      <td>1</td>\n",
              "      <td>0.746032</td>\n",
              "      <td>0.769841</td>\n",
              "      <td>0.730159</td>\n",
              "      <td>0.779528</td>\n",
              "      <td>0.724409</td>\n",
              "      <td>0.749994</td>\n",
              "      <td>0.021586</td>\n",
              "    </tr>\n",
              "    <tr>\n",
              "      <th>3</th>\n",
              "      <td>0.016961</td>\n",
              "      <td>0.001190</td>\n",
              "      <td>0.001150</td>\n",
              "      <td>0.000015</td>\n",
              "      <td>16</td>\n",
              "      <td>{'C': 16}</td>\n",
              "      <td>0.75000</td>\n",
              "      <td>0.6875</td>\n",
              "      <td>0.81250</td>\n",
              "      <td>0.580645</td>\n",
              "      <td>0.806452</td>\n",
              "      <td>0.727419</td>\n",
              "      <td>0.086175</td>\n",
              "      <td>1</td>\n",
              "      <td>0.746032</td>\n",
              "      <td>0.769841</td>\n",
              "      <td>0.730159</td>\n",
              "      <td>0.779528</td>\n",
              "      <td>0.724409</td>\n",
              "      <td>0.749994</td>\n",
              "      <td>0.021586</td>\n",
              "    </tr>\n",
              "    <tr>\n",
              "      <th>4</th>\n",
              "      <td>0.018150</td>\n",
              "      <td>0.001193</td>\n",
              "      <td>0.001209</td>\n",
              "      <td>0.000093</td>\n",
              "      <td>87</td>\n",
              "      <td>{'C': 87}</td>\n",
              "      <td>0.75000</td>\n",
              "      <td>0.6875</td>\n",
              "      <td>0.81250</td>\n",
              "      <td>0.580645</td>\n",
              "      <td>0.806452</td>\n",
              "      <td>0.727419</td>\n",
              "      <td>0.086175</td>\n",
              "      <td>1</td>\n",
              "      <td>0.746032</td>\n",
              "      <td>0.769841</td>\n",
              "      <td>0.730159</td>\n",
              "      <td>0.771654</td>\n",
              "      <td>0.724409</td>\n",
              "      <td>0.748419</td>\n",
              "      <td>0.019567</td>\n",
              "    </tr>\n",
              "    <tr>\n",
              "      <th>5</th>\n",
              "      <td>0.011879</td>\n",
              "      <td>0.000665</td>\n",
              "      <td>0.001175</td>\n",
              "      <td>0.000024</td>\n",
              "      <td>1</td>\n",
              "      <td>{'C': 1}</td>\n",
              "      <td>0.71875</td>\n",
              "      <td>0.6875</td>\n",
              "      <td>0.78125</td>\n",
              "      <td>0.580645</td>\n",
              "      <td>0.806452</td>\n",
              "      <td>0.714919</td>\n",
              "      <td>0.079466</td>\n",
              "      <td>10</td>\n",
              "      <td>0.738095</td>\n",
              "      <td>0.793651</td>\n",
              "      <td>0.730159</td>\n",
              "      <td>0.763780</td>\n",
              "      <td>0.724409</td>\n",
              "      <td>0.750019</td>\n",
              "      <td>0.025634</td>\n",
              "    </tr>\n",
              "    <tr>\n",
              "      <th>6</th>\n",
              "      <td>0.017091</td>\n",
              "      <td>0.001526</td>\n",
              "      <td>0.001175</td>\n",
              "      <td>0.000030</td>\n",
              "      <td>31</td>\n",
              "      <td>{'C': 31}</td>\n",
              "      <td>0.75000</td>\n",
              "      <td>0.6875</td>\n",
              "      <td>0.81250</td>\n",
              "      <td>0.580645</td>\n",
              "      <td>0.806452</td>\n",
              "      <td>0.727419</td>\n",
              "      <td>0.086175</td>\n",
              "      <td>1</td>\n",
              "      <td>0.746032</td>\n",
              "      <td>0.769841</td>\n",
              "      <td>0.730159</td>\n",
              "      <td>0.771654</td>\n",
              "      <td>0.724409</td>\n",
              "      <td>0.748419</td>\n",
              "      <td>0.019567</td>\n",
              "    </tr>\n",
              "    <tr>\n",
              "      <th>7</th>\n",
              "      <td>0.017645</td>\n",
              "      <td>0.005518</td>\n",
              "      <td>0.001237</td>\n",
              "      <td>0.000061</td>\n",
              "      <td>4</td>\n",
              "      <td>{'C': 4}</td>\n",
              "      <td>0.75000</td>\n",
              "      <td>0.6875</td>\n",
              "      <td>0.81250</td>\n",
              "      <td>0.580645</td>\n",
              "      <td>0.806452</td>\n",
              "      <td>0.727419</td>\n",
              "      <td>0.086175</td>\n",
              "      <td>1</td>\n",
              "      <td>0.746032</td>\n",
              "      <td>0.777778</td>\n",
              "      <td>0.730159</td>\n",
              "      <td>0.779528</td>\n",
              "      <td>0.724409</td>\n",
              "      <td>0.751581</td>\n",
              "      <td>0.023218</td>\n",
              "    </tr>\n",
              "    <tr>\n",
              "      <th>8</th>\n",
              "      <td>0.019406</td>\n",
              "      <td>0.000774</td>\n",
              "      <td>0.001172</td>\n",
              "      <td>0.000031</td>\n",
              "      <td>80</td>\n",
              "      <td>{'C': 80}</td>\n",
              "      <td>0.75000</td>\n",
              "      <td>0.6875</td>\n",
              "      <td>0.81250</td>\n",
              "      <td>0.580645</td>\n",
              "      <td>0.806452</td>\n",
              "      <td>0.727419</td>\n",
              "      <td>0.086175</td>\n",
              "      <td>1</td>\n",
              "      <td>0.746032</td>\n",
              "      <td>0.769841</td>\n",
              "      <td>0.730159</td>\n",
              "      <td>0.771654</td>\n",
              "      <td>0.724409</td>\n",
              "      <td>0.748419</td>\n",
              "      <td>0.019567</td>\n",
              "    </tr>\n",
              "    <tr>\n",
              "      <th>9</th>\n",
              "      <td>0.018091</td>\n",
              "      <td>0.001361</td>\n",
              "      <td>0.001166</td>\n",
              "      <td>0.000012</td>\n",
              "      <td>98</td>\n",
              "      <td>{'C': 98}</td>\n",
              "      <td>0.75000</td>\n",
              "      <td>0.6875</td>\n",
              "      <td>0.81250</td>\n",
              "      <td>0.580645</td>\n",
              "      <td>0.806452</td>\n",
              "      <td>0.727419</td>\n",
              "      <td>0.086175</td>\n",
              "      <td>1</td>\n",
              "      <td>0.746032</td>\n",
              "      <td>0.769841</td>\n",
              "      <td>0.730159</td>\n",
              "      <td>0.771654</td>\n",
              "      <td>0.724409</td>\n",
              "      <td>0.748419</td>\n",
              "      <td>0.019567</td>\n",
              "    </tr>\n",
              "  </tbody>\n",
              "</table>\n",
              "</div>"
            ],
            "text/plain": [
              "   mean_fit_time  std_fit_time  ...  mean_train_score  std_train_score\n",
              "0       0.017003      0.000662  ...          0.748419         0.019567\n",
              "1       0.017073      0.000743  ...          0.749994         0.021586\n",
              "2       0.015800      0.001243  ...          0.749994         0.021586\n",
              "3       0.016961      0.001190  ...          0.749994         0.021586\n",
              "4       0.018150      0.001193  ...          0.748419         0.019567\n",
              "5       0.011879      0.000665  ...          0.750019         0.025634\n",
              "6       0.017091      0.001526  ...          0.748419         0.019567\n",
              "7       0.017645      0.005518  ...          0.751581         0.023218\n",
              "8       0.019406      0.000774  ...          0.748419         0.019567\n",
              "9       0.018091      0.001361  ...          0.748419         0.019567\n",
              "\n",
              "[10 rows x 21 columns]"
            ]
          },
          "metadata": {},
          "execution_count": 23
        }
      ]
    },
    {
      "cell_type": "code",
      "metadata": {
        "colab": {
          "base_uri": "https://localhost:8080/",
          "height": 265
        },
        "id": "iNYC4mSuYdU6",
        "outputId": "4577cb53-10ce-451e-fa0d-5dec79429f75"
      },
      "source": [
        "plt.plot(result_random['param_C'], result_random['mean_train_score'], label = 'Train')\n",
        "plt.plot(result_random['param_C'], result_random['mean_test_score'], label = 'Test')\n",
        "plt.legend()\n",
        "plt.show()"
      ],
      "execution_count": null,
      "outputs": [
        {
          "output_type": "display_data",
          "data": {
            "image/png": "[encoded data removed]",
            "text/plain": [
              "<Figure size 432x288 with 1 Axes>"
            ]
          },
          "metadata": {
            "needs_background": "light"
          }
        }
      ]
    },
    {
      "cell_type": "markdown",
      "metadata": {
        "id": "C5xe4gvnZ65z"
      },
      "source": [
        "#8. 머신러닝 프로세스5: 모델 평가"
      ]
    },
    {
      "cell_type": "code",
      "metadata": {
        "colab": {
          "base_uri": "https://localhost:8080/"
        },
        "id": "mgU5O0neZHOj",
        "outputId": "4ce146c6-6bef-4a10-ce8b-c16fc0c37708"
      },
      "source": [
        "#Logistic Regression의 하이퍼파라미터 C값을 10을 최종모델로 해서 모델 평가를 진행한다\n",
        "Final_model = LogisticRegression(C = 10)\n",
        "Final_model.fit(X_train,y_train)\n"
      ],
      "execution_count": null,
      "outputs": [
        {
          "output_type": "execute_result",
          "data": {
            "text/plain": [
              "LogisticRegression(C=10, class_weight=None, dual=False, fit_intercept=True,\n",
              "                   intercept_scaling=1, l1_ratio=None, max_iter=100,\n",
              "                   multi_class='auto', n_jobs=None, penalty='l2',\n",
              "                   random_state=None, solver='lbfgs', tol=0.0001, verbose=0,\n",
              "                   warm_start=False)"
            ]
          },
          "metadata": {},
          "execution_count": 25
        }
      ]
    },
    {
      "cell_type": "code",
      "metadata": {
        "colab": {
          "base_uri": "https://localhost:8080/"
        },
        "id": "Rh5LX8ZWaQPc",
        "outputId": "8434cbcb-3a3e-40f9-b0ff-2e59c3e6f4b5"
      },
      "source": [
        "pred_train = Final_model.predict(X_train)\n",
        "Final_model.score(X_train, y_train)"
      ],
      "execution_count": null,
      "outputs": [
        {
          "output_type": "execute_result",
          "data": {
            "text/plain": [
              "0.740506329113924"
            ]
          },
          "metadata": {},
          "execution_count": 27
        }
      ]
    },
    {
      "cell_type": "code",
      "metadata": {
        "colab": {
          "base_uri": "https://localhost:8080/"
        },
        "id": "nlumDDrwaVxq",
        "outputId": "dcfb28d7-fc10-4c91-ac73-e12fc0acfd46"
      },
      "source": [
        "pred_test = Final_model.predict(X_test)\n",
        "Final_model.score(X_test, y_test)"
      ],
      "execution_count": null,
      "outputs": [
        {
          "output_type": "execute_result",
          "data": {
            "text/plain": [
              "0.6792452830188679"
            ]
          },
          "metadata": {},
          "execution_count": 28
        }
      ]
    },
    {
      "cell_type": "code",
      "metadata": {
        "colab": {
          "base_uri": "https://localhost:8080/"
        },
        "id": "nL9kxkqiafxT",
        "outputId": "5be051a7-fec1-41b5-d0bb-4112284d1fce"
      },
      "source": [
        "from sklearn.metrics import confusion_matrix\n",
        "\n",
        "confusion_train = confusion_matrix(y_train, pred_train)\n",
        "print(confusion_train)"
      ],
      "execution_count": null,
      "outputs": [
        {
          "output_type": "stream",
          "name": "stdout",
          "text": [
            "[[ 12  34]\n",
            " [  7 105]]\n"
          ]
        }
      ]
    },
    {
      "cell_type": "markdown",
      "metadata": {
        "id": "6sewbS8aaxks"
      },
      "source": [
        "혼동행렬을 보면 투표를 안한사람중 제대로 예측한 경우가 12명 밖에없어서, \n",
        "투표를 안할지에 대한 예측이 어렵다는 것을 알 수 있다."
      ]
    },
    {
      "cell_type": "code",
      "metadata": {
        "colab": {
          "base_uri": "https://localhost:8080/"
        },
        "id": "NzUwVwdHavqz",
        "outputId": "da3613ad-2898-4ed9-c591-643d66d1c76b"
      },
      "source": [
        "from sklearn.metrics import classification_report\n",
        "\n",
        "cfreport_train = classification_report(y_train, pred_train)\n",
        "print(\"분류 예측 레포트:\\n\", cfreport_train)"
      ],
      "execution_count": null,
      "outputs": [
        {
          "output_type": "stream",
          "name": "stdout",
          "text": [
            "분류 예측 레포트:\n",
            "               precision    recall  f1-score   support\n",
            "\n",
            "           0       0.63      0.26      0.37        46\n",
            "           1       0.76      0.94      0.84       112\n",
            "\n",
            "    accuracy                           0.74       158\n",
            "   macro avg       0.69      0.60      0.60       158\n",
            "weighted avg       0.72      0.74      0.70       158\n",
            "\n"
          ]
        }
      ]
    },
    {
      "cell_type": "code",
      "metadata": {
        "colab": {
          "base_uri": "https://localhost:8080/"
        },
        "id": "d_Uq_NDebNsi",
        "outputId": "0269f6a0-2584-41a5-d86c-7f684a180b40"
      },
      "source": [
        "confusion_test = confusion_matrix(y_test, pred_test)\n",
        "print(confusion_test)"
      ],
      "execution_count": null,
      "outputs": [
        {
          "output_type": "stream",
          "name": "stdout",
          "text": [
            "[[ 3 12]\n",
            " [ 5 33]]\n"
          ]
        }
      ]
    },
    {
      "cell_type": "markdown",
      "metadata": {
        "id": "Dr77IdOwbcMt"
      },
      "source": [
        "테스트 데이터에 대한 예측역시 투표를 안한 사람에 대한 예측이 어렵다."
      ]
    },
    {
      "cell_type": "code",
      "metadata": {
        "colab": {
          "base_uri": "https://localhost:8080/"
        },
        "id": "q5DiCEBHbbpL",
        "outputId": "af6ca04b-440d-44f5-aca9-29b5a5f34172"
      },
      "source": [
        "#테스트 데이터의 분류모델 평가 결과의 상세 지표\n",
        "cfreport_test = classification_report(y_test, pred_test)\n",
        "print(cfreport_test)"
      ],
      "execution_count": null,
      "outputs": [
        {
          "output_type": "stream",
          "name": "stdout",
          "text": [
            "              precision    recall  f1-score   support\n",
            "\n",
            "           0       0.38      0.20      0.26        15\n",
            "           1       0.73      0.87      0.80        38\n",
            "\n",
            "    accuracy                           0.68        53\n",
            "   macro avg       0.55      0.53      0.53        53\n",
            "weighted avg       0.63      0.68      0.64        53\n",
            "\n"
          ]
        }
      ]
    },
    {
      "cell_type": "code",
      "metadata": {
        "colab": {
          "base_uri": "https://localhost:8080/"
        },
        "id": "cOy199PDbvpK",
        "outputId": "f22b0c2c-5cb4-4e2f-b364-dfd7f012254d"
      },
      "source": [
        "#ROC계산\n",
        "\n",
        "from sklearn.metrics import roc_curve,roc_auc_score, auc\n",
        "\n",
        "false_positive_rate, true_positive_rate, thresholds = roc_curve(y_test, Final_model.decision_function(X_test))\n",
        "roc_auc = roc_auc_score(y_test, Final_model.decision_function(X_test))\n",
        "roc_auc"
      ],
      "execution_count": null,
      "outputs": [
        {
          "output_type": "execute_result",
          "data": {
            "text/plain": [
              "0.6350877192982456"
            ]
          },
          "metadata": {},
          "execution_count": 35
        }
      ]
    },
    {
      "cell_type": "code",
      "metadata": {
        "colab": {
          "base_uri": "https://localhost:8080/",
          "height": 295
        },
        "id": "0_aAg6ZJb5zT",
        "outputId": "2049768f-2f0e-439c-a16a-9fe398fe507c"
      },
      "source": [
        "#ROC Curve 도표 그리기\n",
        "plt.title(\"ROC Curve\")\n",
        "plt.xlabel(\"False Positive Rate(1 - Specifity)\")\n",
        "plt.ylabel(\"True Positive Rate(Sensitivity)\")\n",
        "\n",
        "plt.plot(false_positive_rate, true_positive_rate, 'b', label = 'Model (AUC = %0.2f)'%roc_auc)\n",
        "plt.plot([0,1], [0,1], 'y--')\n",
        "plt.plot([0,1], [1,1], 'r--')\n",
        "\n",
        "plt.legend(loc='lower right')\n",
        "plt.show()"
      ],
      "execution_count": null,
      "outputs": [
        {
          "output_type": "display_data",
          "data": {
            "image/png": "[encoded data removed]",
            "text/plain": [
              "<Figure size 432x288 with 1 Axes>"
            ]
          },
          "metadata": {
            "needs_background": "light"
          }
        }
      ]
    },
    {
      "cell_type": "markdown",
      "metadata": {
        "id": "oRNzmfn_d2vd"
      },
      "source": [
        "종합적으로 아주 좋은 결과는 아니다.\n",
        "\n",
        "이유는 알고리즘 문제보다, 투표여부를 예측, 분류하기 좋은 특성 변수(X)가 부족하기 때문, 좋은 결과는 좋은 모델보다 좋은 변수들에 의해 결정된다."
      ]
    },
    {
      "cell_type": "markdown",
      "metadata": {
        "id": "e-t7mLCYVzLY"
      },
      "source": [
        "#9. 머신러닝 프로세스6: 다중분류"
      ]
    },
    {
      "cell_type": "markdown",
      "metadata": {
        "id": "SPOQt8TAV8iG"
      },
      "source": [
        "y 레이블이 4개범주(1,2,3,4)로 이루어진 parties(지지정당) 다중분류"
      ]
    },
    {
      "cell_type": "code",
      "metadata": {
        "id": "ObN3tsHmdxtL"
      },
      "source": [
        "import warnings\n",
        "warnings.filterwarnings(\"ignore\")\n",
        "import pandas as pd\n",
        "df = pd.read_csv('Fvote.csv')"
      ],
      "execution_count": null,
      "outputs": []
    },
    {
      "cell_type": "code",
      "metadata": {
        "id": "_2SRCeqlWRfG"
      },
      "source": [
        "X = df[df.columns[1:13]]\n",
        "y = df[['parties']]"
      ],
      "execution_count": null,
      "outputs": []
    },
    {
      "cell_type": "code",
      "metadata": {
        "id": "nD6kcQ3_WX7O"
      },
      "source": [
        "from sklearn.model_selection import train_test_split\n",
        "\n",
        "X_train, X_test, y_train, y_test = train_test_split(X, y, stratify = y, random_state = 42)"
      ],
      "execution_count": null,
      "outputs": []
    },
    {
      "cell_type": "code",
      "metadata": {
        "colab": {
          "base_uri": "https://localhost:8080/"
        },
        "id": "Eb-PNLMyWnW-",
        "outputId": "58ad48f9-5888-446b-c433-f4585cb725d1"
      },
      "source": [
        "from sklearn.linear_model import LogisticRegression\n",
        "\n",
        "model = LogisticRegression()\n",
        "model.fit(X_train, y_train)"
      ],
      "execution_count": null,
      "outputs": [
        {
          "output_type": "execute_result",
          "data": {
            "text/plain": [
              "LogisticRegression(C=1.0, class_weight=None, dual=False, fit_intercept=True,\n",
              "                   intercept_scaling=1, l1_ratio=None, max_iter=100,\n",
              "                   multi_class='auto', n_jobs=None, penalty='l2',\n",
              "                   random_state=None, solver='lbfgs', tol=0.0001, verbose=0,\n",
              "                   warm_start=False)"
            ]
          },
          "metadata": {},
          "execution_count": 4
        }
      ]
    },
    {
      "cell_type": "code",
      "metadata": {
        "colab": {
          "base_uri": "https://localhost:8080/"
        },
        "id": "MJxVXqvtW5DI",
        "outputId": "d6545f0b-ed8c-4386-986f-a3d9b9927bcd"
      },
      "source": [
        "pred_train = model.predict(X_train)\n",
        "model.score(X_train, y_train)"
      ],
      "execution_count": null,
      "outputs": [
        {
          "output_type": "execute_result",
          "data": {
            "text/plain": [
              "0.6139240506329114"
            ]
          },
          "metadata": {},
          "execution_count": 5
        }
      ]
    },
    {
      "cell_type": "code",
      "metadata": {
        "colab": {
          "base_uri": "https://localhost:8080/"
        },
        "id": "Ia_Ns4PKW-fe",
        "outputId": "3dd880fb-4795-4372-8afb-791de6fb44fc"
      },
      "source": [
        "pred_test = model.predict(X_test)\n",
        "model.score(X_test, y_test)"
      ],
      "execution_count": null,
      "outputs": [
        {
          "output_type": "execute_result",
          "data": {
            "text/plain": [
              "0.5283018867924528"
            ]
          },
          "metadata": {},
          "execution_count": 6
        }
      ]
    },
    {
      "cell_type": "markdown",
      "metadata": {
        "id": "lRbREVAaXFVb"
      },
      "source": [
        "다항분류이기때문에 이진분류보다 정확도가 낮게 나올수 있지만 좋은결과는 아니다."
      ]
    },
    {
      "cell_type": "code",
      "metadata": {
        "colab": {
          "base_uri": "https://localhost:8080/"
        },
        "id": "hS2JNtZeXD6O",
        "outputId": "e3a07ea1-0fd8-4b88-87a2-6d24b59042e0"
      },
      "source": [
        "#훈련데이터의 혼동행렬\n",
        "from sklearn.metrics import confusion_matrix\n",
        "\n",
        "confusion_train = confusion_matrix(y_train, pred_train)\n",
        "print(\"훈련 데이터 혼동행렬: \\n\",confusion_train)"
      ],
      "execution_count": null,
      "outputs": [
        {
          "output_type": "stream",
          "name": "stdout",
          "text": [
            "훈련 데이터 혼동행렬: \n",
            " [[21  2  3 11]\n",
            " [ 1 25  2 12]\n",
            " [ 6  2  5  6]\n",
            " [ 7  8  1 46]]\n"
          ]
        }
      ]
    },
    {
      "cell_type": "markdown",
      "metadata": {
        "id": "o2xd4wc_XxDV"
      },
      "source": [
        "정당3의 정분류(3,3)가 가장 낮게 나온다."
      ]
    },
    {
      "cell_type": "code",
      "metadata": {
        "colab": {
          "base_uri": "https://localhost:8080/"
        },
        "id": "pdVF_46cXYsR",
        "outputId": "212e07e1-86dd-460d-f794-6bea774a78ec"
      },
      "source": [
        "confusion_test = confusion_matrix(y_test, pred_test)\n",
        "print(\"테스트 데이터 혼동행렬: \\n\", confusion_test)"
      ],
      "execution_count": null,
      "outputs": [
        {
          "output_type": "stream",
          "name": "stdout",
          "text": [
            "테스트 데이터 혼동행렬: \n",
            " [[ 6  1  2  4]\n",
            " [ 1  9  1  2]\n",
            " [ 1  2  1  2]\n",
            " [ 2  5  2 12]]\n"
          ]
        }
      ]
    },
    {
      "cell_type": "markdown",
      "metadata": {
        "id": "Cxu3a8Y4YED4"
      },
      "source": [
        "테스트 데이터의 혼동행렬역시 정당 3의 정분류가 가장낮다."
      ]
    },
    {
      "cell_type": "code",
      "metadata": {
        "id": "pjpYePiBYCpA"
      },
      "source": [
        "#그리드탐색\n",
        "from sklearn.model_selection import GridSearchCV\n",
        "\n",
        "param_grid = {'C' : [0.001, 0.01, 0.1, 1, 10, 100]}"
      ],
      "execution_count": null,
      "outputs": []
    },
    {
      "cell_type": "code",
      "metadata": {
        "colab": {
          "base_uri": "https://localhost:8080/"
        },
        "id": "6PNgBL7KYapu",
        "outputId": "ee2d9840-c8bd-4128-e979-4145d60bfea4"
      },
      "source": [
        "grid_search = GridSearchCV(LogisticRegression(), param_grid = param_grid,\n",
        "                           cv = 5, return_train_score = True)\n",
        "\n",
        "grid_search.fit(X_train, y_train)"
      ],
      "execution_count": null,
      "outputs": [
        {
          "output_type": "execute_result",
          "data": {
            "text/plain": [
              "GridSearchCV(cv=5, error_score=nan,\n",
              "             estimator=LogisticRegression(C=1.0, class_weight=None, dual=False,\n",
              "                                          fit_intercept=True,\n",
              "                                          intercept_scaling=1, l1_ratio=None,\n",
              "                                          max_iter=100, multi_class='auto',\n",
              "                                          n_jobs=None, penalty='l2',\n",
              "                                          random_state=None, solver='lbfgs',\n",
              "                                          tol=0.0001, verbose=0,\n",
              "                                          warm_start=False),\n",
              "             iid='deprecated', n_jobs=None,\n",
              "             param_grid={'C': [0.001, 0.01, 0.1, 1, 10, 100]},\n",
              "             pre_dispatch='2*n_jobs', refit=True, return_train_score=True,\n",
              "             scoring=None, verbose=0)"
            ]
          },
          "metadata": {},
          "execution_count": 13
        }
      ]
    },
    {
      "cell_type": "code",
      "metadata": {
        "colab": {
          "base_uri": "https://localhost:8080/"
        },
        "id": "0YT_JSuaYu_p",
        "outputId": "a26d8b5b-16f5-4229-a5e1-958ee290b413"
      },
      "source": [
        "print('Best Parameter: {}'.format(grid_search.best_params_))\n",
        "print('Best Score: {}'.format(grid_search.best_score_))"
      ],
      "execution_count": null,
      "outputs": [
        {
          "output_type": "stream",
          "name": "stdout",
          "text": [
            "Best Parameter: {'C': 0.1}\n",
            "Best Score: 0.54375\n"
          ]
        }
      ]
    },
    {
      "cell_type": "code",
      "metadata": {
        "colab": {
          "base_uri": "https://localhost:8080/"
        },
        "id": "W7TIO-LiaZqI",
        "outputId": "87531d7f-425c-4160-a7da-7687383bf428"
      },
      "source": [
        "print('Test set Score: {}'.format(grid_search.score(X_test, y_test)))"
      ],
      "execution_count": null,
      "outputs": [
        {
          "output_type": "stream",
          "name": "stdout",
          "text": [
            "Test set Score: 0.5849056603773585\n"
          ]
        }
      ]
    },
    {
      "cell_type": "markdown",
      "metadata": {
        "id": "-zBIr7HHatlu"
      },
      "source": [
        "C = 0.1의 모델을 적용한 결과 정확도는 58.5%로 제시 되었다."
      ]
    },
    {
      "cell_type": "code",
      "metadata": {
        "id": "AmDDLrYfaokO"
      },
      "source": [
        "#랜덤 탐색\n",
        "from sklearn.model_selection import RandomizedSearchCV\n",
        "from scipy.stats import randint\n",
        "\n",
        "param_distribs = {'C' : randint(low = 0.001 , high = 100)}"
      ],
      "execution_count": null,
      "outputs": []
    },
    {
      "cell_type": "code",
      "metadata": {
        "id": "7AbsjbV0bHZQ"
      },
      "source": [
        "random_search = RandomizedSearchCV(LogisticRegression(), param_distributions=param_distribs,\n",
        "                                   cv = 5,\n",
        "                                   #n_iter = 100 (디폴트 = 10)\n",
        "                                   return_train_score = True)"
      ],
      "execution_count": null,
      "outputs": []
    },
    {
      "cell_type": "code",
      "metadata": {
        "colab": {
          "base_uri": "https://localhost:8080/"
        },
        "id": "RY7eDS2pbe5B",
        "outputId": "0e1fed30-4e46-4318-91d4-c6a405b499ec"
      },
      "source": [
        "random_search.fit(X_train, y_train)"
      ],
      "execution_count": null,
      "outputs": [
        {
          "output_type": "execute_result",
          "data": {
            "text/plain": [
              "RandomizedSearchCV(cv=5, error_score=nan,\n",
              "                   estimator=LogisticRegression(C=1.0, class_weight=None,\n",
              "                                                dual=False, fit_intercept=True,\n",
              "                                                intercept_scaling=1,\n",
              "                                                l1_ratio=None, max_iter=100,\n",
              "                                                multi_class='auto', n_jobs=None,\n",
              "                                                penalty='l2', random_state=None,\n",
              "                                                solver='lbfgs', tol=0.0001,\n",
              "                                                verbose=0, warm_start=False),\n",
              "                   iid='deprecated', n_iter=10, n_jobs=None,\n",
              "                   param_distributions={'C': <scipy.stats._distn_infrastructure.rv_frozen object at 0x7effd89ee9d0>},\n",
              "                   pre_dispatch='2*n_jobs', random_state=None, refit=True,\n",
              "                   return_train_score=True, scoring=None, verbose=0)"
            ]
          },
          "metadata": {},
          "execution_count": 20
        }
      ]
    },
    {
      "cell_type": "code",
      "metadata": {
        "colab": {
          "base_uri": "https://localhost:8080/"
        },
        "id": "fAQx8hySbiFg",
        "outputId": "e3780bad-598a-4469-e703-0709dc87f0f9"
      },
      "source": [
        "print('Best Parameter: {}'.format(random_search.best_params_))\n",
        "print('Best Score: {}'.format(random_search.best_score_))"
      ],
      "execution_count": null,
      "outputs": [
        {
          "output_type": "stream",
          "name": "stdout",
          "text": [
            "Best Parameter: {'C': 59}\n",
            "Best Score: 0.5185483870967742\n"
          ]
        }
      ]
    },
    {
      "cell_type": "code",
      "metadata": {
        "colab": {
          "base_uri": "https://localhost:8080/"
        },
        "id": "T-0bSSrdbxMA",
        "outputId": "31657eeb-257d-470e-a266-5826eec5b793"
      },
      "source": [
        "#C값이 59일때 테스트 데이터 정확도\n",
        "print('Test Set Score: {}'.format(random_search.score(X_test, y_test)))"
      ],
      "execution_count": null,
      "outputs": [
        {
          "output_type": "stream",
          "name": "stdout",
          "text": [
            "Test Set Score: 0.5094339622641509\n"
          ]
        }
      ]
    },
    {
      "cell_type": "markdown",
      "metadata": {
        "id": "Tkvn16yIcGTm"
      },
      "source": [
        "- 지지정당을 인구학적특성과 정치태도 몇 개 변수로 예측하는것은 어려운 일이다.\n",
        "\n",
        "- 다중분류는 y 레이블 범주 수만 다를뿐 이진분류와 동일하다."
      ]
    },
    {
      "cell_type": "code",
      "metadata": {
        "id": "GW5xdYZsb_-o"
      },
      "source": [
        ""
      ],
      "execution_count": null,
      "outputs": []
    }
  ]
}