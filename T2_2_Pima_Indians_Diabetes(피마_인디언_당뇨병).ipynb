{
  "nbformat": 4,
  "nbformat_minor": 0,
  "metadata": {
    "colab": {
      "name": "T2-2. Pima Indians Diabetes(피마 인디언 당뇨병)",
      "provenance": [],
      "authorship_tag": "ABX9TyPXHo1bERPKseIl6ZCR/XWK",
      "include_colab_link": true
    },
    "kernelspec": {
      "name": "python3",
      "display_name": "Python 3"
    },
    "language_info": {
      "name": "python"
    }
  },
  "cells": [
    {
      "cell_type": "markdown",
      "metadata": {
        "id": "view-in-github",
        "colab_type": "text"
      },
      "source": [
        "<a href=\"https://colab.research.google.com/github/ejrtks1020/Bigdata_Analysis_Certification/blob/main/T2_2_Pima_Indians_Diabetes(%ED%94%BC%EB%A7%88_%EC%9D%B8%EB%94%94%EC%96%B8_%EB%8B%B9%EB%87%A8%EB%B3%91).ipynb\" target=\"_parent\"><img src=\"https://colab.research.google.com/assets/colab-badge.svg\" alt=\"Open In Colab\"/></a>"
      ]
    },
    {
      "cell_type": "markdown",
      "metadata": {
        "id": "9PMZGe96iWnn"
      },
      "source": [
        "당뇨병 여부 판단\n",
        "이상치 처리 (Glucose, BloodPressure, SkinThickness, Insulin, BMI가 0인 값)"
      ]
    },
    {
      "cell_type": "code",
      "metadata": {
        "colab": {
          "base_uri": "https://localhost:8080/"
        },
        "id": "-ZnSGMrQg7s4",
        "outputId": "403b5c59-bca8-4906-f6a8-6bd2683fb168"
      },
      "source": [
        "# 시험환경 세팅 (코드 변경 X, 시험환경과 유사하게 파일읽기 구현)\n",
        "import pandas as pd\n",
        "df = pd.read_csv(\"diabetes.csv\")\n",
        "\n",
        "from sklearn.model_selection import train_test_split\n",
        "X_train, X_test = train_test_split(df, test_size=0.2, shuffle=True, random_state=2021)\n",
        "y_train = X_train['Outcome']\n",
        "X_train = X_train.drop(columns=['Outcome'])\n",
        "y_test = X_test['Outcome']\n",
        "X_test = X_test.drop(columns=['Outcome'])\n",
        "\n",
        "X_train.shape, y_train.shape, X_test.shape, y_test.shape"
      ],
      "execution_count": null,
      "outputs": [
        {
          "output_type": "execute_result",
          "data": {
            "text/plain": [
              "((614, 8), (614,), (154, 8), (154,))"
            ]
          },
          "metadata": {},
          "execution_count": 2
        }
      ]
    },
    {
      "cell_type": "markdown",
      "metadata": {
        "id": "6sL-Ft2uiKSf"
      },
      "source": [
        "EDA"
      ]
    },
    {
      "cell_type": "code",
      "metadata": {
        "colab": {
          "base_uri": "https://localhost:8080/",
          "height": 206
        },
        "id": "M2sk-OFfiGxY",
        "outputId": "98674fcb-66c8-4b3f-c0bd-609cb7bf1588"
      },
      "source": [
        "X_train.head()"
      ],
      "execution_count": null,
      "outputs": [
        {
          "output_type": "execute_result",
          "data": {
            "text/html": [
              "<div>\n",
              "<style scoped>\n",
              "    .dataframe tbody tr th:only-of-type {\n",
              "        vertical-align: middle;\n",
              "    }\n",
              "\n",
              "    .dataframe tbody tr th {\n",
              "        vertical-align: top;\n",
              "    }\n",
              "\n",
              "    .dataframe thead th {\n",
              "        text-align: right;\n",
              "    }\n",
              "</style>\n",
              "<table border=\"1\" class=\"dataframe\">\n",
              "  <thead>\n",
              "    <tr style=\"text-align: right;\">\n",
              "      <th></th>\n",
              "      <th>Pregnancies</th>\n",
              "      <th>Glucose</th>\n",
              "      <th>BloodPressure</th>\n",
              "      <th>SkinThickness</th>\n",
              "      <th>Insulin</th>\n",
              "      <th>BMI</th>\n",
              "      <th>DiabetesPedigreeFunction</th>\n",
              "      <th>Age</th>\n",
              "    </tr>\n",
              "  </thead>\n",
              "  <tbody>\n",
              "    <tr>\n",
              "      <th>147</th>\n",
              "      <td>2</td>\n",
              "      <td>106</td>\n",
              "      <td>64</td>\n",
              "      <td>35</td>\n",
              "      <td>119</td>\n",
              "      <td>30.5</td>\n",
              "      <td>1.400</td>\n",
              "      <td>34</td>\n",
              "    </tr>\n",
              "    <tr>\n",
              "      <th>344</th>\n",
              "      <td>8</td>\n",
              "      <td>95</td>\n",
              "      <td>72</td>\n",
              "      <td>0</td>\n",
              "      <td>0</td>\n",
              "      <td>36.8</td>\n",
              "      <td>0.485</td>\n",
              "      <td>57</td>\n",
              "    </tr>\n",
              "    <tr>\n",
              "      <th>390</th>\n",
              "      <td>1</td>\n",
              "      <td>100</td>\n",
              "      <td>66</td>\n",
              "      <td>29</td>\n",
              "      <td>196</td>\n",
              "      <td>32.0</td>\n",
              "      <td>0.444</td>\n",
              "      <td>42</td>\n",
              "    </tr>\n",
              "    <tr>\n",
              "      <th>150</th>\n",
              "      <td>1</td>\n",
              "      <td>136</td>\n",
              "      <td>74</td>\n",
              "      <td>50</td>\n",
              "      <td>204</td>\n",
              "      <td>37.4</td>\n",
              "      <td>0.399</td>\n",
              "      <td>24</td>\n",
              "    </tr>\n",
              "    <tr>\n",
              "      <th>132</th>\n",
              "      <td>3</td>\n",
              "      <td>170</td>\n",
              "      <td>64</td>\n",
              "      <td>37</td>\n",
              "      <td>225</td>\n",
              "      <td>34.5</td>\n",
              "      <td>0.356</td>\n",
              "      <td>30</td>\n",
              "    </tr>\n",
              "  </tbody>\n",
              "</table>\n",
              "</div>"
            ],
            "text/plain": [
              "     Pregnancies  Glucose  BloodPressure  ...   BMI  DiabetesPedigreeFunction  Age\n",
              "147            2      106             64  ...  30.5                     1.400   34\n",
              "344            8       95             72  ...  36.8                     0.485   57\n",
              "390            1      100             66  ...  32.0                     0.444   42\n",
              "150            1      136             74  ...  37.4                     0.399   24\n",
              "132            3      170             64  ...  34.5                     0.356   30\n",
              "\n",
              "[5 rows x 8 columns]"
            ]
          },
          "metadata": {},
          "execution_count": 3
        }
      ]
    },
    {
      "cell_type": "code",
      "metadata": {
        "colab": {
          "base_uri": "https://localhost:8080/"
        },
        "id": "PnBVpSHriL8e",
        "outputId": "0bab3ef1-7a1b-4121-a8e2-cb546644186f"
      },
      "source": [
        "y_train.value_counts()"
      ],
      "execution_count": null,
      "outputs": [
        {
          "output_type": "execute_result",
          "data": {
            "text/plain": [
              "0    403\n",
              "1    211\n",
              "Name: Outcome, dtype: int64"
            ]
          },
          "metadata": {},
          "execution_count": 6
        }
      ]
    },
    {
      "cell_type": "code",
      "metadata": {
        "colab": {
          "base_uri": "https://localhost:8080/"
        },
        "id": "d9JYv_TxiQMH",
        "outputId": "efd45360-9af8-4b00-bf48-b259d1fc397f"
      },
      "source": [
        "X_train.info()"
      ],
      "execution_count": null,
      "outputs": [
        {
          "output_type": "stream",
          "name": "stdout",
          "text": [
            "<class 'pandas.core.frame.DataFrame'>\n",
            "Int64Index: 614 entries, 147 to 116\n",
            "Data columns (total 8 columns):\n",
            " #   Column                    Non-Null Count  Dtype  \n",
            "---  ------                    --------------  -----  \n",
            " 0   Pregnancies               614 non-null    int64  \n",
            " 1   Glucose                   614 non-null    int64  \n",
            " 2   BloodPressure             614 non-null    int64  \n",
            " 3   SkinThickness             614 non-null    int64  \n",
            " 4   Insulin                   614 non-null    int64  \n",
            " 5   BMI                       614 non-null    float64\n",
            " 6   DiabetesPedigreeFunction  614 non-null    float64\n",
            " 7   Age                       614 non-null    int64  \n",
            "dtypes: float64(2), int64(6)\n",
            "memory usage: 43.2 KB\n"
          ]
        }
      ]
    },
    {
      "cell_type": "code",
      "metadata": {
        "colab": {
          "base_uri": "https://localhost:8080/"
        },
        "id": "swe0IFnFizje",
        "outputId": "4486a612-5369-48d4-a477-844bd69c4d90"
      },
      "source": [
        "X_train.isnull().sum()"
      ],
      "execution_count": null,
      "outputs": [
        {
          "output_type": "execute_result",
          "data": {
            "text/plain": [
              "Pregnancies                 0\n",
              "Glucose                     0\n",
              "BloodPressure               0\n",
              "SkinThickness               0\n",
              "Insulin                     0\n",
              "BMI                         0\n",
              "DiabetesPedigreeFunction    0\n",
              "Age                         0\n",
              "dtype: int64"
            ]
          },
          "metadata": {},
          "execution_count": 9
        }
      ]
    },
    {
      "cell_type": "code",
      "metadata": {
        "colab": {
          "base_uri": "https://localhost:8080/"
        },
        "id": "YxEZLXRxi76Q",
        "outputId": "6b1e7aaa-023b-4dec-d802-45a2869ac7c3"
      },
      "source": [
        "X_test.isnull().sum()"
      ],
      "execution_count": null,
      "outputs": [
        {
          "output_type": "execute_result",
          "data": {
            "text/plain": [
              "Pregnancies                 0\n",
              "Glucose                     0\n",
              "BloodPressure               0\n",
              "SkinThickness               0\n",
              "Insulin                     0\n",
              "BMI                         0\n",
              "DiabetesPedigreeFunction    0\n",
              "Age                         0\n",
              "dtype: int64"
            ]
          },
          "metadata": {},
          "execution_count": 10
        }
      ]
    },
    {
      "cell_type": "code",
      "metadata": {
        "colab": {
          "base_uri": "https://localhost:8080/",
          "height": 320
        },
        "id": "lCSNcfDZi_Xn",
        "outputId": "f82cbd33-7210-4268-c2f7-a1d325038402"
      },
      "source": [
        "X_train.describe()"
      ],
      "execution_count": null,
      "outputs": [
        {
          "output_type": "execute_result",
          "data": {
            "text/html": [
              "<div>\n",
              "<style scoped>\n",
              "    .dataframe tbody tr th:only-of-type {\n",
              "        vertical-align: middle;\n",
              "    }\n",
              "\n",
              "    .dataframe tbody tr th {\n",
              "        vertical-align: top;\n",
              "    }\n",
              "\n",
              "    .dataframe thead th {\n",
              "        text-align: right;\n",
              "    }\n",
              "</style>\n",
              "<table border=\"1\" class=\"dataframe\">\n",
              "  <thead>\n",
              "    <tr style=\"text-align: right;\">\n",
              "      <th></th>\n",
              "      <th>Pregnancies</th>\n",
              "      <th>Glucose</th>\n",
              "      <th>BloodPressure</th>\n",
              "      <th>SkinThickness</th>\n",
              "      <th>Insulin</th>\n",
              "      <th>BMI</th>\n",
              "      <th>DiabetesPedigreeFunction</th>\n",
              "      <th>Age</th>\n",
              "    </tr>\n",
              "  </thead>\n",
              "  <tbody>\n",
              "    <tr>\n",
              "      <th>count</th>\n",
              "      <td>614.000000</td>\n",
              "      <td>614.000000</td>\n",
              "      <td>614.000000</td>\n",
              "      <td>614.000000</td>\n",
              "      <td>614.000000</td>\n",
              "      <td>614.000000</td>\n",
              "      <td>614.000000</td>\n",
              "      <td>614.000000</td>\n",
              "    </tr>\n",
              "    <tr>\n",
              "      <th>mean</th>\n",
              "      <td>3.845277</td>\n",
              "      <td>120.705212</td>\n",
              "      <td>68.530945</td>\n",
              "      <td>20.982085</td>\n",
              "      <td>82.229642</td>\n",
              "      <td>31.948534</td>\n",
              "      <td>0.477471</td>\n",
              "      <td>33.319218</td>\n",
              "    </tr>\n",
              "    <tr>\n",
              "      <th>std</th>\n",
              "      <td>3.388952</td>\n",
              "      <td>32.047977</td>\n",
              "      <td>19.761915</td>\n",
              "      <td>15.965031</td>\n",
              "      <td>116.525772</td>\n",
              "      <td>7.734385</td>\n",
              "      <td>0.339811</td>\n",
              "      <td>11.940953</td>\n",
              "    </tr>\n",
              "    <tr>\n",
              "      <th>min</th>\n",
              "      <td>0.000000</td>\n",
              "      <td>0.000000</td>\n",
              "      <td>0.000000</td>\n",
              "      <td>0.000000</td>\n",
              "      <td>0.000000</td>\n",
              "      <td>0.000000</td>\n",
              "      <td>0.078000</td>\n",
              "      <td>21.000000</td>\n",
              "    </tr>\n",
              "    <tr>\n",
              "      <th>25%</th>\n",
              "      <td>1.000000</td>\n",
              "      <td>99.000000</td>\n",
              "      <td>62.000000</td>\n",
              "      <td>0.000000</td>\n",
              "      <td>0.000000</td>\n",
              "      <td>27.400000</td>\n",
              "      <td>0.244250</td>\n",
              "      <td>24.000000</td>\n",
              "    </tr>\n",
              "    <tr>\n",
              "      <th>50%</th>\n",
              "      <td>3.000000</td>\n",
              "      <td>117.000000</td>\n",
              "      <td>72.000000</td>\n",
              "      <td>23.000000</td>\n",
              "      <td>44.000000</td>\n",
              "      <td>32.250000</td>\n",
              "      <td>0.377000</td>\n",
              "      <td>29.000000</td>\n",
              "    </tr>\n",
              "    <tr>\n",
              "      <th>75%</th>\n",
              "      <td>6.000000</td>\n",
              "      <td>140.000000</td>\n",
              "      <td>80.000000</td>\n",
              "      <td>33.000000</td>\n",
              "      <td>130.000000</td>\n",
              "      <td>36.600000</td>\n",
              "      <td>0.628500</td>\n",
              "      <td>41.000000</td>\n",
              "    </tr>\n",
              "    <tr>\n",
              "      <th>max</th>\n",
              "      <td>17.000000</td>\n",
              "      <td>199.000000</td>\n",
              "      <td>114.000000</td>\n",
              "      <td>99.000000</td>\n",
              "      <td>846.000000</td>\n",
              "      <td>59.400000</td>\n",
              "      <td>2.420000</td>\n",
              "      <td>81.000000</td>\n",
              "    </tr>\n",
              "  </tbody>\n",
              "</table>\n",
              "</div>"
            ],
            "text/plain": [
              "       Pregnancies     Glucose  ...  DiabetesPedigreeFunction         Age\n",
              "count   614.000000  614.000000  ...                614.000000  614.000000\n",
              "mean      3.845277  120.705212  ...                  0.477471   33.319218\n",
              "std       3.388952   32.047977  ...                  0.339811   11.940953\n",
              "min       0.000000    0.000000  ...                  0.078000   21.000000\n",
              "25%       1.000000   99.000000  ...                  0.244250   24.000000\n",
              "50%       3.000000  117.000000  ...                  0.377000   29.000000\n",
              "75%       6.000000  140.000000  ...                  0.628500   41.000000\n",
              "max      17.000000  199.000000  ...                  2.420000   81.000000\n",
              "\n",
              "[8 rows x 8 columns]"
            ]
          },
          "metadata": {},
          "execution_count": 11
        }
      ]
    },
    {
      "cell_type": "code",
      "metadata": {
        "id": "pmxdf_Ayvc2l"
      },
      "source": [
        "X_train"
      ],
      "execution_count": null,
      "outputs": []
    },
    {
      "cell_type": "markdown",
      "metadata": {
        "id": "8-kvI2Z4us_3"
      },
      "source": [
        "데이터 전처리"
      ]
    },
    {
      "cell_type": "code",
      "metadata": {
        "colab": {
          "base_uri": "https://localhost:8080/"
        },
        "id": "zwRN0dCQjBrH",
        "outputId": "2ae08712-2dc0-4cf9-b07b-5b69cf310444"
      },
      "source": [
        "#이상치 처리\n",
        "#Train\n",
        "print('Glucose:', len(X_train[X_train['Glucose'] == 0]))\n",
        "print('BloodPressure:', len(X_train[X_train['BloodPressure'] == 0]))\n",
        "print('SkinThickness:', len(X_train[X_train['SkinThickness'] == 0]))\n",
        "print('Insulin:', len(X_train[X_train['Insulin'] == 0]))\n",
        "print('BMI:', len(X_train[X_train['BMI'] == 0]))"
      ],
      "execution_count": null,
      "outputs": [
        {
          "output_type": "stream",
          "name": "stdout",
          "text": [
            "Glucose: 5\n",
            "BloodPressure: 31\n",
            "SkinThickness: 175\n",
            "Insulin: 287\n",
            "BMI: 9\n"
          ]
        }
      ]
    },
    {
      "cell_type": "code",
      "metadata": {
        "colab": {
          "base_uri": "https://localhost:8080/"
        },
        "id": "FAJRevZEvMsu",
        "outputId": "b595a1de-db5f-4e63-855e-fb67854fc41a"
      },
      "source": [
        "#Test\n",
        "print('Glucose:', len(X_test[X_test['Glucose'] == 0]))\n",
        "print('BloodPressure:', len(X_test[X_test['BloodPressure'] == 0]))\n",
        "print('SkinThickness:', len(X_test[X_test['SkinThickness'] == 0]))\n",
        "print('Insulin:', len(X_test[X_test['Insulin'] == 0]))\n",
        "print('BMI:', len(X_test[X_test['BMI'] == 0]))"
      ],
      "execution_count": null,
      "outputs": [
        {
          "output_type": "stream",
          "name": "stdout",
          "text": [
            "Glucose: 0\n",
            "BloodPressure: 4\n",
            "SkinThickness: 52\n",
            "Insulin: 87\n",
            "BMI: 2\n"
          ]
        }
      ]
    },
    {
      "cell_type": "markdown",
      "metadata": {
        "id": "NmNZiORZvxyP"
      },
      "source": [
        "트레인에만 0이 있는 포도당(Glucose)는 삭제 나머지는 평균값으로 대체 하여 이상치를 처리함"
      ]
    },
    {
      "cell_type": "code",
      "metadata": {
        "colab": {
          "base_uri": "https://localhost:8080/"
        },
        "id": "BlF2Hw9gvWM2",
        "outputId": "341274ff-ee19-4097-ce84-7670f64a3775"
      },
      "source": [
        "#포도당 이상치 삭제\n",
        "del_idx = X_train[(X_train['Glucose'] == 0)].index\n",
        "del_idx"
      ],
      "execution_count": null,
      "outputs": [
        {
          "output_type": "execute_result",
          "data": {
            "text/plain": [
              "Int64Index([182, 75, 342, 502, 349], dtype='int64')"
            ]
          },
          "metadata": {},
          "execution_count": 17
        }
      ]
    },
    {
      "cell_type": "code",
      "metadata": {
        "colab": {
          "base_uri": "https://localhost:8080/"
        },
        "id": "asrpqqULv6on",
        "outputId": "5b9fa605-c9ab-4b90-9a13-679f3a728ff3"
      },
      "source": [
        "print('Glucose 이상치 삭제 전 : ', X_train.shape, y_train.shape)\n",
        "X_train = X_train.drop(index = del_idx, axis = 0)\n",
        "y_train = y_train.drop(index = del_idx, axis = 0)\n",
        "print('Glucose 이상치 삭제 후 : ', X_train.shape, y_train.shape)"
      ],
      "execution_count": null,
      "outputs": [
        {
          "output_type": "stream",
          "name": "stdout",
          "text": [
            "Glucose 이상치 삭제 전 :  (614, 8) (614,)\n",
            "Glucose 이상치 삭제 후 :  (609, 8) (609,)\n"
          ]
        }
      ]
    },
    {
      "cell_type": "code",
      "metadata": {
        "id": "13I4RUDwwdJf"
      },
      "source": [
        "cols = ['BloodPressure', 'SkinThickness', 'Insulin', 'BMI']\n",
        "cols_mean = X_train[cols].mean()"
      ],
      "execution_count": null,
      "outputs": []
    },
    {
      "cell_type": "code",
      "metadata": {
        "colab": {
          "base_uri": "https://localhost:8080/"
        },
        "id": "yrLNaaYewtFm",
        "outputId": "3c0d8981-67ab-47e2-b9bc-a7d09554a5cb"
      },
      "source": [
        "cols_mean"
      ],
      "execution_count": null,
      "outputs": [
        {
          "output_type": "execute_result",
          "data": {
            "text/plain": [
              "BloodPressure    68.538588\n",
              "SkinThickness    20.911330\n",
              "Insulin          82.866995\n",
              "BMI              31.940887\n",
              "dtype: float64"
            ]
          },
          "metadata": {},
          "execution_count": 21
        }
      ]
    },
    {
      "cell_type": "code",
      "metadata": {
        "colab": {
          "base_uri": "https://localhost:8080/",
          "height": 423
        },
        "id": "vAaaxxuSwuQO",
        "outputId": "91b1b2d1-58c1-43b5-8564-5705daa28c66"
      },
      "source": [
        "X_train[cols].replace(0, cols_mean)"
      ],
      "execution_count": null,
      "outputs": [
        {
          "output_type": "execute_result",
          "data": {
            "text/html": [
              "<div>\n",
              "<style scoped>\n",
              "    .dataframe tbody tr th:only-of-type {\n",
              "        vertical-align: middle;\n",
              "    }\n",
              "\n",
              "    .dataframe tbody tr th {\n",
              "        vertical-align: top;\n",
              "    }\n",
              "\n",
              "    .dataframe thead th {\n",
              "        text-align: right;\n",
              "    }\n",
              "</style>\n",
              "<table border=\"1\" class=\"dataframe\">\n",
              "  <thead>\n",
              "    <tr style=\"text-align: right;\">\n",
              "      <th></th>\n",
              "      <th>BloodPressure</th>\n",
              "      <th>SkinThickness</th>\n",
              "      <th>Insulin</th>\n",
              "      <th>BMI</th>\n",
              "    </tr>\n",
              "  </thead>\n",
              "  <tbody>\n",
              "    <tr>\n",
              "      <th>147</th>\n",
              "      <td>64.0</td>\n",
              "      <td>35.00000</td>\n",
              "      <td>119.000000</td>\n",
              "      <td>30.5</td>\n",
              "    </tr>\n",
              "    <tr>\n",
              "      <th>344</th>\n",
              "      <td>72.0</td>\n",
              "      <td>20.91133</td>\n",
              "      <td>82.866995</td>\n",
              "      <td>36.8</td>\n",
              "    </tr>\n",
              "    <tr>\n",
              "      <th>390</th>\n",
              "      <td>66.0</td>\n",
              "      <td>29.00000</td>\n",
              "      <td>196.000000</td>\n",
              "      <td>32.0</td>\n",
              "    </tr>\n",
              "    <tr>\n",
              "      <th>150</th>\n",
              "      <td>74.0</td>\n",
              "      <td>50.00000</td>\n",
              "      <td>204.000000</td>\n",
              "      <td>37.4</td>\n",
              "    </tr>\n",
              "    <tr>\n",
              "      <th>132</th>\n",
              "      <td>64.0</td>\n",
              "      <td>37.00000</td>\n",
              "      <td>225.000000</td>\n",
              "      <td>34.5</td>\n",
              "    </tr>\n",
              "    <tr>\n",
              "      <th>...</th>\n",
              "      <td>...</td>\n",
              "      <td>...</td>\n",
              "      <td>...</td>\n",
              "      <td>...</td>\n",
              "    </tr>\n",
              "    <tr>\n",
              "      <th>621</th>\n",
              "      <td>76.0</td>\n",
              "      <td>20.00000</td>\n",
              "      <td>82.866995</td>\n",
              "      <td>24.2</td>\n",
              "    </tr>\n",
              "    <tr>\n",
              "      <th>128</th>\n",
              "      <td>88.0</td>\n",
              "      <td>24.00000</td>\n",
              "      <td>145.000000</td>\n",
              "      <td>34.5</td>\n",
              "    </tr>\n",
              "    <tr>\n",
              "      <th>57</th>\n",
              "      <td>88.0</td>\n",
              "      <td>60.00000</td>\n",
              "      <td>110.000000</td>\n",
              "      <td>46.8</td>\n",
              "    </tr>\n",
              "    <tr>\n",
              "      <th>341</th>\n",
              "      <td>74.0</td>\n",
              "      <td>21.00000</td>\n",
              "      <td>73.000000</td>\n",
              "      <td>25.9</td>\n",
              "    </tr>\n",
              "    <tr>\n",
              "      <th>116</th>\n",
              "      <td>74.0</td>\n",
              "      <td>20.91133</td>\n",
              "      <td>82.866995</td>\n",
              "      <td>34.0</td>\n",
              "    </tr>\n",
              "  </tbody>\n",
              "</table>\n",
              "<p>609 rows × 4 columns</p>\n",
              "</div>"
            ],
            "text/plain": [
              "     BloodPressure  SkinThickness     Insulin   BMI\n",
              "147           64.0       35.00000  119.000000  30.5\n",
              "344           72.0       20.91133   82.866995  36.8\n",
              "390           66.0       29.00000  196.000000  32.0\n",
              "150           74.0       50.00000  204.000000  37.4\n",
              "132           64.0       37.00000  225.000000  34.5\n",
              "..             ...            ...         ...   ...\n",
              "621           76.0       20.00000   82.866995  24.2\n",
              "128           88.0       24.00000  145.000000  34.5\n",
              "57            88.0       60.00000  110.000000  46.8\n",
              "341           74.0       21.00000   73.000000  25.9\n",
              "116           74.0       20.91133   82.866995  34.0\n",
              "\n",
              "[609 rows x 4 columns]"
            ]
          },
          "metadata": {},
          "execution_count": 22
        }
      ]
    },
    {
      "cell_type": "code",
      "metadata": {
        "id": "Sy5MZ76Ww86e"
      },
      "source": [
        "#스케일링\n",
        "from sklearn.preprocessing import StandardScaler\n",
        "\n",
        "scaler = StandardScaler()\n",
        "X_train_scaled = scaler.fit_transform(X_train)\n",
        "X_test_scaled = scaler.fit_transform(X_test)"
      ],
      "execution_count": null,
      "outputs": []
    },
    {
      "cell_type": "code",
      "metadata": {
        "colab": {
          "base_uri": "https://localhost:8080/",
          "height": 226
        },
        "id": "38H7XvGvxfhm",
        "outputId": "6eab0335-2fdc-42e1-d21a-364381ab18d4"
      },
      "source": [
        "pd.DataFrame(X_train_scaled, columns = X_train.columns).head()"
      ],
      "execution_count": null,
      "outputs": [
        {
          "output_type": "execute_result",
          "data": {
            "text/html": [
              "<div>\n",
              "<style scoped>\n",
              "    .dataframe tbody tr th:only-of-type {\n",
              "        vertical-align: middle;\n",
              "    }\n",
              "\n",
              "    .dataframe tbody tr th {\n",
              "        vertical-align: top;\n",
              "    }\n",
              "\n",
              "    .dataframe thead th {\n",
              "        text-align: right;\n",
              "    }\n",
              "</style>\n",
              "<table border=\"1\" class=\"dataframe\">\n",
              "  <thead>\n",
              "    <tr style=\"text-align: right;\">\n",
              "      <th></th>\n",
              "      <th>Pregnancies</th>\n",
              "      <th>Glucose</th>\n",
              "      <th>BloodPressure</th>\n",
              "      <th>SkinThickness</th>\n",
              "      <th>Insulin</th>\n",
              "      <th>BMI</th>\n",
              "      <th>DiabetesPedigreeFunction</th>\n",
              "      <th>Age</th>\n",
              "    </tr>\n",
              "  </thead>\n",
              "  <tbody>\n",
              "    <tr>\n",
              "      <th>0</th>\n",
              "      <td>-0.546420</td>\n",
              "      <td>-0.519408</td>\n",
              "      <td>-0.229192</td>\n",
              "      <td>0.881631</td>\n",
              "      <td>0.309646</td>\n",
              "      <td>-0.186202</td>\n",
              "      <td>2.708083</td>\n",
              "      <td>0.053740</td>\n",
              "    </tr>\n",
              "    <tr>\n",
              "      <th>1</th>\n",
              "      <td>1.222064</td>\n",
              "      <td>-0.883411</td>\n",
              "      <td>0.174796</td>\n",
              "      <td>-1.308574</td>\n",
              "      <td>-0.710139</td>\n",
              "      <td>0.627929</td>\n",
              "      <td>0.019775</td>\n",
              "      <td>1.978900</td>\n",
              "    </tr>\n",
              "    <tr>\n",
              "      <th>2</th>\n",
              "      <td>-0.841167</td>\n",
              "      <td>-0.717955</td>\n",
              "      <td>-0.128195</td>\n",
              "      <td>0.506167</td>\n",
              "      <td>0.969507</td>\n",
              "      <td>0.007639</td>\n",
              "      <td>-0.100685</td>\n",
              "      <td>0.723361</td>\n",
              "    </tr>\n",
              "    <tr>\n",
              "      <th>3</th>\n",
              "      <td>-0.841167</td>\n",
              "      <td>0.473330</td>\n",
              "      <td>0.275794</td>\n",
              "      <td>1.820290</td>\n",
              "      <td>1.038064</td>\n",
              "      <td>0.705466</td>\n",
              "      <td>-0.232896</td>\n",
              "      <td>-0.783286</td>\n",
              "    </tr>\n",
              "    <tr>\n",
              "      <th>4</th>\n",
              "      <td>-0.251673</td>\n",
              "      <td>1.598432</td>\n",
              "      <td>-0.229192</td>\n",
              "      <td>1.006785</td>\n",
              "      <td>1.218026</td>\n",
              "      <td>0.330707</td>\n",
              "      <td>-0.359232</td>\n",
              "      <td>-0.281070</td>\n",
              "    </tr>\n",
              "  </tbody>\n",
              "</table>\n",
              "</div>"
            ],
            "text/plain": [
              "   Pregnancies   Glucose  ...  DiabetesPedigreeFunction       Age\n",
              "0    -0.546420 -0.519408  ...                  2.708083  0.053740\n",
              "1     1.222064 -0.883411  ...                  0.019775  1.978900\n",
              "2    -0.841167 -0.717955  ...                 -0.100685  0.723361\n",
              "3    -0.841167  0.473330  ...                 -0.232896 -0.783286\n",
              "4    -0.251673  1.598432  ...                 -0.359232 -0.281070\n",
              "\n",
              "[5 rows x 8 columns]"
            ]
          },
          "metadata": {},
          "execution_count": 25
        }
      ]
    },
    {
      "cell_type": "code",
      "metadata": {
        "colab": {
          "base_uri": "https://localhost:8080/",
          "height": 226
        },
        "id": "8A-MKBubxoE-",
        "outputId": "5810e862-92cc-404a-98aa-a71a195a6ce2"
      },
      "source": [
        "pd.DataFrame(X_test_scaled, columns = X_test.columns).head()"
      ],
      "execution_count": null,
      "outputs": [
        {
          "output_type": "execute_result",
          "data": {
            "text/html": [
              "<div>\n",
              "<style scoped>\n",
              "    .dataframe tbody tr th:only-of-type {\n",
              "        vertical-align: middle;\n",
              "    }\n",
              "\n",
              "    .dataframe tbody tr th {\n",
              "        vertical-align: top;\n",
              "    }\n",
              "\n",
              "    .dataframe thead th {\n",
              "        text-align: right;\n",
              "    }\n",
              "</style>\n",
              "<table border=\"1\" class=\"dataframe\">\n",
              "  <thead>\n",
              "    <tr style=\"text-align: right;\">\n",
              "      <th></th>\n",
              "      <th>Pregnancies</th>\n",
              "      <th>Glucose</th>\n",
              "      <th>BloodPressure</th>\n",
              "      <th>SkinThickness</th>\n",
              "      <th>Insulin</th>\n",
              "      <th>BMI</th>\n",
              "      <th>DiabetesPedigreeFunction</th>\n",
              "      <th>Age</th>\n",
              "    </tr>\n",
              "  </thead>\n",
              "  <tbody>\n",
              "    <tr>\n",
              "      <th>0</th>\n",
              "      <td>-0.841167</td>\n",
              "      <td>2.359531</td>\n",
              "      <td>-0.936173</td>\n",
              "      <td>-0.307338</td>\n",
              "      <td>2.503468</td>\n",
              "      <td>-0.780647</td>\n",
              "      <td>0.519242</td>\n",
              "      <td>-0.783286</td>\n",
              "    </tr>\n",
              "    <tr>\n",
              "      <th>1</th>\n",
              "      <td>-1.135914</td>\n",
              "      <td>1.830071</td>\n",
              "      <td>-0.431187</td>\n",
              "      <td>0.506167</td>\n",
              "      <td>3.386139</td>\n",
              "      <td>0.343630</td>\n",
              "      <td>1.744405</td>\n",
              "      <td>-1.034394</td>\n",
              "    </tr>\n",
              "    <tr>\n",
              "      <th>2</th>\n",
              "      <td>-0.841167</td>\n",
              "      <td>-0.817229</td>\n",
              "      <td>0.073799</td>\n",
              "      <td>-0.369915</td>\n",
              "      <td>-0.710139</td>\n",
              "      <td>-1.775696</td>\n",
              "      <td>-0.973283</td>\n",
              "      <td>-1.034394</td>\n",
              "    </tr>\n",
              "    <tr>\n",
              "      <th>3</th>\n",
              "      <td>0.043075</td>\n",
              "      <td>1.697706</td>\n",
              "      <td>0.073799</td>\n",
              "      <td>-0.432492</td>\n",
              "      <td>0.729557</td>\n",
              "      <td>-0.289583</td>\n",
              "      <td>-0.344542</td>\n",
              "      <td>-0.029963</td>\n",
              "    </tr>\n",
              "    <tr>\n",
              "      <th>4</th>\n",
              "      <td>-0.251673</td>\n",
              "      <td>0.274782</td>\n",
              "      <td>0.477788</td>\n",
              "      <td>0.130703</td>\n",
              "      <td>-0.033139</td>\n",
              "      <td>-0.457579</td>\n",
              "      <td>-0.456188</td>\n",
              "      <td>0.053740</td>\n",
              "    </tr>\n",
              "  </tbody>\n",
              "</table>\n",
              "</div>"
            ],
            "text/plain": [
              "   Pregnancies   Glucose  ...  DiabetesPedigreeFunction       Age\n",
              "0    -0.841167  2.359531  ...                  0.519242 -0.783286\n",
              "1    -1.135914  1.830071  ...                  1.744405 -1.034394\n",
              "2    -0.841167 -0.817229  ...                 -0.973283 -1.034394\n",
              "3     0.043075  1.697706  ...                 -0.344542 -0.029963\n",
              "4    -0.251673  0.274782  ...                 -0.456188  0.053740\n",
              "\n",
              "[5 rows x 8 columns]"
            ]
          },
          "metadata": {},
          "execution_count": 26
        }
      ]
    },
    {
      "cell_type": "code",
      "metadata": {
        "id": "wNxVkhXUxtuF"
      },
      "source": [
        "from sklearn.svm import SVC\n",
        "\n",
        "model = SVC(random_state = 2022)\n",
        "model.fit(X_train_scaled, y_train)\n",
        "predictions = model.predict(X_test_scaled)"
      ],
      "execution_count": null,
      "outputs": []
    },
    {
      "cell_type": "code",
      "metadata": {
        "colab": {
          "base_uri": "https://localhost:8080/"
        },
        "id": "90WigOAbx9iF",
        "outputId": "a6ee3688-bce8-43c1-a31e-5a8092eb8eec"
      },
      "source": [
        "round(model.score(X_train_scaled, y_train) * 100, 2)"
      ],
      "execution_count": null,
      "outputs": [
        {
          "output_type": "execute_result",
          "data": {
            "text/plain": [
              "83.42"
            ]
          },
          "metadata": {},
          "execution_count": 36
        }
      ]
    },
    {
      "cell_type": "code",
      "metadata": {
        "id": "kGXO9T49yBzX"
      },
      "source": [
        "output = pd.DataFrame({'idx' : y_test.index, 'Outcome' : predictions})"
      ],
      "execution_count": null,
      "outputs": []
    },
    {
      "cell_type": "code",
      "metadata": {
        "id": "8QArTsB7yw0_"
      },
      "source": [
        "output.to_csv('21312.csv', index = False)"
      ],
      "execution_count": null,
      "outputs": []
    },
    {
      "cell_type": "code",
      "metadata": {
        "colab": {
          "base_uri": "https://localhost:8080/"
        },
        "id": "Uf04EZ51yWbG",
        "outputId": "8f0224e2-aa4c-4d33-b4da-f728ac15cefd"
      },
      "source": [
        "round(model.score(X_test_scaled, y_test) * 100, 2) # 60점대로 낮은 정확도를 보여줌"
      ],
      "execution_count": null,
      "outputs": [
        {
          "output_type": "execute_result",
          "data": {
            "text/plain": [
              "76.62"
            ]
          },
          "metadata": {},
          "execution_count": 37
        }
      ]
    },
    {
      "cell_type": "code",
      "metadata": {
        "id": "lTsDlYwmyblP"
      },
      "source": [
        ""
      ],
      "execution_count": null,
      "outputs": []
    }
  ]
}