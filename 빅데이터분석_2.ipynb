{
  "nbformat": 4,
  "nbformat_minor": 0,
  "metadata": {
    "colab": {
      "name": "빅데이터분석_2",
      "provenance": [],
      "collapsed_sections": [],
      "authorship_tag": "ABX9TyNFalpETsukeWUiOV8Be+Lf",
      "include_colab_link": true
    },
    "kernelspec": {
      "name": "python3",
      "display_name": "Python 3"
    },
    "language_info": {
      "name": "python"
    }
  },
  "cells": [
    {
      "cell_type": "markdown",
      "metadata": {
        "id": "view-in-github",
        "colab_type": "text"
      },
      "source": [
        "<a href=\"https://colab.research.google.com/github/ejrtks1020/Bigdata_Analysis_Certification/blob/main/%EB%B9%85%EB%8D%B0%EC%9D%B4%ED%84%B0%EB%B6%84%EC%84%9D_2.ipynb\" target=\"_parent\"><img src=\"https://colab.research.google.com/assets/colab-badge.svg\" alt=\"Open In Colab\"/></a>"
      ]
    },
    {
      "cell_type": "code",
      "metadata": {
        "id": "hw7pSRaquHgR"
      },
      "source": [
        "import pandas as pd"
      ],
      "execution_count": null,
      "outputs": []
    },
    {
      "cell_type": "code",
      "metadata": {
        "id": "T60UzkNyuPub",
        "colab": {
          "base_uri": "https://localhost:8080/",
          "height": 385
        },
        "outputId": "e9b6852f-836f-492b-badf-f6151403c934"
      },
      "source": [
        "df = pd.read_csv('Ex_CEOSalary.csv')"
      ],
      "execution_count": null,
      "outputs": [
        {
          "output_type": "error",
          "ename": "FileNotFoundError",
          "evalue": "ignored",
          "traceback": [
            "\u001b[0;31m---------------------------------------------------------------------------\u001b[0m",
            "\u001b[0;31mFileNotFoundError\u001b[0m                         Traceback (most recent call last)",
            "\u001b[0;32m<ipython-input-2-8db29ee6c08d>\u001b[0m in \u001b[0;36m<module>\u001b[0;34m()\u001b[0m\n\u001b[0;32m----> 1\u001b[0;31m \u001b[0mdf\u001b[0m \u001b[0;34m=\u001b[0m \u001b[0mpd\u001b[0m\u001b[0;34m.\u001b[0m\u001b[0mread_csv\u001b[0m\u001b[0;34m(\u001b[0m\u001b[0;34m'Ex_CEOSalary.csv'\u001b[0m\u001b[0;34m)\u001b[0m\u001b[0;34m\u001b[0m\u001b[0;34m\u001b[0m\u001b[0m\n\u001b[0m",
            "\u001b[0;32m/usr/local/lib/python3.7/dist-packages/pandas/io/parsers.py\u001b[0m in \u001b[0;36mread_csv\u001b[0;34m(filepath_or_buffer, sep, delimiter, header, names, index_col, usecols, squeeze, prefix, mangle_dupe_cols, dtype, engine, converters, true_values, false_values, skipinitialspace, skiprows, skipfooter, nrows, na_values, keep_default_na, na_filter, verbose, skip_blank_lines, parse_dates, infer_datetime_format, keep_date_col, date_parser, dayfirst, cache_dates, iterator, chunksize, compression, thousands, decimal, lineterminator, quotechar, quoting, doublequote, escapechar, comment, encoding, dialect, error_bad_lines, warn_bad_lines, delim_whitespace, low_memory, memory_map, float_precision)\u001b[0m\n\u001b[1;32m    686\u001b[0m     )\n\u001b[1;32m    687\u001b[0m \u001b[0;34m\u001b[0m\u001b[0m\n\u001b[0;32m--> 688\u001b[0;31m     \u001b[0;32mreturn\u001b[0m \u001b[0m_read\u001b[0m\u001b[0;34m(\u001b[0m\u001b[0mfilepath_or_buffer\u001b[0m\u001b[0;34m,\u001b[0m \u001b[0mkwds\u001b[0m\u001b[0;34m)\u001b[0m\u001b[0;34m\u001b[0m\u001b[0;34m\u001b[0m\u001b[0m\n\u001b[0m\u001b[1;32m    689\u001b[0m \u001b[0;34m\u001b[0m\u001b[0m\n\u001b[1;32m    690\u001b[0m \u001b[0;34m\u001b[0m\u001b[0m\n",
            "\u001b[0;32m/usr/local/lib/python3.7/dist-packages/pandas/io/parsers.py\u001b[0m in \u001b[0;36m_read\u001b[0;34m(filepath_or_buffer, kwds)\u001b[0m\n\u001b[1;32m    452\u001b[0m \u001b[0;34m\u001b[0m\u001b[0m\n\u001b[1;32m    453\u001b[0m     \u001b[0;31m# Create the parser.\u001b[0m\u001b[0;34m\u001b[0m\u001b[0;34m\u001b[0m\u001b[0;34m\u001b[0m\u001b[0m\n\u001b[0;32m--> 454\u001b[0;31m     \u001b[0mparser\u001b[0m \u001b[0;34m=\u001b[0m \u001b[0mTextFileReader\u001b[0m\u001b[0;34m(\u001b[0m\u001b[0mfp_or_buf\u001b[0m\u001b[0;34m,\u001b[0m \u001b[0;34m**\u001b[0m\u001b[0mkwds\u001b[0m\u001b[0;34m)\u001b[0m\u001b[0;34m\u001b[0m\u001b[0;34m\u001b[0m\u001b[0m\n\u001b[0m\u001b[1;32m    455\u001b[0m \u001b[0;34m\u001b[0m\u001b[0m\n\u001b[1;32m    456\u001b[0m     \u001b[0;32mif\u001b[0m \u001b[0mchunksize\u001b[0m \u001b[0;32mor\u001b[0m \u001b[0miterator\u001b[0m\u001b[0;34m:\u001b[0m\u001b[0;34m\u001b[0m\u001b[0;34m\u001b[0m\u001b[0m\n",
            "\u001b[0;32m/usr/local/lib/python3.7/dist-packages/pandas/io/parsers.py\u001b[0m in \u001b[0;36m__init__\u001b[0;34m(self, f, engine, **kwds)\u001b[0m\n\u001b[1;32m    946\u001b[0m             \u001b[0mself\u001b[0m\u001b[0;34m.\u001b[0m\u001b[0moptions\u001b[0m\u001b[0;34m[\u001b[0m\u001b[0;34m\"has_index_names\"\u001b[0m\u001b[0;34m]\u001b[0m \u001b[0;34m=\u001b[0m \u001b[0mkwds\u001b[0m\u001b[0;34m[\u001b[0m\u001b[0;34m\"has_index_names\"\u001b[0m\u001b[0;34m]\u001b[0m\u001b[0;34m\u001b[0m\u001b[0;34m\u001b[0m\u001b[0m\n\u001b[1;32m    947\u001b[0m \u001b[0;34m\u001b[0m\u001b[0m\n\u001b[0;32m--> 948\u001b[0;31m         \u001b[0mself\u001b[0m\u001b[0;34m.\u001b[0m\u001b[0m_make_engine\u001b[0m\u001b[0;34m(\u001b[0m\u001b[0mself\u001b[0m\u001b[0;34m.\u001b[0m\u001b[0mengine\u001b[0m\u001b[0;34m)\u001b[0m\u001b[0;34m\u001b[0m\u001b[0;34m\u001b[0m\u001b[0m\n\u001b[0m\u001b[1;32m    949\u001b[0m \u001b[0;34m\u001b[0m\u001b[0m\n\u001b[1;32m    950\u001b[0m     \u001b[0;32mdef\u001b[0m \u001b[0mclose\u001b[0m\u001b[0;34m(\u001b[0m\u001b[0mself\u001b[0m\u001b[0;34m)\u001b[0m\u001b[0;34m:\u001b[0m\u001b[0;34m\u001b[0m\u001b[0;34m\u001b[0m\u001b[0m\n",
            "\u001b[0;32m/usr/local/lib/python3.7/dist-packages/pandas/io/parsers.py\u001b[0m in \u001b[0;36m_make_engine\u001b[0;34m(self, engine)\u001b[0m\n\u001b[1;32m   1178\u001b[0m     \u001b[0;32mdef\u001b[0m \u001b[0m_make_engine\u001b[0m\u001b[0;34m(\u001b[0m\u001b[0mself\u001b[0m\u001b[0;34m,\u001b[0m \u001b[0mengine\u001b[0m\u001b[0;34m=\u001b[0m\u001b[0;34m\"c\"\u001b[0m\u001b[0;34m)\u001b[0m\u001b[0;34m:\u001b[0m\u001b[0;34m\u001b[0m\u001b[0;34m\u001b[0m\u001b[0m\n\u001b[1;32m   1179\u001b[0m         \u001b[0;32mif\u001b[0m \u001b[0mengine\u001b[0m \u001b[0;34m==\u001b[0m \u001b[0;34m\"c\"\u001b[0m\u001b[0;34m:\u001b[0m\u001b[0;34m\u001b[0m\u001b[0;34m\u001b[0m\u001b[0m\n\u001b[0;32m-> 1180\u001b[0;31m             \u001b[0mself\u001b[0m\u001b[0;34m.\u001b[0m\u001b[0m_engine\u001b[0m \u001b[0;34m=\u001b[0m \u001b[0mCParserWrapper\u001b[0m\u001b[0;34m(\u001b[0m\u001b[0mself\u001b[0m\u001b[0;34m.\u001b[0m\u001b[0mf\u001b[0m\u001b[0;34m,\u001b[0m \u001b[0;34m**\u001b[0m\u001b[0mself\u001b[0m\u001b[0;34m.\u001b[0m\u001b[0moptions\u001b[0m\u001b[0;34m)\u001b[0m\u001b[0;34m\u001b[0m\u001b[0;34m\u001b[0m\u001b[0m\n\u001b[0m\u001b[1;32m   1181\u001b[0m         \u001b[0;32melse\u001b[0m\u001b[0;34m:\u001b[0m\u001b[0;34m\u001b[0m\u001b[0;34m\u001b[0m\u001b[0m\n\u001b[1;32m   1182\u001b[0m             \u001b[0;32mif\u001b[0m \u001b[0mengine\u001b[0m \u001b[0;34m==\u001b[0m \u001b[0;34m\"python\"\u001b[0m\u001b[0;34m:\u001b[0m\u001b[0;34m\u001b[0m\u001b[0;34m\u001b[0m\u001b[0m\n",
            "\u001b[0;32m/usr/local/lib/python3.7/dist-packages/pandas/io/parsers.py\u001b[0m in \u001b[0;36m__init__\u001b[0;34m(self, src, **kwds)\u001b[0m\n\u001b[1;32m   2008\u001b[0m         \u001b[0mkwds\u001b[0m\u001b[0;34m[\u001b[0m\u001b[0;34m\"usecols\"\u001b[0m\u001b[0;34m]\u001b[0m \u001b[0;34m=\u001b[0m \u001b[0mself\u001b[0m\u001b[0;34m.\u001b[0m\u001b[0musecols\u001b[0m\u001b[0;34m\u001b[0m\u001b[0;34m\u001b[0m\u001b[0m\n\u001b[1;32m   2009\u001b[0m \u001b[0;34m\u001b[0m\u001b[0m\n\u001b[0;32m-> 2010\u001b[0;31m         \u001b[0mself\u001b[0m\u001b[0;34m.\u001b[0m\u001b[0m_reader\u001b[0m \u001b[0;34m=\u001b[0m \u001b[0mparsers\u001b[0m\u001b[0;34m.\u001b[0m\u001b[0mTextReader\u001b[0m\u001b[0;34m(\u001b[0m\u001b[0msrc\u001b[0m\u001b[0;34m,\u001b[0m \u001b[0;34m**\u001b[0m\u001b[0mkwds\u001b[0m\u001b[0;34m)\u001b[0m\u001b[0;34m\u001b[0m\u001b[0;34m\u001b[0m\u001b[0m\n\u001b[0m\u001b[1;32m   2011\u001b[0m         \u001b[0mself\u001b[0m\u001b[0;34m.\u001b[0m\u001b[0munnamed_cols\u001b[0m \u001b[0;34m=\u001b[0m \u001b[0mself\u001b[0m\u001b[0;34m.\u001b[0m\u001b[0m_reader\u001b[0m\u001b[0;34m.\u001b[0m\u001b[0munnamed_cols\u001b[0m\u001b[0;34m\u001b[0m\u001b[0;34m\u001b[0m\u001b[0m\n\u001b[1;32m   2012\u001b[0m \u001b[0;34m\u001b[0m\u001b[0m\n",
            "\u001b[0;32mpandas/_libs/parsers.pyx\u001b[0m in \u001b[0;36mpandas._libs.parsers.TextReader.__cinit__\u001b[0;34m()\u001b[0m\n",
            "\u001b[0;32mpandas/_libs/parsers.pyx\u001b[0m in \u001b[0;36mpandas._libs.parsers.TextReader._setup_parser_source\u001b[0;34m()\u001b[0m\n",
            "\u001b[0;31mFileNotFoundError\u001b[0m: [Errno 2] No such file or directory: 'Ex_CEOSalary.csv'"
          ]
        }
      ]
    },
    {
      "cell_type": "code",
      "metadata": {
        "id": "B2IWwjEtuUeS"
      },
      "source": [
        "df.info()"
      ],
      "execution_count": null,
      "outputs": []
    },
    {
      "cell_type": "code",
      "metadata": {
        "id": "G5xAK3vCuVhR"
      },
      "source": [
        "df['industry'].value_counts()"
      ],
      "execution_count": null,
      "outputs": []
    },
    {
      "cell_type": "code",
      "metadata": {
        "id": "pf4a3-m1uccy"
      },
      "source": [
        "df['industry'] = df['industry'].replace([1,2,3,4], ['Service', 'IT', 'Finance', 'Others'])"
      ],
      "execution_count": null,
      "outputs": []
    },
    {
      "cell_type": "code",
      "metadata": {
        "id": "yPRVKqlGuujZ"
      },
      "source": [
        "df['industry'].value_counts()"
      ],
      "execution_count": null,
      "outputs": []
    },
    {
      "cell_type": "code",
      "metadata": {
        "id": "VTPs_B3euxy5"
      },
      "source": [
        "%matplotlib inline\n",
        "df['industry'].value_counts().plot(kind = 'pie');"
      ],
      "execution_count": null,
      "outputs": []
    },
    {
      "cell_type": "code",
      "metadata": {
        "id": "jTKlfOQUvB05"
      },
      "source": [
        "df['industry'].value_counts().plot(kind = 'bar');"
      ],
      "execution_count": null,
      "outputs": []
    },
    {
      "cell_type": "code",
      "metadata": {
        "id": "jvAxeTEEvJ-S"
      },
      "source": [
        "df.describe()"
      ],
      "execution_count": null,
      "outputs": []
    },
    {
      "cell_type": "code",
      "metadata": {
        "id": "F-PqIpmdvXVy"
      },
      "source": [
        "df.skew()"
      ],
      "execution_count": null,
      "outputs": []
    },
    {
      "cell_type": "code",
      "metadata": {
        "id": "-Q06ug-rJ4vY"
      },
      "source": [
        "df['salary'].plot(kind = 'kde')"
      ],
      "execution_count": null,
      "outputs": []
    },
    {
      "cell_type": "code",
      "metadata": {
        "id": "fLBCEJP8J-ep"
      },
      "source": [
        "df.kurtosis()"
      ],
      "execution_count": null,
      "outputs": []
    },
    {
      "cell_type": "code",
      "metadata": {
        "id": "PKVwCRyxKTfR"
      },
      "source": [
        "df['salary'].idxmax()"
      ],
      "execution_count": null,
      "outputs": []
    },
    {
      "cell_type": "code",
      "metadata": {
        "id": "bc_uMJZaKvdp"
      },
      "source": [
        "df.loc[173]"
      ],
      "execution_count": null,
      "outputs": []
    },
    {
      "cell_type": "code",
      "metadata": {
        "id": "cTzjxxQhK36C"
      },
      "source": [
        "df['salary'].std()"
      ],
      "execution_count": null,
      "outputs": []
    },
    {
      "cell_type": "code",
      "metadata": {
        "id": "Nlv-QzTHLGg5"
      },
      "source": [
        "df['salary'].hist()"
      ],
      "execution_count": null,
      "outputs": []
    },
    {
      "cell_type": "code",
      "metadata": {
        "id": "IavievIALUup"
      },
      "source": [
        "import matplotlib.pyplot as plt\n",
        "\n",
        "df.hist(bins = 50 , figsize = (20, 15));"
      ],
      "execution_count": null,
      "outputs": []
    },
    {
      "cell_type": "code",
      "metadata": {
        "id": "bmT-lN1tLkf5"
      },
      "source": [
        "df['salary'].hist(bins = 50, figsize = (10 , 8))"
      ],
      "execution_count": null,
      "outputs": []
    },
    {
      "cell_type": "code",
      "metadata": {
        "id": "mJ4W9aPyL2zx"
      },
      "source": [
        "df['sales'].hist(bins = 50, figsize = (10 , 8));"
      ],
      "execution_count": null,
      "outputs": []
    },
    {
      "cell_type": "code",
      "metadata": {
        "id": "2Es3xw9LMDYC"
      },
      "source": [
        "plt.scatter(df['sales'], df['salary'], alpha = 0.5)\n",
        "plt.show()"
      ],
      "execution_count": null,
      "outputs": []
    },
    {
      "cell_type": "code",
      "metadata": {
        "id": "emvO5UfqMzSy"
      },
      "source": [
        "plt.scatter(df['roe'], df['salary'], alpha = 0.5)\n",
        "plt.show()"
      ],
      "execution_count": null,
      "outputs": []
    },
    {
      "cell_type": "code",
      "metadata": {
        "id": "1xU10bWbNBao"
      },
      "source": [
        "df.groupby('industry')[['salary']].describe()"
      ],
      "execution_count": null,
      "outputs": []
    },
    {
      "cell_type": "code",
      "metadata": {
        "id": "tivHeIsMvVgR"
      },
      "source": [
        "df.boxplot(column = 'salary', return_type='both');"
      ],
      "execution_count": null,
      "outputs": []
    },
    {
      "cell_type": "code",
      "metadata": {
        "id": "IlsSAyF3vz65"
      },
      "source": [
        "df.boxplot(column = 'sales', return_type = 'both');"
      ],
      "execution_count": null,
      "outputs": []
    },
    {
      "cell_type": "code",
      "metadata": {
        "id": "PQ3wv9UgwNmB"
      },
      "source": [
        "df.boxplot(column = 'roe', return_type = 'both');"
      ],
      "execution_count": null,
      "outputs": []
    },
    {
      "cell_type": "code",
      "metadata": {
        "id": "0AGK53tjx2bp"
      },
      "source": [
        "Q3_salary = df['salary'].quantile(q = 0.75)\n",
        "Q1_salary = df['salary'].quantile(q = 0.25)\n",
        "IQR = Q3_salary - Q1_salary\n",
        "\n",
        "upper_salary = Q3_salary + 1.5 * IQR\n",
        "lower_salary = Q1_salary - 1.5 * IQR"
      ],
      "execution_count": null,
      "outputs": []
    },
    {
      "cell_type": "code",
      "metadata": {
        "id": "YLzphPbqyvg5"
      },
      "source": [
        "df = df[ (df['salary'] < upper_salary) & (df['salary'] > lower_salary)]"
      ],
      "execution_count": null,
      "outputs": []
    },
    {
      "cell_type": "code",
      "metadata": {
        "id": "7skH2n26y_Hw"
      },
      "source": [
        "df['salary'].hist();"
      ],
      "execution_count": null,
      "outputs": []
    },
    {
      "cell_type": "code",
      "metadata": {
        "id": "F9u1-w4ZzK1Z"
      },
      "source": [
        "df.hist(bins = 50 , figsize = (20, 15));"
      ],
      "execution_count": null,
      "outputs": []
    },
    {
      "cell_type": "code",
      "metadata": {
        "id": "lCCDfpOzzNxJ"
      },
      "source": [
        "df.corr()"
      ],
      "execution_count": null,
      "outputs": []
    },
    {
      "cell_type": "code",
      "metadata": {
        "id": "YYjaaPg6zlyh"
      },
      "source": [
        "plt.scatter(df['sales'], df['salary'], alpha = 0.5);"
      ],
      "execution_count": null,
      "outputs": []
    },
    {
      "cell_type": "markdown",
      "metadata": {
        "id": "K88pBKymz-3j"
      },
      "source": [
        "다음은 roe와 salary간의 산점도이다. salary중 큰값들이 제거되어 골고루 분포되어 있는 양상을 보인다."
      ]
    },
    {
      "cell_type": "code",
      "metadata": {
        "id": "rKGXLFO9z0MK"
      },
      "source": [
        "plt.scatter(df['roe'], df['salary'], alpha = 0.5);"
      ],
      "execution_count": null,
      "outputs": []
    },
    {
      "cell_type": "code",
      "metadata": {
        "id": "LVE3nA4pz9FG"
      },
      "source": [
        "df = pd.read_csv('Ex_CEOSalary.csv')"
      ],
      "execution_count": null,
      "outputs": []
    },
    {
      "cell_type": "code",
      "metadata": {
        "id": "6pwyFuWp0qCP"
      },
      "source": [
        "Q3_sales = df['sales'].quantile(q = 0.75)\n",
        "Q1_sales = df['sales'].quantile(q = 0.25)\n",
        "\n",
        "IQR_sales= Q3_sales - Q1_sales\n",
        "upper_sales = Q3_sales + 1.5 * IQR_sales\n",
        "lower_sales = Q1_sales - 1.5 * IQR_sales"
      ],
      "execution_count": null,
      "outputs": []
    },
    {
      "cell_type": "code",
      "metadata": {
        "id": "FUC2h81B1IqY"
      },
      "source": [
        "df_IQR = df[ ((df['sales'] < upper_sales) & (df['sales'] > lower_sales)) &\n",
        "            ((df['salary'] < upper_salary) & (df['salary'] > lower_salary))]"
      ],
      "execution_count": null,
      "outputs": []
    },
    {
      "cell_type": "code",
      "metadata": {
        "id": "miwLnG2k13Fb"
      },
      "source": [
        "df_IQR['sales'].hist();"
      ],
      "execution_count": null,
      "outputs": []
    },
    {
      "cell_type": "code",
      "metadata": {
        "id": "_nBW5ppQ17kq"
      },
      "source": [
        "df_IQR.hist(bins = 50, figsize = (10, 7));"
      ],
      "execution_count": null,
      "outputs": []
    },
    {
      "cell_type": "code",
      "metadata": {
        "id": "cp0-P__r1__A"
      },
      "source": [
        "df_IQR.corr()"
      ],
      "execution_count": null,
      "outputs": []
    },
    {
      "cell_type": "markdown",
      "metadata": {
        "id": "9LnGTYdu231n"
      },
      "source": [
        "#4. 변수 변환\n",
        "\n",
        "> 들여쓴 블록\n",
        "\n"
      ]
    },
    {
      "cell_type": "markdown",
      "metadata": {
        "id": "3ogEuQ7S2_gB"
      },
      "source": [
        "##4.1 로그변환"
      ]
    },
    {
      "cell_type": "code",
      "metadata": {
        "id": "n54ryiHl2j7j"
      },
      "source": [
        "import numpy as np"
      ],
      "execution_count": null,
      "outputs": []
    },
    {
      "cell_type": "code",
      "metadata": {
        "id": "nKehFWcM3ZHA"
      },
      "source": [
        "df['log_salary'] = np.log1p(df['salary'])\n",
        "df['log_sales'] = np.log1p(df['sales'])\n",
        "df['log_roe'] = np.log1p(df['roe'])\n",
        "\n",
        "df.head()"
      ],
      "execution_count": null,
      "outputs": []
    },
    {
      "cell_type": "markdown",
      "metadata": {
        "id": "oqRjrq3235ho"
      },
      "source": [
        "원데이터와 로그변환데이터를 비교해 보면 아주 쉽게 이상치 값이 중앙으로 이동한 것을 확인 할 수 있다."
      ]
    },
    {
      "cell_type": "code",
      "metadata": {
        "id": "SckmWIA63p2J"
      },
      "source": [
        "df.hist(bins = 50, figsize = (10, 8));"
      ],
      "execution_count": null,
      "outputs": []
    },
    {
      "cell_type": "markdown",
      "metadata": {
        "id": "v9HGqjeP4j_Q"
      },
      "source": [
        "상관계수가 0.11, 0.12 에서 0.46, 0.18로 향상되었다."
      ]
    },
    {
      "cell_type": "code",
      "metadata": {
        "id": "FQxvfE5U3y-A"
      },
      "source": [
        "df.corr()"
      ],
      "execution_count": null,
      "outputs": []
    },
    {
      "cell_type": "markdown",
      "metadata": {
        "id": "aIqNUy_H4ioc"
      },
      "source": [
        "##4.2 제곱근 변환"
      ]
    },
    {
      "cell_type": "code",
      "metadata": {
        "id": "ow368cPJ4Jnp"
      },
      "source": [
        "df['sqrt_salary'] = np.sqrt(df['salary'])\n",
        "df['sqrt_sales'] = np.sqrt(df['sales'])\n",
        "df['sqrt_roe'] = np.sqrt(df['roe'])\n",
        "\n",
        "df.head()"
      ],
      "execution_count": null,
      "outputs": []
    },
    {
      "cell_type": "code",
      "metadata": {
        "id": "rZh50tnw47SR"
      },
      "source": [
        "df.hist(bins = 50, figsize = (10, 8));"
      ],
      "execution_count": null,
      "outputs": []
    },
    {
      "cell_type": "code",
      "metadata": {
        "id": "xe-YgC595VEC"
      },
      "source": [
        "df.corr()"
      ],
      "execution_count": null,
      "outputs": []
    },
    {
      "cell_type": "markdown",
      "metadata": {
        "id": "sghTzMrgl5kK"
      },
      "source": [
        "#5. 결측치 처리"
      ]
    },
    {
      "cell_type": "markdown",
      "metadata": {
        "id": "Bnp8kiHDmAF4"
      },
      "source": [
        "##5.1 결측치 확인"
      ]
    },
    {
      "cell_type": "markdown",
      "metadata": {
        "id": "jpwLk-ySmgWQ"
      },
      "source": [
        "###가. 전체 및 변수별 결측 확인"
      ]
    },
    {
      "cell_type": "code",
      "metadata": {
        "id": "K1FWg5Ix5phw"
      },
      "source": [
        "df = pd.read_csv('Ex_Missing.csv')"
      ],
      "execution_count": null,
      "outputs": []
    },
    {
      "cell_type": "code",
      "metadata": {
        "id": "2Nk4eWaYlqxa"
      },
      "source": [
        "df"
      ],
      "execution_count": null,
      "outputs": []
    },
    {
      "cell_type": "code",
      "metadata": {
        "id": "AG8Sj3e1lr7K"
      },
      "source": [
        "df.isnull()"
      ],
      "execution_count": null,
      "outputs": []
    },
    {
      "cell_type": "code",
      "metadata": {
        "id": "FMPSaBwxl06B"
      },
      "source": [
        "pd.isnull(df)"
      ],
      "execution_count": null,
      "outputs": []
    },
    {
      "cell_type": "code",
      "metadata": {
        "id": "nDqsQdZJl3DL"
      },
      "source": [
        "df.notnull()"
      ],
      "execution_count": null,
      "outputs": []
    },
    {
      "cell_type": "code",
      "metadata": {
        "id": "pYClghRxmHuZ"
      },
      "source": [
        "pd.notnull(df)"
      ],
      "execution_count": null,
      "outputs": []
    },
    {
      "cell_type": "code",
      "metadata": {
        "id": "SGBk4KU0mJi0"
      },
      "source": [
        "df.isnull().sum()"
      ],
      "execution_count": null,
      "outputs": []
    },
    {
      "cell_type": "code",
      "metadata": {
        "id": "7Kv1oWjUmNw5"
      },
      "source": [
        "df['salary'].isnull().sum()"
      ],
      "execution_count": null,
      "outputs": []
    },
    {
      "cell_type": "code",
      "metadata": {
        "id": "hlhqi5NSmR-p"
      },
      "source": [
        "df.notnull().sum()"
      ],
      "execution_count": null,
      "outputs": []
    },
    {
      "cell_type": "code",
      "metadata": {
        "id": "dWeruypKmXYK"
      },
      "source": [
        "df['salary'].notnull().sum()"
      ],
      "execution_count": null,
      "outputs": []
    },
    {
      "cell_type": "markdown",
      "metadata": {
        "id": "fBIRK8GZmlW2"
      },
      "source": [
        "###나. 행별 결측 확인 및 저장"
      ]
    },
    {
      "cell_type": "code",
      "metadata": {
        "id": "fAZJtIRmmbOi"
      },
      "source": [
        "df.isnull().sum(1)"
      ],
      "execution_count": null,
      "outputs": []
    },
    {
      "cell_type": "markdown",
      "metadata": {
        "id": "dQu1dW5rnMvF"
      },
      "source": [
        "* 행 단위 결측값 개수 구해서 새 변수 생성"
      ]
    },
    {
      "cell_type": "code",
      "metadata": {
        "id": "S6SDoClsm0yA"
      },
      "source": [
        "df['missing'] = df.isnull().sum(1)"
      ],
      "execution_count": null,
      "outputs": []
    },
    {
      "cell_type": "code",
      "metadata": {
        "id": "G8MzBi-LnUHY"
      },
      "source": [
        "df"
      ],
      "execution_count": null,
      "outputs": []
    },
    {
      "cell_type": "markdown",
      "metadata": {
        "id": "QUxNpD5qnaKb"
      },
      "source": [
        "* 행 단위 실측값 개수 구하기"
      ]
    },
    {
      "cell_type": "code",
      "metadata": {
        "id": "5Oalkt5gnW-h"
      },
      "source": [
        "df['valid'] = df.notnull().sum(1)"
      ],
      "execution_count": null,
      "outputs": []
    },
    {
      "cell_type": "code",
      "metadata": {
        "id": "QOupomxpnhfK"
      },
      "source": [
        "df"
      ],
      "execution_count": null,
      "outputs": []
    },
    {
      "cell_type": "markdown",
      "metadata": {
        "id": "LlqLZ1PlnnaY"
      },
      "source": [
        "## 5.2 결측값 제거: dropna()"
      ]
    },
    {
      "cell_type": "markdown",
      "metadata": {
        "id": "Z75WevlMnqzm"
      },
      "source": [
        "###가. 결측값 있는 행 제거"
      ]
    },
    {
      "cell_type": "code",
      "metadata": {
        "id": "l4vzcAHhniDC"
      },
      "source": [
        "df_del_row = df.dropna(axis = 0)\n",
        "df_del_row"
      ],
      "execution_count": null,
      "outputs": []
    },
    {
      "cell_type": "markdown",
      "metadata": {
        "id": "8jypt4uXn0_1"
      },
      "source": [
        "###나. 결측값 있는 열 제거"
      ]
    },
    {
      "cell_type": "code",
      "metadata": {
        "id": "pAkjqeVzny_S"
      },
      "source": [
        "df_del_col = df.dropna(axis = 1)"
      ],
      "execution_count": null,
      "outputs": []
    },
    {
      "cell_type": "code",
      "metadata": {
        "id": "JBGrDTDVof7L"
      },
      "source": [
        "df_del_col"
      ],
      "execution_count": null,
      "outputs": []
    },
    {
      "cell_type": "code",
      "metadata": {
        "id": "WjE8oE23ohRK"
      },
      "source": [
        "df = pd.read_csv('Ex_Missing.csv')"
      ],
      "execution_count": null,
      "outputs": []
    },
    {
      "cell_type": "markdown",
      "metadata": {
        "id": "x1wsc8NLpDcp"
      },
      "source": [
        "###다. 결측값 있는 특정 행/열 제거"
      ]
    },
    {
      "cell_type": "code",
      "metadata": {
        "id": "qGGPKoyuo_Bg"
      },
      "source": [
        "df[['salary']].dropna()"
      ],
      "execution_count": null,
      "outputs": []
    },
    {
      "cell_type": "code",
      "metadata": {
        "id": "YOvqiILHpJPU"
      },
      "source": [
        "df[['salary', 'sales', 'roe', 'industry']].dropna()"
      ],
      "execution_count": null,
      "outputs": []
    },
    {
      "cell_type": "code",
      "metadata": {
        "id": "XI65IFwwpP0K"
      },
      "source": [
        "df[['salary', 'sales', 'roe', 'industry']].dropna(axis = 1)"
      ],
      "execution_count": null,
      "outputs": []
    },
    {
      "cell_type": "markdown",
      "metadata": {
        "id": "T_IukAf0pWpl"
      },
      "source": [
        "## 5.3 결측값 대체\n",
        "* 결측값을 측정 값으로 대체\n",
        "* 결측값을 변수별 평균으로 대체\n",
        "* 결측값을 다른 변수의 값으로 대체\n",
        "* 결측값을 그룹 평균값으로 대체"
      ]
    },
    {
      "cell_type": "markdown",
      "metadata": {
        "id": "HsZXyKeLpgD-"
      },
      "source": [
        "###가. 특정값으로 대체"
      ]
    },
    {
      "cell_type": "code",
      "metadata": {
        "id": "kh-PBHH9pUhS"
      },
      "source": [
        "df = pd.read_csv('Ex_Missing.csv')"
      ],
      "execution_count": null,
      "outputs": []
    },
    {
      "cell_type": "code",
      "metadata": {
        "id": "C1sS7hPAqB6r"
      },
      "source": [
        "data_0 = df.fillna(0)\n",
        "data_0"
      ],
      "execution_count": null,
      "outputs": []
    },
    {
      "cell_type": "code",
      "metadata": {
        "id": "Ken0VXGDqFw1"
      },
      "source": [
        "data_missing = df.fillna('missing')\n",
        "data_missing"
      ],
      "execution_count": null,
      "outputs": []
    },
    {
      "cell_type": "markdown",
      "metadata": {
        "id": "VvN7t260qgx9"
      },
      "source": [
        "* 결측치를 앞쪽 값으로 채우는 방법"
      ]
    },
    {
      "cell_type": "code",
      "metadata": {
        "id": "ImveUgtOqJHR"
      },
      "source": [
        "df_ffill = df.fillna(method = 'ffill')\n",
        "#df_ffill = df.fillna(method = 'pad')"
      ],
      "execution_count": null,
      "outputs": []
    },
    {
      "cell_type": "code",
      "metadata": {
        "id": "iMG1ALGlqvLo"
      },
      "source": [
        "df_ffill"
      ],
      "execution_count": null,
      "outputs": []
    },
    {
      "cell_type": "markdown",
      "metadata": {
        "id": "EW6pPwnbq4jI"
      },
      "source": [
        "* 데이터를 뒤쪽 값으로 채우는 방법"
      ]
    },
    {
      "cell_type": "code",
      "metadata": {
        "id": "FcvhcAhsqxnB"
      },
      "source": [
        "df_bfill = df.fillna(method = 'bfill')\n",
        "#df_ffill = df.fillna(method = 'backfill')\n",
        "df_bfill"
      ],
      "execution_count": null,
      "outputs": []
    },
    {
      "cell_type": "markdown",
      "metadata": {
        "id": "XmCB7wjgrOHv"
      },
      "source": [
        "###평균 대체\n",
        "\n",
        "* df.fillna(df.mean())\n",
        "* df.where(pd.notnull(df), df.mean(), axis = 'columns')"
      ]
    },
    {
      "cell_type": "code",
      "metadata": {
        "id": "-pzbLiMdq_uS"
      },
      "source": [
        "df.where(df.notnull(), df.mean(), axis = 'columns') # condition이 false인곳을 평균값으로 대체"
      ],
      "execution_count": null,
      "outputs": []
    },
    {
      "cell_type": "code",
      "metadata": {
        "id": "X1vXWlmCrXOl"
      },
      "source": [
        "df_mean = df.fillna(df.mean())\n",
        "df_mean"
      ],
      "execution_count": null,
      "outputs": []
    },
    {
      "cell_type": "code",
      "metadata": {
        "id": "0TrIFCEAsA9h"
      },
      "source": [
        "df_median = df.fillna(df.median()) #중위수 대체"
      ],
      "execution_count": null,
      "outputs": []
    },
    {
      "cell_type": "code",
      "metadata": {
        "id": "t2DbDjX4sR9x"
      },
      "source": [
        "df_max = df.fillna(df.max()) #최댓값으로 대체"
      ],
      "execution_count": null,
      "outputs": []
    },
    {
      "cell_type": "code",
      "metadata": {
        "id": "w03DAEbSsXjU"
      },
      "source": [
        "df_other_mean = df.fillna(df['salary'].mean()) #다른변수의 평균값으로 대체"
      ],
      "execution_count": null,
      "outputs": []
    },
    {
      "cell_type": "code",
      "metadata": {
        "id": "0F30zvCqsoDA"
      },
      "source": [
        "df_other_mean"
      ],
      "execution_count": null,
      "outputs": []
    },
    {
      "cell_type": "markdown",
      "metadata": {
        "id": "VYzfGYYYsub-"
      },
      "source": [
        "###다. 다른 변수 값으로 대체"
      ]
    },
    {
      "cell_type": "code",
      "metadata": {
        "id": "KV79ehW1sqTJ"
      },
      "source": [
        "df2 = df.copy()\n",
        "df2['sales_new'] = np.where(pd.notnull(df2['sales']) == True, df2['sales'], df2['salary']) #sales 변수가 결측값이아니면 sales값 그대로, 결측값이면 salary값으로 대체\n",
        "df2"
      ],
      "execution_count": null,
      "outputs": []
    },
    {
      "cell_type": "markdown",
      "metadata": {
        "id": "UNMOWrCXDF64"
      },
      "source": [
        "###라. 집단 평균값으로 대체"
      ]
    },
    {
      "cell_type": "code",
      "metadata": {
        "id": "zbTVR2x9C_9y"
      },
      "source": [
        "df.groupby('industry').mean()"
      ],
      "execution_count": null,
      "outputs": []
    },
    {
      "cell_type": "code",
      "metadata": {
        "id": "odfxT3ssDNfL"
      },
      "source": [
        "fill_mean_func = lambda g : g.fillna(g.mean())"
      ],
      "execution_count": null,
      "outputs": []
    },
    {
      "cell_type": "code",
      "metadata": {
        "id": "g-oSqND3Dkv5"
      },
      "source": [
        "df_group_mean = df.groupby('industry').apply(fill_mean_func)\n",
        "df_group_mean"
      ],
      "execution_count": null,
      "outputs": []
    },
    {
      "cell_type": "markdown",
      "metadata": {
        "id": "QU2P7g2GETB6"
      },
      "source": [
        "집단별로 평균값이 아닌 특정 값으로 대체"
      ]
    },
    {
      "cell_type": "code",
      "metadata": {
        "id": "WZ_ubdzwD-el"
      },
      "source": [
        "fill_values = {1: 1000, 2: 2000}"
      ],
      "execution_count": null,
      "outputs": []
    },
    {
      "cell_type": "code",
      "metadata": {
        "id": "TQL0tyZ8EZ2a"
      },
      "source": [
        "fill_func = lambda d : d.fillna(fill_values[d.name])"
      ],
      "execution_count": null,
      "outputs": []
    },
    {
      "cell_type": "code",
      "metadata": {
        "id": "uVFXKlmjEtfc"
      },
      "source": [
        "df_group_value = df.groupby('industry').apply(fill_func)"
      ],
      "execution_count": null,
      "outputs": []
    },
    {
      "cell_type": "code",
      "metadata": {
        "id": "xeVRaiSiFiw0"
      },
      "source": [
        "df_group_value"
      ],
      "execution_count": null,
      "outputs": []
    },
    {
      "cell_type": "markdown",
      "metadata": {
        "id": "4g7bEd5gFtmw"
      },
      "source": [
        "변수 별로 다른 대체방법 적용"
      ]
    },
    {
      "cell_type": "code",
      "metadata": {
        "id": "npeATT43FkCF"
      },
      "source": [
        "missing_fill_val = {'salary' : df.salary.interpolate(),\n",
        "                    'sales' : df.sales.mean(),\n",
        "                    'roe' : 'missing'} \n",
        "\n",
        "print(missing_fill_val)"
      ],
      "execution_count": null,
      "outputs": []
    },
    {
      "cell_type": "code",
      "metadata": {
        "id": "ScC_JwIQGFdB"
      },
      "source": [
        "df_multi = df.fillna(missing_fill_val)\n",
        "df_multi"
      ],
      "execution_count": null,
      "outputs": []
    },
    {
      "cell_type": "markdown",
      "metadata": {
        "id": "2Vx2K4OD_z0-"
      },
      "source": [
        "#6. 데이터정제 실전과제"
      ]
    },
    {
      "cell_type": "markdown",
      "metadata": {
        "id": "ODNOV9QnAEVW"
      },
      "source": [
        "##6.1 데이터 불러오기 및 탐색"
      ]
    },
    {
      "cell_type": "code",
      "metadata": {
        "id": "nzBp84UeADyA"
      },
      "source": [
        "import pandas as pd\n",
        "df = pd.read_csv('house_raw.csv')\n",
        "df.head()"
      ],
      "execution_count": null,
      "outputs": []
    },
    {
      "cell_type": "code",
      "metadata": {
        "id": "AbS_3FnZAQtR"
      },
      "source": [
        "df.describe()"
      ],
      "execution_count": null,
      "outputs": []
    },
    {
      "cell_type": "code",
      "metadata": {
        "id": "xNx2wpUyAelI"
      },
      "source": [
        "df.hist(bins = 50, figsize = (10, 7));"
      ],
      "execution_count": null,
      "outputs": []
    },
    {
      "cell_type": "markdown",
      "metadata": {
        "id": "sdfhqKC6BJdg"
      },
      "source": [
        "bedrooms, households, rooms의 데이터가 왼쪽에 거의 몰려있음"
      ]
    },
    {
      "cell_type": "markdown",
      "metadata": {
        "id": "vU1BSvnTBPze"
      },
      "source": [
        "##6.2 선형회귀 적용 (정제 전 데이터)"
      ]
    },
    {
      "cell_type": "code",
      "metadata": {
        "id": "n7kbMaccAzCF"
      },
      "source": [
        "X = df[df.columns[0:5]]\n",
        "y = df[['house_value']]"
      ],
      "execution_count": null,
      "outputs": []
    },
    {
      "cell_type": "code",
      "metadata": {
        "id": "18ppfWVrBn2d"
      },
      "source": [
        "from sklearn.model_selection import train_test_split"
      ],
      "execution_count": null,
      "outputs": []
    },
    {
      "cell_type": "code",
      "metadata": {
        "id": "SuBFPub4B_rG"
      },
      "source": [
        "X_train, X_test, y_train, y_test = train_test_split(X, y, random_state = 42)"
      ],
      "execution_count": null,
      "outputs": []
    },
    {
      "cell_type": "markdown",
      "metadata": {
        "id": "t5NspiwnCPge"
      },
      "source": [
        "훈련 데이터 및 테스트 데이터의 독립변수 단위를 동일하게 만드는 정규화 진행 (Min-Max)"
      ]
    },
    {
      "cell_type": "code",
      "metadata": {
        "id": "Vke52xOqCI-Z"
      },
      "source": [
        "from sklearn.preprocessing import MinMaxScaler\n",
        "\n",
        "scaler_minmax = MinMaxScaler()\n",
        "scaler_minmax.fit(X_train)\n",
        "X_scaled_minmax_train = scaler_minmax.transform(X_train)\n",
        "X_scaled_minmax_test = scaler_minmax.transform(X_test)"
      ],
      "execution_count": null,
      "outputs": []
    },
    {
      "cell_type": "code",
      "metadata": {
        "id": "97o4Plc7C8Z9"
      },
      "source": [
        "from sklearn.linear_model import LinearRegression\n",
        "model = LinearRegression()\n",
        "model.fit(X_scaled_minmax_train, y_train)"
      ],
      "execution_count": null,
      "outputs": []
    },
    {
      "cell_type": "code",
      "metadata": {
        "id": "RnIlp0rdDIVU"
      },
      "source": [
        "pred_train = model.predict(X_scaled_minmax_train)\n",
        "model.score(X_scaled_minmax_train, y_train)"
      ],
      "execution_count": null,
      "outputs": []
    },
    {
      "cell_type": "markdown",
      "metadata": {
        "id": "RDhpZpp1DgRP"
      },
      "source": [
        "훈련 데이터의 정확도(R-square: 설명력)를 확인한 결과, 55%를 보인다."
      ]
    },
    {
      "cell_type": "code",
      "metadata": {
        "id": "E3S2ymn9DOlp"
      },
      "source": [
        "pred_test = model.predict(X_scaled_minmax_test)\n",
        "model.score(X_scaled_minmax_test, y_test)"
      ],
      "execution_count": null,
      "outputs": []
    },
    {
      "cell_type": "markdown",
      "metadata": {
        "id": "mUxDIY4HENsW"
      },
      "source": [
        "정확도 확인결과, -282% 라는 말도 안되는 값이 나왔다.\n",
        "\n",
        "정확도는 0 ~ 1 사이 값이어야 하므로 음수가 나올수 없음."
      ]
    },
    {
      "cell_type": "markdown",
      "metadata": {
        "id": "8cQShGA2EcA7"
      },
      "source": [
        "##6.3 데이터 정제를 위한 세부 검토"
      ]
    },
    {
      "cell_type": "markdown",
      "metadata": {
        "id": "hPRm8Dd6EfU7"
      },
      "source": [
        "###가. bedrooms"
      ]
    },
    {
      "cell_type": "markdown",
      "metadata": {
        "id": "nvWfbvzfEyVB"
      },
      "source": [
        "bedrooms 변수 분포 확인결과 0.6이상에서 매우 큰값이 존재한다. 따라서 0.6 미만의 데이터만 따로 분포를 보면 아래와 같다"
      ]
    },
    {
      "cell_type": "code",
      "metadata": {
        "id": "tV0rTvYvEHTf"
      },
      "source": [
        "df_bedroom = df[df['bedrooms'] < 0.6]\n",
        "df_bedroom['bedrooms'].hist(bins = 100 , figsize = (10, 7));"
      ],
      "execution_count": null,
      "outputs": []
    },
    {
      "cell_type": "code",
      "metadata": {
        "id": "PwRY38ECFGmc"
      },
      "source": [
        "df_bedroom2 = df[df['bedrooms'] >= 0.6]\n",
        "print(df_bedroom2['bedrooms'].value_counts())"
      ],
      "execution_count": null,
      "outputs": []
    },
    {
      "cell_type": "code",
      "metadata": {
        "id": "Pblp_OUPFhaQ"
      },
      "source": [
        "df_bedroom2.shape"
      ],
      "execution_count": null,
      "outputs": []
    },
    {
      "cell_type": "code",
      "metadata": {
        "id": "gMoWy_J4FsRV"
      },
      "source": [
        "df_bedroom2"
      ],
      "execution_count": null,
      "outputs": []
    },
    {
      "cell_type": "markdown",
      "metadata": {
        "id": "vpbWLovmFvcT"
      },
      "source": [
        "badrooms 변수가 0.6보다 큰 데이터의 개수를 확인한 결과, 14개의 데이터가 존재, 수가 적으므로 제거해도 전체 데이터에 큰 영향없을것으로 보임"
      ]
    },
    {
      "cell_type": "markdown",
      "metadata": {
        "id": "rlZsJmqbGCjY"
      },
      "source": [
        "###나. households"
      ]
    },
    {
      "cell_type": "markdown",
      "metadata": {
        "id": "f0cSqzg_GXE2"
      },
      "source": [
        "households의 분포를 확인한 결과 10이상에서 매우 큰 값들이 존재, 따라서 10 미만의 데이터만 따로 분포를 보면 아래와 같다"
      ]
    },
    {
      "cell_type": "code",
      "metadata": {
        "id": "JuZQwdSaFuBo"
      },
      "source": [
        "df_household = df[df['households'] < 10]\n",
        "df_household['households'].hist(bins = 100, figsize = (10 , 8));"
      ],
      "execution_count": null,
      "outputs": []
    },
    {
      "cell_type": "code",
      "metadata": {
        "id": "n63ZksO5GnrH"
      },
      "source": [
        "df[df['households'] >= 10].shape"
      ],
      "execution_count": null,
      "outputs": []
    },
    {
      "cell_type": "code",
      "metadata": {
        "id": "CXlQ7J2XG2o_"
      },
      "source": [
        "df[df['households'] >= 10]"
      ],
      "execution_count": null,
      "outputs": []
    },
    {
      "cell_type": "markdown",
      "metadata": {
        "id": "b-ny3xjmG-pk"
      },
      "source": [
        "10이상인 데이터도 22개 밖에 없으므로 제거해도 큰 영향은 끼치지 않을것으로 보인다."
      ]
    },
    {
      "cell_type": "markdown",
      "metadata": {
        "id": "5qy5BdtaHP93"
      },
      "source": [
        "###다. rooms"
      ]
    },
    {
      "cell_type": "markdown",
      "metadata": {
        "id": "9-NwY6qgHaYC"
      },
      "source": [
        "rooms 변수는 20이상에서 매우 큰 값들이 존재하므로 따로 20 미만의 값들만 분포를 보면 아래와 같다."
      ]
    },
    {
      "cell_type": "code",
      "metadata": {
        "id": "Rma3OXSDG904"
      },
      "source": [
        "df_rooms = df[df['rooms'] < 20]\n",
        "df_rooms['rooms'].hist(bins = 100, figsize = (10, 8))"
      ],
      "execution_count": null,
      "outputs": []
    },
    {
      "cell_type": "code",
      "metadata": {
        "id": "LdIM9DyAHrK-"
      },
      "source": [
        "df[df['rooms'] >= 20].shape[0]"
      ],
      "execution_count": null,
      "outputs": []
    },
    {
      "cell_type": "markdown",
      "metadata": {
        "id": "Z_PzEL65H045"
      },
      "source": [
        "rooms변수가 20이상인 값들이 64개로 이전 변수들보다는 많지만 전체데이터가 훨씬 많으므로 제거해도 큰 영향없을것으로 보인다."
      ]
    },
    {
      "cell_type": "markdown",
      "metadata": {
        "id": "CsRilAwGIBvm"
      },
      "source": [
        "##6.4 정제 데이터셋 생성"
      ]
    },
    {
      "cell_type": "markdown",
      "metadata": {
        "id": "G-ESMEPFIPtm"
      },
      "source": [
        "임의로 정상데이터셋의 기준을 침실 0.5 미만, 가족수 7명 미만, 방 12개 미만으로 정한다."
      ]
    },
    {
      "cell_type": "code",
      "metadata": {
        "id": "MM9kSVioHz-J"
      },
      "source": [
        "new_df = df[(df['bedrooms'] < 0.5) & (df['households'] < 7) & (df['rooms'] < 12)]"
      ],
      "execution_count": null,
      "outputs": []
    },
    {
      "cell_type": "code",
      "metadata": {
        "id": "ZaC2IMZZInul"
      },
      "source": [
        "new_df.describe()"
      ],
      "execution_count": null,
      "outputs": []
    },
    {
      "cell_type": "markdown",
      "metadata": {
        "id": "pCxyhdXPI42G"
      },
      "source": [
        "정상데이터의 기술통계확인 결과 평균과 중위수(50%)의 차이가 크게없고, 최대값도 지나치게 크지않는것을 볼 수 있다."
      ]
    },
    {
      "cell_type": "code",
      "metadata": {
        "id": "_sT8tZ2-IpLs"
      },
      "source": [
        "new_df.hist(bins = 50, figsize = (10, 6));"
      ],
      "execution_count": null,
      "outputs": []
    },
    {
      "cell_type": "markdown",
      "metadata": {
        "id": "Z3WYb9FpJT1j"
      },
      "source": [
        "정상데이터의 히스토그램 확인결과, 모든 변수들이 정규분포와 비슷하다."
      ]
    },
    {
      "cell_type": "markdown",
      "metadata": {
        "id": "UhSB_mTMJjzW"
      },
      "source": [
        "##6.5 선형회귀 적용(정제 후 데이터)"
      ]
    },
    {
      "cell_type": "code",
      "metadata": {
        "id": "xb4pTaJpJqJO"
      },
      "source": [
        "X = new_df[new_df.columns[0:5]]\n",
        "y = new_df[['house_value']]\n",
        "\n",
        "X_train, X_test, y_train, y_test = train_test_split(X, y, random_state = 42)\n",
        "\n",
        "scaler = MinMaxScaler()\n",
        "X_scaled_train = scaler.fit_transform(X_train)\n",
        "X_scaled_test = scaler.transform(X_test)\n",
        "\n",
        "model = LinearRegression()\n",
        "model.fit(X_scaled_train, y_train)\n",
        "\n",
        "train_pred = model.predict(X_scaled_train)\n",
        "print(\"훈련 데이터 정확도: \", model.score(X_scaled_train, y_train))\n",
        "\n",
        "test_pred = model.predict(X_scaled_test)\n",
        "print(\"테스트 데이터 정확도: \", model.score(X_scaled_test, y_test))"
      ],
      "execution_count": null,
      "outputs": []
    },
    {
      "cell_type": "markdown",
      "metadata": {
        "id": "SWdWbMaaK_GK"
      },
      "source": [
        "이상치를 제거해서 학습한 결과, \n",
        "\n",
        "테스트 데이터 정확도가 음수값에서 58%로 매우 향상되었다"
      ]
    },
    {
      "cell_type": "code",
      "metadata": {
        "id": "75LZ_BkiK32G"
      },
      "source": [
        "new_df.to_csv('house_price.csv' , index = False)"
      ],
      "execution_count": null,
      "outputs": []
    },
    {
      "cell_type": "markdown",
      "metadata": {
        "id": "svFTgvBQTjkG"
      },
      "source": [
        "#2. 머신러닝 맛보기1: 분류문제\n",
        "\n",
        "1.   항목 추가\n",
        "2.   항목 추가\n",
        "\n"
      ]
    },
    {
      "cell_type": "markdown",
      "metadata": {
        "id": "_dzNdn_JTuk1"
      },
      "source": [
        "##2.1 분석 데이터 검토"
      ]
    },
    {
      "cell_type": "code",
      "metadata": {
        "colab": {
          "base_uri": "https://localhost:8080/",
          "height": 200
        },
        "id": "6iT2_vjlTq8D",
        "outputId": "63c972b9-a9f6-4e93-a556-9fd9106a3a43"
      },
      "source": [
        "import pandas as pd\n",
        "\n",
        "df = pd.read_csv('breast-cancer-wisconsin.csv')\n",
        "df.head()"
      ],
      "execution_count": null,
      "outputs": [
        {
          "output_type": "execute_result",
          "data": {
            "text/html": [
              "<div>\n",
              "<style scoped>\n",
              "    .dataframe tbody tr th:only-of-type {\n",
              "        vertical-align: middle;\n",
              "    }\n",
              "\n",
              "    .dataframe tbody tr th {\n",
              "        vertical-align: top;\n",
              "    }\n",
              "\n",
              "    .dataframe thead th {\n",
              "        text-align: right;\n",
              "    }\n",
              "</style>\n",
              "<table border=\"1\" class=\"dataframe\">\n",
              "  <thead>\n",
              "    <tr style=\"text-align: right;\">\n",
              "      <th></th>\n",
              "      <th>code</th>\n",
              "      <th>Clump_Thickness</th>\n",
              "      <th>Cell_Size</th>\n",
              "      <th>Cell_Shape</th>\n",
              "      <th>Marginal_Adhesion</th>\n",
              "      <th>Single_Epithelial_Cell_Size</th>\n",
              "      <th>Bare_Nuclei</th>\n",
              "      <th>Bland_Chromatin</th>\n",
              "      <th>Normal_Nucleoli</th>\n",
              "      <th>Mitoses</th>\n",
              "      <th>Class</th>\n",
              "    </tr>\n",
              "  </thead>\n",
              "  <tbody>\n",
              "    <tr>\n",
              "      <th>0</th>\n",
              "      <td>1000025</td>\n",
              "      <td>5</td>\n",
              "      <td>1</td>\n",
              "      <td>1</td>\n",
              "      <td>1</td>\n",
              "      <td>2</td>\n",
              "      <td>1</td>\n",
              "      <td>3</td>\n",
              "      <td>1</td>\n",
              "      <td>1</td>\n",
              "      <td>0</td>\n",
              "    </tr>\n",
              "    <tr>\n",
              "      <th>1</th>\n",
              "      <td>1002945</td>\n",
              "      <td>5</td>\n",
              "      <td>4</td>\n",
              "      <td>4</td>\n",
              "      <td>5</td>\n",
              "      <td>7</td>\n",
              "      <td>10</td>\n",
              "      <td>3</td>\n",
              "      <td>2</td>\n",
              "      <td>1</td>\n",
              "      <td>0</td>\n",
              "    </tr>\n",
              "    <tr>\n",
              "      <th>2</th>\n",
              "      <td>1015425</td>\n",
              "      <td>3</td>\n",
              "      <td>1</td>\n",
              "      <td>1</td>\n",
              "      <td>1</td>\n",
              "      <td>2</td>\n",
              "      <td>2</td>\n",
              "      <td>3</td>\n",
              "      <td>1</td>\n",
              "      <td>1</td>\n",
              "      <td>0</td>\n",
              "    </tr>\n",
              "    <tr>\n",
              "      <th>3</th>\n",
              "      <td>1016277</td>\n",
              "      <td>6</td>\n",
              "      <td>8</td>\n",
              "      <td>8</td>\n",
              "      <td>1</td>\n",
              "      <td>3</td>\n",
              "      <td>4</td>\n",
              "      <td>3</td>\n",
              "      <td>7</td>\n",
              "      <td>1</td>\n",
              "      <td>0</td>\n",
              "    </tr>\n",
              "    <tr>\n",
              "      <th>4</th>\n",
              "      <td>1017023</td>\n",
              "      <td>4</td>\n",
              "      <td>1</td>\n",
              "      <td>1</td>\n",
              "      <td>3</td>\n",
              "      <td>2</td>\n",
              "      <td>1</td>\n",
              "      <td>3</td>\n",
              "      <td>1</td>\n",
              "      <td>1</td>\n",
              "      <td>0</td>\n",
              "    </tr>\n",
              "  </tbody>\n",
              "</table>\n",
              "</div>"
            ],
            "text/plain": [
              "      code  Clump_Thickness  Cell_Size  ...  Normal_Nucleoli  Mitoses  Class\n",
              "0  1000025                5          1  ...                1        1      0\n",
              "1  1002945                5          4  ...                2        1      0\n",
              "2  1015425                3          1  ...                1        1      0\n",
              "3  1016277                6          8  ...                7        1      0\n",
              "4  1017023                4          1  ...                1        1      0\n",
              "\n",
              "[5 rows x 11 columns]"
            ]
          },
          "metadata": {},
          "execution_count": 3
        }
      ]
    },
    {
      "cell_type": "code",
      "metadata": {
        "colab": {
          "base_uri": "https://localhost:8080/"
        },
        "id": "-NX8YAnbT-O0",
        "outputId": "0ac8e7d3-158f-474b-f6cd-118a9c50331f"
      },
      "source": [
        "#레이블 변수(유방암)의 비율확인을 위해 'class'변수의 빈도를 확인\n",
        "\n",
        "df['Class'].value_counts(sort = False)"
      ],
      "execution_count": null,
      "outputs": [
        {
          "output_type": "execute_result",
          "data": {
            "text/plain": [
              "0    444\n",
              "1    239\n",
              "Name: Class, dtype: int64"
            ]
          },
          "metadata": {},
          "execution_count": 4
        }
      ]
    },
    {
      "cell_type": "code",
      "metadata": {
        "colab": {
          "base_uri": "https://localhost:8080/"
        },
        "id": "797EKjA6URwU",
        "outputId": "7d31dcc9-e3bc-498f-bd5e-cf45cda18b52"
      },
      "source": [
        "#행과 열 구조 확인\n",
        "#첫번째 변수인 'code'는 실제변수가 아니라 환자코드이므로 분석에서 특징 변수로 활용하지않는다\n",
        "df.shape"
      ],
      "execution_count": null,
      "outputs": [
        {
          "output_type": "execute_result",
          "data": {
            "text/plain": [
              "(683, 11)"
            ]
          },
          "metadata": {},
          "execution_count": 5
        }
      ]
    },
    {
      "cell_type": "markdown",
      "metadata": {
        "id": "Le5SMMJTUrOU"
      },
      "source": [
        "##2.2 특성(X)과 레이블(y)로 나누기"
      ]
    },
    {
      "cell_type": "code",
      "metadata": {
        "id": "ov734wAGUoZc"
      },
      "source": [
        "# 방법1: 특성 이름으로 특성 데이터셋(X) 나누기\n",
        "X1 = df[['Clump_Thickness', 'Cell_Size', 'Cell_Shape', 'Marginal_Adhesion', 'Single_Epithelial_Cell_Size', 'Bare_Nuclei', 'Bland_Chromatin', 'Normal_Nucleoli', 'Mitoses']]\n",
        "# 방법2: 특성 위치값으로 데이터셋 나누기\n",
        "X2 = df[df.columns[1:10]]\n",
        "# 방법3: loc함수로 특성 데이터셋 나누기(단, 불러올 특성이 연달아 있어야함)\n",
        "X3 = df.loc[: , 'Clump_Thickness' : 'Mitoses']"
      ],
      "execution_count": null,
      "outputs": []
    },
    {
      "cell_type": "code",
      "metadata": {
        "colab": {
          "base_uri": "https://localhost:8080/"
        },
        "id": "YTVg-8MUVyRT",
        "outputId": "0c956b59-d22b-4b82-92ef-808fe6b077d4"
      },
      "source": [
        "X1.shape, X2.shape, X3.shape"
      ],
      "execution_count": null,
      "outputs": [
        {
          "output_type": "execute_result",
          "data": {
            "text/plain": [
              "((683, 9), (683, 9), (683, 9))"
            ]
          },
          "metadata": {},
          "execution_count": 7
        }
      ]
    },
    {
      "cell_type": "code",
      "metadata": {
        "id": "8GTqQBgbV5TM"
      },
      "source": [
        "y = df[['Class']] #대괄호를 두번 감싸야 데이터프레임 형태가 되므로 주의한다"
      ],
      "execution_count": null,
      "outputs": []
    },
    {
      "cell_type": "code",
      "metadata": {
        "colab": {
          "base_uri": "https://localhost:8080/"
        },
        "id": "HyFNd4f2WCzl",
        "outputId": "ffea4abd-751b-452d-fb52-487f47d21f83"
      },
      "source": [
        "y.shape"
      ],
      "execution_count": null,
      "outputs": [
        {
          "output_type": "execute_result",
          "data": {
            "text/plain": [
              "(683, 1)"
            ]
          },
          "metadata": {},
          "execution_count": 9
        }
      ]
    },
    {
      "cell_type": "markdown",
      "metadata": {
        "id": "gOBhCq-TWH3M"
      },
      "source": [
        "##2.3 train_test 데이터셋 나누기"
      ]
    },
    {
      "cell_type": "code",
      "metadata": {
        "id": "LfU4mdWFWETr"
      },
      "source": [
        "from sklearn.model_selection import train_test_split\n",
        "\n",
        "X_train, X_test, y_train, y_test = train_test_split(X1, y, random_state = 42, stratify = y) \n",
        "#훈련데이터와 테스트데이터를 같은 레이블 비율을 가지도록 분류한다."
      ],
      "execution_count": null,
      "outputs": []
    },
    {
      "cell_type": "code",
      "metadata": {
        "colab": {
          "base_uri": "https://localhost:8080/"
        },
        "id": "_ivjkUZ4XCbD",
        "outputId": "ca010797-0fcc-4e92-be88-f21ff7c20c3e"
      },
      "source": [
        "print(y_train.mean(),'\\n',y_test.mean())"
      ],
      "execution_count": null,
      "outputs": [
        {
          "output_type": "stream",
          "name": "stdout",
          "text": [
            "Class    0.349609\n",
            "dtype: float64 \n",
            " Class    0.350877\n",
            "dtype: float64\n"
          ]
        }
      ]
    },
    {
      "cell_type": "markdown",
      "metadata": {
        "id": "b9TYOQB_XZ7k"
      },
      "source": [
        "##2.4 정규화"
      ]
    },
    {
      "cell_type": "code",
      "metadata": {
        "id": "7j8CdbxgXN7U"
      },
      "source": [
        "from sklearn.preprocessing import MinMaxScaler, StandardScaler\n",
        "\n",
        "minmax = MinMaxScaler()\n",
        "standard = StandardScaler()"
      ],
      "execution_count": null,
      "outputs": []
    },
    {
      "cell_type": "markdown",
      "metadata": {
        "id": "PsTAEuQ7Xupk"
      },
      "source": [
        "###가. train_data 정규화"
      ]
    },
    {
      "cell_type": "code",
      "metadata": {
        "id": "Z93_HBecXuUr"
      },
      "source": [
        "minmax.fit(X_train)\n",
        "X_scaled_minmax_train = minmax.transform(X_train)"
      ],
      "execution_count": null,
      "outputs": []
    },
    {
      "cell_type": "code",
      "metadata": {
        "id": "Yqo0ny0bYIzU"
      },
      "source": [
        "standard.fit(X_train)\n",
        "X_scaled_standard_train = standard.transform(X_train)"
      ],
      "execution_count": null,
      "outputs": []
    },
    {
      "cell_type": "code",
      "metadata": {
        "colab": {
          "base_uri": "https://localhost:8080/",
          "height": 290
        },
        "id": "9XsU9DjpYQP6",
        "outputId": "943db32b-2642-4dfc-b3e9-c0b7e815150b"
      },
      "source": [
        "pd.DataFrame(X_scaled_minmax_train).describe() #정규화된 데이터의 기술통계확인, 모든 변수가 최소 0 , 최대 1"
      ],
      "execution_count": null,
      "outputs": [
        {
          "output_type": "execute_result",
          "data": {
            "text/html": [
              "<div>\n",
              "<style scoped>\n",
              "    .dataframe tbody tr th:only-of-type {\n",
              "        vertical-align: middle;\n",
              "    }\n",
              "\n",
              "    .dataframe tbody tr th {\n",
              "        vertical-align: top;\n",
              "    }\n",
              "\n",
              "    .dataframe thead th {\n",
              "        text-align: right;\n",
              "    }\n",
              "</style>\n",
              "<table border=\"1\" class=\"dataframe\">\n",
              "  <thead>\n",
              "    <tr style=\"text-align: right;\">\n",
              "      <th></th>\n",
              "      <th>0</th>\n",
              "      <th>1</th>\n",
              "      <th>2</th>\n",
              "      <th>3</th>\n",
              "      <th>4</th>\n",
              "      <th>5</th>\n",
              "      <th>6</th>\n",
              "      <th>7</th>\n",
              "      <th>8</th>\n",
              "    </tr>\n",
              "  </thead>\n",
              "  <tbody>\n",
              "    <tr>\n",
              "      <th>count</th>\n",
              "      <td>512.000000</td>\n",
              "      <td>512.000000</td>\n",
              "      <td>512.000000</td>\n",
              "      <td>512.000000</td>\n",
              "      <td>512.000000</td>\n",
              "      <td>512.000000</td>\n",
              "      <td>512.000000</td>\n",
              "      <td>512.000000</td>\n",
              "      <td>512.000000</td>\n",
              "    </tr>\n",
              "    <tr>\n",
              "      <th>mean</th>\n",
              "      <td>0.372830</td>\n",
              "      <td>0.231988</td>\n",
              "      <td>0.242839</td>\n",
              "      <td>0.205078</td>\n",
              "      <td>0.241319</td>\n",
              "      <td>0.285590</td>\n",
              "      <td>0.269314</td>\n",
              "      <td>0.199002</td>\n",
              "      <td>0.067491</td>\n",
              "    </tr>\n",
              "    <tr>\n",
              "      <th>std</th>\n",
              "      <td>0.317836</td>\n",
              "      <td>0.334781</td>\n",
              "      <td>0.332112</td>\n",
              "      <td>0.319561</td>\n",
              "      <td>0.242541</td>\n",
              "      <td>0.404890</td>\n",
              "      <td>0.265289</td>\n",
              "      <td>0.331503</td>\n",
              "      <td>0.190373</td>\n",
              "    </tr>\n",
              "    <tr>\n",
              "      <th>min</th>\n",
              "      <td>0.000000</td>\n",
              "      <td>0.000000</td>\n",
              "      <td>0.000000</td>\n",
              "      <td>0.000000</td>\n",
              "      <td>0.000000</td>\n",
              "      <td>0.000000</td>\n",
              "      <td>0.000000</td>\n",
              "      <td>0.000000</td>\n",
              "      <td>0.000000</td>\n",
              "    </tr>\n",
              "    <tr>\n",
              "      <th>25%</th>\n",
              "      <td>0.111111</td>\n",
              "      <td>0.000000</td>\n",
              "      <td>0.000000</td>\n",
              "      <td>0.000000</td>\n",
              "      <td>0.111111</td>\n",
              "      <td>0.000000</td>\n",
              "      <td>0.111111</td>\n",
              "      <td>0.000000</td>\n",
              "      <td>0.000000</td>\n",
              "    </tr>\n",
              "    <tr>\n",
              "      <th>50%</th>\n",
              "      <td>0.333333</td>\n",
              "      <td>0.000000</td>\n",
              "      <td>0.000000</td>\n",
              "      <td>0.000000</td>\n",
              "      <td>0.111111</td>\n",
              "      <td>0.000000</td>\n",
              "      <td>0.222222</td>\n",
              "      <td>0.000000</td>\n",
              "      <td>0.000000</td>\n",
              "    </tr>\n",
              "    <tr>\n",
              "      <th>75%</th>\n",
              "      <td>0.555556</td>\n",
              "      <td>0.361111</td>\n",
              "      <td>0.444444</td>\n",
              "      <td>0.333333</td>\n",
              "      <td>0.333333</td>\n",
              "      <td>0.583333</td>\n",
              "      <td>0.444444</td>\n",
              "      <td>0.222222</td>\n",
              "      <td>0.000000</td>\n",
              "    </tr>\n",
              "    <tr>\n",
              "      <th>max</th>\n",
              "      <td>1.000000</td>\n",
              "      <td>1.000000</td>\n",
              "      <td>1.000000</td>\n",
              "      <td>1.000000</td>\n",
              "      <td>1.000000</td>\n",
              "      <td>1.000000</td>\n",
              "      <td>1.000000</td>\n",
              "      <td>1.000000</td>\n",
              "      <td>1.000000</td>\n",
              "    </tr>\n",
              "  </tbody>\n",
              "</table>\n",
              "</div>"
            ],
            "text/plain": [
              "                0           1           2  ...           6           7           8\n",
              "count  512.000000  512.000000  512.000000  ...  512.000000  512.000000  512.000000\n",
              "mean     0.372830    0.231988    0.242839  ...    0.269314    0.199002    0.067491\n",
              "std      0.317836    0.334781    0.332112  ...    0.265289    0.331503    0.190373\n",
              "min      0.000000    0.000000    0.000000  ...    0.000000    0.000000    0.000000\n",
              "25%      0.111111    0.000000    0.000000  ...    0.111111    0.000000    0.000000\n",
              "50%      0.333333    0.000000    0.000000  ...    0.222222    0.000000    0.000000\n",
              "75%      0.555556    0.361111    0.444444  ...    0.444444    0.222222    0.000000\n",
              "max      1.000000    1.000000    1.000000  ...    1.000000    1.000000    1.000000\n",
              "\n",
              "[8 rows x 9 columns]"
            ]
          },
          "metadata": {},
          "execution_count": 15
        }
      ]
    },
    {
      "cell_type": "code",
      "metadata": {
        "colab": {
          "base_uri": "https://localhost:8080/",
          "height": 290
        },
        "id": "qZFXbIEPYYb7",
        "outputId": "6424746d-85f6-418d-b272-54dca19f995f"
      },
      "source": [
        "pd.DataFrame(X_scaled_standard_train).describe() # 모든 변수가 평균이 거의 0, 표준편차가 1을 나타냄"
      ],
      "execution_count": null,
      "outputs": [
        {
          "output_type": "execute_result",
          "data": {
            "text/html": [
              "<div>\n",
              "<style scoped>\n",
              "    .dataframe tbody tr th:only-of-type {\n",
              "        vertical-align: middle;\n",
              "    }\n",
              "\n",
              "    .dataframe tbody tr th {\n",
              "        vertical-align: top;\n",
              "    }\n",
              "\n",
              "    .dataframe thead th {\n",
              "        text-align: right;\n",
              "    }\n",
              "</style>\n",
              "<table border=\"1\" class=\"dataframe\">\n",
              "  <thead>\n",
              "    <tr style=\"text-align: right;\">\n",
              "      <th></th>\n",
              "      <th>0</th>\n",
              "      <th>1</th>\n",
              "      <th>2</th>\n",
              "      <th>3</th>\n",
              "      <th>4</th>\n",
              "      <th>5</th>\n",
              "      <th>6</th>\n",
              "      <th>7</th>\n",
              "      <th>8</th>\n",
              "    </tr>\n",
              "  </thead>\n",
              "  <tbody>\n",
              "    <tr>\n",
              "      <th>count</th>\n",
              "      <td>5.120000e+02</td>\n",
              "      <td>5.120000e+02</td>\n",
              "      <td>5.120000e+02</td>\n",
              "      <td>5.120000e+02</td>\n",
              "      <td>5.120000e+02</td>\n",
              "      <td>5.120000e+02</td>\n",
              "      <td>5.120000e+02</td>\n",
              "      <td>5.120000e+02</td>\n",
              "      <td>5.120000e+02</td>\n",
              "    </tr>\n",
              "    <tr>\n",
              "      <th>mean</th>\n",
              "      <td>-1.548241e-16</td>\n",
              "      <td>-1.543904e-16</td>\n",
              "      <td>-1.353084e-16</td>\n",
              "      <td>1.149254e-16</td>\n",
              "      <td>5.767956e-17</td>\n",
              "      <td>1.674008e-16</td>\n",
              "      <td>-2.775558e-17</td>\n",
              "      <td>-3.642919e-17</td>\n",
              "      <td>6.938894e-18</td>\n",
              "    </tr>\n",
              "    <tr>\n",
              "      <th>std</th>\n",
              "      <td>1.000978e+00</td>\n",
              "      <td>1.000978e+00</td>\n",
              "      <td>1.000978e+00</td>\n",
              "      <td>1.000978e+00</td>\n",
              "      <td>1.000978e+00</td>\n",
              "      <td>1.000978e+00</td>\n",
              "      <td>1.000978e+00</td>\n",
              "      <td>1.000978e+00</td>\n",
              "      <td>1.000978e+00</td>\n",
              "    </tr>\n",
              "    <tr>\n",
              "      <th>min</th>\n",
              "      <td>-1.174173e+00</td>\n",
              "      <td>-6.936309e-01</td>\n",
              "      <td>-7.319088e-01</td>\n",
              "      <td>-6.423777e-01</td>\n",
              "      <td>-9.959361e-01</td>\n",
              "      <td>-7.060427e-01</td>\n",
              "      <td>-1.016165e+00</td>\n",
              "      <td>-6.008881e-01</td>\n",
              "      <td>-3.548677e-01</td>\n",
              "    </tr>\n",
              "    <tr>\n",
              "      <th>25%</th>\n",
              "      <td>-8.242452e-01</td>\n",
              "      <td>-6.936309e-01</td>\n",
              "      <td>-7.319088e-01</td>\n",
              "      <td>-6.423777e-01</td>\n",
              "      <td>-5.373756e-01</td>\n",
              "      <td>-7.060427e-01</td>\n",
              "      <td>-5.969255e-01</td>\n",
              "      <td>-6.008881e-01</td>\n",
              "      <td>-3.548677e-01</td>\n",
              "    </tr>\n",
              "    <tr>\n",
              "      <th>50%</th>\n",
              "      <td>-1.243886e-01</td>\n",
              "      <td>-6.936309e-01</td>\n",
              "      <td>-7.319088e-01</td>\n",
              "      <td>-6.423777e-01</td>\n",
              "      <td>-5.373756e-01</td>\n",
              "      <td>-7.060427e-01</td>\n",
              "      <td>-1.776856e-01</td>\n",
              "      <td>-6.008881e-01</td>\n",
              "      <td>-3.548677e-01</td>\n",
              "    </tr>\n",
              "    <tr>\n",
              "      <th>75%</th>\n",
              "      <td>5.754680e-01</td>\n",
              "      <td>3.860715e-01</td>\n",
              "      <td>6.076347e-01</td>\n",
              "      <td>4.017410e-01</td>\n",
              "      <td>3.797454e-01</td>\n",
              "      <td>7.360871e-01</td>\n",
              "      <td>6.607941e-01</td>\n",
              "      <td>7.011454e-02</td>\n",
              "      <td>-3.548677e-01</td>\n",
              "    </tr>\n",
              "    <tr>\n",
              "      <th>max</th>\n",
              "      <td>1.975181e+00</td>\n",
              "      <td>2.296314e+00</td>\n",
              "      <td>2.282064e+00</td>\n",
              "      <td>2.489978e+00</td>\n",
              "      <td>3.131108e+00</td>\n",
              "      <td>1.766180e+00</td>\n",
              "      <td>2.756993e+00</td>\n",
              "      <td>2.418624e+00</td>\n",
              "      <td>4.903108e+00</td>\n",
              "    </tr>\n",
              "  </tbody>\n",
              "</table>\n",
              "</div>"
            ],
            "text/plain": [
              "                  0             1  ...             7             8\n",
              "count  5.120000e+02  5.120000e+02  ...  5.120000e+02  5.120000e+02\n",
              "mean  -1.548241e-16 -1.543904e-16  ... -3.642919e-17  6.938894e-18\n",
              "std    1.000978e+00  1.000978e+00  ...  1.000978e+00  1.000978e+00\n",
              "min   -1.174173e+00 -6.936309e-01  ... -6.008881e-01 -3.548677e-01\n",
              "25%   -8.242452e-01 -6.936309e-01  ... -6.008881e-01 -3.548677e-01\n",
              "50%   -1.243886e-01 -6.936309e-01  ... -6.008881e-01 -3.548677e-01\n",
              "75%    5.754680e-01  3.860715e-01  ...  7.011454e-02 -3.548677e-01\n",
              "max    1.975181e+00  2.296314e+00  ...  2.418624e+00  4.903108e+00\n",
              "\n",
              "[8 rows x 9 columns]"
            ]
          },
          "metadata": {},
          "execution_count": 16
        }
      ]
    },
    {
      "cell_type": "markdown",
      "metadata": {
        "id": "2sgmYVRgY1Pc"
      },
      "source": [
        "###나. 테스트 데이터 정규화"
      ]
    },
    {
      "cell_type": "code",
      "metadata": {
        "id": "_Pt8XKfGYodS"
      },
      "source": [
        "X_scaled_minmax_test = minmax.transform(X_test)\n",
        "X_scaled_standard_test = standard.transform(X_test)"
      ],
      "execution_count": null,
      "outputs": []
    },
    {
      "cell_type": "code",
      "metadata": {
        "colab": {
          "base_uri": "https://localhost:8080/",
          "height": 290
        },
        "id": "nZ3YoHk4ZGT7",
        "outputId": "0bbdb96d-63f9-464a-f385-20788b683d35"
      },
      "source": [
        "pd.DataFrame(X_scaled_minmax_test).describe()"
      ],
      "execution_count": null,
      "outputs": [
        {
          "output_type": "execute_result",
          "data": {
            "text/html": [
              "<div>\n",
              "<style scoped>\n",
              "    .dataframe tbody tr th:only-of-type {\n",
              "        vertical-align: middle;\n",
              "    }\n",
              "\n",
              "    .dataframe tbody tr th {\n",
              "        vertical-align: top;\n",
              "    }\n",
              "\n",
              "    .dataframe thead th {\n",
              "        text-align: right;\n",
              "    }\n",
              "</style>\n",
              "<table border=\"1\" class=\"dataframe\">\n",
              "  <thead>\n",
              "    <tr style=\"text-align: right;\">\n",
              "      <th></th>\n",
              "      <th>0</th>\n",
              "      <th>1</th>\n",
              "      <th>2</th>\n",
              "      <th>3</th>\n",
              "      <th>4</th>\n",
              "      <th>5</th>\n",
              "      <th>6</th>\n",
              "      <th>7</th>\n",
              "      <th>8</th>\n",
              "    </tr>\n",
              "  </thead>\n",
              "  <tbody>\n",
              "    <tr>\n",
              "      <th>count</th>\n",
              "      <td>171.000000</td>\n",
              "      <td>171.000000</td>\n",
              "      <td>171.000000</td>\n",
              "      <td>171.000000</td>\n",
              "      <td>171.000000</td>\n",
              "      <td>171.000000</td>\n",
              "      <td>171.000000</td>\n",
              "      <td>171.000000</td>\n",
              "      <td>171.000000</td>\n",
              "    </tr>\n",
              "    <tr>\n",
              "      <th>mean</th>\n",
              "      <td>0.411306</td>\n",
              "      <td>0.259909</td>\n",
              "      <td>0.256010</td>\n",
              "      <td>0.198181</td>\n",
              "      <td>0.269006</td>\n",
              "      <td>0.274204</td>\n",
              "      <td>0.278752</td>\n",
              "      <td>0.233918</td>\n",
              "      <td>0.065627</td>\n",
              "    </tr>\n",
              "    <tr>\n",
              "      <th>std</th>\n",
              "      <td>0.298847</td>\n",
              "      <td>0.357544</td>\n",
              "      <td>0.332700</td>\n",
              "      <td>0.315307</td>\n",
              "      <td>0.259557</td>\n",
              "      <td>0.405891</td>\n",
              "      <td>0.292578</td>\n",
              "      <td>0.360958</td>\n",
              "      <td>0.199372</td>\n",
              "    </tr>\n",
              "    <tr>\n",
              "      <th>min</th>\n",
              "      <td>0.000000</td>\n",
              "      <td>0.000000</td>\n",
              "      <td>0.000000</td>\n",
              "      <td>0.000000</td>\n",
              "      <td>0.000000</td>\n",
              "      <td>0.000000</td>\n",
              "      <td>0.000000</td>\n",
              "      <td>0.000000</td>\n",
              "      <td>0.000000</td>\n",
              "    </tr>\n",
              "    <tr>\n",
              "      <th>25%</th>\n",
              "      <td>0.222222</td>\n",
              "      <td>0.000000</td>\n",
              "      <td>0.000000</td>\n",
              "      <td>0.000000</td>\n",
              "      <td>0.111111</td>\n",
              "      <td>0.000000</td>\n",
              "      <td>0.000000</td>\n",
              "      <td>0.000000</td>\n",
              "      <td>0.000000</td>\n",
              "    </tr>\n",
              "    <tr>\n",
              "      <th>50%</th>\n",
              "      <td>0.444444</td>\n",
              "      <td>0.000000</td>\n",
              "      <td>0.111111</td>\n",
              "      <td>0.000000</td>\n",
              "      <td>0.111111</td>\n",
              "      <td>0.000000</td>\n",
              "      <td>0.222222</td>\n",
              "      <td>0.000000</td>\n",
              "      <td>0.000000</td>\n",
              "    </tr>\n",
              "    <tr>\n",
              "      <th>75%</th>\n",
              "      <td>0.555556</td>\n",
              "      <td>0.444444</td>\n",
              "      <td>0.444444</td>\n",
              "      <td>0.222222</td>\n",
              "      <td>0.388889</td>\n",
              "      <td>0.444444</td>\n",
              "      <td>0.444444</td>\n",
              "      <td>0.388889</td>\n",
              "      <td>0.000000</td>\n",
              "    </tr>\n",
              "    <tr>\n",
              "      <th>max</th>\n",
              "      <td>1.000000</td>\n",
              "      <td>1.000000</td>\n",
              "      <td>1.000000</td>\n",
              "      <td>1.000000</td>\n",
              "      <td>1.000000</td>\n",
              "      <td>1.000000</td>\n",
              "      <td>1.000000</td>\n",
              "      <td>1.000000</td>\n",
              "      <td>1.000000</td>\n",
              "    </tr>\n",
              "  </tbody>\n",
              "</table>\n",
              "</div>"
            ],
            "text/plain": [
              "                0           1           2  ...           6           7           8\n",
              "count  171.000000  171.000000  171.000000  ...  171.000000  171.000000  171.000000\n",
              "mean     0.411306    0.259909    0.256010  ...    0.278752    0.233918    0.065627\n",
              "std      0.298847    0.357544    0.332700  ...    0.292578    0.360958    0.199372\n",
              "min      0.000000    0.000000    0.000000  ...    0.000000    0.000000    0.000000\n",
              "25%      0.222222    0.000000    0.000000  ...    0.000000    0.000000    0.000000\n",
              "50%      0.444444    0.000000    0.111111  ...    0.222222    0.000000    0.000000\n",
              "75%      0.555556    0.444444    0.444444  ...    0.444444    0.388889    0.000000\n",
              "max      1.000000    1.000000    1.000000  ...    1.000000    1.000000    1.000000\n",
              "\n",
              "[8 rows x 9 columns]"
            ]
          },
          "metadata": {},
          "execution_count": 18
        }
      ]
    },
    {
      "cell_type": "code",
      "metadata": {
        "colab": {
          "base_uri": "https://localhost:8080/",
          "height": 290
        },
        "id": "-3-wbideZMtD",
        "outputId": "9408a197-e57c-4f51-e4a8-b716b6e1ea5e"
      },
      "source": [
        "pd.DataFrame(X_scaled_standard_test).describe()"
      ],
      "execution_count": null,
      "outputs": [
        {
          "output_type": "execute_result",
          "data": {
            "text/html": [
              "<div>\n",
              "<style scoped>\n",
              "    .dataframe tbody tr th:only-of-type {\n",
              "        vertical-align: middle;\n",
              "    }\n",
              "\n",
              "    .dataframe tbody tr th {\n",
              "        vertical-align: top;\n",
              "    }\n",
              "\n",
              "    .dataframe thead th {\n",
              "        text-align: right;\n",
              "    }\n",
              "</style>\n",
              "<table border=\"1\" class=\"dataframe\">\n",
              "  <thead>\n",
              "    <tr style=\"text-align: right;\">\n",
              "      <th></th>\n",
              "      <th>0</th>\n",
              "      <th>1</th>\n",
              "      <th>2</th>\n",
              "      <th>3</th>\n",
              "      <th>4</th>\n",
              "      <th>5</th>\n",
              "      <th>6</th>\n",
              "      <th>7</th>\n",
              "      <th>8</th>\n",
              "    </tr>\n",
              "  </thead>\n",
              "  <tbody>\n",
              "    <tr>\n",
              "      <th>count</th>\n",
              "      <td>171.000000</td>\n",
              "      <td>171.000000</td>\n",
              "      <td>171.000000</td>\n",
              "      <td>171.000000</td>\n",
              "      <td>171.000000</td>\n",
              "      <td>171.000000</td>\n",
              "      <td>171.000000</td>\n",
              "      <td>171.000000</td>\n",
              "      <td>171.000000</td>\n",
              "    </tr>\n",
              "    <tr>\n",
              "      <th>mean</th>\n",
              "      <td>0.121175</td>\n",
              "      <td>0.083483</td>\n",
              "      <td>0.039700</td>\n",
              "      <td>-0.021605</td>\n",
              "      <td>0.114263</td>\n",
              "      <td>-0.028149</td>\n",
              "      <td>0.035612</td>\n",
              "      <td>0.105430</td>\n",
              "      <td>-0.009802</td>\n",
              "    </tr>\n",
              "    <tr>\n",
              "      <th>std</th>\n",
              "      <td>0.941174</td>\n",
              "      <td>1.069038</td>\n",
              "      <td>1.002747</td>\n",
              "      <td>0.987654</td>\n",
              "      <td>1.071204</td>\n",
              "      <td>1.003453</td>\n",
              "      <td>1.103943</td>\n",
              "      <td>1.089918</td>\n",
              "      <td>1.048292</td>\n",
              "    </tr>\n",
              "    <tr>\n",
              "      <th>min</th>\n",
              "      <td>-1.174173</td>\n",
              "      <td>-0.693631</td>\n",
              "      <td>-0.731909</td>\n",
              "      <td>-0.642378</td>\n",
              "      <td>-0.995936</td>\n",
              "      <td>-0.706043</td>\n",
              "      <td>-1.016165</td>\n",
              "      <td>-0.600888</td>\n",
              "      <td>-0.354868</td>\n",
              "    </tr>\n",
              "    <tr>\n",
              "      <th>25%</th>\n",
              "      <td>-0.474317</td>\n",
              "      <td>-0.693631</td>\n",
              "      <td>-0.731909</td>\n",
              "      <td>-0.642378</td>\n",
              "      <td>-0.537376</td>\n",
              "      <td>-0.706043</td>\n",
              "      <td>-1.016165</td>\n",
              "      <td>-0.600888</td>\n",
              "      <td>-0.354868</td>\n",
              "    </tr>\n",
              "    <tr>\n",
              "      <th>50%</th>\n",
              "      <td>0.225540</td>\n",
              "      <td>-0.693631</td>\n",
              "      <td>-0.397023</td>\n",
              "      <td>-0.642378</td>\n",
              "      <td>-0.537376</td>\n",
              "      <td>-0.706043</td>\n",
              "      <td>-0.177686</td>\n",
              "      <td>-0.600888</td>\n",
              "      <td>-0.354868</td>\n",
              "    </tr>\n",
              "    <tr>\n",
              "      <th>75%</th>\n",
              "      <td>0.575468</td>\n",
              "      <td>0.635234</td>\n",
              "      <td>0.607635</td>\n",
              "      <td>0.053701</td>\n",
              "      <td>0.609026</td>\n",
              "      <td>0.392723</td>\n",
              "      <td>0.660794</td>\n",
              "      <td>0.573367</td>\n",
              "      <td>-0.354868</td>\n",
              "    </tr>\n",
              "    <tr>\n",
              "      <th>max</th>\n",
              "      <td>1.975181</td>\n",
              "      <td>2.296314</td>\n",
              "      <td>2.282064</td>\n",
              "      <td>2.489978</td>\n",
              "      <td>3.131108</td>\n",
              "      <td>1.766180</td>\n",
              "      <td>2.756993</td>\n",
              "      <td>2.418624</td>\n",
              "      <td>4.903108</td>\n",
              "    </tr>\n",
              "  </tbody>\n",
              "</table>\n",
              "</div>"
            ],
            "text/plain": [
              "                0           1           2  ...           6           7           8\n",
              "count  171.000000  171.000000  171.000000  ...  171.000000  171.000000  171.000000\n",
              "mean     0.121175    0.083483    0.039700  ...    0.035612    0.105430   -0.009802\n",
              "std      0.941174    1.069038    1.002747  ...    1.103943    1.089918    1.048292\n",
              "min     -1.174173   -0.693631   -0.731909  ...   -1.016165   -0.600888   -0.354868\n",
              "25%     -0.474317   -0.693631   -0.731909  ...   -1.016165   -0.600888   -0.354868\n",
              "50%      0.225540   -0.693631   -0.397023  ...   -0.177686   -0.600888   -0.354868\n",
              "75%      0.575468    0.635234    0.607635  ...    0.660794    0.573367   -0.354868\n",
              "max      1.975181    2.296314    2.282064  ...    2.756993    2.418624    4.903108\n",
              "\n",
              "[8 rows x 9 columns]"
            ]
          },
          "metadata": {},
          "execution_count": 19
        }
      ]
    },
    {
      "cell_type": "markdown",
      "metadata": {
        "id": "jgYUlwx8Zj65"
      },
      "source": [
        "표준화의 기준이 훈련데이터이기 때문에 평균이 0이 아니고 표준편차도 1이아니다."
      ]
    },
    {
      "cell_type": "markdown",
      "metadata": {
        "id": "UfMxf9IsZ1sj"
      },
      "source": [
        "##2.5 모델 학습"
      ]
    },
    {
      "cell_type": "code",
      "metadata": {
        "colab": {
          "base_uri": "https://localhost:8080/"
        },
        "id": "-aPQSqMsZUdD",
        "outputId": "e8f86376-f056-4b11-811a-7dbfa605d0dc"
      },
      "source": [
        "from sklearn.linear_model import LogisticRegression\n",
        "\n",
        "model = LogisticRegression()\n",
        "model.fit(X_scaled_minmax_train, y_train)"
      ],
      "execution_count": null,
      "outputs": [
        {
          "output_type": "stream",
          "name": "stderr",
          "text": [
            "/usr/local/lib/python3.7/dist-packages/sklearn/utils/validation.py:760: DataConversionWarning: A column-vector y was passed when a 1d array was expected. Please change the shape of y to (n_samples, ), for example using ravel().\n",
            "  y = column_or_1d(y, warn=True)\n"
          ]
        },
        {
          "output_type": "execute_result",
          "data": {
            "text/plain": [
              "LogisticRegression(C=1.0, class_weight=None, dual=False, fit_intercept=True,\n",
              "                   intercept_scaling=1, l1_ratio=None, max_iter=100,\n",
              "                   multi_class='auto', n_jobs=None, penalty='l2',\n",
              "                   random_state=None, solver='lbfgs', tol=0.0001, verbose=0,\n",
              "                   warm_start=False)"
            ]
          },
          "metadata": {},
          "execution_count": 20
        }
      ]
    },
    {
      "cell_type": "code",
      "metadata": {
        "colab": {
          "base_uri": "https://localhost:8080/"
        },
        "id": "JUOa4vUNaJ8s",
        "outputId": "1eebd18a-12cf-4c97-ae85-9cb443a0fae4"
      },
      "source": [
        "pred_train = model.predict(X_scaled_minmax_train)\n",
        "model.score(X_scaled_minmax_train, y_train)"
      ],
      "execution_count": null,
      "outputs": [
        {
          "output_type": "execute_result",
          "data": {
            "text/plain": [
              "0.97265625"
            ]
          },
          "metadata": {},
          "execution_count": 21
        }
      ]
    },
    {
      "cell_type": "markdown",
      "metadata": {
        "id": "TWuHwBn-aoX0"
      },
      "source": [
        "모델 훈련 -> 모델 예측 -> 모델 정확도"
      ]
    },
    {
      "cell_type": "code",
      "metadata": {
        "colab": {
          "base_uri": "https://localhost:8080/"
        },
        "id": "XpSmBntjaj5p",
        "outputId": "421baf65-59ba-46f2-c684-e97253507851"
      },
      "source": [
        "#테스트 데이터\n",
        "pred_test = model.predict(X_scaled_minmax_test)\n",
        "model.score(X_scaled_minmax_test, y_test)"
      ],
      "execution_count": null,
      "outputs": [
        {
          "output_type": "execute_result",
          "data": {
            "text/plain": [
              "0.9590643274853801"
            ]
          },
          "metadata": {},
          "execution_count": 22
        }
      ]
    },
    {
      "cell_type": "code",
      "metadata": {
        "colab": {
          "base_uri": "https://localhost:8080/"
        },
        "id": "3n8KV-HGbKud",
        "outputId": "1043924c-a43b-4cbf-9bc5-d6e9eff8c368"
      },
      "source": [
        "#얼마나 맞췄고(정분류), 얼마나 틀렸는지(오분류) 세부적으로 살펴보기\n",
        "from sklearn.metrics import confusion_matrix\n",
        "\n",
        "confusion_train = confusion_matrix(y_train, pred_train)\n",
        "print(\"훈련 데이터 오차행렬:\\n\", confusion_train) # 행 : 실제 값 0 1, 열 : 예측한 값 0  1"
      ],
      "execution_count": null,
      "outputs": [
        {
          "output_type": "stream",
          "name": "stdout",
          "text": [
            "훈련 데이터 오차행렬:\n",
            " [[328   5]\n",
            " [  9 170]]\n"
          ]
        }
      ]
    },
    {
      "cell_type": "markdown",
      "metadata": {
        "id": "IdME1y5tcHZd"
      },
      "source": [
        "정상(0) 333명중 328명을 제대로 분류\n",
        "\n",
        "환자(1) 179명중 170명을 제대로 분류"
      ]
    },
    {
      "cell_type": "code",
      "metadata": {
        "colab": {
          "base_uri": "https://localhost:8080/"
        },
        "id": "XouztXX8bsUT",
        "outputId": "66ff6332-cca3-4d20-988e-ee0b4c51ae8e"
      },
      "source": [
        "confusion_test = confusion_matrix(y_test, pred_test)\n",
        "print(\"테스트 데이터 오차행렬:\\n\", confusion_test)"
      ],
      "execution_count": null,
      "outputs": [
        {
          "output_type": "stream",
          "name": "stdout",
          "text": [
            "테스트 데이터 오차행렬:\n",
            " [[106   5]\n",
            " [  2  58]]\n"
          ]
        }
      ]
    },
    {
      "cell_type": "code",
      "metadata": {
        "colab": {
          "base_uri": "https://localhost:8080/"
        },
        "id": "aevwZRZbcjPb",
        "outputId": "6d6133bb-9f54-49b6-8c20-6f25f9aa4d17"
      },
      "source": [
        "#상세한 평가지표 확인 : classification_report\n",
        "from sklearn.metrics import classification_report\n",
        "report_train = classification_report(y_train, pred_train)\n",
        "print(\"분류 예측 레포트:\\n\", report_train)"
      ],
      "execution_count": null,
      "outputs": [
        {
          "output_type": "stream",
          "name": "stdout",
          "text": [
            "분류 예측 레포트:\n",
            "               precision    recall  f1-score   support\n",
            "\n",
            "           0       0.97      0.98      0.98       333\n",
            "           1       0.97      0.95      0.96       179\n",
            "\n",
            "    accuracy                           0.97       512\n",
            "   macro avg       0.97      0.97      0.97       512\n",
            "weighted avg       0.97      0.97      0.97       512\n",
            "\n"
          ]
        }
      ]
    },
    {
      "cell_type": "code",
      "metadata": {
        "colab": {
          "base_uri": "https://localhost:8080/"
        },
        "id": "UH83O0AVdCM0",
        "outputId": "5e84c1c3-f6d0-4b18-a9f2-85a0ed1a06ad"
      },
      "source": [
        "report_test = classification_report(y_test, pred_test)\n",
        "print(\"분류 예측 레포트:\\n\", report_test)"
      ],
      "execution_count": null,
      "outputs": [
        {
          "output_type": "stream",
          "name": "stdout",
          "text": [
            "분류 예측 레포트:\n",
            "               precision    recall  f1-score   support\n",
            "\n",
            "           0       0.98      0.95      0.97       111\n",
            "           1       0.92      0.97      0.94        60\n",
            "\n",
            "    accuracy                           0.96       171\n",
            "   macro avg       0.95      0.96      0.96       171\n",
            "weighted avg       0.96      0.96      0.96       171\n",
            "\n"
          ]
        }
      ]
    },
    {
      "cell_type": "code",
      "metadata": {
        "colab": {
          "base_uri": "https://localhost:8080/"
        },
        "id": "X-y_zwSndJ_L",
        "outputId": "066e8d3a-15e3-4c58-fad4-c3fccb46bcfc"
      },
      "source": [
        "#또 다른 평가지표 : roc_auc_curve\n",
        "from sklearn.metrics import roc_curve, auc, roc_auc_score\n",
        "\n",
        "false_positive_rate, true_positive_rate, thresholds = roc_curve(y_test, model.decision_function(X_scaled_minmax_test))\n",
        "roc_auc = roc_auc_score(y_test,model.decision_function(X_scaled_minmax_test))\n",
        "roc_auc"
      ],
      "execution_count": null,
      "outputs": [
        {
          "output_type": "execute_result",
          "data": {
            "text/plain": [
              "0.9923423423423423"
            ]
          },
          "metadata": {},
          "execution_count": 27
        }
      ]
    },
    {
      "cell_type": "code",
      "metadata": {
        "colab": {
          "base_uri": "https://localhost:8080/",
          "height": 295
        },
        "id": "qvP0VbEeeWqM",
        "outputId": "93cc94f6-224a-498a-f836-0726329a29c4"
      },
      "source": [
        "#ROC Curve 그리기\n",
        "import matplotlib.pyplot as plt\n",
        "\n",
        "plt.title(\"Receiver Operating Characteristic\")\n",
        "plt.xlabel(\"False Positive Rate(1 - Specificity)\")\n",
        "plt.ylabel(\"True Positive Rate(Sensitivity)\")\n",
        "\n",
        "plt.plot(false_positive_rate, true_positive_rate, 'b', label = 'Model (AUC = %0.2f)' % roc_auc)\n",
        "plt.plot([0,1], [1,1], 'y--')\n",
        "plt.plot([0,1], [0,1], 'r--')\n",
        "plt.legend(loc = 'lower right')\n",
        "plt.show()"
      ],
      "execution_count": null,
      "outputs": [
        {
          "output_type": "display_data",
          "data": {
            "image/png": "[encoded data removed]",
            "text/plain": [
              "<Figure size 432x288 with 1 Axes>"
            ]
          },
          "metadata": {
            "needs_background": "light"
          }
        }
      ]
    },
    {
      "cell_type": "markdown",
      "metadata": {
        "id": "Tt2uB2qGcvVw"
      },
      "source": [
        "##2.6 예측값 병합 및 저장"
      ]
    },
    {
      "cell_type": "code",
      "metadata": {
        "id": "Z4wCW8-agBqD",
        "colab": {
          "base_uri": "https://localhost:8080/",
          "height": 933
        },
        "outputId": "28bcd1be-6fb5-4fad-e234-f328f282d8c0"
      },
      "source": [
        "#실제값, 예측값(범주), 예측확률을 y_train, y_test에 각각 저장\n",
        "prob_train = model.predict_proba(X_scaled_minmax_train)\n",
        "y_train[['y_pred']] = pred_train\n",
        "y_train[['y_prob0', 'y_prob1']] = prob_train\n",
        "y_train"
      ],
      "execution_count": null,
      "outputs": [
        {
          "output_type": "stream",
          "name": "stderr",
          "text": [
            "/usr/local/lib/python3.7/dist-packages/pandas/core/indexing.py:659: SettingWithCopyWarning: \n",
            "A value is trying to be set on a copy of a slice from a DataFrame.\n",
            "Try using .loc[row_indexer,col_indexer] = value instead\n",
            "\n",
            "See the caveats in the documentation: https://pandas.pydata.org/pandas-docs/stable/user_guide/indexing.html#returning-a-view-versus-a-copy\n",
            "  self.obj[k] = np.nan\n",
            "/usr/local/lib/python3.7/dist-packages/ipykernel_launcher.py:2: SettingWithCopyWarning: \n",
            "A value is trying to be set on a copy of a slice from a DataFrame.\n",
            "Try using .loc[row_indexer,col_indexer] = value instead\n",
            "\n",
            "See the caveats in the documentation: https://pandas.pydata.org/pandas-docs/stable/user_guide/indexing.html#returning-a-view-versus-a-copy\n",
            "  \n",
            "/usr/local/lib/python3.7/dist-packages/pandas/core/indexing.py:1743: SettingWithCopyWarning: \n",
            "A value is trying to be set on a copy of a slice from a DataFrame.\n",
            "Try using .loc[row_indexer,col_indexer] = value instead\n",
            "\n",
            "See the caveats in the documentation: https://pandas.pydata.org/pandas-docs/stable/user_guide/indexing.html#returning-a-view-versus-a-copy\n",
            "  isetter(ilocs[0], value)\n",
            "/usr/local/lib/python3.7/dist-packages/ipykernel_launcher.py:3: SettingWithCopyWarning: \n",
            "A value is trying to be set on a copy of a slice from a DataFrame.\n",
            "Try using .loc[row_indexer,col_indexer] = value instead\n",
            "\n",
            "See the caveats in the documentation: https://pandas.pydata.org/pandas-docs/stable/user_guide/indexing.html#returning-a-view-versus-a-copy\n",
            "  This is separate from the ipykernel package so we can avoid doing imports until\n",
            "/usr/local/lib/python3.7/dist-packages/pandas/core/indexing.py:1734: SettingWithCopyWarning: \n",
            "A value is trying to be set on a copy of a slice from a DataFrame.\n",
            "Try using .loc[row_indexer,col_indexer] = value instead\n",
            "\n",
            "See the caveats in the documentation: https://pandas.pydata.org/pandas-docs/stable/user_guide/indexing.html#returning-a-view-versus-a-copy\n",
            "  isetter(loc, value[:, i].tolist())\n"
          ]
        },
        {
          "output_type": "execute_result",
          "data": {
            "text/html": [
              "<div>\n",
              "<style scoped>\n",
              "    .dataframe tbody tr th:only-of-type {\n",
              "        vertical-align: middle;\n",
              "    }\n",
              "\n",
              "    .dataframe tbody tr th {\n",
              "        vertical-align: top;\n",
              "    }\n",
              "\n",
              "    .dataframe thead th {\n",
              "        text-align: right;\n",
              "    }\n",
              "</style>\n",
              "<table border=\"1\" class=\"dataframe\">\n",
              "  <thead>\n",
              "    <tr style=\"text-align: right;\">\n",
              "      <th></th>\n",
              "      <th>Class</th>\n",
              "      <th>y_pred</th>\n",
              "      <th>y_prob0</th>\n",
              "      <th>y_prob1</th>\n",
              "    </tr>\n",
              "  </thead>\n",
              "  <tbody>\n",
              "    <tr>\n",
              "      <th>131</th>\n",
              "      <td>0</td>\n",
              "      <td>0</td>\n",
              "      <td>0.981014</td>\n",
              "      <td>0.018986</td>\n",
              "    </tr>\n",
              "    <tr>\n",
              "      <th>6</th>\n",
              "      <td>0</td>\n",
              "      <td>0</td>\n",
              "      <td>0.768191</td>\n",
              "      <td>0.231809</td>\n",
              "    </tr>\n",
              "    <tr>\n",
              "      <th>0</th>\n",
              "      <td>0</td>\n",
              "      <td>0</td>\n",
              "      <td>0.966431</td>\n",
              "      <td>0.033569</td>\n",
              "    </tr>\n",
              "    <tr>\n",
              "      <th>269</th>\n",
              "      <td>0</td>\n",
              "      <td>0</td>\n",
              "      <td>0.988880</td>\n",
              "      <td>0.011120</td>\n",
              "    </tr>\n",
              "    <tr>\n",
              "      <th>56</th>\n",
              "      <td>1</td>\n",
              "      <td>1</td>\n",
              "      <td>0.203161</td>\n",
              "      <td>0.796839</td>\n",
              "    </tr>\n",
              "    <tr>\n",
              "      <th>...</th>\n",
              "      <td>...</td>\n",
              "      <td>...</td>\n",
              "      <td>...</td>\n",
              "      <td>...</td>\n",
              "    </tr>\n",
              "    <tr>\n",
              "      <th>515</th>\n",
              "      <td>1</td>\n",
              "      <td>1</td>\n",
              "      <td>0.021270</td>\n",
              "      <td>0.978730</td>\n",
              "    </tr>\n",
              "    <tr>\n",
              "      <th>216</th>\n",
              "      <td>1</td>\n",
              "      <td>0</td>\n",
              "      <td>0.895961</td>\n",
              "      <td>0.104039</td>\n",
              "    </tr>\n",
              "    <tr>\n",
              "      <th>312</th>\n",
              "      <td>1</td>\n",
              "      <td>1</td>\n",
              "      <td>0.113440</td>\n",
              "      <td>0.886560</td>\n",
              "    </tr>\n",
              "    <tr>\n",
              "      <th>11</th>\n",
              "      <td>0</td>\n",
              "      <td>0</td>\n",
              "      <td>0.987405</td>\n",
              "      <td>0.012595</td>\n",
              "    </tr>\n",
              "    <tr>\n",
              "      <th>268</th>\n",
              "      <td>0</td>\n",
              "      <td>0</td>\n",
              "      <td>0.990470</td>\n",
              "      <td>0.009530</td>\n",
              "    </tr>\n",
              "  </tbody>\n",
              "</table>\n",
              "<p>512 rows × 4 columns</p>\n",
              "</div>"
            ],
            "text/plain": [
              "     Class  y_pred   y_prob0   y_prob1\n",
              "131      0       0  0.981014  0.018986\n",
              "6        0       0  0.768191  0.231809\n",
              "0        0       0  0.966431  0.033569\n",
              "269      0       0  0.988880  0.011120\n",
              "56       1       1  0.203161  0.796839\n",
              "..     ...     ...       ...       ...\n",
              "515      1       1  0.021270  0.978730\n",
              "216      1       0  0.895961  0.104039\n",
              "312      1       1  0.113440  0.886560\n",
              "11       0       0  0.987405  0.012595\n",
              "268      0       0  0.990470  0.009530\n",
              "\n",
              "[512 rows x 4 columns]"
            ]
          },
          "metadata": {},
          "execution_count": 30
        }
      ]
    },
    {
      "cell_type": "code",
      "metadata": {
        "colab": {
          "base_uri": "https://localhost:8080/",
          "height": 933
        },
        "id": "CyfZK_fpdQL3",
        "outputId": "bfa0a16c-201f-46f2-a770-63f9625f9ab4"
      },
      "source": [
        "prob_test = model.predict_proba(X_scaled_minmax_test)\n",
        "y_test[['y_pred']] = pred_test\n",
        "y_test[['y_prob0', 'y_prob1']] = prob_test\n",
        "y_test"
      ],
      "execution_count": null,
      "outputs": [
        {
          "output_type": "stream",
          "name": "stderr",
          "text": [
            "/usr/local/lib/python3.7/dist-packages/pandas/core/indexing.py:659: SettingWithCopyWarning: \n",
            "A value is trying to be set on a copy of a slice from a DataFrame.\n",
            "Try using .loc[row_indexer,col_indexer] = value instead\n",
            "\n",
            "See the caveats in the documentation: https://pandas.pydata.org/pandas-docs/stable/user_guide/indexing.html#returning-a-view-versus-a-copy\n",
            "  self.obj[k] = np.nan\n",
            "/usr/local/lib/python3.7/dist-packages/ipykernel_launcher.py:2: SettingWithCopyWarning: \n",
            "A value is trying to be set on a copy of a slice from a DataFrame.\n",
            "Try using .loc[row_indexer,col_indexer] = value instead\n",
            "\n",
            "See the caveats in the documentation: https://pandas.pydata.org/pandas-docs/stable/user_guide/indexing.html#returning-a-view-versus-a-copy\n",
            "  \n",
            "/usr/local/lib/python3.7/dist-packages/pandas/core/indexing.py:1743: SettingWithCopyWarning: \n",
            "A value is trying to be set on a copy of a slice from a DataFrame.\n",
            "Try using .loc[row_indexer,col_indexer] = value instead\n",
            "\n",
            "See the caveats in the documentation: https://pandas.pydata.org/pandas-docs/stable/user_guide/indexing.html#returning-a-view-versus-a-copy\n",
            "  isetter(ilocs[0], value)\n",
            "/usr/local/lib/python3.7/dist-packages/ipykernel_launcher.py:3: SettingWithCopyWarning: \n",
            "A value is trying to be set on a copy of a slice from a DataFrame.\n",
            "Try using .loc[row_indexer,col_indexer] = value instead\n",
            "\n",
            "See the caveats in the documentation: https://pandas.pydata.org/pandas-docs/stable/user_guide/indexing.html#returning-a-view-versus-a-copy\n",
            "  This is separate from the ipykernel package so we can avoid doing imports until\n",
            "/usr/local/lib/python3.7/dist-packages/pandas/core/indexing.py:1734: SettingWithCopyWarning: \n",
            "A value is trying to be set on a copy of a slice from a DataFrame.\n",
            "Try using .loc[row_indexer,col_indexer] = value instead\n",
            "\n",
            "See the caveats in the documentation: https://pandas.pydata.org/pandas-docs/stable/user_guide/indexing.html#returning-a-view-versus-a-copy\n",
            "  isetter(loc, value[:, i].tolist())\n"
          ]
        },
        {
          "output_type": "execute_result",
          "data": {
            "text/html": [
              "<div>\n",
              "<style scoped>\n",
              "    .dataframe tbody tr th:only-of-type {\n",
              "        vertical-align: middle;\n",
              "    }\n",
              "\n",
              "    .dataframe tbody tr th {\n",
              "        vertical-align: top;\n",
              "    }\n",
              "\n",
              "    .dataframe thead th {\n",
              "        text-align: right;\n",
              "    }\n",
              "</style>\n",
              "<table border=\"1\" class=\"dataframe\">\n",
              "  <thead>\n",
              "    <tr style=\"text-align: right;\">\n",
              "      <th></th>\n",
              "      <th>Class</th>\n",
              "      <th>y_pred</th>\n",
              "      <th>y_prob0</th>\n",
              "      <th>y_prob1</th>\n",
              "    </tr>\n",
              "  </thead>\n",
              "  <tbody>\n",
              "    <tr>\n",
              "      <th>541</th>\n",
              "      <td>0</td>\n",
              "      <td>0</td>\n",
              "      <td>0.955893</td>\n",
              "      <td>0.044107</td>\n",
              "    </tr>\n",
              "    <tr>\n",
              "      <th>549</th>\n",
              "      <td>0</td>\n",
              "      <td>0</td>\n",
              "      <td>0.970887</td>\n",
              "      <td>0.029113</td>\n",
              "    </tr>\n",
              "    <tr>\n",
              "      <th>318</th>\n",
              "      <td>0</td>\n",
              "      <td>0</td>\n",
              "      <td>0.943572</td>\n",
              "      <td>0.056428</td>\n",
              "    </tr>\n",
              "    <tr>\n",
              "      <th>183</th>\n",
              "      <td>0</td>\n",
              "      <td>0</td>\n",
              "      <td>0.979370</td>\n",
              "      <td>0.020630</td>\n",
              "    </tr>\n",
              "    <tr>\n",
              "      <th>478</th>\n",
              "      <td>1</td>\n",
              "      <td>1</td>\n",
              "      <td>0.001305</td>\n",
              "      <td>0.998695</td>\n",
              "    </tr>\n",
              "    <tr>\n",
              "      <th>...</th>\n",
              "      <td>...</td>\n",
              "      <td>...</td>\n",
              "      <td>...</td>\n",
              "      <td>...</td>\n",
              "    </tr>\n",
              "    <tr>\n",
              "      <th>425</th>\n",
              "      <td>1</td>\n",
              "      <td>1</td>\n",
              "      <td>0.006201</td>\n",
              "      <td>0.993799</td>\n",
              "    </tr>\n",
              "    <tr>\n",
              "      <th>314</th>\n",
              "      <td>1</td>\n",
              "      <td>1</td>\n",
              "      <td>0.067440</td>\n",
              "      <td>0.932560</td>\n",
              "    </tr>\n",
              "    <tr>\n",
              "      <th>15</th>\n",
              "      <td>1</td>\n",
              "      <td>1</td>\n",
              "      <td>0.436887</td>\n",
              "      <td>0.563113</td>\n",
              "    </tr>\n",
              "    <tr>\n",
              "      <th>510</th>\n",
              "      <td>0</td>\n",
              "      <td>0</td>\n",
              "      <td>0.983410</td>\n",
              "      <td>0.016590</td>\n",
              "    </tr>\n",
              "    <tr>\n",
              "      <th>351</th>\n",
              "      <td>0</td>\n",
              "      <td>0</td>\n",
              "      <td>0.987405</td>\n",
              "      <td>0.012595</td>\n",
              "    </tr>\n",
              "  </tbody>\n",
              "</table>\n",
              "<p>171 rows × 4 columns</p>\n",
              "</div>"
            ],
            "text/plain": [
              "     Class  y_pred   y_prob0   y_prob1\n",
              "541      0       0  0.955893  0.044107\n",
              "549      0       0  0.970887  0.029113\n",
              "318      0       0  0.943572  0.056428\n",
              "183      0       0  0.979370  0.020630\n",
              "478      1       1  0.001305  0.998695\n",
              "..     ...     ...       ...       ...\n",
              "425      1       1  0.006201  0.993799\n",
              "314      1       1  0.067440  0.932560\n",
              "15       1       1  0.436887  0.563113\n",
              "510      0       0  0.983410  0.016590\n",
              "351      0       0  0.987405  0.012595\n",
              "\n",
              "[171 rows x 4 columns]"
            ]
          },
          "metadata": {},
          "execution_count": 32
        }
      ]
    },
    {
      "cell_type": "code",
      "metadata": {
        "colab": {
          "base_uri": "https://localhost:8080/",
          "height": 408
        },
        "id": "yoGwBzGkd64r",
        "outputId": "2e38b7cc-043f-4081-d65a-94945c3982bb"
      },
      "source": [
        "#pd.concat -> axis가 0이면 같은 특성을 가지는 데이터를 추가, axis가 1이면 변수(칼럼)을 합친다.\n",
        "Total_test = pd.concat([X_test, y_test], axis = 1)\n",
        "Total_test"
      ],
      "execution_count": null,
      "outputs": [
        {
          "output_type": "execute_result",
          "data": {
            "text/html": [
              "<div>\n",
              "<style scoped>\n",
              "    .dataframe tbody tr th:only-of-type {\n",
              "        vertical-align: middle;\n",
              "    }\n",
              "\n",
              "    .dataframe tbody tr th {\n",
              "        vertical-align: top;\n",
              "    }\n",
              "\n",
              "    .dataframe thead th {\n",
              "        text-align: right;\n",
              "    }\n",
              "</style>\n",
              "<table border=\"1\" class=\"dataframe\">\n",
              "  <thead>\n",
              "    <tr style=\"text-align: right;\">\n",
              "      <th></th>\n",
              "      <th>Clump_Thickness</th>\n",
              "      <th>Cell_Size</th>\n",
              "      <th>Cell_Shape</th>\n",
              "      <th>Marginal_Adhesion</th>\n",
              "      <th>Single_Epithelial_Cell_Size</th>\n",
              "      <th>Bare_Nuclei</th>\n",
              "      <th>Bland_Chromatin</th>\n",
              "      <th>Normal_Nucleoli</th>\n",
              "      <th>Mitoses</th>\n",
              "      <th>Class</th>\n",
              "      <th>y_pred</th>\n",
              "      <th>y_prob0</th>\n",
              "      <th>y_prob1</th>\n",
              "    </tr>\n",
              "  </thead>\n",
              "  <tbody>\n",
              "    <tr>\n",
              "      <th>541</th>\n",
              "      <td>5</td>\n",
              "      <td>2</td>\n",
              "      <td>2</td>\n",
              "      <td>2</td>\n",
              "      <td>1</td>\n",
              "      <td>1</td>\n",
              "      <td>2</td>\n",
              "      <td>1</td>\n",
              "      <td>1</td>\n",
              "      <td>0</td>\n",
              "      <td>0</td>\n",
              "      <td>0.955893</td>\n",
              "      <td>0.044107</td>\n",
              "    </tr>\n",
              "    <tr>\n",
              "      <th>549</th>\n",
              "      <td>4</td>\n",
              "      <td>1</td>\n",
              "      <td>1</td>\n",
              "      <td>1</td>\n",
              "      <td>2</td>\n",
              "      <td>1</td>\n",
              "      <td>3</td>\n",
              "      <td>2</td>\n",
              "      <td>1</td>\n",
              "      <td>0</td>\n",
              "      <td>0</td>\n",
              "      <td>0.970887</td>\n",
              "      <td>0.029113</td>\n",
              "    </tr>\n",
              "    <tr>\n",
              "      <th>318</th>\n",
              "      <td>5</td>\n",
              "      <td>2</td>\n",
              "      <td>2</td>\n",
              "      <td>2</td>\n",
              "      <td>2</td>\n",
              "      <td>1</td>\n",
              "      <td>2</td>\n",
              "      <td>2</td>\n",
              "      <td>1</td>\n",
              "      <td>0</td>\n",
              "      <td>0</td>\n",
              "      <td>0.943572</td>\n",
              "      <td>0.056428</td>\n",
              "    </tr>\n",
              "    <tr>\n",
              "      <th>183</th>\n",
              "      <td>1</td>\n",
              "      <td>2</td>\n",
              "      <td>3</td>\n",
              "      <td>1</td>\n",
              "      <td>2</td>\n",
              "      <td>1</td>\n",
              "      <td>3</td>\n",
              "      <td>1</td>\n",
              "      <td>1</td>\n",
              "      <td>0</td>\n",
              "      <td>0</td>\n",
              "      <td>0.979370</td>\n",
              "      <td>0.020630</td>\n",
              "    </tr>\n",
              "    <tr>\n",
              "      <th>478</th>\n",
              "      <td>5</td>\n",
              "      <td>10</td>\n",
              "      <td>10</td>\n",
              "      <td>10</td>\n",
              "      <td>6</td>\n",
              "      <td>10</td>\n",
              "      <td>6</td>\n",
              "      <td>5</td>\n",
              "      <td>2</td>\n",
              "      <td>1</td>\n",
              "      <td>1</td>\n",
              "      <td>0.001305</td>\n",
              "      <td>0.998695</td>\n",
              "    </tr>\n",
              "    <tr>\n",
              "      <th>...</th>\n",
              "      <td>...</td>\n",
              "      <td>...</td>\n",
              "      <td>...</td>\n",
              "      <td>...</td>\n",
              "      <td>...</td>\n",
              "      <td>...</td>\n",
              "      <td>...</td>\n",
              "      <td>...</td>\n",
              "      <td>...</td>\n",
              "      <td>...</td>\n",
              "      <td>...</td>\n",
              "      <td>...</td>\n",
              "      <td>...</td>\n",
              "    </tr>\n",
              "    <tr>\n",
              "      <th>425</th>\n",
              "      <td>10</td>\n",
              "      <td>4</td>\n",
              "      <td>3</td>\n",
              "      <td>10</td>\n",
              "      <td>4</td>\n",
              "      <td>10</td>\n",
              "      <td>10</td>\n",
              "      <td>1</td>\n",
              "      <td>1</td>\n",
              "      <td>1</td>\n",
              "      <td>1</td>\n",
              "      <td>0.006201</td>\n",
              "      <td>0.993799</td>\n",
              "    </tr>\n",
              "    <tr>\n",
              "      <th>314</th>\n",
              "      <td>8</td>\n",
              "      <td>10</td>\n",
              "      <td>3</td>\n",
              "      <td>2</td>\n",
              "      <td>6</td>\n",
              "      <td>4</td>\n",
              "      <td>3</td>\n",
              "      <td>10</td>\n",
              "      <td>1</td>\n",
              "      <td>1</td>\n",
              "      <td>1</td>\n",
              "      <td>0.067440</td>\n",
              "      <td>0.932560</td>\n",
              "    </tr>\n",
              "    <tr>\n",
              "      <th>15</th>\n",
              "      <td>7</td>\n",
              "      <td>4</td>\n",
              "      <td>6</td>\n",
              "      <td>4</td>\n",
              "      <td>6</td>\n",
              "      <td>1</td>\n",
              "      <td>4</td>\n",
              "      <td>3</td>\n",
              "      <td>1</td>\n",
              "      <td>1</td>\n",
              "      <td>1</td>\n",
              "      <td>0.436887</td>\n",
              "      <td>0.563113</td>\n",
              "    </tr>\n",
              "    <tr>\n",
              "      <th>510</th>\n",
              "      <td>3</td>\n",
              "      <td>1</td>\n",
              "      <td>1</td>\n",
              "      <td>2</td>\n",
              "      <td>2</td>\n",
              "      <td>1</td>\n",
              "      <td>1</td>\n",
              "      <td>1</td>\n",
              "      <td>1</td>\n",
              "      <td>0</td>\n",
              "      <td>0</td>\n",
              "      <td>0.983410</td>\n",
              "      <td>0.016590</td>\n",
              "    </tr>\n",
              "    <tr>\n",
              "      <th>351</th>\n",
              "      <td>2</td>\n",
              "      <td>1</td>\n",
              "      <td>1</td>\n",
              "      <td>1</td>\n",
              "      <td>2</td>\n",
              "      <td>1</td>\n",
              "      <td>2</td>\n",
              "      <td>1</td>\n",
              "      <td>1</td>\n",
              "      <td>0</td>\n",
              "      <td>0</td>\n",
              "      <td>0.987405</td>\n",
              "      <td>0.012595</td>\n",
              "    </tr>\n",
              "  </tbody>\n",
              "</table>\n",
              "<p>171 rows × 13 columns</p>\n",
              "</div>"
            ],
            "text/plain": [
              "     Clump_Thickness  Cell_Size  Cell_Shape  ...  y_pred   y_prob0   y_prob1\n",
              "541                5          2           2  ...       0  0.955893  0.044107\n",
              "549                4          1           1  ...       0  0.970887  0.029113\n",
              "318                5          2           2  ...       0  0.943572  0.056428\n",
              "183                1          2           3  ...       0  0.979370  0.020630\n",
              "478                5         10          10  ...       1  0.001305  0.998695\n",
              "..               ...        ...         ...  ...     ...       ...       ...\n",
              "425               10          4           3  ...       1  0.006201  0.993799\n",
              "314                8         10           3  ...       1  0.067440  0.932560\n",
              "15                 7          4           6  ...       1  0.436887  0.563113\n",
              "510                3          1           1  ...       0  0.983410  0.016590\n",
              "351                2          1           1  ...       0  0.987405  0.012595\n",
              "\n",
              "[171 rows x 13 columns]"
            ]
          },
          "metadata": {},
          "execution_count": 33
        }
      ]
    },
    {
      "cell_type": "code",
      "metadata": {
        "id": "2EPsUakee34R"
      },
      "source": [
        "Total_test.to_csv(\"classification_test.csv\")"
      ],
      "execution_count": null,
      "outputs": []
    },
    {
      "cell_type": "markdown",
      "metadata": {
        "id": "1gExYrevfRSn"
      },
      "source": [
        "# 3. 머신러닝 맛보기2: 회귀문제"
      ]
    },
    {
      "cell_type": "code",
      "metadata": {
        "colab": {
          "base_uri": "https://localhost:8080/",
          "height": 200
        },
        "id": "3rLd7fKFfF63",
        "outputId": "b6b6a917-1c79-4fbc-fc42-aa6b71c433af"
      },
      "source": [
        "import pandas as pd\n",
        "df = pd.read_csv('house_price.csv')\n",
        "df.head()"
      ],
      "execution_count": null,
      "outputs": [
        {
          "output_type": "execute_result",
          "data": {
            "text/html": [
              "<div>\n",
              "<style scoped>\n",
              "    .dataframe tbody tr th:only-of-type {\n",
              "        vertical-align: middle;\n",
              "    }\n",
              "\n",
              "    .dataframe tbody tr th {\n",
              "        vertical-align: top;\n",
              "    }\n",
              "\n",
              "    .dataframe thead th {\n",
              "        text-align: right;\n",
              "    }\n",
              "</style>\n",
              "<table border=\"1\" class=\"dataframe\">\n",
              "  <thead>\n",
              "    <tr style=\"text-align: right;\">\n",
              "      <th></th>\n",
              "      <th>housing_age</th>\n",
              "      <th>income</th>\n",
              "      <th>bedrooms</th>\n",
              "      <th>households</th>\n",
              "      <th>rooms</th>\n",
              "      <th>house_value</th>\n",
              "    </tr>\n",
              "  </thead>\n",
              "  <tbody>\n",
              "    <tr>\n",
              "      <th>0</th>\n",
              "      <td>23</td>\n",
              "      <td>6.7770</td>\n",
              "      <td>0.141112</td>\n",
              "      <td>2.442244</td>\n",
              "      <td>8.103960</td>\n",
              "      <td>500000</td>\n",
              "    </tr>\n",
              "    <tr>\n",
              "      <th>1</th>\n",
              "      <td>49</td>\n",
              "      <td>6.0199</td>\n",
              "      <td>0.160984</td>\n",
              "      <td>2.726688</td>\n",
              "      <td>5.752412</td>\n",
              "      <td>500000</td>\n",
              "    </tr>\n",
              "    <tr>\n",
              "      <th>2</th>\n",
              "      <td>35</td>\n",
              "      <td>5.1155</td>\n",
              "      <td>0.249061</td>\n",
              "      <td>1.902676</td>\n",
              "      <td>3.888078</td>\n",
              "      <td>500000</td>\n",
              "    </tr>\n",
              "    <tr>\n",
              "      <th>3</th>\n",
              "      <td>32</td>\n",
              "      <td>4.7109</td>\n",
              "      <td>0.231383</td>\n",
              "      <td>1.913669</td>\n",
              "      <td>4.508393</td>\n",
              "      <td>500000</td>\n",
              "    </tr>\n",
              "    <tr>\n",
              "      <th>4</th>\n",
              "      <td>21</td>\n",
              "      <td>4.5625</td>\n",
              "      <td>0.255583</td>\n",
              "      <td>3.092664</td>\n",
              "      <td>4.667954</td>\n",
              "      <td>500000</td>\n",
              "    </tr>\n",
              "  </tbody>\n",
              "</table>\n",
              "</div>"
            ],
            "text/plain": [
              "   housing_age  income  bedrooms  households     rooms  house_value\n",
              "0           23  6.7770  0.141112    2.442244  8.103960       500000\n",
              "1           49  6.0199  0.160984    2.726688  5.752412       500000\n",
              "2           35  5.1155  0.249061    1.902676  3.888078       500000\n",
              "3           32  4.7109  0.231383    1.913669  4.508393       500000\n",
              "4           21  4.5625  0.255583    3.092664  4.667954       500000"
            ]
          },
          "metadata": {},
          "execution_count": 36
        }
      ]
    },
    {
      "cell_type": "code",
      "metadata": {
        "colab": {
          "base_uri": "https://localhost:8080/"
        },
        "id": "Nmd7g4crfkCb",
        "outputId": "95328ca9-5568-40a4-dc44-c889d953ebc6"
      },
      "source": [
        "print(df.shape)"
      ],
      "execution_count": null,
      "outputs": [
        {
          "output_type": "stream",
          "name": "stdout",
          "text": [
            "(17689, 6)\n"
          ]
        }
      ]
    },
    {
      "cell_type": "code",
      "metadata": {
        "colab": {
          "base_uri": "https://localhost:8080/",
          "height": 290
        },
        "id": "yj97NDG5fy4p",
        "outputId": "501b50e9-f30d-43ba-8035-2bde7623fca4"
      },
      "source": [
        "df.describe()"
      ],
      "execution_count": null,
      "outputs": [
        {
          "output_type": "execute_result",
          "data": {
            "text/html": [
              "<div>\n",
              "<style scoped>\n",
              "    .dataframe tbody tr th:only-of-type {\n",
              "        vertical-align: middle;\n",
              "    }\n",
              "\n",
              "    .dataframe tbody tr th {\n",
              "        vertical-align: top;\n",
              "    }\n",
              "\n",
              "    .dataframe thead th {\n",
              "        text-align: right;\n",
              "    }\n",
              "</style>\n",
              "<table border=\"1\" class=\"dataframe\">\n",
              "  <thead>\n",
              "    <tr style=\"text-align: right;\">\n",
              "      <th></th>\n",
              "      <th>housing_age</th>\n",
              "      <th>income</th>\n",
              "      <th>bedrooms</th>\n",
              "      <th>households</th>\n",
              "      <th>rooms</th>\n",
              "      <th>house_value</th>\n",
              "    </tr>\n",
              "  </thead>\n",
              "  <tbody>\n",
              "    <tr>\n",
              "      <th>count</th>\n",
              "      <td>17689.000000</td>\n",
              "      <td>17689.000000</td>\n",
              "      <td>17689.000000</td>\n",
              "      <td>17689.000000</td>\n",
              "      <td>17689.000000</td>\n",
              "      <td>17689.000000</td>\n",
              "    </tr>\n",
              "    <tr>\n",
              "      <th>mean</th>\n",
              "      <td>27.378823</td>\n",
              "      <td>3.671141</td>\n",
              "      <td>0.213278</td>\n",
              "      <td>2.952117</td>\n",
              "      <td>5.244001</td>\n",
              "      <td>189043.439313</td>\n",
              "    </tr>\n",
              "    <tr>\n",
              "      <th>std</th>\n",
              "      <td>11.280230</td>\n",
              "      <td>1.525937</td>\n",
              "      <td>0.051167</td>\n",
              "      <td>0.731573</td>\n",
              "      <td>1.184922</td>\n",
              "      <td>95487.122628</td>\n",
              "    </tr>\n",
              "    <tr>\n",
              "      <th>min</th>\n",
              "      <td>1.000000</td>\n",
              "      <td>0.499900</td>\n",
              "      <td>0.100000</td>\n",
              "      <td>0.750000</td>\n",
              "      <td>1.640000</td>\n",
              "      <td>14999.000000</td>\n",
              "    </tr>\n",
              "    <tr>\n",
              "      <th>25%</th>\n",
              "      <td>18.000000</td>\n",
              "      <td>2.532900</td>\n",
              "      <td>0.177464</td>\n",
              "      <td>2.470270</td>\n",
              "      <td>4.426829</td>\n",
              "      <td>114400.000000</td>\n",
              "    </tr>\n",
              "    <tr>\n",
              "      <th>50%</th>\n",
              "      <td>28.000000</td>\n",
              "      <td>3.453900</td>\n",
              "      <td>0.204104</td>\n",
              "      <td>2.854962</td>\n",
              "      <td>5.190779</td>\n",
              "      <td>171100.000000</td>\n",
              "    </tr>\n",
              "    <tr>\n",
              "      <th>75%</th>\n",
              "      <td>36.000000</td>\n",
              "      <td>4.591800</td>\n",
              "      <td>0.240157</td>\n",
              "      <td>3.316092</td>\n",
              "      <td>5.953728</td>\n",
              "      <td>242700.000000</td>\n",
              "    </tr>\n",
              "    <tr>\n",
              "      <th>max</th>\n",
              "      <td>51.000000</td>\n",
              "      <td>9.905500</td>\n",
              "      <td>0.498127</td>\n",
              "      <td>6.954023</td>\n",
              "      <td>11.901869</td>\n",
              "      <td>500000.000000</td>\n",
              "    </tr>\n",
              "  </tbody>\n",
              "</table>\n",
              "</div>"
            ],
            "text/plain": [
              "        housing_age        income  ...         rooms    house_value\n",
              "count  17689.000000  17689.000000  ...  17689.000000   17689.000000\n",
              "mean      27.378823      3.671141  ...      5.244001  189043.439313\n",
              "std       11.280230      1.525937  ...      1.184922   95487.122628\n",
              "min        1.000000      0.499900  ...      1.640000   14999.000000\n",
              "25%       18.000000      2.532900  ...      4.426829  114400.000000\n",
              "50%       28.000000      3.453900  ...      5.190779  171100.000000\n",
              "75%       36.000000      4.591800  ...      5.953728  242700.000000\n",
              "max       51.000000      9.905500  ...     11.901869  500000.000000\n",
              "\n",
              "[8 rows x 6 columns]"
            ]
          },
          "metadata": {},
          "execution_count": 38
        }
      ]
    },
    {
      "cell_type": "code",
      "metadata": {
        "colab": {
          "base_uri": "https://localhost:8080/",
          "height": 552
        },
        "id": "scQw83Fuf1GY",
        "outputId": "452de607-583c-4a24-f850-1ab2275d3e83"
      },
      "source": [
        "df.hist(bins = 50, figsize = (10, 9));"
      ],
      "execution_count": null,
      "outputs": [
        {
          "output_type": "display_data",
          "data": {
            "image/png": "[encoded data removed]",
            "text/plain": [
              "<Figure size 720x648 with 6 Axes>"
            ]
          },
          "metadata": {
            "needs_background": "light"
          }
        }
      ]
    },
    {
      "cell_type": "markdown",
      "metadata": {
        "id": "02DOSnIvgGUY"
      },
      "source": [
        "이미 한번 정제를 진행한 데이터이므로 머신러닝을 수행하는데 큰 문제가 없다."
      ]
    },
    {
      "cell_type": "markdown",
      "metadata": {
        "id": "EexMjhwOgOkP"
      },
      "source": [
        "##3.2 특성(X)과 레이블(y) 나누기"
      ]
    },
    {
      "cell_type": "code",
      "metadata": {
        "id": "5PEr9G_sgBuI"
      },
      "source": [
        "#방법1\n",
        "X1 = df[['housing_age', 'income', 'bedrooms', 'households', 'rooms']]\n",
        "#방법2\n",
        "X2 = df[df.columns[0:5]]\n",
        "#방법3\n",
        "X3 = df.loc[:, 'housing_age':'rooms']"
      ],
      "execution_count": null,
      "outputs": []
    },
    {
      "cell_type": "code",
      "metadata": {
        "colab": {
          "base_uri": "https://localhost:8080/"
        },
        "id": "gj6CvTWwgzss",
        "outputId": "cc29c8da-eb4f-45b7-da8f-f4d643bca91d"
      },
      "source": [
        "print(X1.shape)\n",
        "print(X2.shape)\n",
        "print(X3.shape)"
      ],
      "execution_count": null,
      "outputs": [
        {
          "output_type": "stream",
          "name": "stdout",
          "text": [
            "(17689, 5)\n",
            "(17689, 5)\n",
            "(17689, 5)\n"
          ]
        }
      ]
    },
    {
      "cell_type": "code",
      "metadata": {
        "id": "_WZiPd67g86Z"
      },
      "source": [
        "y = df[['house_value']]"
      ],
      "execution_count": null,
      "outputs": []
    },
    {
      "cell_type": "code",
      "metadata": {
        "colab": {
          "base_uri": "https://localhost:8080/"
        },
        "id": "4NjhW1PdhAcI",
        "outputId": "4a94a8d1-04e5-4c1d-c674-588a4f667b6e"
      },
      "source": [
        "y.shape"
      ],
      "execution_count": null,
      "outputs": [
        {
          "output_type": "execute_result",
          "data": {
            "text/plain": [
              "(17689, 1)"
            ]
          },
          "metadata": {},
          "execution_count": 45
        }
      ]
    },
    {
      "cell_type": "markdown",
      "metadata": {
        "id": "18Wt08FuhC6I"
      },
      "source": [
        "## 3.3 train-test 데이터셋 나누기"
      ]
    },
    {
      "cell_type": "code",
      "metadata": {
        "id": "NND0zhQJhBrA"
      },
      "source": [
        "X_train , X_test, y_train, y_test = train_test_split(X1, y, random_state = 42) #회귀 데이터이므로 stratify = y 옵션을 설정할 수 없다."
      ],
      "execution_count": null,
      "outputs": []
    },
    {
      "cell_type": "code",
      "metadata": {
        "colab": {
          "base_uri": "https://localhost:8080/"
        },
        "id": "BLl8OMM1hTJL",
        "outputId": "057940cf-2d29-426f-c776-076ee1957d69"
      },
      "source": [
        "print(y_train.mean())\n",
        "print(y_test.mean())"
      ],
      "execution_count": null,
      "outputs": [
        {
          "output_type": "stream",
          "name": "stdout",
          "text": [
            "house_value    189260.967812\n",
            "dtype: float64\n",
            "house_value    188391.001357\n",
            "dtype: float64\n"
          ]
        }
      ]
    },
    {
      "cell_type": "markdown",
      "metadata": {
        "id": "e6k-jej8h6ne"
      },
      "source": [
        "##3.4 정규화"
      ]
    },
    {
      "cell_type": "code",
      "metadata": {
        "id": "0fAA2jNCh4vZ"
      },
      "source": [
        "scaler_minmax = MinMaxScaler()\n",
        "scaler_standard = StandardScaler()"
      ],
      "execution_count": null,
      "outputs": []
    },
    {
      "cell_type": "markdown",
      "metadata": {
        "id": "vx5HlhLsiJ1j"
      },
      "source": [
        "###가. train data 정규화"
      ]
    },
    {
      "cell_type": "code",
      "metadata": {
        "id": "25s1HknpiDXf"
      },
      "source": [
        "X_scaled_minmax_train = scaler_minmax.fit_transform(X_train)"
      ],
      "execution_count": null,
      "outputs": []
    },
    {
      "cell_type": "code",
      "metadata": {
        "id": "iacubpLYiTVp"
      },
      "source": [
        "X_scaled_standard_train = scaler_standard.fit_transform(X_train)"
      ],
      "execution_count": null,
      "outputs": []
    },
    {
      "cell_type": "code",
      "metadata": {
        "colab": {
          "base_uri": "https://localhost:8080/",
          "height": 290
        },
        "id": "CZ0Tg0CoifDA",
        "outputId": "23547b4c-733d-4b79-c7e3-65128cdca05a"
      },
      "source": [
        "pd.DataFrame(X_scaled_minmax_train).describe()"
      ],
      "execution_count": null,
      "outputs": [
        {
          "output_type": "execute_result",
          "data": {
            "text/html": [
              "<div>\n",
              "<style scoped>\n",
              "    .dataframe tbody tr th:only-of-type {\n",
              "        vertical-align: middle;\n",
              "    }\n",
              "\n",
              "    .dataframe tbody tr th {\n",
              "        vertical-align: top;\n",
              "    }\n",
              "\n",
              "    .dataframe thead th {\n",
              "        text-align: right;\n",
              "    }\n",
              "</style>\n",
              "<table border=\"1\" class=\"dataframe\">\n",
              "  <thead>\n",
              "    <tr style=\"text-align: right;\">\n",
              "      <th></th>\n",
              "      <th>0</th>\n",
              "      <th>1</th>\n",
              "      <th>2</th>\n",
              "      <th>3</th>\n",
              "      <th>4</th>\n",
              "    </tr>\n",
              "  </thead>\n",
              "  <tbody>\n",
              "    <tr>\n",
              "      <th>count</th>\n",
              "      <td>13266.000000</td>\n",
              "      <td>13266.000000</td>\n",
              "      <td>13266.000000</td>\n",
              "      <td>13266.000000</td>\n",
              "      <td>13266.000000</td>\n",
              "    </tr>\n",
              "    <tr>\n",
              "      <th>mean</th>\n",
              "      <td>0.526774</td>\n",
              "      <td>0.337157</td>\n",
              "      <td>0.284682</td>\n",
              "      <td>0.357657</td>\n",
              "      <td>0.335256</td>\n",
              "    </tr>\n",
              "    <tr>\n",
              "      <th>std</th>\n",
              "      <td>0.224853</td>\n",
              "      <td>0.161972</td>\n",
              "      <td>0.129011</td>\n",
              "      <td>0.118029</td>\n",
              "      <td>0.117614</td>\n",
              "    </tr>\n",
              "    <tr>\n",
              "      <th>min</th>\n",
              "      <td>0.000000</td>\n",
              "      <td>0.000000</td>\n",
              "      <td>0.000000</td>\n",
              "      <td>0.000000</td>\n",
              "      <td>0.000000</td>\n",
              "    </tr>\n",
              "    <tr>\n",
              "      <th>25%</th>\n",
              "      <td>0.340000</td>\n",
              "      <td>0.217083</td>\n",
              "      <td>0.194600</td>\n",
              "      <td>0.280091</td>\n",
              "      <td>0.254470</td>\n",
              "    </tr>\n",
              "    <tr>\n",
              "      <th>50%</th>\n",
              "      <td>0.540000</td>\n",
              "      <td>0.313983</td>\n",
              "      <td>0.261866</td>\n",
              "      <td>0.342512</td>\n",
              "      <td>0.330405</td>\n",
              "    </tr>\n",
              "    <tr>\n",
              "      <th>75%</th>\n",
              "      <td>0.700000</td>\n",
              "      <td>0.435921</td>\n",
              "      <td>0.352555</td>\n",
              "      <td>0.416829</td>\n",
              "      <td>0.405879</td>\n",
              "    </tr>\n",
              "    <tr>\n",
              "      <th>max</th>\n",
              "      <td>1.000000</td>\n",
              "      <td>1.000000</td>\n",
              "      <td>1.000000</td>\n",
              "      <td>1.000000</td>\n",
              "      <td>1.000000</td>\n",
              "    </tr>\n",
              "  </tbody>\n",
              "</table>\n",
              "</div>"
            ],
            "text/plain": [
              "                  0             1             2             3             4\n",
              "count  13266.000000  13266.000000  13266.000000  13266.000000  13266.000000\n",
              "mean       0.526774      0.337157      0.284682      0.357657      0.335256\n",
              "std        0.224853      0.161972      0.129011      0.118029      0.117614\n",
              "min        0.000000      0.000000      0.000000      0.000000      0.000000\n",
              "25%        0.340000      0.217083      0.194600      0.280091      0.254470\n",
              "50%        0.540000      0.313983      0.261866      0.342512      0.330405\n",
              "75%        0.700000      0.435921      0.352555      0.416829      0.405879\n",
              "max        1.000000      1.000000      1.000000      1.000000      1.000000"
            ]
          },
          "metadata": {},
          "execution_count": 51
        }
      ]
    },
    {
      "cell_type": "code",
      "metadata": {
        "colab": {
          "base_uri": "https://localhost:8080/",
          "height": 290
        },
        "id": "j4lN3Eb8ikVB",
        "outputId": "3a05300b-1f19-4219-f56b-d0bd1303bc16"
      },
      "source": [
        "pd.DataFrame(X_scaled_standard_train).describe()"
      ],
      "execution_count": null,
      "outputs": [
        {
          "output_type": "execute_result",
          "data": {
            "text/html": [
              "<div>\n",
              "<style scoped>\n",
              "    .dataframe tbody tr th:only-of-type {\n",
              "        vertical-align: middle;\n",
              "    }\n",
              "\n",
              "    .dataframe tbody tr th {\n",
              "        vertical-align: top;\n",
              "    }\n",
              "\n",
              "    .dataframe thead th {\n",
              "        text-align: right;\n",
              "    }\n",
              "</style>\n",
              "<table border=\"1\" class=\"dataframe\">\n",
              "  <thead>\n",
              "    <tr style=\"text-align: right;\">\n",
              "      <th></th>\n",
              "      <th>0</th>\n",
              "      <th>1</th>\n",
              "      <th>2</th>\n",
              "      <th>3</th>\n",
              "      <th>4</th>\n",
              "    </tr>\n",
              "  </thead>\n",
              "  <tbody>\n",
              "    <tr>\n",
              "      <th>count</th>\n",
              "      <td>1.326600e+04</td>\n",
              "      <td>1.326600e+04</td>\n",
              "      <td>1.326600e+04</td>\n",
              "      <td>1.326600e+04</td>\n",
              "      <td>1.326600e+04</td>\n",
              "    </tr>\n",
              "    <tr>\n",
              "      <th>mean</th>\n",
              "      <td>5.615556e-18</td>\n",
              "      <td>1.545659e-16</td>\n",
              "      <td>7.976140e-16</td>\n",
              "      <td>-1.150896e-16</td>\n",
              "      <td>-3.631616e-16</td>\n",
              "    </tr>\n",
              "    <tr>\n",
              "      <th>std</th>\n",
              "      <td>1.000038e+00</td>\n",
              "      <td>1.000038e+00</td>\n",
              "      <td>1.000038e+00</td>\n",
              "      <td>1.000038e+00</td>\n",
              "      <td>1.000038e+00</td>\n",
              "    </tr>\n",
              "    <tr>\n",
              "      <th>min</th>\n",
              "      <td>-2.342832e+00</td>\n",
              "      <td>-2.081653e+00</td>\n",
              "      <td>-2.206729e+00</td>\n",
              "      <td>-3.030366e+00</td>\n",
              "      <td>-2.850578e+00</td>\n",
              "    </tr>\n",
              "    <tr>\n",
              "      <th>25%</th>\n",
              "      <td>-8.306782e-01</td>\n",
              "      <td>-7.413514e-01</td>\n",
              "      <td>-6.982778e-01</td>\n",
              "      <td>-6.572081e-01</td>\n",
              "      <td>-6.868994e-01</td>\n",
              "    </tr>\n",
              "    <tr>\n",
              "      <th>50%</th>\n",
              "      <td>5.882409e-02</td>\n",
              "      <td>-1.430799e-01</td>\n",
              "      <td>-1.768626e-01</td>\n",
              "      <td>-1.283229e-01</td>\n",
              "      <td>-4.124140e-02</td>\n",
              "    </tr>\n",
              "    <tr>\n",
              "      <th>75%</th>\n",
              "      <td>7.704259e-01</td>\n",
              "      <td>6.097813e-01</td>\n",
              "      <td>5.261181e-01</td>\n",
              "      <td>5.013487e-01</td>\n",
              "      <td>6.004859e-01</td>\n",
              "    </tr>\n",
              "    <tr>\n",
              "      <th>max</th>\n",
              "      <td>2.104679e+00</td>\n",
              "      <td>4.092478e+00</td>\n",
              "      <td>5.544819e+00</td>\n",
              "      <td>5.442457e+00</td>\n",
              "      <td>5.652123e+00</td>\n",
              "    </tr>\n",
              "  </tbody>\n",
              "</table>\n",
              "</div>"
            ],
            "text/plain": [
              "                  0             1             2             3             4\n",
              "count  1.326600e+04  1.326600e+04  1.326600e+04  1.326600e+04  1.326600e+04\n",
              "mean   5.615556e-18  1.545659e-16  7.976140e-16 -1.150896e-16 -3.631616e-16\n",
              "std    1.000038e+00  1.000038e+00  1.000038e+00  1.000038e+00  1.000038e+00\n",
              "min   -2.342832e+00 -2.081653e+00 -2.206729e+00 -3.030366e+00 -2.850578e+00\n",
              "25%   -8.306782e-01 -7.413514e-01 -6.982778e-01 -6.572081e-01 -6.868994e-01\n",
              "50%    5.882409e-02 -1.430799e-01 -1.768626e-01 -1.283229e-01 -4.124140e-02\n",
              "75%    7.704259e-01  6.097813e-01  5.261181e-01  5.013487e-01  6.004859e-01\n",
              "max    2.104679e+00  4.092478e+00  5.544819e+00  5.442457e+00  5.652123e+00"
            ]
          },
          "metadata": {},
          "execution_count": 53
        }
      ]
    },
    {
      "cell_type": "markdown",
      "metadata": {
        "id": "mY9mjORDjBn1"
      },
      "source": [
        "###나. 테스트 데이터 정규화"
      ]
    },
    {
      "cell_type": "code",
      "metadata": {
        "id": "RoWFnxBhirBT"
      },
      "source": [
        "X_scaled_minmax_test = scaler_minmax.transform(X_test)\n",
        "X_scaled_standard_test = scaler_standard.transform(X_test)"
      ],
      "execution_count": null,
      "outputs": []
    },
    {
      "cell_type": "code",
      "metadata": {
        "colab": {
          "base_uri": "https://localhost:8080/",
          "height": 290
        },
        "id": "p8bV7i9djOTi",
        "outputId": "d0aa8954-790d-4bb6-bf15-f572de77d74a"
      },
      "source": [
        "pd.DataFrame(X_scaled_minmax_test).describe()"
      ],
      "execution_count": null,
      "outputs": [
        {
          "output_type": "execute_result",
          "data": {
            "text/html": [
              "<div>\n",
              "<style scoped>\n",
              "    .dataframe tbody tr th:only-of-type {\n",
              "        vertical-align: middle;\n",
              "    }\n",
              "\n",
              "    .dataframe tbody tr th {\n",
              "        vertical-align: top;\n",
              "    }\n",
              "\n",
              "    .dataframe thead th {\n",
              "        text-align: right;\n",
              "    }\n",
              "</style>\n",
              "<table border=\"1\" class=\"dataframe\">\n",
              "  <thead>\n",
              "    <tr style=\"text-align: right;\">\n",
              "      <th></th>\n",
              "      <th>0</th>\n",
              "      <th>1</th>\n",
              "      <th>2</th>\n",
              "      <th>3</th>\n",
              "      <th>4</th>\n",
              "    </tr>\n",
              "  </thead>\n",
              "  <tbody>\n",
              "    <tr>\n",
              "      <th>count</th>\n",
              "      <td>4423.000000</td>\n",
              "      <td>4423.000000</td>\n",
              "      <td>4423.000000</td>\n",
              "      <td>4423.000000</td>\n",
              "      <td>4423.000000</td>\n",
              "    </tr>\n",
              "    <tr>\n",
              "      <th>mean</th>\n",
              "      <td>0.529984</td>\n",
              "      <td>0.337189</td>\n",
              "      <td>0.284061</td>\n",
              "      <td>0.362482</td>\n",
              "      <td>0.338222</td>\n",
              "    </tr>\n",
              "    <tr>\n",
              "      <th>std</th>\n",
              "      <td>0.227852</td>\n",
              "      <td>0.163047</td>\n",
              "      <td>0.127044</td>\n",
              "      <td>0.122663</td>\n",
              "      <td>0.119826</td>\n",
              "    </tr>\n",
              "    <tr>\n",
              "      <th>min</th>\n",
              "      <td>0.000000</td>\n",
              "      <td>0.000000</td>\n",
              "      <td>0.044099</td>\n",
              "      <td>0.051525</td>\n",
              "      <td>-0.023437</td>\n",
              "    </tr>\n",
              "    <tr>\n",
              "      <th>25%</th>\n",
              "      <td>0.340000</td>\n",
              "      <td>0.213011</td>\n",
              "      <td>0.194452</td>\n",
              "      <td>0.281143</td>\n",
              "      <td>0.254633</td>\n",
              "    </tr>\n",
              "    <tr>\n",
              "      <th>50%</th>\n",
              "      <td>0.540000</td>\n",
              "      <td>0.314536</td>\n",
              "      <td>0.260169</td>\n",
              "      <td>0.344791</td>\n",
              "      <td>0.331819</td>\n",
              "    </tr>\n",
              "    <tr>\n",
              "      <th>75%</th>\n",
              "      <td>0.700000</td>\n",
              "      <td>0.433109</td>\n",
              "      <td>0.351367</td>\n",
              "      <td>0.424120</td>\n",
              "      <td>0.410090</td>\n",
              "    </tr>\n",
              "    <tr>\n",
              "      <th>max</th>\n",
              "      <td>1.000000</td>\n",
              "      <td>0.992462</td>\n",
              "      <td>0.975243</td>\n",
              "      <td>1.011026</td>\n",
              "      <td>0.998799</td>\n",
              "    </tr>\n",
              "  </tbody>\n",
              "</table>\n",
              "</div>"
            ],
            "text/plain": [
              "                 0            1            2            3            4\n",
              "count  4423.000000  4423.000000  4423.000000  4423.000000  4423.000000\n",
              "mean      0.529984     0.337189     0.284061     0.362482     0.338222\n",
              "std       0.227852     0.163047     0.127044     0.122663     0.119826\n",
              "min       0.000000     0.000000     0.044099     0.051525    -0.023437\n",
              "25%       0.340000     0.213011     0.194452     0.281143     0.254633\n",
              "50%       0.540000     0.314536     0.260169     0.344791     0.331819\n",
              "75%       0.700000     0.433109     0.351367     0.424120     0.410090\n",
              "max       1.000000     0.992462     0.975243     1.011026     0.998799"
            ]
          },
          "metadata": {},
          "execution_count": 55
        }
      ]
    },
    {
      "cell_type": "code",
      "metadata": {
        "colab": {
          "base_uri": "https://localhost:8080/",
          "height": 290
        },
        "id": "-_i7Cwf5jT-s",
        "outputId": "4b260674-65c9-487a-cff0-113d585b1af5"
      },
      "source": [
        "pd.DataFrame(X_scaled_standard_test).describe()"
      ],
      "execution_count": null,
      "outputs": [
        {
          "output_type": "execute_result",
          "data": {
            "text/html": [
              "<div>\n",
              "<style scoped>\n",
              "    .dataframe tbody tr th:only-of-type {\n",
              "        vertical-align: middle;\n",
              "    }\n",
              "\n",
              "    .dataframe tbody tr th {\n",
              "        vertical-align: top;\n",
              "    }\n",
              "\n",
              "    .dataframe thead th {\n",
              "        text-align: right;\n",
              "    }\n",
              "</style>\n",
              "<table border=\"1\" class=\"dataframe\">\n",
              "  <thead>\n",
              "    <tr style=\"text-align: right;\">\n",
              "      <th></th>\n",
              "      <th>0</th>\n",
              "      <th>1</th>\n",
              "      <th>2</th>\n",
              "      <th>3</th>\n",
              "      <th>4</th>\n",
              "    </tr>\n",
              "  </thead>\n",
              "  <tbody>\n",
              "    <tr>\n",
              "      <th>count</th>\n",
              "      <td>4423.000000</td>\n",
              "      <td>4423.000000</td>\n",
              "      <td>4423.000000</td>\n",
              "      <td>4423.000000</td>\n",
              "      <td>4423.000000</td>\n",
              "    </tr>\n",
              "    <tr>\n",
              "      <th>mean</th>\n",
              "      <td>0.014279</td>\n",
              "      <td>0.000196</td>\n",
              "      <td>-0.004814</td>\n",
              "      <td>0.040879</td>\n",
              "      <td>0.025222</td>\n",
              "    </tr>\n",
              "    <tr>\n",
              "      <th>std</th>\n",
              "      <td>1.013373</td>\n",
              "      <td>1.006675</td>\n",
              "      <td>0.984789</td>\n",
              "      <td>1.039304</td>\n",
              "      <td>1.018846</td>\n",
              "    </tr>\n",
              "    <tr>\n",
              "      <th>min</th>\n",
              "      <td>-2.342832</td>\n",
              "      <td>-2.081653</td>\n",
              "      <td>-1.864897</td>\n",
              "      <td>-2.593803</td>\n",
              "      <td>-3.049856</td>\n",
              "    </tr>\n",
              "    <tr>\n",
              "      <th>25%</th>\n",
              "      <td>-0.830678</td>\n",
              "      <td>-0.766493</td>\n",
              "      <td>-0.699423</td>\n",
              "      <td>-0.648287</td>\n",
              "      <td>-0.685507</td>\n",
              "    </tr>\n",
              "    <tr>\n",
              "      <th>50%</th>\n",
              "      <td>0.058824</td>\n",
              "      <td>-0.139666</td>\n",
              "      <td>-0.190013</td>\n",
              "      <td>-0.109012</td>\n",
              "      <td>-0.029221</td>\n",
              "    </tr>\n",
              "    <tr>\n",
              "      <th>75%</th>\n",
              "      <td>0.770426</td>\n",
              "      <td>0.592419</td>\n",
              "      <td>0.516912</td>\n",
              "      <td>0.563130</td>\n",
              "      <td>0.636293</td>\n",
              "    </tr>\n",
              "    <tr>\n",
              "      <th>max</th>\n",
              "      <td>2.104679</td>\n",
              "      <td>4.045937</td>\n",
              "      <td>5.352917</td>\n",
              "      <td>5.535878</td>\n",
              "      <td>5.641914</td>\n",
              "    </tr>\n",
              "  </tbody>\n",
              "</table>\n",
              "</div>"
            ],
            "text/plain": [
              "                 0            1            2            3            4\n",
              "count  4423.000000  4423.000000  4423.000000  4423.000000  4423.000000\n",
              "mean      0.014279     0.000196    -0.004814     0.040879     0.025222\n",
              "std       1.013373     1.006675     0.984789     1.039304     1.018846\n",
              "min      -2.342832    -2.081653    -1.864897    -2.593803    -3.049856\n",
              "25%      -0.830678    -0.766493    -0.699423    -0.648287    -0.685507\n",
              "50%       0.058824    -0.139666    -0.190013    -0.109012    -0.029221\n",
              "75%       0.770426     0.592419     0.516912     0.563130     0.636293\n",
              "max       2.104679     4.045937     5.352917     5.535878     5.641914"
            ]
          },
          "metadata": {},
          "execution_count": 56
        }
      ]
    },
    {
      "cell_type": "code",
      "metadata": {
        "colab": {
          "base_uri": "https://localhost:8080/"
        },
        "id": "EyfJ2S6ujeXb",
        "outputId": "377fc7c3-76f8-4169-e493-a83405d62384"
      },
      "source": [
        "from sklearn.linear_model import LinearRegression\n",
        "\n",
        "model = LinearRegression()\n",
        "model.fit(X_scaled_minmax_train, y_train)\n"
      ],
      "execution_count": null,
      "outputs": [
        {
          "output_type": "execute_result",
          "data": {
            "text/plain": [
              "LinearRegression(copy_X=True, fit_intercept=True, n_jobs=None, normalize=False)"
            ]
          },
          "metadata": {},
          "execution_count": 57
        }
      ]
    },
    {
      "cell_type": "code",
      "metadata": {
        "colab": {
          "base_uri": "https://localhost:8080/"
        },
        "id": "EisAXQlGjup5",
        "outputId": "689e6f08-fe5a-47ae-ebbd-dce3b7be7809"
      },
      "source": [
        "pred_train = model.predict(X_scaled_minmax_train)\n",
        "model.score(X_scaled_minmax_train, y_train)"
      ],
      "execution_count": null,
      "outputs": [
        {
          "output_type": "execute_result",
          "data": {
            "text/plain": [
              "0.5706921210926263"
            ]
          },
          "metadata": {},
          "execution_count": 59
        }
      ]
    },
    {
      "cell_type": "code",
      "metadata": {
        "colab": {
          "base_uri": "https://localhost:8080/"
        },
        "id": "35a1iTjMj7I7",
        "outputId": "30182474-56f5-419f-bda7-67b0f2426113"
      },
      "source": [
        "pred_test = model.predict(X_scaled_minmax_test)\n",
        "model.score(X_scaled_minmax_test, y_test)"
      ],
      "execution_count": null,
      "outputs": [
        {
          "output_type": "execute_result",
          "data": {
            "text/plain": [
              "0.5826083517811865"
            ]
          },
          "metadata": {},
          "execution_count": 60
        }
      ]
    },
    {
      "cell_type": "markdown",
      "metadata": {
        "id": "LIcShjd3kQAZ"
      },
      "source": [
        "설명력(model.score , R-square)외에도 회귀모델에서 자주 보는 모델평가지표는 RMSE(Root Mean Squared Error)이다. \n",
        "\n",
        "설명력이 '맞는정도'라면 RMSE는 '틀린 정도', 즉 오차를 판단한다."
      ]
    },
    {
      "cell_type": "code",
      "metadata": {
        "colab": {
          "base_uri": "https://localhost:8080/"
        },
        "id": "qbvgWEiNkM3A",
        "outputId": "e3ddd7d6-b4bd-4b18-add3-e7b16147e22e"
      },
      "source": [
        "import numpy as np\n",
        "from sklearn.metrics import mean_squared_error\n",
        "\n",
        "MSE = mean_squared_error(y_test, pred_test)\n",
        "np.sqrt(MSE)"
      ],
      "execution_count": null,
      "outputs": [
        {
          "output_type": "execute_result",
          "data": {
            "text/plain": [
              "61763.84882543206"
            ]
          },
          "metadata": {},
          "execution_count": 61
        }
      ]
    },
    {
      "cell_type": "markdown",
      "metadata": {
        "id": "X-dAW0tok3B3"
      },
      "source": [
        "주택가격을 예측하니 평균적으로 6만달러 내외로 오차가 존재한다."
      ]
    },
    {
      "cell_type": "code",
      "metadata": {
        "colab": {
          "base_uri": "https://localhost:8080/"
        },
        "id": "AxPdWIm3kyZq",
        "outputId": "d3ede9e4-a6c5-40d2-ec46-2786234956e5"
      },
      "source": [
        "#선형 모델 평가지표 2: MAE(Mean Absolute Error)\n",
        "from sklearn.metrics import mean_absolute_error\n",
        "mean_absolute_error(y_test , pred_test)\n"
      ],
      "execution_count": null,
      "outputs": [
        {
          "output_type": "execute_result",
          "data": {
            "text/plain": [
              "46218.35635910518"
            ]
          },
          "metadata": {},
          "execution_count": 62
        }
      ]
    },
    {
      "cell_type": "code",
      "metadata": {
        "colab": {
          "base_uri": "https://localhost:8080/"
        },
        "id": "Vc86FIQJlN9f",
        "outputId": "0baf8dbb-c6bc-494d-d03f-ed892342032e"
      },
      "source": [
        "#선형 모델 평가지표 3: MSE(Mean Squared Error)\n",
        "from sklearn.metrics import mean_squared_error\n",
        "mean_squared_error(y_test, pred_test)"
      ],
      "execution_count": null,
      "outputs": [
        {
          "output_type": "execute_result",
          "data": {
            "text/plain": [
              "3814773021.730826"
            ]
          },
          "metadata": {},
          "execution_count": 63
        }
      ]
    },
    {
      "cell_type": "code",
      "metadata": {
        "colab": {
          "base_uri": "https://localhost:8080/"
        },
        "id": "fvye0qGxli8y",
        "outputId": "4809468f-b4d6-45ef-99ac-d9a34c5cb83c"
      },
      "source": [
        "#선형 모델 평가지표 4: MAPE(Mean Absolute Percentage Error)\n",
        "def MAPE(y_test, y_pred):\n",
        "  return np.mean(np.abs((y_test - pred_test) / y_test)) * 100\n",
        "\n",
        "MAPE(y_test, pred_test)"
      ],
      "execution_count": null,
      "outputs": [
        {
          "output_type": "execute_result",
          "data": {
            "text/plain": [
              "house_value    30.33032\n",
              "dtype: float64"
            ]
          },
          "metadata": {},
          "execution_count": 64
        }
      ]
    },
    {
      "cell_type": "code",
      "metadata": {
        "colab": {
          "base_uri": "https://localhost:8080/"
        },
        "id": "H3kpDlP9mKLr",
        "outputId": "b25db97a-d2be-4629-a208-6a69ea256e76"
      },
      "source": [
        "#선형 모델 평가지표 5: MPE(Mean Percentage Error)\n",
        "def MPE(y_test, y_pred):\n",
        "  return np.mean((y_test - pred_test) / y_test) * 100\n",
        "MPE(y_test, pred_test)"
      ],
      "execution_count": null,
      "outputs": [
        {
          "output_type": "execute_result",
          "data": {
            "text/plain": [
              "house_value   -12.178049\n",
              "dtype: float64"
            ]
          },
          "metadata": {},
          "execution_count": 65
        }
      ]
    },
    {
      "cell_type": "markdown",
      "metadata": {
        "id": "DVBk9U1Rmv2o"
      },
      "source": [
        "##3.6 예측값 병합 및 저장"
      ]
    },
    {
      "cell_type": "code",
      "metadata": {
        "colab": {
          "base_uri": "https://localhost:8080/",
          "height": 723
        },
        "id": "UE4IFDDOmuNz",
        "outputId": "470b977c-2622-41ad-94be-d940b4083931"
      },
      "source": [
        "pred_train = model.predict(X_scaled_minmax_train)\n",
        "y_train[['y_pred']] = pred_train\n",
        "y_train"
      ],
      "execution_count": null,
      "outputs": [
        {
          "output_type": "stream",
          "name": "stderr",
          "text": [
            "/usr/local/lib/python3.7/dist-packages/pandas/core/indexing.py:659: SettingWithCopyWarning: \n",
            "A value is trying to be set on a copy of a slice from a DataFrame.\n",
            "Try using .loc[row_indexer,col_indexer] = value instead\n",
            "\n",
            "See the caveats in the documentation: https://pandas.pydata.org/pandas-docs/stable/user_guide/indexing.html#returning-a-view-versus-a-copy\n",
            "  self.obj[k] = np.nan\n",
            "/usr/local/lib/python3.7/dist-packages/ipykernel_launcher.py:2: SettingWithCopyWarning: \n",
            "A value is trying to be set on a copy of a slice from a DataFrame.\n",
            "Try using .loc[row_indexer,col_indexer] = value instead\n",
            "\n",
            "See the caveats in the documentation: https://pandas.pydata.org/pandas-docs/stable/user_guide/indexing.html#returning-a-view-versus-a-copy\n",
            "  \n",
            "/usr/local/lib/python3.7/dist-packages/pandas/core/indexing.py:1734: SettingWithCopyWarning: \n",
            "A value is trying to be set on a copy of a slice from a DataFrame.\n",
            "Try using .loc[row_indexer,col_indexer] = value instead\n",
            "\n",
            "See the caveats in the documentation: https://pandas.pydata.org/pandas-docs/stable/user_guide/indexing.html#returning-a-view-versus-a-copy\n",
            "  isetter(loc, value[:, i].tolist())\n"
          ]
        },
        {
          "output_type": "execute_result",
          "data": {
            "text/html": [
              "<div>\n",
              "<style scoped>\n",
              "    .dataframe tbody tr th:only-of-type {\n",
              "        vertical-align: middle;\n",
              "    }\n",
              "\n",
              "    .dataframe tbody tr th {\n",
              "        vertical-align: top;\n",
              "    }\n",
              "\n",
              "    .dataframe thead th {\n",
              "        text-align: right;\n",
              "    }\n",
              "</style>\n",
              "<table border=\"1\" class=\"dataframe\">\n",
              "  <thead>\n",
              "    <tr style=\"text-align: right;\">\n",
              "      <th></th>\n",
              "      <th>house_value</th>\n",
              "      <th>y_pred</th>\n",
              "    </tr>\n",
              "  </thead>\n",
              "  <tbody>\n",
              "    <tr>\n",
              "      <th>17235</th>\n",
              "      <td>56700</td>\n",
              "      <td>30143.543694</td>\n",
              "    </tr>\n",
              "    <tr>\n",
              "      <th>14220</th>\n",
              "      <td>101400</td>\n",
              "      <td>199835.492874</td>\n",
              "    </tr>\n",
              "    <tr>\n",
              "      <th>3280</th>\n",
              "      <td>271400</td>\n",
              "      <td>272103.037256</td>\n",
              "    </tr>\n",
              "    <tr>\n",
              "      <th>15279</th>\n",
              "      <td>88900</td>\n",
              "      <td>28899.099715</td>\n",
              "    </tr>\n",
              "    <tr>\n",
              "      <th>14727</th>\n",
              "      <td>95300</td>\n",
              "      <td>113477.567588</td>\n",
              "    </tr>\n",
              "    <tr>\n",
              "      <th>...</th>\n",
              "      <td>...</td>\n",
              "      <td>...</td>\n",
              "    </tr>\n",
              "    <tr>\n",
              "      <th>11284</th>\n",
              "      <td>142400</td>\n",
              "      <td>115628.685921</td>\n",
              "    </tr>\n",
              "    <tr>\n",
              "      <th>11964</th>\n",
              "      <td>134200</td>\n",
              "      <td>77955.022737</td>\n",
              "    </tr>\n",
              "    <tr>\n",
              "      <th>5390</th>\n",
              "      <td>225000</td>\n",
              "      <td>137618.822679</td>\n",
              "    </tr>\n",
              "    <tr>\n",
              "      <th>860</th>\n",
              "      <td>378200</td>\n",
              "      <td>255862.726626</td>\n",
              "    </tr>\n",
              "    <tr>\n",
              "      <th>15795</th>\n",
              "      <td>81900</td>\n",
              "      <td>122063.388302</td>\n",
              "    </tr>\n",
              "  </tbody>\n",
              "</table>\n",
              "<p>13266 rows × 2 columns</p>\n",
              "</div>"
            ],
            "text/plain": [
              "       house_value         y_pred\n",
              "17235        56700   30143.543694\n",
              "14220       101400  199835.492874\n",
              "3280        271400  272103.037256\n",
              "15279        88900   28899.099715\n",
              "14727        95300  113477.567588\n",
              "...            ...            ...\n",
              "11284       142400  115628.685921\n",
              "11964       134200   77955.022737\n",
              "5390        225000  137618.822679\n",
              "860         378200  255862.726626\n",
              "15795        81900  122063.388302\n",
              "\n",
              "[13266 rows x 2 columns]"
            ]
          },
          "metadata": {},
          "execution_count": 66
        }
      ]
    },
    {
      "cell_type": "code",
      "metadata": {
        "colab": {
          "base_uri": "https://localhost:8080/",
          "height": 723
        },
        "id": "wwQDOVPWnM64",
        "outputId": "65c08d09-36bc-4e79-fb83-558b75315d87"
      },
      "source": [
        "pred_test = model.predict(X_scaled_minmax_test)\n",
        "y_test[['y_pred']] = pred_test\n",
        "y_test"
      ],
      "execution_count": null,
      "outputs": [
        {
          "output_type": "stream",
          "name": "stderr",
          "text": [
            "/usr/local/lib/python3.7/dist-packages/pandas/core/indexing.py:659: SettingWithCopyWarning: \n",
            "A value is trying to be set on a copy of a slice from a DataFrame.\n",
            "Try using .loc[row_indexer,col_indexer] = value instead\n",
            "\n",
            "See the caveats in the documentation: https://pandas.pydata.org/pandas-docs/stable/user_guide/indexing.html#returning-a-view-versus-a-copy\n",
            "  self.obj[k] = np.nan\n",
            "/usr/local/lib/python3.7/dist-packages/ipykernel_launcher.py:2: SettingWithCopyWarning: \n",
            "A value is trying to be set on a copy of a slice from a DataFrame.\n",
            "Try using .loc[row_indexer,col_indexer] = value instead\n",
            "\n",
            "See the caveats in the documentation: https://pandas.pydata.org/pandas-docs/stable/user_guide/indexing.html#returning-a-view-versus-a-copy\n",
            "  \n",
            "/usr/local/lib/python3.7/dist-packages/pandas/core/indexing.py:1734: SettingWithCopyWarning: \n",
            "A value is trying to be set on a copy of a slice from a DataFrame.\n",
            "Try using .loc[row_indexer,col_indexer] = value instead\n",
            "\n",
            "See the caveats in the documentation: https://pandas.pydata.org/pandas-docs/stable/user_guide/indexing.html#returning-a-view-versus-a-copy\n",
            "  isetter(loc, value[:, i].tolist())\n"
          ]
        },
        {
          "output_type": "execute_result",
          "data": {
            "text/html": [
              "<div>\n",
              "<style scoped>\n",
              "    .dataframe tbody tr th:only-of-type {\n",
              "        vertical-align: middle;\n",
              "    }\n",
              "\n",
              "    .dataframe tbody tr th {\n",
              "        vertical-align: top;\n",
              "    }\n",
              "\n",
              "    .dataframe thead th {\n",
              "        text-align: right;\n",
              "    }\n",
              "</style>\n",
              "<table border=\"1\" class=\"dataframe\">\n",
              "  <thead>\n",
              "    <tr style=\"text-align: right;\">\n",
              "      <th></th>\n",
              "      <th>house_value</th>\n",
              "      <th>y_pred</th>\n",
              "    </tr>\n",
              "  </thead>\n",
              "  <tbody>\n",
              "    <tr>\n",
              "      <th>17552</th>\n",
              "      <td>48500</td>\n",
              "      <td>33552.694027</td>\n",
              "    </tr>\n",
              "    <tr>\n",
              "      <th>5659</th>\n",
              "      <td>220500</td>\n",
              "      <td>266109.596465</td>\n",
              "    </tr>\n",
              "    <tr>\n",
              "      <th>5954</th>\n",
              "      <td>215800</td>\n",
              "      <td>212922.500307</td>\n",
              "    </tr>\n",
              "    <tr>\n",
              "      <th>733</th>\n",
              "      <td>390000</td>\n",
              "      <td>290337.891760</td>\n",
              "    </tr>\n",
              "    <tr>\n",
              "      <th>10290</th>\n",
              "      <td>155200</td>\n",
              "      <td>135785.644577</td>\n",
              "    </tr>\n",
              "    <tr>\n",
              "      <th>...</th>\n",
              "      <td>...</td>\n",
              "      <td>...</td>\n",
              "    </tr>\n",
              "    <tr>\n",
              "      <th>7770</th>\n",
              "      <td>185300</td>\n",
              "      <td>262949.818829</td>\n",
              "    </tr>\n",
              "    <tr>\n",
              "      <th>1822</th>\n",
              "      <td>328900</td>\n",
              "      <td>226451.743868</td>\n",
              "    </tr>\n",
              "    <tr>\n",
              "      <th>811</th>\n",
              "      <td>382400</td>\n",
              "      <td>288121.570093</td>\n",
              "    </tr>\n",
              "    <tr>\n",
              "      <th>868</th>\n",
              "      <td>377300</td>\n",
              "      <td>151766.958670</td>\n",
              "    </tr>\n",
              "    <tr>\n",
              "      <th>11661</th>\n",
              "      <td>137500</td>\n",
              "      <td>191185.781639</td>\n",
              "    </tr>\n",
              "  </tbody>\n",
              "</table>\n",
              "<p>4423 rows × 2 columns</p>\n",
              "</div>"
            ],
            "text/plain": [
              "       house_value         y_pred\n",
              "17552        48500   33552.694027\n",
              "5659        220500  266109.596465\n",
              "5954        215800  212922.500307\n",
              "733         390000  290337.891760\n",
              "10290       155200  135785.644577\n",
              "...            ...            ...\n",
              "7770        185300  262949.818829\n",
              "1822        328900  226451.743868\n",
              "811         382400  288121.570093\n",
              "868         377300  151766.958670\n",
              "11661       137500  191185.781639\n",
              "\n",
              "[4423 rows x 2 columns]"
            ]
          },
          "metadata": {},
          "execution_count": 67
        }
      ]
    },
    {
      "cell_type": "code",
      "metadata": {
        "colab": {
          "base_uri": "https://localhost:8080/",
          "height": 408
        },
        "id": "zObt1g21nWDg",
        "outputId": "b34cc15d-6b48-4b92-bc83-89afa1093a58"
      },
      "source": [
        "Total_test = pd.concat([X_test, y_test], axis = 1)\n",
        "Total_test"
      ],
      "execution_count": null,
      "outputs": [
        {
          "output_type": "execute_result",
          "data": {
            "text/html": [
              "<div>\n",
              "<style scoped>\n",
              "    .dataframe tbody tr th:only-of-type {\n",
              "        vertical-align: middle;\n",
              "    }\n",
              "\n",
              "    .dataframe tbody tr th {\n",
              "        vertical-align: top;\n",
              "    }\n",
              "\n",
              "    .dataframe thead th {\n",
              "        text-align: right;\n",
              "    }\n",
              "</style>\n",
              "<table border=\"1\" class=\"dataframe\">\n",
              "  <thead>\n",
              "    <tr style=\"text-align: right;\">\n",
              "      <th></th>\n",
              "      <th>housing_age</th>\n",
              "      <th>income</th>\n",
              "      <th>bedrooms</th>\n",
              "      <th>households</th>\n",
              "      <th>rooms</th>\n",
              "      <th>house_value</th>\n",
              "      <th>y_pred</th>\n",
              "    </tr>\n",
              "  </thead>\n",
              "  <tbody>\n",
              "    <tr>\n",
              "      <th>17552</th>\n",
              "      <td>19</td>\n",
              "      <td>1.0481</td>\n",
              "      <td>0.251874</td>\n",
              "      <td>3.670846</td>\n",
              "      <td>4.181818</td>\n",
              "      <td>48500</td>\n",
              "      <td>33552.694027</td>\n",
              "    </tr>\n",
              "    <tr>\n",
              "      <th>5659</th>\n",
              "      <td>26</td>\n",
              "      <td>5.8683</td>\n",
              "      <td>0.132936</td>\n",
              "      <td>2.730483</td>\n",
              "      <td>7.172862</td>\n",
              "      <td>220500</td>\n",
              "      <td>266109.596465</td>\n",
              "    </tr>\n",
              "    <tr>\n",
              "      <th>5954</th>\n",
              "      <td>37</td>\n",
              "      <td>4.1094</td>\n",
              "      <td>0.177939</td>\n",
              "      <td>2.652582</td>\n",
              "      <td>5.830986</td>\n",
              "      <td>215800</td>\n",
              "      <td>212922.500307</td>\n",
              "    </tr>\n",
              "    <tr>\n",
              "      <th>733</th>\n",
              "      <td>16</td>\n",
              "      <td>6.3258</td>\n",
              "      <td>0.169569</td>\n",
              "      <td>3.155340</td>\n",
              "      <td>6.412621</td>\n",
              "      <td>390000</td>\n",
              "      <td>290337.891760</td>\n",
              "    </tr>\n",
              "    <tr>\n",
              "      <th>10290</th>\n",
              "      <td>32</td>\n",
              "      <td>2.2950</td>\n",
              "      <td>0.293907</td>\n",
              "      <td>4.188742</td>\n",
              "      <td>3.695364</td>\n",
              "      <td>155200</td>\n",
              "      <td>135785.644577</td>\n",
              "    </tr>\n",
              "    <tr>\n",
              "      <th>...</th>\n",
              "      <td>...</td>\n",
              "      <td>...</td>\n",
              "      <td>...</td>\n",
              "      <td>...</td>\n",
              "      <td>...</td>\n",
              "      <td>...</td>\n",
              "      <td>...</td>\n",
              "    </tr>\n",
              "    <tr>\n",
              "      <th>7770</th>\n",
              "      <td>34</td>\n",
              "      <td>5.5238</td>\n",
              "      <td>0.169824</td>\n",
              "      <td>3.451264</td>\n",
              "      <td>5.335740</td>\n",
              "      <td>185300</td>\n",
              "      <td>262949.818829</td>\n",
              "    </tr>\n",
              "    <tr>\n",
              "      <th>1822</th>\n",
              "      <td>19</td>\n",
              "      <td>3.8819</td>\n",
              "      <td>0.226279</td>\n",
              "      <td>1.897600</td>\n",
              "      <td>4.755200</td>\n",
              "      <td>328900</td>\n",
              "      <td>226451.743868</td>\n",
              "    </tr>\n",
              "    <tr>\n",
              "      <th>811</th>\n",
              "      <td>40</td>\n",
              "      <td>5.7143</td>\n",
              "      <td>0.148075</td>\n",
              "      <td>2.704819</td>\n",
              "      <td>6.102410</td>\n",
              "      <td>382400</td>\n",
              "      <td>288121.570093</td>\n",
              "    </tr>\n",
              "    <tr>\n",
              "      <th>868</th>\n",
              "      <td>16</td>\n",
              "      <td>2.6250</td>\n",
              "      <td>0.229714</td>\n",
              "      <td>1.910828</td>\n",
              "      <td>5.573248</td>\n",
              "      <td>377300</td>\n",
              "      <td>151766.958670</td>\n",
              "    </tr>\n",
              "    <tr>\n",
              "      <th>11661</th>\n",
              "      <td>4</td>\n",
              "      <td>3.2131</td>\n",
              "      <td>0.263085</td>\n",
              "      <td>1.882530</td>\n",
              "      <td>4.373494</td>\n",
              "      <td>137500</td>\n",
              "      <td>191185.781639</td>\n",
              "    </tr>\n",
              "  </tbody>\n",
              "</table>\n",
              "<p>4423 rows × 7 columns</p>\n",
              "</div>"
            ],
            "text/plain": [
              "       housing_age  income  bedrooms  ...     rooms  house_value         y_pred\n",
              "17552           19  1.0481  0.251874  ...  4.181818        48500   33552.694027\n",
              "5659            26  5.8683  0.132936  ...  7.172862       220500  266109.596465\n",
              "5954            37  4.1094  0.177939  ...  5.830986       215800  212922.500307\n",
              "733             16  6.3258  0.169569  ...  6.412621       390000  290337.891760\n",
              "10290           32  2.2950  0.293907  ...  3.695364       155200  135785.644577\n",
              "...            ...     ...       ...  ...       ...          ...            ...\n",
              "7770            34  5.5238  0.169824  ...  5.335740       185300  262949.818829\n",
              "1822            19  3.8819  0.226279  ...  4.755200       328900  226451.743868\n",
              "811             40  5.7143  0.148075  ...  6.102410       382400  288121.570093\n",
              "868             16  2.6250  0.229714  ...  5.573248       377300  151766.958670\n",
              "11661            4  3.2131  0.263085  ...  4.373494       137500  191185.781639\n",
              "\n",
              "[4423 rows x 7 columns]"
            ]
          },
          "metadata": {},
          "execution_count": 68
        }
      ]
    },
    {
      "cell_type": "code",
      "metadata": {
        "id": "taW8kwDDnxL4"
      },
      "source": [
        "Total_test.to_csv(\"regression_test.csv\")"
      ],
      "execution_count": null,
      "outputs": []
    },
    {
      "cell_type": "markdown",
      "metadata": {
        "id": "Ho34Jwolt7cR"
      },
      "source": [
        "#4. 머신러닝 프로세스1: 범주변수의 변환"
      ]
    },
    {
      "cell_type": "markdown",
      "metadata": {
        "id": "ZiJ7egGEuAZq"
      },
      "source": [
        "##4.1 데이터 범주-연속-레이블로 나누기"
      ]
    },
    {
      "cell_type": "code",
      "metadata": {
        "id": "gaQS28xUn71q",
        "colab": {
          "base_uri": "https://localhost:8080/",
          "height": 200
        },
        "outputId": "9b4510b3-875a-4a09-f83e-568978a379dc"
      },
      "source": [
        "import pandas as pd\n",
        "df = pd.read_csv('vote.csv') #유권자 선거 행동 데이터 y = 'vote' - 대선 투표 여부(0,1) , 'parties' - 지지 정당(1,2,3,4)\n",
        "df.head()"
      ],
      "execution_count": null,
      "outputs": [
        {
          "output_type": "execute_result",
          "data": {
            "text/html": [
              "<div>\n",
              "<style scoped>\n",
              "    .dataframe tbody tr th:only-of-type {\n",
              "        vertical-align: middle;\n",
              "    }\n",
              "\n",
              "    .dataframe tbody tr th {\n",
              "        vertical-align: top;\n",
              "    }\n",
              "\n",
              "    .dataframe thead th {\n",
              "        text-align: right;\n",
              "    }\n",
              "</style>\n",
              "<table border=\"1\" class=\"dataframe\">\n",
              "  <thead>\n",
              "    <tr style=\"text-align: right;\">\n",
              "      <th></th>\n",
              "      <th>gender</th>\n",
              "      <th>region</th>\n",
              "      <th>edu</th>\n",
              "      <th>income</th>\n",
              "      <th>age</th>\n",
              "      <th>score_gov</th>\n",
              "      <th>score_progress</th>\n",
              "      <th>score_intention</th>\n",
              "      <th>vote</th>\n",
              "      <th>parties</th>\n",
              "    </tr>\n",
              "  </thead>\n",
              "  <tbody>\n",
              "    <tr>\n",
              "      <th>0</th>\n",
              "      <td>1</td>\n",
              "      <td>4</td>\n",
              "      <td>3</td>\n",
              "      <td>3</td>\n",
              "      <td>3</td>\n",
              "      <td>2</td>\n",
              "      <td>2</td>\n",
              "      <td>4.0</td>\n",
              "      <td>1</td>\n",
              "      <td>2</td>\n",
              "    </tr>\n",
              "    <tr>\n",
              "      <th>1</th>\n",
              "      <td>1</td>\n",
              "      <td>5</td>\n",
              "      <td>2</td>\n",
              "      <td>3</td>\n",
              "      <td>3</td>\n",
              "      <td>2</td>\n",
              "      <td>4</td>\n",
              "      <td>3.0</td>\n",
              "      <td>0</td>\n",
              "      <td>3</td>\n",
              "    </tr>\n",
              "    <tr>\n",
              "      <th>2</th>\n",
              "      <td>1</td>\n",
              "      <td>3</td>\n",
              "      <td>1</td>\n",
              "      <td>2</td>\n",
              "      <td>4</td>\n",
              "      <td>1</td>\n",
              "      <td>3</td>\n",
              "      <td>2.8</td>\n",
              "      <td>1</td>\n",
              "      <td>4</td>\n",
              "    </tr>\n",
              "    <tr>\n",
              "      <th>3</th>\n",
              "      <td>2</td>\n",
              "      <td>1</td>\n",
              "      <td>2</td>\n",
              "      <td>1</td>\n",
              "      <td>3</td>\n",
              "      <td>5</td>\n",
              "      <td>4</td>\n",
              "      <td>2.6</td>\n",
              "      <td>1</td>\n",
              "      <td>1</td>\n",
              "    </tr>\n",
              "    <tr>\n",
              "      <th>4</th>\n",
              "      <td>1</td>\n",
              "      <td>1</td>\n",
              "      <td>1</td>\n",
              "      <td>2</td>\n",
              "      <td>4</td>\n",
              "      <td>4</td>\n",
              "      <td>3</td>\n",
              "      <td>2.4</td>\n",
              "      <td>1</td>\n",
              "      <td>1</td>\n",
              "    </tr>\n",
              "  </tbody>\n",
              "</table>\n",
              "</div>"
            ],
            "text/plain": [
              "   gender  region  edu  income  ...  score_progress  score_intention  vote  parties\n",
              "0       1       4    3       3  ...               2              4.0     1        2\n",
              "1       1       5    2       3  ...               4              3.0     0        3\n",
              "2       1       3    1       2  ...               3              2.8     1        4\n",
              "3       2       1    2       1  ...               4              2.6     1        1\n",
              "4       1       1    1       2  ...               3              2.4     1        1\n",
              "\n",
              "[5 rows x 10 columns]"
            ]
          },
          "metadata": {},
          "execution_count": 1
        }
      ]
    },
    {
      "cell_type": "code",
      "metadata": {
        "colab": {
          "base_uri": "https://localhost:8080/"
        },
        "id": "_IismPvEuKA5",
        "outputId": "1f4445f6-7629-4b20-b137-b876632ede00"
      },
      "source": [
        "df.info()"
      ],
      "execution_count": null,
      "outputs": [
        {
          "output_type": "stream",
          "name": "stdout",
          "text": [
            "<class 'pandas.core.frame.DataFrame'>\n",
            "RangeIndex: 211 entries, 0 to 210\n",
            "Data columns (total 10 columns):\n",
            " #   Column           Non-Null Count  Dtype  \n",
            "---  ------           --------------  -----  \n",
            " 0   gender           211 non-null    int64  \n",
            " 1   region           211 non-null    int64  \n",
            " 2   edu              211 non-null    int64  \n",
            " 3   income           211 non-null    int64  \n",
            " 4   age              211 non-null    int64  \n",
            " 5   score_gov        211 non-null    int64  \n",
            " 6   score_progress   211 non-null    int64  \n",
            " 7   score_intention  211 non-null    float64\n",
            " 8   vote             211 non-null    int64  \n",
            " 9   parties          211 non-null    int64  \n",
            "dtypes: float64(1), int64(9)\n",
            "memory usage: 16.6 KB\n"
          ]
        }
      ]
    },
    {
      "cell_type": "markdown",
      "metadata": {
        "id": "zygfVRxBuQS3"
      },
      "source": [
        "범주형 변수 - gender(성별),  region (지역)"
      ]
    },
    {
      "cell_type": "code",
      "metadata": {
        "id": "-u9U6OznuL-P"
      },
      "source": [
        "X1 = df[['gender' , 'region']]\n",
        "XY = df[['edu', 'income', 'age', 'score_gov', 'score_progress', 'score_intention', 'vote', 'parties']]"
      ],
      "execution_count": null,
      "outputs": []
    },
    {
      "cell_type": "markdown",
      "metadata": {
        "id": "ZWr-tVeNu8oh"
      },
      "source": [
        "범주형 변수와 그외 변수로 나눈다."
      ]
    },
    {
      "cell_type": "markdown",
      "metadata": {
        "id": "p7Ota_huvBF3"
      },
      "source": [
        "##4.2 범주형 변수의 One-hot-encoding 변환"
      ]
    },
    {
      "cell_type": "code",
      "metadata": {
        "colab": {
          "base_uri": "https://localhost:8080/"
        },
        "id": "zbFayRd5u74Y",
        "outputId": "d16c625f-928f-4f66-a0ed-58590d899718"
      },
      "source": [
        "X1['gender'] = X1['gender'].replace([1,2], ['male' ,'female'])\n",
        "X1['region'] = X1['region'].replace([1,2,3,4,5], ['Sudo', 'Chungcheong', 'Honam', 'Youngnam', 'Others'])\n"
      ],
      "execution_count": null,
      "outputs": [
        {
          "output_type": "stream",
          "name": "stderr",
          "text": [
            "/usr/local/lib/python3.7/dist-packages/ipykernel_launcher.py:1: SettingWithCopyWarning: \n",
            "A value is trying to be set on a copy of a slice from a DataFrame.\n",
            "Try using .loc[row_indexer,col_indexer] = value instead\n",
            "\n",
            "See the caveats in the documentation: https://pandas.pydata.org/pandas-docs/stable/user_guide/indexing.html#returning-a-view-versus-a-copy\n",
            "  \"\"\"Entry point for launching an IPython kernel.\n",
            "/usr/local/lib/python3.7/dist-packages/ipykernel_launcher.py:2: SettingWithCopyWarning: \n",
            "A value is trying to be set on a copy of a slice from a DataFrame.\n",
            "Try using .loc[row_indexer,col_indexer] = value instead\n",
            "\n",
            "See the caveats in the documentation: https://pandas.pydata.org/pandas-docs/stable/user_guide/indexing.html#returning-a-view-versus-a-copy\n",
            "  \n"
          ]
        }
      ]
    },
    {
      "cell_type": "code",
      "metadata": {
        "colab": {
          "base_uri": "https://localhost:8080/",
          "height": 200
        },
        "id": "x3GhdFtDvmjJ",
        "outputId": "38ecc3ef-28ba-42c5-a0e1-f631c8e4cbab"
      },
      "source": [
        "X1.head()"
      ],
      "execution_count": null,
      "outputs": [
        {
          "output_type": "execute_result",
          "data": {
            "text/html": [
              "<div>\n",
              "<style scoped>\n",
              "    .dataframe tbody tr th:only-of-type {\n",
              "        vertical-align: middle;\n",
              "    }\n",
              "\n",
              "    .dataframe tbody tr th {\n",
              "        vertical-align: top;\n",
              "    }\n",
              "\n",
              "    .dataframe thead th {\n",
              "        text-align: right;\n",
              "    }\n",
              "</style>\n",
              "<table border=\"1\" class=\"dataframe\">\n",
              "  <thead>\n",
              "    <tr style=\"text-align: right;\">\n",
              "      <th></th>\n",
              "      <th>gender</th>\n",
              "      <th>region</th>\n",
              "    </tr>\n",
              "  </thead>\n",
              "  <tbody>\n",
              "    <tr>\n",
              "      <th>0</th>\n",
              "      <td>male</td>\n",
              "      <td>Youngnam</td>\n",
              "    </tr>\n",
              "    <tr>\n",
              "      <th>1</th>\n",
              "      <td>male</td>\n",
              "      <td>Others</td>\n",
              "    </tr>\n",
              "    <tr>\n",
              "      <th>2</th>\n",
              "      <td>male</td>\n",
              "      <td>Honam</td>\n",
              "    </tr>\n",
              "    <tr>\n",
              "      <th>3</th>\n",
              "      <td>female</td>\n",
              "      <td>Sudo</td>\n",
              "    </tr>\n",
              "    <tr>\n",
              "      <th>4</th>\n",
              "      <td>male</td>\n",
              "      <td>Sudo</td>\n",
              "    </tr>\n",
              "  </tbody>\n",
              "</table>\n",
              "</div>"
            ],
            "text/plain": [
              "   gender    region\n",
              "0    male  Youngnam\n",
              "1    male    Others\n",
              "2    male     Honam\n",
              "3  female      Sudo\n",
              "4    male      Sudo"
            ]
          },
          "metadata": {},
          "execution_count": 5
        }
      ]
    },
    {
      "cell_type": "code",
      "metadata": {
        "colab": {
          "base_uri": "https://localhost:8080/",
          "height": 200
        },
        "id": "FRdPWJVRvphW",
        "outputId": "f1419791-fe0e-4c8a-a13c-fcb803e8ae62"
      },
      "source": [
        "X1_dum = pd.get_dummies(X1)\n",
        "X1_dum.head()"
      ],
      "execution_count": null,
      "outputs": [
        {
          "output_type": "execute_result",
          "data": {
            "text/html": [
              "<div>\n",
              "<style scoped>\n",
              "    .dataframe tbody tr th:only-of-type {\n",
              "        vertical-align: middle;\n",
              "    }\n",
              "\n",
              "    .dataframe tbody tr th {\n",
              "        vertical-align: top;\n",
              "    }\n",
              "\n",
              "    .dataframe thead th {\n",
              "        text-align: right;\n",
              "    }\n",
              "</style>\n",
              "<table border=\"1\" class=\"dataframe\">\n",
              "  <thead>\n",
              "    <tr style=\"text-align: right;\">\n",
              "      <th></th>\n",
              "      <th>gender_female</th>\n",
              "      <th>gender_male</th>\n",
              "      <th>region_Chungcheong</th>\n",
              "      <th>region_Honam</th>\n",
              "      <th>region_Others</th>\n",
              "      <th>region_Sudo</th>\n",
              "      <th>region_Youngnam</th>\n",
              "    </tr>\n",
              "  </thead>\n",
              "  <tbody>\n",
              "    <tr>\n",
              "      <th>0</th>\n",
              "      <td>0</td>\n",
              "      <td>1</td>\n",
              "      <td>0</td>\n",
              "      <td>0</td>\n",
              "      <td>0</td>\n",
              "      <td>0</td>\n",
              "      <td>1</td>\n",
              "    </tr>\n",
              "    <tr>\n",
              "      <th>1</th>\n",
              "      <td>0</td>\n",
              "      <td>1</td>\n",
              "      <td>0</td>\n",
              "      <td>0</td>\n",
              "      <td>1</td>\n",
              "      <td>0</td>\n",
              "      <td>0</td>\n",
              "    </tr>\n",
              "    <tr>\n",
              "      <th>2</th>\n",
              "      <td>0</td>\n",
              "      <td>1</td>\n",
              "      <td>0</td>\n",
              "      <td>1</td>\n",
              "      <td>0</td>\n",
              "      <td>0</td>\n",
              "      <td>0</td>\n",
              "    </tr>\n",
              "    <tr>\n",
              "      <th>3</th>\n",
              "      <td>1</td>\n",
              "      <td>0</td>\n",
              "      <td>0</td>\n",
              "      <td>0</td>\n",
              "      <td>0</td>\n",
              "      <td>1</td>\n",
              "      <td>0</td>\n",
              "    </tr>\n",
              "    <tr>\n",
              "      <th>4</th>\n",
              "      <td>0</td>\n",
              "      <td>1</td>\n",
              "      <td>0</td>\n",
              "      <td>0</td>\n",
              "      <td>0</td>\n",
              "      <td>1</td>\n",
              "      <td>0</td>\n",
              "    </tr>\n",
              "  </tbody>\n",
              "</table>\n",
              "</div>"
            ],
            "text/plain": [
              "   gender_female  gender_male  ...  region_Sudo  region_Youngnam\n",
              "0              0            1  ...            0                1\n",
              "1              0            1  ...            0                0\n",
              "2              0            1  ...            0                0\n",
              "3              1            0  ...            1                0\n",
              "4              0            1  ...            1                0\n",
              "\n",
              "[5 rows x 7 columns]"
            ]
          },
          "metadata": {},
          "execution_count": 6
        }
      ]
    },
    {
      "cell_type": "markdown",
      "metadata": {
        "id": "4vEZHuN5v6V-"
      },
      "source": [
        "##4.3 자료 통합 및 저장하기"
      ]
    },
    {
      "cell_type": "code",
      "metadata": {
        "colab": {
          "base_uri": "https://localhost:8080/",
          "height": 200
        },
        "id": "2sEGtIiEv1av",
        "outputId": "fbab1f70-0b85-4bca-8b3f-e19502bedf70"
      },
      "source": [
        "Fvote = pd.concat([X1_dum,XY], axis = 1)\n",
        "Fvote.head()"
      ],
      "execution_count": null,
      "outputs": [
        {
          "output_type": "execute_result",
          "data": {
            "text/html": [
              "<div>\n",
              "<style scoped>\n",
              "    .dataframe tbody tr th:only-of-type {\n",
              "        vertical-align: middle;\n",
              "    }\n",
              "\n",
              "    .dataframe tbody tr th {\n",
              "        vertical-align: top;\n",
              "    }\n",
              "\n",
              "    .dataframe thead th {\n",
              "        text-align: right;\n",
              "    }\n",
              "</style>\n",
              "<table border=\"1\" class=\"dataframe\">\n",
              "  <thead>\n",
              "    <tr style=\"text-align: right;\">\n",
              "      <th></th>\n",
              "      <th>gender_female</th>\n",
              "      <th>gender_male</th>\n",
              "      <th>region_Chungcheong</th>\n",
              "      <th>region_Honam</th>\n",
              "      <th>region_Others</th>\n",
              "      <th>region_Sudo</th>\n",
              "      <th>region_Youngnam</th>\n",
              "      <th>edu</th>\n",
              "      <th>income</th>\n",
              "      <th>age</th>\n",
              "      <th>score_gov</th>\n",
              "      <th>score_progress</th>\n",
              "      <th>score_intention</th>\n",
              "      <th>vote</th>\n",
              "      <th>parties</th>\n",
              "    </tr>\n",
              "  </thead>\n",
              "  <tbody>\n",
              "    <tr>\n",
              "      <th>0</th>\n",
              "      <td>0</td>\n",
              "      <td>1</td>\n",
              "      <td>0</td>\n",
              "      <td>0</td>\n",
              "      <td>0</td>\n",
              "      <td>0</td>\n",
              "      <td>1</td>\n",
              "      <td>3</td>\n",
              "      <td>3</td>\n",
              "      <td>3</td>\n",
              "      <td>2</td>\n",
              "      <td>2</td>\n",
              "      <td>4.0</td>\n",
              "      <td>1</td>\n",
              "      <td>2</td>\n",
              "    </tr>\n",
              "    <tr>\n",
              "      <th>1</th>\n",
              "      <td>0</td>\n",
              "      <td>1</td>\n",
              "      <td>0</td>\n",
              "      <td>0</td>\n",
              "      <td>1</td>\n",
              "      <td>0</td>\n",
              "      <td>0</td>\n",
              "      <td>2</td>\n",
              "      <td>3</td>\n",
              "      <td>3</td>\n",
              "      <td>2</td>\n",
              "      <td>4</td>\n",
              "      <td>3.0</td>\n",
              "      <td>0</td>\n",
              "      <td>3</td>\n",
              "    </tr>\n",
              "    <tr>\n",
              "      <th>2</th>\n",
              "      <td>0</td>\n",
              "      <td>1</td>\n",
              "      <td>0</td>\n",
              "      <td>1</td>\n",
              "      <td>0</td>\n",
              "      <td>0</td>\n",
              "      <td>0</td>\n",
              "      <td>1</td>\n",
              "      <td>2</td>\n",
              "      <td>4</td>\n",
              "      <td>1</td>\n",
              "      <td>3</td>\n",
              "      <td>2.8</td>\n",
              "      <td>1</td>\n",
              "      <td>4</td>\n",
              "    </tr>\n",
              "    <tr>\n",
              "      <th>3</th>\n",
              "      <td>1</td>\n",
              "      <td>0</td>\n",
              "      <td>0</td>\n",
              "      <td>0</td>\n",
              "      <td>0</td>\n",
              "      <td>1</td>\n",
              "      <td>0</td>\n",
              "      <td>2</td>\n",
              "      <td>1</td>\n",
              "      <td>3</td>\n",
              "      <td>5</td>\n",
              "      <td>4</td>\n",
              "      <td>2.6</td>\n",
              "      <td>1</td>\n",
              "      <td>1</td>\n",
              "    </tr>\n",
              "    <tr>\n",
              "      <th>4</th>\n",
              "      <td>0</td>\n",
              "      <td>1</td>\n",
              "      <td>0</td>\n",
              "      <td>0</td>\n",
              "      <td>0</td>\n",
              "      <td>1</td>\n",
              "      <td>0</td>\n",
              "      <td>1</td>\n",
              "      <td>2</td>\n",
              "      <td>4</td>\n",
              "      <td>4</td>\n",
              "      <td>3</td>\n",
              "      <td>2.4</td>\n",
              "      <td>1</td>\n",
              "      <td>1</td>\n",
              "    </tr>\n",
              "  </tbody>\n",
              "</table>\n",
              "</div>"
            ],
            "text/plain": [
              "   gender_female  gender_male  ...  vote  parties\n",
              "0              0            1  ...     1        2\n",
              "1              0            1  ...     0        3\n",
              "2              0            1  ...     1        4\n",
              "3              1            0  ...     1        1\n",
              "4              0            1  ...     1        1\n",
              "\n",
              "[5 rows x 15 columns]"
            ]
          },
          "metadata": {},
          "execution_count": 7
        }
      ]
    },
    {
      "cell_type": "code",
      "metadata": {
        "id": "O66NsLcywHcu"
      },
      "source": [
        "Fvote.to_csv('Fvote.csv', index = False, sep = ',')"
      ],
      "execution_count": null,
      "outputs": []
    },
    {
      "cell_type": "markdown",
      "metadata": {
        "id": "_NxvuJkOwegw"
      },
      "source": [
        "#5. 머신러닝 프로세스2: 데이터셋 분할과 모델검증"
      ]
    },
    {
      "cell_type": "code",
      "metadata": {
        "colab": {
          "base_uri": "https://localhost:8080/",
          "height": 200
        },
        "id": "9ybjmVppwRp_",
        "outputId": "618d09bb-430b-464f-8f87-27a5941c808f"
      },
      "source": [
        "import warnings\n",
        "warnings.filterwarnings(\"ignore\")\n",
        "import pandas as pd\n",
        "df = pd.read_csv('Fvote.csv')\n",
        "df.head()"
      ],
      "execution_count": null,
      "outputs": [
        {
          "output_type": "execute_result",
          "data": {
            "text/html": [
              "<div>\n",
              "<style scoped>\n",
              "    .dataframe tbody tr th:only-of-type {\n",
              "        vertical-align: middle;\n",
              "    }\n",
              "\n",
              "    .dataframe tbody tr th {\n",
              "        vertical-align: top;\n",
              "    }\n",
              "\n",
              "    .dataframe thead th {\n",
              "        text-align: right;\n",
              "    }\n",
              "</style>\n",
              "<table border=\"1\" class=\"dataframe\">\n",
              "  <thead>\n",
              "    <tr style=\"text-align: right;\">\n",
              "      <th></th>\n",
              "      <th>gender_female</th>\n",
              "      <th>gender_male</th>\n",
              "      <th>region_Chungcheong</th>\n",
              "      <th>region_Honam</th>\n",
              "      <th>region_Others</th>\n",
              "      <th>region_Sudo</th>\n",
              "      <th>region_Youngnam</th>\n",
              "      <th>edu</th>\n",
              "      <th>income</th>\n",
              "      <th>age</th>\n",
              "      <th>score_gov</th>\n",
              "      <th>score_progress</th>\n",
              "      <th>score_intention</th>\n",
              "      <th>vote</th>\n",
              "      <th>parties</th>\n",
              "    </tr>\n",
              "  </thead>\n",
              "  <tbody>\n",
              "    <tr>\n",
              "      <th>0</th>\n",
              "      <td>0</td>\n",
              "      <td>1</td>\n",
              "      <td>0</td>\n",
              "      <td>0</td>\n",
              "      <td>0</td>\n",
              "      <td>0</td>\n",
              "      <td>1</td>\n",
              "      <td>3</td>\n",
              "      <td>3</td>\n",
              "      <td>3</td>\n",
              "      <td>2</td>\n",
              "      <td>2</td>\n",
              "      <td>4.0</td>\n",
              "      <td>1</td>\n",
              "      <td>2</td>\n",
              "    </tr>\n",
              "    <tr>\n",
              "      <th>1</th>\n",
              "      <td>0</td>\n",
              "      <td>1</td>\n",
              "      <td>0</td>\n",
              "      <td>0</td>\n",
              "      <td>1</td>\n",
              "      <td>0</td>\n",
              "      <td>0</td>\n",
              "      <td>2</td>\n",
              "      <td>3</td>\n",
              "      <td>3</td>\n",
              "      <td>2</td>\n",
              "      <td>4</td>\n",
              "      <td>3.0</td>\n",
              "      <td>0</td>\n",
              "      <td>3</td>\n",
              "    </tr>\n",
              "    <tr>\n",
              "      <th>2</th>\n",
              "      <td>0</td>\n",
              "      <td>1</td>\n",
              "      <td>0</td>\n",
              "      <td>1</td>\n",
              "      <td>0</td>\n",
              "      <td>0</td>\n",
              "      <td>0</td>\n",
              "      <td>1</td>\n",
              "      <td>2</td>\n",
              "      <td>4</td>\n",
              "      <td>1</td>\n",
              "      <td>3</td>\n",
              "      <td>2.8</td>\n",
              "      <td>1</td>\n",
              "      <td>4</td>\n",
              "    </tr>\n",
              "    <tr>\n",
              "      <th>3</th>\n",
              "      <td>1</td>\n",
              "      <td>0</td>\n",
              "      <td>0</td>\n",
              "      <td>0</td>\n",
              "      <td>0</td>\n",
              "      <td>1</td>\n",
              "      <td>0</td>\n",
              "      <td>2</td>\n",
              "      <td>1</td>\n",
              "      <td>3</td>\n",
              "      <td>5</td>\n",
              "      <td>4</td>\n",
              "      <td>2.6</td>\n",
              "      <td>1</td>\n",
              "      <td>1</td>\n",
              "    </tr>\n",
              "    <tr>\n",
              "      <th>4</th>\n",
              "      <td>0</td>\n",
              "      <td>1</td>\n",
              "      <td>0</td>\n",
              "      <td>0</td>\n",
              "      <td>0</td>\n",
              "      <td>1</td>\n",
              "      <td>0</td>\n",
              "      <td>1</td>\n",
              "      <td>2</td>\n",
              "      <td>4</td>\n",
              "      <td>4</td>\n",
              "      <td>3</td>\n",
              "      <td>2.4</td>\n",
              "      <td>1</td>\n",
              "      <td>1</td>\n",
              "    </tr>\n",
              "  </tbody>\n",
              "</table>\n",
              "</div>"
            ],
            "text/plain": [
              "   gender_female  gender_male  ...  vote  parties\n",
              "0              0            1  ...     1        2\n",
              "1              0            1  ...     0        3\n",
              "2              0            1  ...     1        4\n",
              "3              1            0  ...     1        1\n",
              "4              0            1  ...     1        1\n",
              "\n",
              "[5 rows x 15 columns]"
            ]
          },
          "metadata": {},
          "execution_count": 9
        }
      ]
    },
    {
      "cell_type": "code",
      "metadata": {
        "id": "8Rx6WkKsxABA"
      },
      "source": [
        "#변수 위치값으로 데이터셋 나누기\n",
        "X = df[df.columns[:13]]"
      ],
      "execution_count": null,
      "outputs": []
    },
    {
      "cell_type": "code",
      "metadata": {
        "id": "U_Rj11zqxSft"
      },
      "source": [
        "y = df[['vote']]"
      ],
      "execution_count": null,
      "outputs": []
    },
    {
      "cell_type": "markdown",
      "metadata": {
        "id": "WBZw0NK9yPBo"
      },
      "source": [
        "##5.2 train-test 데이터셋 나누기"
      ]
    },
    {
      "cell_type": "code",
      "metadata": {
        "id": "7xTGlD-yyN9W"
      },
      "source": [
        "from sklearn.model_selection import train_test_split\n",
        "X_train, X_test, y_train, y_test = train_test_split(X, y, stratify = y, random_state = 42)"
      ],
      "execution_count": null,
      "outputs": []
    },
    {
      "cell_type": "code",
      "metadata": {
        "colab": {
          "base_uri": "https://localhost:8080/"
        },
        "id": "qM7HmOVtymfv",
        "outputId": "5589e3d5-b4ec-4da4-fa13-d1a409c87087"
      },
      "source": [
        "print(X_train.shape)\n",
        "print(X_test.shape)"
      ],
      "execution_count": null,
      "outputs": [
        {
          "output_type": "stream",
          "name": "stdout",
          "text": [
            "(158, 13)\n",
            "(53, 13)\n"
          ]
        }
      ]
    },
    {
      "cell_type": "markdown",
      "metadata": {
        "id": "d0lQG1dbyxh4"
      },
      "source": [
        "##5.3 모델적용"
      ]
    },
    {
      "cell_type": "code",
      "metadata": {
        "id": "WLUt452TytjN"
      },
      "source": [
        "from sklearn.linear_model import LogisticRegression\n",
        "model = LogisticRegression()"
      ],
      "execution_count": null,
      "outputs": []
    },
    {
      "cell_type": "markdown",
      "metadata": {
        "id": "SzwMt826y6uO"
      },
      "source": [
        "###가. 랜덤 없는 교차검증: cross_val_score"
      ]
    },
    {
      "cell_type": "code",
      "metadata": {
        "id": "q6xhQNlqy6U9",
        "colab": {
          "base_uri": "https://localhost:8080/"
        },
        "outputId": "eb8da804-3f11-4902-8840-f2af54cab099"
      },
      "source": [
        "from sklearn.model_selection import cross_val_score\n",
        "\n",
        "score = cross_val_score(model, X_train, y_train, cv = 5)\n",
        "print(\"5개의 테스트셋(검증셋) 정확도: \" , score)\n",
        "print(\"정확도 평균: \", score.mean())"
      ],
      "execution_count": null,
      "outputs": [
        {
          "output_type": "stream",
          "name": "stdout",
          "text": [
            "5개의 테스트셋(검증셋) 정확도:  [0.71875    0.6875     0.8125     0.58064516 0.80645161]\n",
            "정확도 평균:  0.7211693548387096\n"
          ]
        }
      ]
    },
    {
      "cell_type": "markdown",
      "metadata": {
        "id": "VvXaciEyoCUO"
      },
      "source": [
        "###나. 랜덤 있는 교차검증: K-Fold"
      ]
    },
    {
      "cell_type": "code",
      "metadata": {
        "colab": {
          "base_uri": "https://localhost:8080/"
        },
        "id": "L5AJyHDuoAX2",
        "outputId": "820d3cf4-c5c0-4fc3-8aeb-eac8c0cb6d4b"
      },
      "source": [
        "#K - Fold가 cross_val_score와 다른점은 훈련데이터를 그룹들로 나눌때 순서를 뒤섞을수 있다는 점이있다(shuffle = True)\n",
        "from sklearn.model_selection import KFold\n",
        "\n",
        "kfold = KFold(n_splits = 5, shuffle = True, random_state = 42)\n",
        "score = cross_val_score(model, X_train, y_train, cv  = kfold)\n",
        "print(\"5개의 테스트셋(검증셋) 정확도: \" , score)\n",
        "print(\"정확도 평균: \", score.mean())"
      ],
      "execution_count": null,
      "outputs": [
        {
          "output_type": "stream",
          "name": "stdout",
          "text": [
            "5개의 테스트셋(검증셋) 정확도:  [0.71875    0.6875     0.625      0.70967742 0.77419355]\n",
            "정확도 평균:  0.7030241935483872\n"
          ]
        }
      ]
    },
    {
      "cell_type": "markdown",
      "metadata": {
        "id": "fPdNJiXwpFMi"
      },
      "source": [
        "###다. 임의분할 교차검증: ShuffleSplit\n"
      ]
    },
    {
      "cell_type": "code",
      "metadata": {
        "colab": {
          "base_uri": "https://localhost:8080/"
        },
        "id": "hoEo3pRqo00q",
        "outputId": "7e8782f9-eb3a-4549-ecb9-4b77d2faffda"
      },
      "source": [
        "#ShulffleSplit(임의분할 교차검증)은 훈련데이터와 테스트 데이터를 구성할 때 다른 교차 검증에 사용되었던 데이터도 랜덤으로 선택되게 하는 방법\n",
        "# 따라서 전체 데이터중 훈련 데이터나 테스트데이터 어디에도 선택되지않을수도 있다.\n",
        "from sklearn.model_selection import ShuffleSplit\n",
        "shuffle_split = ShuffleSplit(test_size = 0.5, train_size = 0.5, random_state = 42)\n",
        "score = cross_val_score(model ,X_train, y_train, cv = shuffle_split)\n",
        "print(\"교차검증 정확도: \" , score)"
      ],
      "execution_count": null,
      "outputs": [
        {
          "output_type": "stream",
          "name": "stdout",
          "text": [
            "교차검증 정확도:  [0.73417722 0.69620253 0.70886076 0.73417722 0.65822785 0.67088608\n",
            " 0.72151899 0.65822785 0.69620253 0.70886076]\n"
          ]
        }
      ]
    },
    {
      "cell_type": "markdown",
      "metadata": {
        "id": "qIbPicXVrOZ1"
      },
      "source": [
        "##5.4 train-validity-test 분할과 교차검증"
      ]
    },
    {
      "cell_type": "code",
      "metadata": {
        "id": "MdJ2rqs7qQOl"
      },
      "source": [
        "from sklearn.model_selection import train_test_split\n",
        "X_train_val , X_test, y_train_val, y_test = train_test_split(X, y, random_state = 1)\n",
        "X_train, X_val , y_train, y_val = train_test_split(X_train_val, y_train_val, random_state = 2)"
      ],
      "execution_count": null,
      "outputs": []
    },
    {
      "cell_type": "code",
      "metadata": {
        "colab": {
          "base_uri": "https://localhost:8080/"
        },
        "id": "JzWZyeUFrtjT",
        "outputId": "3f53be62-a0a7-4d8b-febf-4f4a778f7607"
      },
      "source": [
        "model.fit(X_train, y_train)\n",
        "score = cross_val_score(model , X_train, y_train, cv = 5)\n",
        "print(\"교차검증 정확도:\" ,score)\n",
        "print(\"정확도 평균: \", score.mean())"
      ],
      "execution_count": null,
      "outputs": [
        {
          "output_type": "stream",
          "name": "stdout",
          "text": [
            "교차검증 정확도: [0.58333333 0.66666667 0.70833333 0.65217391 0.65217391]\n",
            "정확도 평균:  0.652536231884058\n"
          ]
        }
      ]
    },
    {
      "cell_type": "code",
      "metadata": {
        "colab": {
          "base_uri": "https://localhost:8080/"
        },
        "id": "PcSXUzwQtGbp",
        "outputId": "66df1901-3747-4a1e-bfb7-6030ee176fc8"
      },
      "source": [
        "model.score(X_val , y_val)"
      ],
      "execution_count": null,
      "outputs": [
        {
          "output_type": "execute_result",
          "data": {
            "text/plain": [
              "0.65"
            ]
          },
          "metadata": {},
          "execution_count": 32
        }
      ]
    },
    {
      "cell_type": "code",
      "metadata": {
        "colab": {
          "base_uri": "https://localhost:8080/"
        },
        "id": "EDJFV9GMtXBl",
        "outputId": "48322b8f-ff68-49f6-b5aa-c9c59770c3ad"
      },
      "source": [
        "model.score(X_test, y_test)"
      ],
      "execution_count": null,
      "outputs": [
        {
          "output_type": "execute_result",
          "data": {
            "text/plain": [
              "0.6981132075471698"
            ]
          },
          "metadata": {},
          "execution_count": 33
        }
      ]
    },
    {
      "cell_type": "markdown",
      "metadata": {
        "id": "InHZuMqRtbiS"
      },
      "source": [
        "#6. 머신러닝 프로세스3: 데이터 정규화"
      ]
    },
    {
      "cell_type": "code",
      "metadata": {
        "colab": {
          "base_uri": "https://localhost:8080/",
          "height": 200
        },
        "id": "amWvRxQ3taDM",
        "outputId": "6b359e46-6f6d-4d00-f90c-bf0fa0596ed6"
      },
      "source": [
        "import pandas as pd\n",
        "df = pd.read_csv('Fvote.csv')\n",
        "df.head()"
      ],
      "execution_count": null,
      "outputs": [
        {
          "output_type": "execute_result",
          "data": {
            "text/html": [
              "<div>\n",
              "<style scoped>\n",
              "    .dataframe tbody tr th:only-of-type {\n",
              "        vertical-align: middle;\n",
              "    }\n",
              "\n",
              "    .dataframe tbody tr th {\n",
              "        vertical-align: top;\n",
              "    }\n",
              "\n",
              "    .dataframe thead th {\n",
              "        text-align: right;\n",
              "    }\n",
              "</style>\n",
              "<table border=\"1\" class=\"dataframe\">\n",
              "  <thead>\n",
              "    <tr style=\"text-align: right;\">\n",
              "      <th></th>\n",
              "      <th>gender_female</th>\n",
              "      <th>gender_male</th>\n",
              "      <th>region_Chungcheong</th>\n",
              "      <th>region_Honam</th>\n",
              "      <th>region_Others</th>\n",
              "      <th>region_Sudo</th>\n",
              "      <th>region_Youngnam</th>\n",
              "      <th>edu</th>\n",
              "      <th>income</th>\n",
              "      <th>age</th>\n",
              "      <th>score_gov</th>\n",
              "      <th>score_progress</th>\n",
              "      <th>score_intention</th>\n",
              "      <th>vote</th>\n",
              "      <th>parties</th>\n",
              "    </tr>\n",
              "  </thead>\n",
              "  <tbody>\n",
              "    <tr>\n",
              "      <th>0</th>\n",
              "      <td>0</td>\n",
              "      <td>1</td>\n",
              "      <td>0</td>\n",
              "      <td>0</td>\n",
              "      <td>0</td>\n",
              "      <td>0</td>\n",
              "      <td>1</td>\n",
              "      <td>3</td>\n",
              "      <td>3</td>\n",
              "      <td>3</td>\n",
              "      <td>2</td>\n",
              "      <td>2</td>\n",
              "      <td>4.0</td>\n",
              "      <td>1</td>\n",
              "      <td>2</td>\n",
              "    </tr>\n",
              "    <tr>\n",
              "      <th>1</th>\n",
              "      <td>0</td>\n",
              "      <td>1</td>\n",
              "      <td>0</td>\n",
              "      <td>0</td>\n",
              "      <td>1</td>\n",
              "      <td>0</td>\n",
              "      <td>0</td>\n",
              "      <td>2</td>\n",
              "      <td>3</td>\n",
              "      <td>3</td>\n",
              "      <td>2</td>\n",
              "      <td>4</td>\n",
              "      <td>3.0</td>\n",
              "      <td>0</td>\n",
              "      <td>3</td>\n",
              "    </tr>\n",
              "    <tr>\n",
              "      <th>2</th>\n",
              "      <td>0</td>\n",
              "      <td>1</td>\n",
              "      <td>0</td>\n",
              "      <td>1</td>\n",
              "      <td>0</td>\n",
              "      <td>0</td>\n",
              "      <td>0</td>\n",
              "      <td>1</td>\n",
              "      <td>2</td>\n",
              "      <td>4</td>\n",
              "      <td>1</td>\n",
              "      <td>3</td>\n",
              "      <td>2.8</td>\n",
              "      <td>1</td>\n",
              "      <td>4</td>\n",
              "    </tr>\n",
              "    <tr>\n",
              "      <th>3</th>\n",
              "      <td>1</td>\n",
              "      <td>0</td>\n",
              "      <td>0</td>\n",
              "      <td>0</td>\n",
              "      <td>0</td>\n",
              "      <td>1</td>\n",
              "      <td>0</td>\n",
              "      <td>2</td>\n",
              "      <td>1</td>\n",
              "      <td>3</td>\n",
              "      <td>5</td>\n",
              "      <td>4</td>\n",
              "      <td>2.6</td>\n",
              "      <td>1</td>\n",
              "      <td>1</td>\n",
              "    </tr>\n",
              "    <tr>\n",
              "      <th>4</th>\n",
              "      <td>0</td>\n",
              "      <td>1</td>\n",
              "      <td>0</td>\n",
              "      <td>0</td>\n",
              "      <td>0</td>\n",
              "      <td>1</td>\n",
              "      <td>0</td>\n",
              "      <td>1</td>\n",
              "      <td>2</td>\n",
              "      <td>4</td>\n",
              "      <td>4</td>\n",
              "      <td>3</td>\n",
              "      <td>2.4</td>\n",
              "      <td>1</td>\n",
              "      <td>1</td>\n",
              "    </tr>\n",
              "  </tbody>\n",
              "</table>\n",
              "</div>"
            ],
            "text/plain": [
              "   gender_female  gender_male  ...  vote  parties\n",
              "0              0            1  ...     1        2\n",
              "1              0            1  ...     0        3\n",
              "2              0            1  ...     1        4\n",
              "3              1            0  ...     1        1\n",
              "4              0            1  ...     1        1\n",
              "\n",
              "[5 rows x 15 columns]"
            ]
          },
          "metadata": {},
          "execution_count": 34
        }
      ]
    },
    {
      "cell_type": "code",
      "metadata": {
        "colab": {
          "base_uri": "https://localhost:8080/",
          "height": 290
        },
        "id": "fUFl0ig0tqsS",
        "outputId": "3c203485-80be-44fe-d8a3-a39ed3202912"
      },
      "source": [
        "df.describe()"
      ],
      "execution_count": null,
      "outputs": [
        {
          "output_type": "execute_result",
          "data": {
            "text/html": [
              "<div>\n",
              "<style scoped>\n",
              "    .dataframe tbody tr th:only-of-type {\n",
              "        vertical-align: middle;\n",
              "    }\n",
              "\n",
              "    .dataframe tbody tr th {\n",
              "        vertical-align: top;\n",
              "    }\n",
              "\n",
              "    .dataframe thead th {\n",
              "        text-align: right;\n",
              "    }\n",
              "</style>\n",
              "<table border=\"1\" class=\"dataframe\">\n",
              "  <thead>\n",
              "    <tr style=\"text-align: right;\">\n",
              "      <th></th>\n",
              "      <th>gender_female</th>\n",
              "      <th>gender_male</th>\n",
              "      <th>region_Chungcheong</th>\n",
              "      <th>region_Honam</th>\n",
              "      <th>region_Others</th>\n",
              "      <th>region_Sudo</th>\n",
              "      <th>region_Youngnam</th>\n",
              "      <th>edu</th>\n",
              "      <th>income</th>\n",
              "      <th>age</th>\n",
              "      <th>score_gov</th>\n",
              "      <th>score_progress</th>\n",
              "      <th>score_intention</th>\n",
              "      <th>vote</th>\n",
              "      <th>parties</th>\n",
              "    </tr>\n",
              "  </thead>\n",
              "  <tbody>\n",
              "    <tr>\n",
              "      <th>count</th>\n",
              "      <td>211.000000</td>\n",
              "      <td>211.000000</td>\n",
              "      <td>211.000000</td>\n",
              "      <td>211.000000</td>\n",
              "      <td>211.000000</td>\n",
              "      <td>211.000000</td>\n",
              "      <td>211.000000</td>\n",
              "      <td>211.000000</td>\n",
              "      <td>211.000000</td>\n",
              "      <td>211.000000</td>\n",
              "      <td>211.000000</td>\n",
              "      <td>211.000000</td>\n",
              "      <td>211.000000</td>\n",
              "      <td>211.000000</td>\n",
              "      <td>211.000000</td>\n",
              "    </tr>\n",
              "    <tr>\n",
              "      <th>mean</th>\n",
              "      <td>0.341232</td>\n",
              "      <td>0.658768</td>\n",
              "      <td>0.080569</td>\n",
              "      <td>0.090047</td>\n",
              "      <td>0.094787</td>\n",
              "      <td>0.597156</td>\n",
              "      <td>0.137441</td>\n",
              "      <td>1.867299</td>\n",
              "      <td>2.208531</td>\n",
              "      <td>2.654028</td>\n",
              "      <td>3.056872</td>\n",
              "      <td>3.094787</td>\n",
              "      <td>2.910900</td>\n",
              "      <td>0.710900</td>\n",
              "      <td>2.668246</td>\n",
              "    </tr>\n",
              "    <tr>\n",
              "      <th>std</th>\n",
              "      <td>0.475251</td>\n",
              "      <td>0.475251</td>\n",
              "      <td>0.272819</td>\n",
              "      <td>0.286930</td>\n",
              "      <td>0.293617</td>\n",
              "      <td>0.491636</td>\n",
              "      <td>0.345131</td>\n",
              "      <td>0.625963</td>\n",
              "      <td>1.066424</td>\n",
              "      <td>0.872173</td>\n",
              "      <td>0.944451</td>\n",
              "      <td>0.961408</td>\n",
              "      <td>0.725078</td>\n",
              "      <td>0.454422</td>\n",
              "      <td>1.220416</td>\n",
              "    </tr>\n",
              "    <tr>\n",
              "      <th>min</th>\n",
              "      <td>0.000000</td>\n",
              "      <td>0.000000</td>\n",
              "      <td>0.000000</td>\n",
              "      <td>0.000000</td>\n",
              "      <td>0.000000</td>\n",
              "      <td>0.000000</td>\n",
              "      <td>0.000000</td>\n",
              "      <td>1.000000</td>\n",
              "      <td>1.000000</td>\n",
              "      <td>1.000000</td>\n",
              "      <td>1.000000</td>\n",
              "      <td>1.000000</td>\n",
              "      <td>1.000000</td>\n",
              "      <td>0.000000</td>\n",
              "      <td>1.000000</td>\n",
              "    </tr>\n",
              "    <tr>\n",
              "      <th>25%</th>\n",
              "      <td>0.000000</td>\n",
              "      <td>0.000000</td>\n",
              "      <td>0.000000</td>\n",
              "      <td>0.000000</td>\n",
              "      <td>0.000000</td>\n",
              "      <td>0.000000</td>\n",
              "      <td>0.000000</td>\n",
              "      <td>1.000000</td>\n",
              "      <td>1.000000</td>\n",
              "      <td>2.000000</td>\n",
              "      <td>3.000000</td>\n",
              "      <td>2.000000</td>\n",
              "      <td>2.400000</td>\n",
              "      <td>0.000000</td>\n",
              "      <td>2.000000</td>\n",
              "    </tr>\n",
              "    <tr>\n",
              "      <th>50%</th>\n",
              "      <td>0.000000</td>\n",
              "      <td>1.000000</td>\n",
              "      <td>0.000000</td>\n",
              "      <td>0.000000</td>\n",
              "      <td>0.000000</td>\n",
              "      <td>1.000000</td>\n",
              "      <td>0.000000</td>\n",
              "      <td>2.000000</td>\n",
              "      <td>2.000000</td>\n",
              "      <td>3.000000</td>\n",
              "      <td>3.000000</td>\n",
              "      <td>3.000000</td>\n",
              "      <td>3.000000</td>\n",
              "      <td>1.000000</td>\n",
              "      <td>3.000000</td>\n",
              "    </tr>\n",
              "    <tr>\n",
              "      <th>75%</th>\n",
              "      <td>1.000000</td>\n",
              "      <td>1.000000</td>\n",
              "      <td>0.000000</td>\n",
              "      <td>0.000000</td>\n",
              "      <td>0.000000</td>\n",
              "      <td>1.000000</td>\n",
              "      <td>0.000000</td>\n",
              "      <td>2.000000</td>\n",
              "      <td>3.000000</td>\n",
              "      <td>3.000000</td>\n",
              "      <td>4.000000</td>\n",
              "      <td>4.000000</td>\n",
              "      <td>3.400000</td>\n",
              "      <td>1.000000</td>\n",
              "      <td>4.000000</td>\n",
              "    </tr>\n",
              "    <tr>\n",
              "      <th>max</th>\n",
              "      <td>1.000000</td>\n",
              "      <td>1.000000</td>\n",
              "      <td>1.000000</td>\n",
              "      <td>1.000000</td>\n",
              "      <td>1.000000</td>\n",
              "      <td>1.000000</td>\n",
              "      <td>1.000000</td>\n",
              "      <td>3.000000</td>\n",
              "      <td>4.000000</td>\n",
              "      <td>4.000000</td>\n",
              "      <td>5.000000</td>\n",
              "      <td>5.000000</td>\n",
              "      <td>5.000000</td>\n",
              "      <td>1.000000</td>\n",
              "      <td>4.000000</td>\n",
              "    </tr>\n",
              "  </tbody>\n",
              "</table>\n",
              "</div>"
            ],
            "text/plain": [
              "       gender_female  gender_male  ...        vote     parties\n",
              "count     211.000000   211.000000  ...  211.000000  211.000000\n",
              "mean        0.341232     0.658768  ...    0.710900    2.668246\n",
              "std         0.475251     0.475251  ...    0.454422    1.220416\n",
              "min         0.000000     0.000000  ...    0.000000    1.000000\n",
              "25%         0.000000     0.000000  ...    0.000000    2.000000\n",
              "50%         0.000000     1.000000  ...    1.000000    3.000000\n",
              "75%         1.000000     1.000000  ...    1.000000    4.000000\n",
              "max         1.000000     1.000000  ...    1.000000    4.000000\n",
              "\n",
              "[8 rows x 15 columns]"
            ]
          },
          "metadata": {},
          "execution_count": 35
        }
      ]
    },
    {
      "cell_type": "markdown",
      "metadata": {
        "id": "Cq7y_Fa6t2qN"
      },
      "source": [
        "선거행동 데이터의 기술통계를 살펴보면 각 변수의 평균, 편차 수준이 다르다."
      ]
    },
    {
      "cell_type": "code",
      "metadata": {
        "colab": {
          "base_uri": "https://localhost:8080/",
          "height": 607
        },
        "id": "oJaySlP_twlK",
        "outputId": "7b0d1c0a-12cd-4459-875f-8b5500021356"
      },
      "source": [
        "df.hist(figsize = (12, 10));"
      ],
      "execution_count": null,
      "outputs": [
        {
          "output_type": "display_data",
          "data": {
            "image/png": "[encoded data removed]",
            "text/plain": [
              "<Figure size 864x720 with 16 Axes>"
            ]
          },
          "metadata": {
            "needs_background": "light"
          }
        }
      ]
    },
    {
      "cell_type": "markdown",
      "metadata": {
        "id": "UOOESN7s3bGv"
      },
      "source": [
        "##6.2 특성(x)과 레이블(y) 나누기"
      ]
    },
    {
      "cell_type": "code",
      "metadata": {
        "id": "J05et_umuB-r"
      },
      "source": [
        "X = df.loc[: ,'gender_female':'score_intention']\n",
        "y = df[['vote']]"
      ],
      "execution_count": null,
      "outputs": []
    },
    {
      "cell_type": "code",
      "metadata": {
        "colab": {
          "base_uri": "https://localhost:8080/"
        },
        "id": "-F7lsrNp3sIS",
        "outputId": "bcfd7449-bcf8-4b50-e2b4-70c323e6f7b8"
      },
      "source": [
        "print(X.shape)\n",
        "print(y.shape)"
      ],
      "execution_count": null,
      "outputs": [
        {
          "output_type": "stream",
          "name": "stdout",
          "text": [
            "(211, 13)\n",
            "(211, 1)\n"
          ]
        }
      ]
    },
    {
      "cell_type": "code",
      "metadata": {
        "id": "-yi-hcuV3xcZ"
      },
      "source": [
        "from sklearn.model_selection import train_test_split\n",
        "\n",
        "X_train, X_test, y_train, y_test = train_test_split(X, y, random_state = 42, stratify = y)"
      ],
      "execution_count": null,
      "outputs": []
    },
    {
      "cell_type": "code",
      "metadata": {
        "colab": {
          "base_uri": "https://localhost:8080/"
        },
        "id": "eTCVnTBt4DIs",
        "outputId": "327a73e4-9f05-4cba-cf1b-d2c60b843d6b"
      },
      "source": [
        "# 학습데이터와 테스트데이터의 투표여부(0, 1) 비율 확인\n",
        "print(y_train.mean())\n",
        "print(y_test.mean())"
      ],
      "execution_count": null,
      "outputs": [
        {
          "output_type": "stream",
          "name": "stdout",
          "text": [
            "vote    0.708861\n",
            "dtype: float64\n",
            "vote    0.716981\n",
            "dtype: float64\n"
          ]
        }
      ]
    },
    {
      "cell_type": "markdown",
      "metadata": {
        "id": "5jE4tbro4V5_"
      },
      "source": [
        "##6.4 연속형 특성의 Scaling"
      ]
    },
    {
      "cell_type": "markdown",
      "metadata": {
        "id": "zCqBJulW4aX7"
      },
      "source": [
        "###가. Min-Max Scaling"
      ]
    },
    {
      "cell_type": "code",
      "metadata": {
        "id": "SBf5SZMo4UkZ"
      },
      "source": [
        "from sklearn.preprocessing import MinMaxScaler\n",
        "\n",
        "minmax_scaler = MinMaxScaler()"
      ],
      "execution_count": null,
      "outputs": []
    },
    {
      "cell_type": "code",
      "metadata": {
        "id": "d9qF7LEK4kVt"
      },
      "source": [
        "X_scaled_minmax_train = minmax_scaler.fit_transform(X_train) #train데이터 기준(최대/최소)으로 정규화"
      ],
      "execution_count": null,
      "outputs": []
    },
    {
      "cell_type": "code",
      "metadata": {
        "colab": {
          "base_uri": "https://localhost:8080/",
          "height": 290
        },
        "id": "GvymZj2B47V0",
        "outputId": "63226a3d-d0fe-4081-d297-c0a75580a17e"
      },
      "source": [
        "pd.DataFrame(X_scaled_minmax_train).describe()"
      ],
      "execution_count": null,
      "outputs": [
        {
          "output_type": "execute_result",
          "data": {
            "text/html": [
              "<div>\n",
              "<style scoped>\n",
              "    .dataframe tbody tr th:only-of-type {\n",
              "        vertical-align: middle;\n",
              "    }\n",
              "\n",
              "    .dataframe tbody tr th {\n",
              "        vertical-align: top;\n",
              "    }\n",
              "\n",
              "    .dataframe thead th {\n",
              "        text-align: right;\n",
              "    }\n",
              "</style>\n",
              "<table border=\"1\" class=\"dataframe\">\n",
              "  <thead>\n",
              "    <tr style=\"text-align: right;\">\n",
              "      <th></th>\n",
              "      <th>0</th>\n",
              "      <th>1</th>\n",
              "      <th>2</th>\n",
              "      <th>3</th>\n",
              "      <th>4</th>\n",
              "      <th>5</th>\n",
              "      <th>6</th>\n",
              "      <th>7</th>\n",
              "      <th>8</th>\n",
              "      <th>9</th>\n",
              "      <th>10</th>\n",
              "      <th>11</th>\n",
              "      <th>12</th>\n",
              "    </tr>\n",
              "  </thead>\n",
              "  <tbody>\n",
              "    <tr>\n",
              "      <th>count</th>\n",
              "      <td>158.000000</td>\n",
              "      <td>158.000000</td>\n",
              "      <td>158.000000</td>\n",
              "      <td>158.000000</td>\n",
              "      <td>158.000000</td>\n",
              "      <td>158.000000</td>\n",
              "      <td>158.000000</td>\n",
              "      <td>158.000000</td>\n",
              "      <td>158.000000</td>\n",
              "      <td>158.000000</td>\n",
              "      <td>158.000000</td>\n",
              "      <td>158.000000</td>\n",
              "      <td>158.000000</td>\n",
              "    </tr>\n",
              "    <tr>\n",
              "      <th>mean</th>\n",
              "      <td>0.322785</td>\n",
              "      <td>0.677215</td>\n",
              "      <td>0.094937</td>\n",
              "      <td>0.056962</td>\n",
              "      <td>0.101266</td>\n",
              "      <td>0.601266</td>\n",
              "      <td>0.145570</td>\n",
              "      <td>0.436709</td>\n",
              "      <td>0.392405</td>\n",
              "      <td>0.554852</td>\n",
              "      <td>0.507911</td>\n",
              "      <td>0.518987</td>\n",
              "      <td>0.477532</td>\n",
              "    </tr>\n",
              "    <tr>\n",
              "      <th>std</th>\n",
              "      <td>0.469028</td>\n",
              "      <td>0.469028</td>\n",
              "      <td>0.294060</td>\n",
              "      <td>0.232507</td>\n",
              "      <td>0.302640</td>\n",
              "      <td>0.491195</td>\n",
              "      <td>0.353796</td>\n",
              "      <td>0.312857</td>\n",
              "      <td>0.355960</td>\n",
              "      <td>0.295306</td>\n",
              "      <td>0.235099</td>\n",
              "      <td>0.245248</td>\n",
              "      <td>0.187215</td>\n",
              "    </tr>\n",
              "    <tr>\n",
              "      <th>min</th>\n",
              "      <td>0.000000</td>\n",
              "      <td>0.000000</td>\n",
              "      <td>0.000000</td>\n",
              "      <td>0.000000</td>\n",
              "      <td>0.000000</td>\n",
              "      <td>0.000000</td>\n",
              "      <td>0.000000</td>\n",
              "      <td>0.000000</td>\n",
              "      <td>0.000000</td>\n",
              "      <td>0.000000</td>\n",
              "      <td>0.000000</td>\n",
              "      <td>0.000000</td>\n",
              "      <td>0.000000</td>\n",
              "    </tr>\n",
              "    <tr>\n",
              "      <th>25%</th>\n",
              "      <td>0.000000</td>\n",
              "      <td>0.000000</td>\n",
              "      <td>0.000000</td>\n",
              "      <td>0.000000</td>\n",
              "      <td>0.000000</td>\n",
              "      <td>0.000000</td>\n",
              "      <td>0.000000</td>\n",
              "      <td>0.000000</td>\n",
              "      <td>0.000000</td>\n",
              "      <td>0.333333</td>\n",
              "      <td>0.312500</td>\n",
              "      <td>0.250000</td>\n",
              "      <td>0.350000</td>\n",
              "    </tr>\n",
              "    <tr>\n",
              "      <th>50%</th>\n",
              "      <td>0.000000</td>\n",
              "      <td>1.000000</td>\n",
              "      <td>0.000000</td>\n",
              "      <td>0.000000</td>\n",
              "      <td>0.000000</td>\n",
              "      <td>1.000000</td>\n",
              "      <td>0.000000</td>\n",
              "      <td>0.500000</td>\n",
              "      <td>0.333333</td>\n",
              "      <td>0.500000</td>\n",
              "      <td>0.500000</td>\n",
              "      <td>0.500000</td>\n",
              "      <td>0.500000</td>\n",
              "    </tr>\n",
              "    <tr>\n",
              "      <th>75%</th>\n",
              "      <td>1.000000</td>\n",
              "      <td>1.000000</td>\n",
              "      <td>0.000000</td>\n",
              "      <td>0.000000</td>\n",
              "      <td>0.000000</td>\n",
              "      <td>1.000000</td>\n",
              "      <td>0.000000</td>\n",
              "      <td>0.500000</td>\n",
              "      <td>0.666667</td>\n",
              "      <td>0.666667</td>\n",
              "      <td>0.750000</td>\n",
              "      <td>0.750000</td>\n",
              "      <td>0.600000</td>\n",
              "    </tr>\n",
              "    <tr>\n",
              "      <th>max</th>\n",
              "      <td>1.000000</td>\n",
              "      <td>1.000000</td>\n",
              "      <td>1.000000</td>\n",
              "      <td>1.000000</td>\n",
              "      <td>1.000000</td>\n",
              "      <td>1.000000</td>\n",
              "      <td>1.000000</td>\n",
              "      <td>1.000000</td>\n",
              "      <td>1.000000</td>\n",
              "      <td>1.000000</td>\n",
              "      <td>1.000000</td>\n",
              "      <td>1.000000</td>\n",
              "      <td>1.000000</td>\n",
              "    </tr>\n",
              "  </tbody>\n",
              "</table>\n",
              "</div>"
            ],
            "text/plain": [
              "               0           1           2   ...          10          11          12\n",
              "count  158.000000  158.000000  158.000000  ...  158.000000  158.000000  158.000000\n",
              "mean     0.322785    0.677215    0.094937  ...    0.507911    0.518987    0.477532\n",
              "std      0.469028    0.469028    0.294060  ...    0.235099    0.245248    0.187215\n",
              "min      0.000000    0.000000    0.000000  ...    0.000000    0.000000    0.000000\n",
              "25%      0.000000    0.000000    0.000000  ...    0.312500    0.250000    0.350000\n",
              "50%      0.000000    1.000000    0.000000  ...    0.500000    0.500000    0.500000\n",
              "75%      1.000000    1.000000    0.000000  ...    0.750000    0.750000    0.600000\n",
              "max      1.000000    1.000000    1.000000  ...    1.000000    1.000000    1.000000\n",
              "\n",
              "[8 rows x 13 columns]"
            ]
          },
          "metadata": {},
          "execution_count": 48
        }
      ]
    },
    {
      "cell_type": "code",
      "metadata": {
        "colab": {
          "base_uri": "https://localhost:8080/",
          "height": 290
        },
        "id": "_CXzzb7-5F_C",
        "outputId": "2e16c1fa-2a7b-4d6c-d22c-921787f741e8"
      },
      "source": [
        "X_scaled_minmax_test = minmax_scaler.transform(X_test)\n",
        "pd.DataFrame(X_scaled_minmax_test).describe()"
      ],
      "execution_count": null,
      "outputs": [
        {
          "output_type": "execute_result",
          "data": {
            "text/html": [
              "<div>\n",
              "<style scoped>\n",
              "    .dataframe tbody tr th:only-of-type {\n",
              "        vertical-align: middle;\n",
              "    }\n",
              "\n",
              "    .dataframe tbody tr th {\n",
              "        vertical-align: top;\n",
              "    }\n",
              "\n",
              "    .dataframe thead th {\n",
              "        text-align: right;\n",
              "    }\n",
              "</style>\n",
              "<table border=\"1\" class=\"dataframe\">\n",
              "  <thead>\n",
              "    <tr style=\"text-align: right;\">\n",
              "      <th></th>\n",
              "      <th>0</th>\n",
              "      <th>1</th>\n",
              "      <th>2</th>\n",
              "      <th>3</th>\n",
              "      <th>4</th>\n",
              "      <th>5</th>\n",
              "      <th>6</th>\n",
              "      <th>7</th>\n",
              "      <th>8</th>\n",
              "      <th>9</th>\n",
              "      <th>10</th>\n",
              "      <th>11</th>\n",
              "      <th>12</th>\n",
              "    </tr>\n",
              "  </thead>\n",
              "  <tbody>\n",
              "    <tr>\n",
              "      <th>count</th>\n",
              "      <td>53.000000</td>\n",
              "      <td>53.000000</td>\n",
              "      <td>53.000000</td>\n",
              "      <td>53.000000</td>\n",
              "      <td>53.000000</td>\n",
              "      <td>53.000000</td>\n",
              "      <td>53.000000</td>\n",
              "      <td>53.000000</td>\n",
              "      <td>53.000000</td>\n",
              "      <td>53.000000</td>\n",
              "      <td>53.000000</td>\n",
              "      <td>53.000000</td>\n",
              "      <td>53.000000</td>\n",
              "    </tr>\n",
              "    <tr>\n",
              "      <th>mean</th>\n",
              "      <td>0.396226</td>\n",
              "      <td>0.603774</td>\n",
              "      <td>0.037736</td>\n",
              "      <td>0.188679</td>\n",
              "      <td>0.075472</td>\n",
              "      <td>0.584906</td>\n",
              "      <td>0.113208</td>\n",
              "      <td>0.424528</td>\n",
              "      <td>0.433962</td>\n",
              "      <td>0.540881</td>\n",
              "      <td>0.533019</td>\n",
              "      <td>0.537736</td>\n",
              "      <td>0.478302</td>\n",
              "    </tr>\n",
              "    <tr>\n",
              "      <th>std</th>\n",
              "      <td>0.493793</td>\n",
              "      <td>0.493793</td>\n",
              "      <td>0.192380</td>\n",
              "      <td>0.394998</td>\n",
              "      <td>0.266679</td>\n",
              "      <td>0.497454</td>\n",
              "      <td>0.319878</td>\n",
              "      <td>0.316170</td>\n",
              "      <td>0.355572</td>\n",
              "      <td>0.279089</td>\n",
              "      <td>0.240381</td>\n",
              "      <td>0.226789</td>\n",
              "      <td>0.163939</td>\n",
              "    </tr>\n",
              "    <tr>\n",
              "      <th>min</th>\n",
              "      <td>0.000000</td>\n",
              "      <td>0.000000</td>\n",
              "      <td>0.000000</td>\n",
              "      <td>0.000000</td>\n",
              "      <td>0.000000</td>\n",
              "      <td>0.000000</td>\n",
              "      <td>0.000000</td>\n",
              "      <td>0.000000</td>\n",
              "      <td>0.000000</td>\n",
              "      <td>0.000000</td>\n",
              "      <td>0.000000</td>\n",
              "      <td>0.000000</td>\n",
              "      <td>0.200000</td>\n",
              "    </tr>\n",
              "    <tr>\n",
              "      <th>25%</th>\n",
              "      <td>0.000000</td>\n",
              "      <td>0.000000</td>\n",
              "      <td>0.000000</td>\n",
              "      <td>0.000000</td>\n",
              "      <td>0.000000</td>\n",
              "      <td>0.000000</td>\n",
              "      <td>0.000000</td>\n",
              "      <td>0.000000</td>\n",
              "      <td>0.000000</td>\n",
              "      <td>0.333333</td>\n",
              "      <td>0.500000</td>\n",
              "      <td>0.500000</td>\n",
              "      <td>0.350000</td>\n",
              "    </tr>\n",
              "    <tr>\n",
              "      <th>50%</th>\n",
              "      <td>0.000000</td>\n",
              "      <td>1.000000</td>\n",
              "      <td>0.000000</td>\n",
              "      <td>0.000000</td>\n",
              "      <td>0.000000</td>\n",
              "      <td>1.000000</td>\n",
              "      <td>0.000000</td>\n",
              "      <td>0.500000</td>\n",
              "      <td>0.333333</td>\n",
              "      <td>0.666667</td>\n",
              "      <td>0.500000</td>\n",
              "      <td>0.500000</td>\n",
              "      <td>0.500000</td>\n",
              "    </tr>\n",
              "    <tr>\n",
              "      <th>75%</th>\n",
              "      <td>1.000000</td>\n",
              "      <td>1.000000</td>\n",
              "      <td>0.000000</td>\n",
              "      <td>0.000000</td>\n",
              "      <td>0.000000</td>\n",
              "      <td>1.000000</td>\n",
              "      <td>0.000000</td>\n",
              "      <td>0.500000</td>\n",
              "      <td>0.666667</td>\n",
              "      <td>0.666667</td>\n",
              "      <td>0.750000</td>\n",
              "      <td>0.750000</td>\n",
              "      <td>0.550000</td>\n",
              "    </tr>\n",
              "    <tr>\n",
              "      <th>max</th>\n",
              "      <td>1.000000</td>\n",
              "      <td>1.000000</td>\n",
              "      <td>1.000000</td>\n",
              "      <td>1.000000</td>\n",
              "      <td>1.000000</td>\n",
              "      <td>1.000000</td>\n",
              "      <td>1.000000</td>\n",
              "      <td>1.000000</td>\n",
              "      <td>1.000000</td>\n",
              "      <td>1.000000</td>\n",
              "      <td>1.000000</td>\n",
              "      <td>1.000000</td>\n",
              "      <td>0.900000</td>\n",
              "    </tr>\n",
              "  </tbody>\n",
              "</table>\n",
              "</div>"
            ],
            "text/plain": [
              "              0          1          2   ...         10         11         12\n",
              "count  53.000000  53.000000  53.000000  ...  53.000000  53.000000  53.000000\n",
              "mean    0.396226   0.603774   0.037736  ...   0.533019   0.537736   0.478302\n",
              "std     0.493793   0.493793   0.192380  ...   0.240381   0.226789   0.163939\n",
              "min     0.000000   0.000000   0.000000  ...   0.000000   0.000000   0.200000\n",
              "25%     0.000000   0.000000   0.000000  ...   0.500000   0.500000   0.350000\n",
              "50%     0.000000   1.000000   0.000000  ...   0.500000   0.500000   0.500000\n",
              "75%     1.000000   1.000000   0.000000  ...   0.750000   0.750000   0.550000\n",
              "max     1.000000   1.000000   1.000000  ...   1.000000   1.000000   0.900000\n",
              "\n",
              "[8 rows x 13 columns]"
            ]
          },
          "metadata": {},
          "execution_count": 49
        }
      ]
    },
    {
      "cell_type": "markdown",
      "metadata": {
        "id": "H67E6j-j5bHv"
      },
      "source": [
        "###나. Standardization 스케일링"
      ]
    },
    {
      "cell_type": "code",
      "metadata": {
        "id": "RiRMNRVC5XvV"
      },
      "source": [
        "#표준화는 평균이 0, 표준편차가 1이 되도록 값의 단위를 정규화하는것\n",
        "from sklearn.preprocessing import StandardScaler\n",
        "standard_scaler = StandardScaler()\n"
      ],
      "execution_count": null,
      "outputs": []
    },
    {
      "cell_type": "code",
      "metadata": {
        "colab": {
          "base_uri": "https://localhost:8080/",
          "height": 290
        },
        "id": "5pOD2vWB5om7",
        "outputId": "c2a4082b-3d59-4df4-c499-fdcf73c2cc35"
      },
      "source": [
        "X_scaled_standard_train = standard_scaler.fit_transform(X_train)\n",
        "pd.DataFrame(X_scaled_standard_train).describe()"
      ],
      "execution_count": null,
      "outputs": [
        {
          "output_type": "execute_result",
          "data": {
            "text/html": [
              "<div>\n",
              "<style scoped>\n",
              "    .dataframe tbody tr th:only-of-type {\n",
              "        vertical-align: middle;\n",
              "    }\n",
              "\n",
              "    .dataframe tbody tr th {\n",
              "        vertical-align: top;\n",
              "    }\n",
              "\n",
              "    .dataframe thead th {\n",
              "        text-align: right;\n",
              "    }\n",
              "</style>\n",
              "<table border=\"1\" class=\"dataframe\">\n",
              "  <thead>\n",
              "    <tr style=\"text-align: right;\">\n",
              "      <th></th>\n",
              "      <th>0</th>\n",
              "      <th>1</th>\n",
              "      <th>2</th>\n",
              "      <th>3</th>\n",
              "      <th>4</th>\n",
              "      <th>5</th>\n",
              "      <th>6</th>\n",
              "      <th>7</th>\n",
              "      <th>8</th>\n",
              "      <th>9</th>\n",
              "      <th>10</th>\n",
              "      <th>11</th>\n",
              "      <th>12</th>\n",
              "    </tr>\n",
              "  </thead>\n",
              "  <tbody>\n",
              "    <tr>\n",
              "      <th>count</th>\n",
              "      <td>1.580000e+02</td>\n",
              "      <td>1.580000e+02</td>\n",
              "      <td>1.580000e+02</td>\n",
              "      <td>1.580000e+02</td>\n",
              "      <td>1.580000e+02</td>\n",
              "      <td>1.580000e+02</td>\n",
              "      <td>1.580000e+02</td>\n",
              "      <td>1.580000e+02</td>\n",
              "      <td>1.580000e+02</td>\n",
              "      <td>1.580000e+02</td>\n",
              "      <td>1.580000e+02</td>\n",
              "      <td>1.580000e+02</td>\n",
              "      <td>1.580000e+02</td>\n",
              "    </tr>\n",
              "    <tr>\n",
              "      <th>mean</th>\n",
              "      <td>8.432074e-18</td>\n",
              "      <td>7.307797e-17</td>\n",
              "      <td>-2.810691e-17</td>\n",
              "      <td>1.127790e-16</td>\n",
              "      <td>-2.318820e-17</td>\n",
              "      <td>-1.405346e-18</td>\n",
              "      <td>-8.853677e-17</td>\n",
              "      <td>6.201087e-17</td>\n",
              "      <td>-8.151004e-17</td>\n",
              "      <td>-2.389088e-17</td>\n",
              "      <td>3.934968e-17</td>\n",
              "      <td>4.356571e-17</td>\n",
              "      <td>-4.863374e-16</td>\n",
              "    </tr>\n",
              "    <tr>\n",
              "      <th>std</th>\n",
              "      <td>1.003180e+00</td>\n",
              "      <td>1.003180e+00</td>\n",
              "      <td>1.003180e+00</td>\n",
              "      <td>1.003180e+00</td>\n",
              "      <td>1.003180e+00</td>\n",
              "      <td>1.003180e+00</td>\n",
              "      <td>1.003180e+00</td>\n",
              "      <td>1.003180e+00</td>\n",
              "      <td>1.003180e+00</td>\n",
              "      <td>1.003180e+00</td>\n",
              "      <td>1.003180e+00</td>\n",
              "      <td>1.003180e+00</td>\n",
              "      <td>1.003180e+00</td>\n",
              "    </tr>\n",
              "    <tr>\n",
              "      <th>min</th>\n",
              "      <td>-6.903879e-01</td>\n",
              "      <td>-1.448461e+00</td>\n",
              "      <td>-3.238751e-01</td>\n",
              "      <td>-2.457696e-01</td>\n",
              "      <td>-3.356725e-01</td>\n",
              "      <td>-1.227981e+00</td>\n",
              "      <td>-4.127595e-01</td>\n",
              "      <td>-1.400312e+00</td>\n",
              "      <td>-1.105890e+00</td>\n",
              "      <td>-1.884881e+00</td>\n",
              "      <td>-2.167287e+00</td>\n",
              "      <td>-2.122900e+00</td>\n",
              "      <td>-2.558829e+00</td>\n",
              "    </tr>\n",
              "    <tr>\n",
              "      <th>25%</th>\n",
              "      <td>-6.903879e-01</td>\n",
              "      <td>-1.448461e+00</td>\n",
              "      <td>-3.238751e-01</td>\n",
              "      <td>-2.457696e-01</td>\n",
              "      <td>-3.356725e-01</td>\n",
              "      <td>-1.227981e+00</td>\n",
              "      <td>-4.127595e-01</td>\n",
              "      <td>-1.400312e+00</td>\n",
              "      <td>-1.105890e+00</td>\n",
              "      <td>-7.525190e-01</td>\n",
              "      <td>-8.338316e-01</td>\n",
              "      <td>-1.100283e+00</td>\n",
              "      <td>-6.833719e-01</td>\n",
              "    </tr>\n",
              "    <tr>\n",
              "      <th>50%</th>\n",
              "      <td>-6.903879e-01</td>\n",
              "      <td>6.903879e-01</td>\n",
              "      <td>-3.238751e-01</td>\n",
              "      <td>-2.457696e-01</td>\n",
              "      <td>-3.356725e-01</td>\n",
              "      <td>8.143451e-01</td>\n",
              "      <td>-4.127595e-01</td>\n",
              "      <td>2.029437e-01</td>\n",
              "      <td>-1.664780e-01</td>\n",
              "      <td>-1.863380e-01</td>\n",
              "      <td>-3.375836e-02</td>\n",
              "      <td>-7.766706e-02</td>\n",
              "      <td>1.203955e-01</td>\n",
              "    </tr>\n",
              "    <tr>\n",
              "      <th>75%</th>\n",
              "      <td>1.448461e+00</td>\n",
              "      <td>6.903879e-01</td>\n",
              "      <td>-3.238751e-01</td>\n",
              "      <td>-2.457696e-01</td>\n",
              "      <td>-3.356725e-01</td>\n",
              "      <td>8.143451e-01</td>\n",
              "      <td>-4.127595e-01</td>\n",
              "      <td>2.029437e-01</td>\n",
              "      <td>7.729337e-01</td>\n",
              "      <td>3.798429e-01</td>\n",
              "      <td>1.033006e+00</td>\n",
              "      <td>9.449492e-01</td>\n",
              "      <td>6.562405e-01</td>\n",
              "    </tr>\n",
              "    <tr>\n",
              "      <th>max</th>\n",
              "      <td>1.448461e+00</td>\n",
              "      <td>6.903879e-01</td>\n",
              "      <td>3.087610e+00</td>\n",
              "      <td>4.068852e+00</td>\n",
              "      <td>2.979094e+00</td>\n",
              "      <td>8.143451e-01</td>\n",
              "      <td>2.422719e+00</td>\n",
              "      <td>1.806199e+00</td>\n",
              "      <td>1.712345e+00</td>\n",
              "      <td>1.512205e+00</td>\n",
              "      <td>2.099770e+00</td>\n",
              "      <td>1.967565e+00</td>\n",
              "      <td>2.799620e+00</td>\n",
              "    </tr>\n",
              "  </tbody>\n",
              "</table>\n",
              "</div>"
            ],
            "text/plain": [
              "                 0             1   ...            11            12\n",
              "count  1.580000e+02  1.580000e+02  ...  1.580000e+02  1.580000e+02\n",
              "mean   8.432074e-18  7.307797e-17  ...  4.356571e-17 -4.863374e-16\n",
              "std    1.003180e+00  1.003180e+00  ...  1.003180e+00  1.003180e+00\n",
              "min   -6.903879e-01 -1.448461e+00  ... -2.122900e+00 -2.558829e+00\n",
              "25%   -6.903879e-01 -1.448461e+00  ... -1.100283e+00 -6.833719e-01\n",
              "50%   -6.903879e-01  6.903879e-01  ... -7.766706e-02  1.203955e-01\n",
              "75%    1.448461e+00  6.903879e-01  ...  9.449492e-01  6.562405e-01\n",
              "max    1.448461e+00  6.903879e-01  ...  1.967565e+00  2.799620e+00\n",
              "\n",
              "[8 rows x 13 columns]"
            ]
          },
          "metadata": {},
          "execution_count": 54
        }
      ]
    },
    {
      "cell_type": "code",
      "metadata": {
        "colab": {
          "base_uri": "https://localhost:8080/",
          "height": 290
        },
        "id": "UnOLyFDx59MV",
        "outputId": "14465db2-0e64-400c-fbc9-8ee587dee6b0"
      },
      "source": [
        "X_scaled_standard_test = standard_scaler.transform(X_test)\n",
        "pd.DataFrame(X_scaled_standard_test).describe()"
      ],
      "execution_count": null,
      "outputs": [
        {
          "output_type": "execute_result",
          "data": {
            "text/html": [
              "<div>\n",
              "<style scoped>\n",
              "    .dataframe tbody tr th:only-of-type {\n",
              "        vertical-align: middle;\n",
              "    }\n",
              "\n",
              "    .dataframe tbody tr th {\n",
              "        vertical-align: top;\n",
              "    }\n",
              "\n",
              "    .dataframe thead th {\n",
              "        text-align: right;\n",
              "    }\n",
              "</style>\n",
              "<table border=\"1\" class=\"dataframe\">\n",
              "  <thead>\n",
              "    <tr style=\"text-align: right;\">\n",
              "      <th></th>\n",
              "      <th>0</th>\n",
              "      <th>1</th>\n",
              "      <th>2</th>\n",
              "      <th>3</th>\n",
              "      <th>4</th>\n",
              "      <th>5</th>\n",
              "      <th>6</th>\n",
              "      <th>7</th>\n",
              "      <th>8</th>\n",
              "      <th>9</th>\n",
              "      <th>10</th>\n",
              "      <th>11</th>\n",
              "      <th>12</th>\n",
              "    </tr>\n",
              "  </thead>\n",
              "  <tbody>\n",
              "    <tr>\n",
              "      <th>count</th>\n",
              "      <td>53.000000</td>\n",
              "      <td>53.000000</td>\n",
              "      <td>53.000000</td>\n",
              "      <td>53.000000</td>\n",
              "      <td>53.000000</td>\n",
              "      <td>53.000000</td>\n",
              "      <td>53.000000</td>\n",
              "      <td>53.000000</td>\n",
              "      <td>53.000000</td>\n",
              "      <td>53.000000</td>\n",
              "      <td>53.000000</td>\n",
              "      <td>53.000000</td>\n",
              "      <td>53.000000</td>\n",
              "    </tr>\n",
              "    <tr>\n",
              "      <th>mean</th>\n",
              "      <td>0.157080</td>\n",
              "      <td>-0.157080</td>\n",
              "      <td>-0.195140</td>\n",
              "      <td>0.568310</td>\n",
              "      <td>-0.085501</td>\n",
              "      <td>-0.033413</td>\n",
              "      <td>-0.091762</td>\n",
              "      <td>-0.039057</td>\n",
              "      <td>0.117118</td>\n",
              "      <td>-0.047463</td>\n",
              "      <td>0.107135</td>\n",
              "      <td>0.076690</td>\n",
              "      <td>0.004127</td>\n",
              "    </tr>\n",
              "    <tr>\n",
              "      <th>std</th>\n",
              "      <td>1.056149</td>\n",
              "      <td>1.056149</td>\n",
              "      <td>0.656302</td>\n",
              "      <td>1.704266</td>\n",
              "      <td>0.883978</td>\n",
              "      <td>1.015962</td>\n",
              "      <td>0.907008</td>\n",
              "      <td>1.013804</td>\n",
              "      <td>1.002085</td>\n",
              "      <td>0.948089</td>\n",
              "      <td>1.025719</td>\n",
              "      <td>0.927672</td>\n",
              "      <td>0.878457</td>\n",
              "    </tr>\n",
              "    <tr>\n",
              "      <th>min</th>\n",
              "      <td>-0.690388</td>\n",
              "      <td>-1.448461</td>\n",
              "      <td>-0.323875</td>\n",
              "      <td>-0.245770</td>\n",
              "      <td>-0.335673</td>\n",
              "      <td>-1.227981</td>\n",
              "      <td>-0.412759</td>\n",
              "      <td>-1.400312</td>\n",
              "      <td>-1.105890</td>\n",
              "      <td>-1.884881</td>\n",
              "      <td>-2.167287</td>\n",
              "      <td>-2.122900</td>\n",
              "      <td>-1.487139</td>\n",
              "    </tr>\n",
              "    <tr>\n",
              "      <th>25%</th>\n",
              "      <td>-0.690388</td>\n",
              "      <td>-1.448461</td>\n",
              "      <td>-0.323875</td>\n",
              "      <td>-0.245770</td>\n",
              "      <td>-0.335673</td>\n",
              "      <td>-1.227981</td>\n",
              "      <td>-0.412759</td>\n",
              "      <td>-1.400312</td>\n",
              "      <td>-1.105890</td>\n",
              "      <td>-0.752519</td>\n",
              "      <td>-0.033758</td>\n",
              "      <td>-0.077667</td>\n",
              "      <td>-0.683372</td>\n",
              "    </tr>\n",
              "    <tr>\n",
              "      <th>50%</th>\n",
              "      <td>-0.690388</td>\n",
              "      <td>0.690388</td>\n",
              "      <td>-0.323875</td>\n",
              "      <td>-0.245770</td>\n",
              "      <td>-0.335673</td>\n",
              "      <td>0.814345</td>\n",
              "      <td>-0.412759</td>\n",
              "      <td>0.202944</td>\n",
              "      <td>-0.166478</td>\n",
              "      <td>0.379843</td>\n",
              "      <td>-0.033758</td>\n",
              "      <td>-0.077667</td>\n",
              "      <td>0.120396</td>\n",
              "    </tr>\n",
              "    <tr>\n",
              "      <th>75%</th>\n",
              "      <td>1.448461</td>\n",
              "      <td>0.690388</td>\n",
              "      <td>-0.323875</td>\n",
              "      <td>-0.245770</td>\n",
              "      <td>-0.335673</td>\n",
              "      <td>0.814345</td>\n",
              "      <td>-0.412759</td>\n",
              "      <td>0.202944</td>\n",
              "      <td>0.772934</td>\n",
              "      <td>0.379843</td>\n",
              "      <td>1.033006</td>\n",
              "      <td>0.944949</td>\n",
              "      <td>0.388318</td>\n",
              "    </tr>\n",
              "    <tr>\n",
              "      <th>max</th>\n",
              "      <td>1.448461</td>\n",
              "      <td>0.690388</td>\n",
              "      <td>3.087610</td>\n",
              "      <td>4.068852</td>\n",
              "      <td>2.979094</td>\n",
              "      <td>0.814345</td>\n",
              "      <td>2.422719</td>\n",
              "      <td>1.806199</td>\n",
              "      <td>1.712345</td>\n",
              "      <td>1.512205</td>\n",
              "      <td>2.099770</td>\n",
              "      <td>1.967565</td>\n",
              "      <td>2.263775</td>\n",
              "    </tr>\n",
              "  </tbody>\n",
              "</table>\n",
              "</div>"
            ],
            "text/plain": [
              "              0          1          2   ...         10         11         12\n",
              "count  53.000000  53.000000  53.000000  ...  53.000000  53.000000  53.000000\n",
              "mean    0.157080  -0.157080  -0.195140  ...   0.107135   0.076690   0.004127\n",
              "std     1.056149   1.056149   0.656302  ...   1.025719   0.927672   0.878457\n",
              "min    -0.690388  -1.448461  -0.323875  ...  -2.167287  -2.122900  -1.487139\n",
              "25%    -0.690388  -1.448461  -0.323875  ...  -0.033758  -0.077667  -0.683372\n",
              "50%    -0.690388   0.690388  -0.323875  ...  -0.033758  -0.077667   0.120396\n",
              "75%     1.448461   0.690388  -0.323875  ...   1.033006   0.944949   0.388318\n",
              "max     1.448461   0.690388   3.087610  ...   2.099770   1.967565   2.263775\n",
              "\n",
              "[8 rows x 13 columns]"
            ]
          },
          "metadata": {},
          "execution_count": 55
        }
      ]
    },
    {
      "cell_type": "markdown",
      "metadata": {
        "id": "0-o2E2u06rHf"
      },
      "source": [
        "##6.5 모델 학습\n"
      ]
    },
    {
      "cell_type": "markdown",
      "metadata": {
        "id": "6t54g2LD8-6b"
      },
      "source": [
        "###가. Min-Max 정규화 데이터 적용 결과"
      ]
    },
    {
      "cell_type": "code",
      "metadata": {
        "colab": {
          "base_uri": "https://localhost:8080/"
        },
        "id": "-JEA7B-26VZI",
        "outputId": "4c272f7a-cad1-4e98-ac32-49b4d30bf7dc"
      },
      "source": [
        "from sklearn.linear_model import LogisticRegression\n",
        "\n",
        "model = LogisticRegression()\n",
        "model.fit(X_scaled_minmax_train, y_train)\n",
        "pred_train = model.predict(X_scaled_minmax_train)\n",
        "model.score(X_scaled_minmax_train, y_train)"
      ],
      "execution_count": null,
      "outputs": [
        {
          "output_type": "execute_result",
          "data": {
            "text/plain": [
              "0.7278481012658228"
            ]
          },
          "metadata": {},
          "execution_count": 62
        }
      ]
    },
    {
      "cell_type": "code",
      "metadata": {
        "colab": {
          "base_uri": "https://localhost:8080/"
        },
        "id": "1oxVZNrI7E1r",
        "outputId": "ab05757a-9b01-4c63-eaa3-f7b7b95fd4d4"
      },
      "source": [
        "pred_test = model.predict(X_scaled_minmax_test)\n",
        "model.score(X_scaled_minmax_test, y_test) #X에는 테스트 샘플, y에는 실제 레이블이 들어간다."
      ],
      "execution_count": null,
      "outputs": [
        {
          "output_type": "execute_result",
          "data": {
            "text/plain": [
              "0.7169811320754716"
            ]
          },
          "metadata": {},
          "execution_count": 60
        }
      ]
    },
    {
      "cell_type": "code",
      "metadata": {
        "colab": {
          "base_uri": "https://localhost:8080/"
        },
        "id": "Y0Q6JYCG7VIs",
        "outputId": "a0bb2eee-e76b-4960-cb7d-3d9200d52a18"
      },
      "source": [
        "from sklearn.metrics import confusion_matrix\n",
        "\n",
        "confusion_train = confusion_matrix(y_train , pred_train)\n",
        "print(confusion_train)"
      ],
      "execution_count": null,
      "outputs": [
        {
          "output_type": "stream",
          "name": "stdout",
          "text": [
            "[[  9  37]\n",
            " [  6 106]]\n"
          ]
        }
      ]
    },
    {
      "cell_type": "markdown",
      "metadata": {
        "id": "LAmtRwMO8SB5"
      },
      "source": [
        "투표를 안한 사람(0)에 대한 예측이 잘못이루어지고 있다. 알고리즘만의 잘못이 아니다.\n",
        "\n",
        "현재의 특성변수들로 투표를 안할지에 대한 예측이 어렵다는 뜻이다. "
      ]
    },
    {
      "cell_type": "code",
      "metadata": {
        "colab": {
          "base_uri": "https://localhost:8080/"
        },
        "id": "FkAJpB-S8G7X",
        "outputId": "33001f2a-ed56-4c70-f615-ecd42f5d41de"
      },
      "source": [
        "confusion_test = confusion_matrix(y_test, pred_test)\n",
        "print(confusion_test)"
      ],
      "execution_count": null,
      "outputs": [
        {
          "output_type": "stream",
          "name": "stdout",
          "text": [
            "[[ 2 13]\n",
            " [ 2 36]]\n"
          ]
        }
      ]
    },
    {
      "cell_type": "markdown",
      "metadata": {
        "id": "QZzzbQnb80Yb"
      },
      "source": [
        "테스트 데이터 혼동행렬 역시 투표를 안할지에 대한 예측이 어려운 것으로 보인다."
      ]
    },
    {
      "cell_type": "markdown",
      "metadata": {
        "id": "coBemQNU87sX"
      },
      "source": [
        "###나.Standardize 정규화 데이터 적용 결과"
      ]
    },
    {
      "cell_type": "code",
      "metadata": {
        "colab": {
          "base_uri": "https://localhost:8080/"
        },
        "id": "3uHFOz1A8oF0",
        "outputId": "953b0436-e7e3-4495-c214-7352afa60564"
      },
      "source": [
        "model = LogisticRegression()\n",
        "model.fit(X_scaled_standard_train, y_train)\n",
        "pred_train = model.predict(X_scaled_standard_train)\n",
        "pred_test = model.predict(X_scaled_standard_test)\n",
        "model.score(X_scaled_standard_train, y_train)"
      ],
      "execution_count": null,
      "outputs": [
        {
          "output_type": "execute_result",
          "data": {
            "text/plain": [
              "0.740506329113924"
            ]
          },
          "metadata": {},
          "execution_count": 71
        }
      ]
    },
    {
      "cell_type": "markdown",
      "metadata": {
        "id": "fzZR9fFV95AW"
      },
      "source": [
        "min-max = 72%       standardization = 74%\n",
        "\n",
        "표준화가 근소하게 정확도가 높다"
      ]
    },
    {
      "cell_type": "code",
      "metadata": {
        "colab": {
          "base_uri": "https://localhost:8080/"
        },
        "id": "BKn0q2HO9vPt",
        "outputId": "63639b63-1ce0-44ca-d62b-d5436a50a09a"
      },
      "source": [
        "model.score(X_scaled_standard_test, y_test)"
      ],
      "execution_count": null,
      "outputs": [
        {
          "output_type": "execute_result",
          "data": {
            "text/plain": [
              "0.6792452830188679"
            ]
          },
          "metadata": {},
          "execution_count": 72
        }
      ]
    },
    {
      "cell_type": "markdown",
      "metadata": {
        "id": "Lzfca2PE-W8V"
      },
      "source": [
        "min-max = 71%  standardize = 68%\n",
        "\n",
        "테스트 데이터 정확도는 min-max가 더 높다.\n",
        "\n",
        "훈련 데이터에 과대적합된것으로 보인다."
      ]
    },
    {
      "cell_type": "code",
      "metadata": {
        "colab": {
          "base_uri": "https://localhost:8080/"
        },
        "id": "1c9wzLTk-WKJ",
        "outputId": "876a8d3a-f63f-43af-9454-22989bd76e53"
      },
      "source": [
        "confusion_train = confusion_matrix(y_train, pred_train)\n",
        "print(confusion_train)"
      ],
      "execution_count": null,
      "outputs": [
        {
          "output_type": "stream",
          "name": "stdout",
          "text": [
            "[[ 12  34]\n",
            " [  7 105]]\n"
          ]
        }
      ]
    },
    {
      "cell_type": "markdown",
      "metadata": {
        "id": "ylWh9PpF-0m9"
      },
      "source": [
        "학습데이터에 대해서 제대로 투표를 안한사람에 대한 예측이 12명으로 min-max방식보다 더 좋은 결과를 보인다. "
      ]
    },
    {
      "cell_type": "code",
      "metadata": {
        "colab": {
          "base_uri": "https://localhost:8080/"
        },
        "id": "mfoPa0l0-0Fy",
        "outputId": "78cf8080-6ff8-44d7-839a-dc75e36e62ff"
      },
      "source": [
        "confusion_test = confusion_matrix(y_test, pred_test)\n",
        "print(confusion_test)"
      ],
      "execution_count": null,
      "outputs": [
        {
          "output_type": "stream",
          "name": "stdout",
          "text": [
            "[[ 3 12]\n",
            " [ 5 33]]\n"
          ]
        }
      ]
    },
    {
      "cell_type": "markdown",
      "metadata": {
        "id": "f490a93i_ODe"
      },
      "source": [
        "* min-max와 standardize 방식중 어느방식이 더 좋다고 말하기 어렵다.\n",
        "다만 일반적인 머신러닝이나 딥러닝에서는 min-max방식을 더 선호한다.\n",
        "\n",
        "* 특히 딥러닝 모델의 경우, 여러번 행렬 연산을 통해 가중치와 데이터를 곱하기 때문에 너무 큰값이나 작은값이 될 가능성을 줄이는 min-max가 더 안정적이다.\n",
        "\n",
        "* min -max는 0~1 사이의 한정된 범위인 반면 표준화는 이론상 무한대의 값이 나타날 수 있기 때문이다"
      ]
    },
    {
      "cell_type": "code",
      "metadata": {
        "id": "V8MtPuot_G9K"
      },
      "source": [
        ""
      ],
      "execution_count": null,
      "outputs": []
    }
  ]
}