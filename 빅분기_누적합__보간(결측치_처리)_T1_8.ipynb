{
  "nbformat": 4,
  "nbformat_minor": 0,
  "metadata": {
    "colab": {
      "name": "빅분기_누적합_ 보간(결측치 처리) T1-8",
      "provenance": [],
      "collapsed_sections": [],
      "authorship_tag": "ABX9TyMajVYQhhKm2+dafUv8683K",
      "include_colab_link": true
    },
    "kernelspec": {
      "name": "python3",
      "display_name": "Python 3"
    },
    "language_info": {
      "name": "python"
    }
  },
  "cells": [
    {
      "cell_type": "markdown",
      "metadata": {
        "id": "view-in-github",
        "colab_type": "text"
      },
      "source": [
        "<a href=\"https://colab.research.google.com/github/ejrtks1020/Bigdata_Analysis_Certification/blob/main/%EB%B9%85%EB%B6%84%EA%B8%B0_%EB%88%84%EC%A0%81%ED%95%A9__%EB%B3%B4%EA%B0%84(%EA%B2%B0%EC%B8%A1%EC%B9%98_%EC%B2%98%EB%A6%AC)_T1_8.ipynb\" target=\"_parent\"><img src=\"https://colab.research.google.com/assets/colab-badge.svg\" alt=\"Open In Colab\"/></a>"
      ]
    },
    {
      "cell_type": "markdown",
      "metadata": {
        "id": "p2Z7ibpLQout"
      },
      "source": [
        "* 주어진 데이터 셋에서 'f2' 컬럼이 1인 조건에 해당하는 데이터의 'f1'컬럼 누적합을 계산한다. 이때 발생하는 누적합 결측치는 바로 뒤의 값을 채우고, 누적합의 평균값을 출력한다. (단, 결측치 바로 뒤의 값이 없으면 다음에 나오는 값을 채워넣는다)\n"
      ]
    },
    {
      "cell_type": "code",
      "metadata": {
        "id": "elpRPN4nRLcC"
      },
      "source": [
        "import pandas as pd\n",
        "import numpy as np"
      ],
      "execution_count": null,
      "outputs": []
    },
    {
      "cell_type": "code",
      "metadata": {
        "id": "wT-umqYdRGy5"
      },
      "source": [
        "df = pd.read_csv('basic1.csv')"
      ],
      "execution_count": null,
      "outputs": []
    },
    {
      "cell_type": "code",
      "metadata": {
        "colab": {
          "base_uri": "https://localhost:8080/"
        },
        "id": "FM-J2ExbRuM-",
        "outputId": "866b1678-0d18-4fc3-af6e-cecf12d1fa83"
      },
      "source": [
        "df[df['f2'] == 1]['f1']"
      ],
      "execution_count": null,
      "outputs": [
        {
          "output_type": "execute_result",
          "data": {
            "text/plain": [
              "1      70.0\n",
              "2      61.0\n",
              "6      60.0\n",
              "7     101.0\n",
              "9      74.0\n",
              "13     50.0\n",
              "14     67.0\n",
              "16      NaN\n",
              "19     51.0\n",
              "20      NaN\n",
              "21     72.0\n",
              "22     75.0\n",
              "25     57.0\n",
              "27     34.0\n",
              "33      NaN\n",
              "35     77.0\n",
              "37      NaN\n",
              "46     75.0\n",
              "49     78.0\n",
              "51     82.0\n",
              "53      NaN\n",
              "55      NaN\n",
              "58      NaN\n",
              "62     86.0\n",
              "65      NaN\n",
              "66     52.0\n",
              "69     96.0\n",
              "72      NaN\n",
              "77     96.0\n",
              "80     50.0\n",
              "82     50.0\n",
              "86      NaN\n",
              "88     66.0\n",
              "91     78.0\n",
              "93      NaN\n",
              "94     43.0\n",
              "95     53.0\n",
              "Name: f1, dtype: float64"
            ]
          },
          "metadata": {},
          "execution_count": 5
        }
      ]
    },
    {
      "cell_type": "code",
      "metadata": {
        "colab": {
          "base_uri": "https://localhost:8080/"
        },
        "id": "vmJepjImSCM5",
        "outputId": "c77c044f-cbd7-40aa-cef3-c3df459eeafb"
      },
      "source": [
        "df[df['f2'] == 1]['f1'].cumsum()"
      ],
      "execution_count": null,
      "outputs": [
        {
          "output_type": "execute_result",
          "data": {
            "text/plain": [
              "1       70.0\n",
              "2      131.0\n",
              "6      191.0\n",
              "7      292.0\n",
              "9      366.0\n",
              "13     416.0\n",
              "14     483.0\n",
              "16       NaN\n",
              "19     534.0\n",
              "20       NaN\n",
              "21     606.0\n",
              "22     681.0\n",
              "25     738.0\n",
              "27     772.0\n",
              "33       NaN\n",
              "35     849.0\n",
              "37       NaN\n",
              "46     924.0\n",
              "49    1002.0\n",
              "51    1084.0\n",
              "53       NaN\n",
              "55       NaN\n",
              "58       NaN\n",
              "62    1170.0\n",
              "65       NaN\n",
              "66    1222.0\n",
              "69    1318.0\n",
              "72       NaN\n",
              "77    1414.0\n",
              "80    1464.0\n",
              "82    1514.0\n",
              "86       NaN\n",
              "88    1580.0\n",
              "91    1658.0\n",
              "93       NaN\n",
              "94    1701.0\n",
              "95    1754.0\n",
              "Name: f1, dtype: float64"
            ]
          },
          "metadata": {},
          "execution_count": 7
        }
      ]
    },
    {
      "cell_type": "code",
      "metadata": {
        "id": "kA95_d1WRJ-Y"
      },
      "source": [
        "df2 = df[df['f2'] == 1]['f1'].cumsum()"
      ],
      "execution_count": null,
      "outputs": []
    },
    {
      "cell_type": "code",
      "metadata": {
        "colab": {
          "base_uri": "https://localhost:8080/"
        },
        "id": "0Cw8Lz3eSF25",
        "outputId": "d04a320d-0f2a-4518-e840-1d7302d499c3"
      },
      "source": [
        "print(df2.fillna(method = 'bfill').mean())"
      ],
      "execution_count": null,
      "outputs": [
        {
          "output_type": "stream",
          "name": "stdout",
          "text": [
            "980.3783783783783\n"
          ]
        }
      ]
    },
    {
      "cell_type": "code",
      "metadata": {
        "colab": {
          "base_uri": "https://localhost:8080/"
        },
        "id": "8tMNmIxSRbUn",
        "outputId": "3243cf11-5b5c-4f93-dc32-8e4a5db79a16"
      },
      "source": [
        "# 뒷값으로 결측치 채우기\n",
        "s = pd.Series([np.nan, \"퇴근후\", np.nan,\"딴짓\", np.nan, 22, np.nan,45, np.nan, np.nan, 60])\n",
        "print(s)\n",
        "\n",
        "s.fillna(method='bfill') # 바로 뒤값으로 채워넣는 방법\n",
        "# s.fillna(method='pad') # 이전값으로 채워넣는 방법"
      ],
      "execution_count": null,
      "outputs": [
        {
          "output_type": "stream",
          "name": "stdout",
          "text": [
            "0     NaN\n",
            "1     퇴근후\n",
            "2     NaN\n",
            "3      딴짓\n",
            "4     NaN\n",
            "5      22\n",
            "6     NaN\n",
            "7      45\n",
            "8     NaN\n",
            "9     NaN\n",
            "10     60\n",
            "dtype: object\n"
          ]
        },
        {
          "output_type": "execute_result",
          "data": {
            "text/plain": [
              "0     퇴근후\n",
              "1     퇴근후\n",
              "2      딴짓\n",
              "3      딴짓\n",
              "4      22\n",
              "5      22\n",
              "6      45\n",
              "7      45\n",
              "8      60\n",
              "9      60\n",
              "10     60\n",
              "dtype: object"
            ]
          },
          "metadata": {},
          "execution_count": 3
        }
      ]
    },
    {
      "cell_type": "code",
      "metadata": {
        "id": "z1JQEWhTRdlo"
      },
      "source": [
        ""
      ],
      "execution_count": null,
      "outputs": []
    }
  ]
}