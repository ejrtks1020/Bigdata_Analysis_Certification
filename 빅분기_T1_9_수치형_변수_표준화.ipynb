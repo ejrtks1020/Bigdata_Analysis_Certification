{
  "nbformat": 4,
  "nbformat_minor": 0,
  "metadata": {
    "colab": {
      "name": "빅분기_T1-9. 수치형 변수 표준화",
      "provenance": [],
      "authorship_tag": "ABX9TyOsStRauLNSjvJvk21rdi/4",
      "include_colab_link": true
    },
    "kernelspec": {
      "name": "python3",
      "display_name": "Python 3"
    },
    "language_info": {
      "name": "python"
    }
  },
  "cells": [
    {
      "cell_type": "markdown",
      "metadata": {
        "id": "view-in-github",
        "colab_type": "text"
      },
      "source": [
        "<a href=\"https://colab.research.google.com/github/ejrtks1020/Bigdata_Analysis_Certification/blob/main/%EB%B9%85%EB%B6%84%EA%B8%B0_T1_9_%EC%88%98%EC%B9%98%ED%98%95_%EB%B3%80%EC%88%98_%ED%91%9C%EC%A4%80%ED%99%94.ipynb\" target=\"_parent\"><img src=\"https://colab.research.google.com/assets/colab-badge.svg\" alt=\"Open In Colab\"/></a>"
      ]
    },
    {
      "cell_type": "markdown",
      "metadata": {
        "id": "dvDPTwwYSvlv"
      },
      "source": [
        "# 수치형 변수 변환하기\n",
        "* 주어진 데이터에서 'f5'컬럼을 표준화(Standardization (Z-score Normalization))하고 그 중앙값을 구하시오"
      ]
    },
    {
      "cell_type": "code",
      "metadata": {
        "id": "kcynSYMUSY3F"
      },
      "source": [
        "import pandas as pd\n",
        "import numpy as np"
      ],
      "execution_count": null,
      "outputs": []
    },
    {
      "cell_type": "code",
      "metadata": {
        "id": "tchP8VjySm9K"
      },
      "source": [
        "df = pd.read_csv('basic1.csv')"
      ],
      "execution_count": null,
      "outputs": []
    },
    {
      "cell_type": "code",
      "metadata": {
        "id": "DeVSFdLfStLw"
      },
      "source": [
        "mean = np.mean(df['f5'])\n",
        "std = np.std(df['f5'])"
      ],
      "execution_count": null,
      "outputs": []
    },
    {
      "cell_type": "code",
      "metadata": {
        "colab": {
          "base_uri": "https://localhost:8080/"
        },
        "id": "VcPZC0NQTFX4",
        "outputId": "af477938-aa97-4268-f65d-40aa976054ea"
      },
      "source": [
        "mean, std"
      ],
      "execution_count": null,
      "outputs": [
        {
          "output_type": "execute_result",
          "data": {
            "text/plain": [
              "(56.73453674492999, 28.311615044327255)"
            ]
          },
          "metadata": {},
          "execution_count": 4
        }
      ]
    },
    {
      "cell_type": "code",
      "metadata": {
        "id": "Os2OY14RTGTo"
      },
      "source": [
        "def standardization(l):\n",
        "  return (l - np.mean(l)) / np.std(l) "
      ],
      "execution_count": null,
      "outputs": []
    },
    {
      "cell_type": "code",
      "metadata": {
        "colab": {
          "base_uri": "https://localhost:8080/"
        },
        "id": "UXiZtdNMTa3H",
        "outputId": "d77b59e5-8773-4763-849d-5614bce014b4"
      },
      "source": [
        "standardization(df['f5']).median()"
      ],
      "execution_count": null,
      "outputs": [
        {
          "output_type": "execute_result",
          "data": {
            "text/plain": [
              "0.2606196295590153"
            ]
          },
          "metadata": {},
          "execution_count": 6
        }
      ]
    },
    {
      "cell_type": "code",
      "metadata": {
        "colab": {
          "base_uri": "https://localhost:8080/"
        },
        "id": "Kgz0FLlATfg_",
        "outputId": "687e7760-ac8a-4470-abe0-3165f0abf226"
      },
      "source": [
        "from sklearn.preprocessing import StandardScaler\n",
        "\n",
        "scaler = StandardScaler()\n",
        "scaled_f5 = scaler.fit_transform(df[['f5']])\n",
        "\n",
        "np.median(scaled_f5)"
      ],
      "execution_count": null,
      "outputs": [
        {
          "output_type": "execute_result",
          "data": {
            "text/plain": [
              "0.26061962955901524"
            ]
          },
          "metadata": {},
          "execution_count": 9
        }
      ]
    },
    {
      "cell_type": "code",
      "metadata": {
        "colab": {
          "base_uri": "https://localhost:8080/"
        },
        "id": "dQlpKDY_T5eI",
        "outputId": "6e896087-8cfb-4c8b-a672-2b8de2ef53b0"
      },
      "source": [
        "df['f5'].std()"
      ],
      "execution_count": null,
      "outputs": [
        {
          "output_type": "execute_result",
          "data": {
            "text/plain": [
              "28.454243730610507"
            ]
          },
          "metadata": {},
          "execution_count": 11
        }
      ]
    },
    {
      "cell_type": "code",
      "metadata": {
        "id": "Gl_ju5jqUKxX"
      },
      "source": [
        ""
      ],
      "execution_count": null,
      "outputs": []
    }
  ]
}