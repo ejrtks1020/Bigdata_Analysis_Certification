{
  "nbformat": 4,
  "nbformat_minor": 0,
  "metadata": {
    "colab": {
      "name": "빅분기_T1-12. 상위 10개, 하위 10개 차이",
      "provenance": [],
      "authorship_tag": "ABX9TyNykOgnxiMVj1iGDDOPccxg",
      "include_colab_link": true
    },
    "kernelspec": {
      "name": "python3",
      "display_name": "Python 3"
    },
    "language_info": {
      "name": "python"
    }
  },
  "cells": [
    {
      "cell_type": "markdown",
      "metadata": {
        "id": "view-in-github",
        "colab_type": "text"
      },
      "source": [
        "<a href=\"https://colab.research.google.com/github/ejrtks1020/Bigdata_Analysis_Certification/blob/main/%EB%B9%85%EB%B6%84%EA%B8%B0_T1_12_%EC%83%81%EC%9C%84_10%EA%B0%9C%2C_%ED%95%98%EC%9C%84_10%EA%B0%9C_%EC%B0%A8%EC%9D%B4.ipynb\" target=\"_parent\"><img src=\"https://colab.research.google.com/assets/colab-badge.svg\" alt=\"Open In Colab\"/></a>"
      ]
    },
    {
      "cell_type": "markdown",
      "metadata": {
        "id": "VNtcL0yPZ9MX"
      },
      "source": [
        "# 주어진 데이터에서 상위 10개 국가의 접종률 평균과 하위 10개 국가의 접종률 평균을 구하고, 그 차이를 구해보세요 \n",
        "* (단, 100%가 넘는 접종률 제거, 소수 첫째자리까지 출력)"
      ]
    },
    {
      "cell_type": "code",
      "metadata": {
        "id": "FDcnKulkZy9S"
      },
      "source": [
        "import pandas as pd\n",
        "import numpy as np"
      ],
      "execution_count": null,
      "outputs": []
    },
    {
      "cell_type": "code",
      "metadata": {
        "id": "NXQ8Smhcai61"
      },
      "source": [
        "df = pd.read_csv('covid_vaccination_vs_death_ratio.csv')"
      ],
      "execution_count": null,
      "outputs": []
    },
    {
      "cell_type": "code",
      "metadata": {
        "colab": {
          "base_uri": "https://localhost:8080/",
          "height": 317
        },
        "id": "iz1KQE-hauUL",
        "outputId": "527007fe-1dea-4c64-a5d0-e74b67e9f64a"
      },
      "source": [
        "df.head()"
      ],
      "execution_count": null,
      "outputs": [
        {
          "output_type": "execute_result",
          "data": {
            "text/html": [
              "<div>\n",
              "<style scoped>\n",
              "    .dataframe tbody tr th:only-of-type {\n",
              "        vertical-align: middle;\n",
              "    }\n",
              "\n",
              "    .dataframe tbody tr th {\n",
              "        vertical-align: top;\n",
              "    }\n",
              "\n",
              "    .dataframe thead th {\n",
              "        text-align: right;\n",
              "    }\n",
              "</style>\n",
              "<table border=\"1\" class=\"dataframe\">\n",
              "  <thead>\n",
              "    <tr style=\"text-align: right;\">\n",
              "      <th></th>\n",
              "      <th>Unnamed: 0</th>\n",
              "      <th>country</th>\n",
              "      <th>iso_code</th>\n",
              "      <th>date</th>\n",
              "      <th>total_vaccinations</th>\n",
              "      <th>people_vaccinated</th>\n",
              "      <th>people_fully_vaccinated</th>\n",
              "      <th>New_deaths</th>\n",
              "      <th>population</th>\n",
              "      <th>ratio</th>\n",
              "    </tr>\n",
              "  </thead>\n",
              "  <tbody>\n",
              "    <tr>\n",
              "      <th>0</th>\n",
              "      <td>0</td>\n",
              "      <td>Afghanistan</td>\n",
              "      <td>AFG</td>\n",
              "      <td>2021-05-11</td>\n",
              "      <td>504502.0</td>\n",
              "      <td>448878.0</td>\n",
              "      <td>55624.0</td>\n",
              "      <td>12</td>\n",
              "      <td>40094444.0</td>\n",
              "      <td>1.119552</td>\n",
              "    </tr>\n",
              "    <tr>\n",
              "      <th>1</th>\n",
              "      <td>1</td>\n",
              "      <td>Afghanistan</td>\n",
              "      <td>AFG</td>\n",
              "      <td>2021-05-20</td>\n",
              "      <td>547901.0</td>\n",
              "      <td>470341.0</td>\n",
              "      <td>77560.0</td>\n",
              "      <td>10</td>\n",
              "      <td>40094444.0</td>\n",
              "      <td>1.173083</td>\n",
              "    </tr>\n",
              "    <tr>\n",
              "      <th>2</th>\n",
              "      <td>2</td>\n",
              "      <td>Afghanistan</td>\n",
              "      <td>AFG</td>\n",
              "      <td>2021-05-24</td>\n",
              "      <td>573277.0</td>\n",
              "      <td>476367.0</td>\n",
              "      <td>96910.0</td>\n",
              "      <td>10</td>\n",
              "      <td>40094444.0</td>\n",
              "      <td>1.188112</td>\n",
              "    </tr>\n",
              "    <tr>\n",
              "      <th>3</th>\n",
              "      <td>3</td>\n",
              "      <td>Afghanistan</td>\n",
              "      <td>AFG</td>\n",
              "      <td>2021-05-26</td>\n",
              "      <td>590454.0</td>\n",
              "      <td>479372.0</td>\n",
              "      <td>111082.0</td>\n",
              "      <td>19</td>\n",
              "      <td>40094444.0</td>\n",
              "      <td>1.195607</td>\n",
              "    </tr>\n",
              "    <tr>\n",
              "      <th>4</th>\n",
              "      <td>4</td>\n",
              "      <td>Afghanistan</td>\n",
              "      <td>AFG</td>\n",
              "      <td>2021-05-27</td>\n",
              "      <td>593313.0</td>\n",
              "      <td>479574.0</td>\n",
              "      <td>113739.0</td>\n",
              "      <td>14</td>\n",
              "      <td>40094444.0</td>\n",
              "      <td>1.196111</td>\n",
              "    </tr>\n",
              "  </tbody>\n",
              "</table>\n",
              "</div>"
            ],
            "text/plain": [
              "   Unnamed: 0      country iso_code  ... New_deaths  population     ratio\n",
              "0           0  Afghanistan      AFG  ...         12  40094444.0  1.119552\n",
              "1           1  Afghanistan      AFG  ...         10  40094444.0  1.173083\n",
              "2           2  Afghanistan      AFG  ...         10  40094444.0  1.188112\n",
              "3           3  Afghanistan      AFG  ...         19  40094444.0  1.195607\n",
              "4           4  Afghanistan      AFG  ...         14  40094444.0  1.196111\n",
              "\n",
              "[5 rows x 10 columns]"
            ]
          },
          "metadata": {},
          "execution_count": 4
        }
      ]
    },
    {
      "cell_type": "code",
      "metadata": {
        "colab": {
          "base_uri": "https://localhost:8080/"
        },
        "id": "_mlIpx2mavNv",
        "outputId": "5e854da2-ad00-4e2d-e947-5418b2286247"
      },
      "source": [
        "df.shape"
      ],
      "execution_count": null,
      "outputs": [
        {
          "output_type": "execute_result",
          "data": {
            "text/plain": [
              "(20332, 10)"
            ]
          },
          "metadata": {},
          "execution_count": 5
        }
      ]
    },
    {
      "cell_type": "code",
      "metadata": {
        "colab": {
          "base_uri": "https://localhost:8080/",
          "height": 317
        },
        "id": "v30XbCPRbBsU",
        "outputId": "9e7220c5-4224-4731-9585-5dd6519c56fb"
      },
      "source": [
        "df.tail()"
      ],
      "execution_count": null,
      "outputs": [
        {
          "output_type": "execute_result",
          "data": {
            "text/html": [
              "<div>\n",
              "<style scoped>\n",
              "    .dataframe tbody tr th:only-of-type {\n",
              "        vertical-align: middle;\n",
              "    }\n",
              "\n",
              "    .dataframe tbody tr th {\n",
              "        vertical-align: top;\n",
              "    }\n",
              "\n",
              "    .dataframe thead th {\n",
              "        text-align: right;\n",
              "    }\n",
              "</style>\n",
              "<table border=\"1\" class=\"dataframe\">\n",
              "  <thead>\n",
              "    <tr style=\"text-align: right;\">\n",
              "      <th></th>\n",
              "      <th>Unnamed: 0</th>\n",
              "      <th>country</th>\n",
              "      <th>iso_code</th>\n",
              "      <th>date</th>\n",
              "      <th>total_vaccinations</th>\n",
              "      <th>people_vaccinated</th>\n",
              "      <th>people_fully_vaccinated</th>\n",
              "      <th>New_deaths</th>\n",
              "      <th>population</th>\n",
              "      <th>ratio</th>\n",
              "    </tr>\n",
              "  </thead>\n",
              "  <tbody>\n",
              "    <tr>\n",
              "      <th>20327</th>\n",
              "      <td>20327</td>\n",
              "      <td>Zimbabwe</td>\n",
              "      <td>ZWE</td>\n",
              "      <td>2021-10-04</td>\n",
              "      <td>5441379.0</td>\n",
              "      <td>3117596.0</td>\n",
              "      <td>2323783.0</td>\n",
              "      <td>2</td>\n",
              "      <td>15158323.0</td>\n",
              "      <td>20.566893</td>\n",
              "    </tr>\n",
              "    <tr>\n",
              "      <th>20328</th>\n",
              "      <td>20328</td>\n",
              "      <td>Zimbabwe</td>\n",
              "      <td>ZWE</td>\n",
              "      <td>2021-10-05</td>\n",
              "      <td>5472485.0</td>\n",
              "      <td>3128598.0</td>\n",
              "      <td>2343887.0</td>\n",
              "      <td>0</td>\n",
              "      <td>15158323.0</td>\n",
              "      <td>20.639473</td>\n",
              "    </tr>\n",
              "    <tr>\n",
              "      <th>20329</th>\n",
              "      <td>20329</td>\n",
              "      <td>Zimbabwe</td>\n",
              "      <td>ZWE</td>\n",
              "      <td>2021-10-06</td>\n",
              "      <td>5499530.0</td>\n",
              "      <td>3140386.0</td>\n",
              "      <td>2359144.0</td>\n",
              "      <td>0</td>\n",
              "      <td>15158323.0</td>\n",
              "      <td>20.717239</td>\n",
              "    </tr>\n",
              "    <tr>\n",
              "      <th>20330</th>\n",
              "      <td>20330</td>\n",
              "      <td>Zimbabwe</td>\n",
              "      <td>ZWE</td>\n",
              "      <td>2021-10-07</td>\n",
              "      <td>5527583.0</td>\n",
              "      <td>3152617.0</td>\n",
              "      <td>2374966.0</td>\n",
              "      <td>3</td>\n",
              "      <td>15158323.0</td>\n",
              "      <td>20.797927</td>\n",
              "    </tr>\n",
              "    <tr>\n",
              "      <th>20331</th>\n",
              "      <td>20331</td>\n",
              "      <td>Zimbabwe</td>\n",
              "      <td>ZWE</td>\n",
              "      <td>2021-10-09</td>\n",
              "      <td>5556506.0</td>\n",
              "      <td>3161809.0</td>\n",
              "      <td>2394697.0</td>\n",
              "      <td>3</td>\n",
              "      <td>15158323.0</td>\n",
              "      <td>20.858567</td>\n",
              "    </tr>\n",
              "  </tbody>\n",
              "</table>\n",
              "</div>"
            ],
            "text/plain": [
              "       Unnamed: 0   country iso_code  ... New_deaths  population      ratio\n",
              "20327       20327  Zimbabwe      ZWE  ...          2  15158323.0  20.566893\n",
              "20328       20328  Zimbabwe      ZWE  ...          0  15158323.0  20.639473\n",
              "20329       20329  Zimbabwe      ZWE  ...          0  15158323.0  20.717239\n",
              "20330       20330  Zimbabwe      ZWE  ...          3  15158323.0  20.797927\n",
              "20331       20331  Zimbabwe      ZWE  ...          3  15158323.0  20.858567\n",
              "\n",
              "[5 rows x 10 columns]"
            ]
          },
          "metadata": {},
          "execution_count": 6
        }
      ]
    },
    {
      "cell_type": "code",
      "metadata": {
        "id": "haFBgCOcbEiU"
      },
      "source": [
        "df2 = df.groupby(['country']).max()\n",
        "df2 = df2.sort_values(by = 'ratio', ascending = False)"
      ],
      "execution_count": null,
      "outputs": []
    },
    {
      "cell_type": "code",
      "metadata": {
        "colab": {
          "base_uri": "https://localhost:8080/",
          "height": 363
        },
        "id": "Dsk01-s6bXG7",
        "outputId": "017aa3eb-b1d1-4fa9-ae43-b2b4a0a11d1b"
      },
      "source": [
        "df2.head()"
      ],
      "execution_count": null,
      "outputs": [
        {
          "output_type": "execute_result",
          "data": {
            "text/html": [
              "<div>\n",
              "<style scoped>\n",
              "    .dataframe tbody tr th:only-of-type {\n",
              "        vertical-align: middle;\n",
              "    }\n",
              "\n",
              "    .dataframe tbody tr th {\n",
              "        vertical-align: top;\n",
              "    }\n",
              "\n",
              "    .dataframe thead th {\n",
              "        text-align: right;\n",
              "    }\n",
              "</style>\n",
              "<table border=\"1\" class=\"dataframe\">\n",
              "  <thead>\n",
              "    <tr style=\"text-align: right;\">\n",
              "      <th></th>\n",
              "      <th>Unnamed: 0</th>\n",
              "      <th>iso_code</th>\n",
              "      <th>date</th>\n",
              "      <th>total_vaccinations</th>\n",
              "      <th>people_vaccinated</th>\n",
              "      <th>people_fully_vaccinated</th>\n",
              "      <th>New_deaths</th>\n",
              "      <th>population</th>\n",
              "      <th>ratio</th>\n",
              "    </tr>\n",
              "    <tr>\n",
              "      <th>country</th>\n",
              "      <th></th>\n",
              "      <th></th>\n",
              "      <th></th>\n",
              "      <th></th>\n",
              "      <th></th>\n",
              "      <th></th>\n",
              "      <th></th>\n",
              "      <th></th>\n",
              "      <th></th>\n",
              "    </tr>\n",
              "  </thead>\n",
              "  <tbody>\n",
              "    <tr>\n",
              "      <th>Gibraltar</th>\n",
              "      <td>6927</td>\n",
              "      <td>GIB</td>\n",
              "      <td>2021-10-08</td>\n",
              "      <td>79910.0</td>\n",
              "      <td>39955.0</td>\n",
              "      <td>39683.0</td>\n",
              "      <td>3</td>\n",
              "      <td>33698.0</td>\n",
              "      <td>118.567868</td>\n",
              "    </tr>\n",
              "    <tr>\n",
              "      <th>Malta</th>\n",
              "      <td>11899</td>\n",
              "      <td>MLT</td>\n",
              "      <td>2021-09-27</td>\n",
              "      <td>818593.0</td>\n",
              "      <td>420499.0</td>\n",
              "      <td>420429.0</td>\n",
              "      <td>7</td>\n",
              "      <td>443198.0</td>\n",
              "      <td>94.878361</td>\n",
              "    </tr>\n",
              "    <tr>\n",
              "      <th>United Arab Emirates</th>\n",
              "      <td>19156</td>\n",
              "      <td>ARE</td>\n",
              "      <td>2021-10-09</td>\n",
              "      <td>20453897.0</td>\n",
              "      <td>9435239.0</td>\n",
              "      <td>8426440.0</td>\n",
              "      <td>15</td>\n",
              "      <td>10020076.0</td>\n",
              "      <td>94.163348</td>\n",
              "    </tr>\n",
              "    <tr>\n",
              "      <th>Portugal</th>\n",
              "      <td>15079</td>\n",
              "      <td>PRT</td>\n",
              "      <td>2021-10-04</td>\n",
              "      <td>16042424.0</td>\n",
              "      <td>8957792.0</td>\n",
              "      <td>8729560.0</td>\n",
              "      <td>303</td>\n",
              "      <td>10159436.0</td>\n",
              "      <td>88.172139</td>\n",
              "    </tr>\n",
              "    <tr>\n",
              "      <th>Cuba</th>\n",
              "      <td>4350</td>\n",
              "      <td>CUB</td>\n",
              "      <td>2021-10-07</td>\n",
              "      <td>22352125.0</td>\n",
              "      <td>9593695.0</td>\n",
              "      <td>5769198.0</td>\n",
              "      <td>98</td>\n",
              "      <td>11315124.0</td>\n",
              "      <td>84.786477</td>\n",
              "    </tr>\n",
              "  </tbody>\n",
              "</table>\n",
              "</div>"
            ],
            "text/plain": [
              "                      Unnamed: 0 iso_code  ...  population       ratio\n",
              "country                                    ...                        \n",
              "Gibraltar                   6927      GIB  ...     33698.0  118.567868\n",
              "Malta                      11899      MLT  ...    443198.0   94.878361\n",
              "United Arab Emirates       19156      ARE  ...  10020076.0   94.163348\n",
              "Portugal                   15079      PRT  ...  10159436.0   88.172139\n",
              "Cuba                        4350      CUB  ...  11315124.0   84.786477\n",
              "\n",
              "[5 rows x 9 columns]"
            ]
          },
          "metadata": {},
          "execution_count": 12
        }
      ]
    },
    {
      "cell_type": "code",
      "metadata": {
        "id": "2H7RsOoTcIA8"
      },
      "source": [
        "df2 = df2[df2['ratio'] <= 100]"
      ],
      "execution_count": null,
      "outputs": []
    },
    {
      "cell_type": "code",
      "metadata": {
        "colab": {
          "base_uri": "https://localhost:8080/",
          "height": 363
        },
        "id": "BLZA_GH0cQkL",
        "outputId": "a3993cbc-0da9-4ca9-dbfd-4f7f295eaf9f"
      },
      "source": [
        "df2.head()"
      ],
      "execution_count": null,
      "outputs": [
        {
          "output_type": "execute_result",
          "data": {
            "text/html": [
              "<div>\n",
              "<style scoped>\n",
              "    .dataframe tbody tr th:only-of-type {\n",
              "        vertical-align: middle;\n",
              "    }\n",
              "\n",
              "    .dataframe tbody tr th {\n",
              "        vertical-align: top;\n",
              "    }\n",
              "\n",
              "    .dataframe thead th {\n",
              "        text-align: right;\n",
              "    }\n",
              "</style>\n",
              "<table border=\"1\" class=\"dataframe\">\n",
              "  <thead>\n",
              "    <tr style=\"text-align: right;\">\n",
              "      <th></th>\n",
              "      <th>Unnamed: 0</th>\n",
              "      <th>iso_code</th>\n",
              "      <th>date</th>\n",
              "      <th>total_vaccinations</th>\n",
              "      <th>people_vaccinated</th>\n",
              "      <th>people_fully_vaccinated</th>\n",
              "      <th>New_deaths</th>\n",
              "      <th>population</th>\n",
              "      <th>ratio</th>\n",
              "    </tr>\n",
              "    <tr>\n",
              "      <th>country</th>\n",
              "      <th></th>\n",
              "      <th></th>\n",
              "      <th></th>\n",
              "      <th></th>\n",
              "      <th></th>\n",
              "      <th></th>\n",
              "      <th></th>\n",
              "      <th></th>\n",
              "      <th></th>\n",
              "    </tr>\n",
              "  </thead>\n",
              "  <tbody>\n",
              "    <tr>\n",
              "      <th>Malta</th>\n",
              "      <td>11899</td>\n",
              "      <td>MLT</td>\n",
              "      <td>2021-09-27</td>\n",
              "      <td>818593.0</td>\n",
              "      <td>420499.0</td>\n",
              "      <td>420429.0</td>\n",
              "      <td>7</td>\n",
              "      <td>443198.0</td>\n",
              "      <td>94.878361</td>\n",
              "    </tr>\n",
              "    <tr>\n",
              "      <th>United Arab Emirates</th>\n",
              "      <td>19156</td>\n",
              "      <td>ARE</td>\n",
              "      <td>2021-10-09</td>\n",
              "      <td>20453897.0</td>\n",
              "      <td>9435239.0</td>\n",
              "      <td>8426440.0</td>\n",
              "      <td>15</td>\n",
              "      <td>10020076.0</td>\n",
              "      <td>94.163348</td>\n",
              "    </tr>\n",
              "    <tr>\n",
              "      <th>Portugal</th>\n",
              "      <td>15079</td>\n",
              "      <td>PRT</td>\n",
              "      <td>2021-10-04</td>\n",
              "      <td>16042424.0</td>\n",
              "      <td>8957792.0</td>\n",
              "      <td>8729560.0</td>\n",
              "      <td>303</td>\n",
              "      <td>10159436.0</td>\n",
              "      <td>88.172139</td>\n",
              "    </tr>\n",
              "    <tr>\n",
              "      <th>Cuba</th>\n",
              "      <td>4350</td>\n",
              "      <td>CUB</td>\n",
              "      <td>2021-10-07</td>\n",
              "      <td>22352125.0</td>\n",
              "      <td>9593695.0</td>\n",
              "      <td>5769198.0</td>\n",
              "      <td>98</td>\n",
              "      <td>11315124.0</td>\n",
              "      <td>84.786477</td>\n",
              "    </tr>\n",
              "    <tr>\n",
              "      <th>Cayman Islands</th>\n",
              "      <td>3523</td>\n",
              "      <td>CYM</td>\n",
              "      <td>2021-10-08</td>\n",
              "      <td>108614.0</td>\n",
              "      <td>55530.0</td>\n",
              "      <td>55530.0</td>\n",
              "      <td>0</td>\n",
              "      <td>66497.0</td>\n",
              "      <td>83.507527</td>\n",
              "    </tr>\n",
              "  </tbody>\n",
              "</table>\n",
              "</div>"
            ],
            "text/plain": [
              "                      Unnamed: 0 iso_code  ...  population      ratio\n",
              "country                                    ...                       \n",
              "Malta                      11899      MLT  ...    443198.0  94.878361\n",
              "United Arab Emirates       19156      ARE  ...  10020076.0  94.163348\n",
              "Portugal                   15079      PRT  ...  10159436.0  88.172139\n",
              "Cuba                        4350      CUB  ...  11315124.0  84.786477\n",
              "Cayman Islands              3523      CYM  ...     66497.0  83.507527\n",
              "\n",
              "[5 rows x 9 columns]"
            ]
          },
          "metadata": {},
          "execution_count": 14
        }
      ]
    },
    {
      "cell_type": "code",
      "metadata": {
        "colab": {
          "base_uri": "https://localhost:8080/"
        },
        "id": "xRWv5QsAcRfr",
        "outputId": "8b6490f6-d31f-4cad-87d8-da51b9dc9b85"
      },
      "source": [
        "len(df2)"
      ],
      "execution_count": null,
      "outputs": [
        {
          "output_type": "execute_result",
          "data": {
            "text/plain": [
              "197"
            ]
          },
          "metadata": {},
          "execution_count": 15
        }
      ]
    },
    {
      "cell_type": "code",
      "metadata": {
        "id": "fVWctLwZcVDz"
      },
      "source": [
        "upper = df2.head(10)['ratio'].mean()\n",
        "lower = df2.tail(10)['ratio'].mean()"
      ],
      "execution_count": null,
      "outputs": []
    },
    {
      "cell_type": "code",
      "metadata": {
        "colab": {
          "base_uri": "https://localhost:8080/"
        },
        "id": "WGNe_a96coMK",
        "outputId": "0352365a-81f7-4cbe-d751-036fadfe6682"
      },
      "source": [
        "upper , lower"
      ],
      "execution_count": null,
      "outputs": [
        {
          "output_type": "execute_result",
          "data": {
            "text/plain": [
              "(85.07917839913583, 0.8901804081545984)"
            ]
          },
          "metadata": {},
          "execution_count": 17
        }
      ]
    },
    {
      "cell_type": "code",
      "metadata": {
        "colab": {
          "base_uri": "https://localhost:8080/"
        },
        "id": "ZoqSG9facpjT",
        "outputId": "c282463a-ff26-4f62-b168-82bd0627abe0"
      },
      "source": [
        "round(upper - lower, 1)"
      ],
      "execution_count": null,
      "outputs": [
        {
          "output_type": "execute_result",
          "data": {
            "text/plain": [
              "84.2"
            ]
          },
          "metadata": {},
          "execution_count": 20
        }
      ]
    },
    {
      "cell_type": "code",
      "metadata": {
        "id": "EqUoWaIOcuPE"
      },
      "source": [
        ""
      ],
      "execution_count": null,
      "outputs": []
    }
  ]
}