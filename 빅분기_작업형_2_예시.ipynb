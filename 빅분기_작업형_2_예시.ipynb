{
  "nbformat": 4,
  "nbformat_minor": 0,
  "metadata": {
    "colab": {
      "name": "빅분기 작업형 2 예시",
      "provenance": [],
      "collapsed_sections": [],
      "authorship_tag": "ABX9TyMIrO2o4qP5oc4FWOnxb7FM",
      "include_colab_link": true
    },
    "kernelspec": {
      "name": "python3",
      "display_name": "Python 3"
    },
    "language_info": {
      "name": "python"
    }
  },
  "cells": [
    {
      "cell_type": "markdown",
      "metadata": {
        "id": "view-in-github",
        "colab_type": "text"
      },
      "source": [
        "<a href=\"https://colab.research.google.com/github/ejrtks1020/Bigdata_Analysis_Certification/blob/main/%EB%B9%85%EB%B6%84%EA%B8%B0_%EC%9E%91%EC%97%85%ED%98%95_2_%EC%98%88%EC%8B%9C.ipynb\" target=\"_parent\"><img src=\"https://colab.research.google.com/assets/colab-badge.svg\" alt=\"Open In Colab\"/></a>"
      ]
    },
    {
      "cell_type": "code",
      "metadata": {
        "id": "wjD8osyHBL0X"
      },
      "source": [
        "import pandas as pd\n",
        "import numpy as np"
      ],
      "execution_count": null,
      "outputs": []
    },
    {
      "cell_type": "code",
      "metadata": {
        "id": "EraPLjFFETXn"
      },
      "source": [
        "X_train = pd.read_csv('X_train.csv', encoding = \"euc-kr\")\n",
        "y_train = pd.read_csv('y_train.csv')\n",
        "X_test = pd.read_csv('X_test.csv', encoding = \"euc-kr\")"
      ],
      "execution_count": null,
      "outputs": []
    },
    {
      "cell_type": "code",
      "metadata": {
        "colab": {
          "base_uri": "https://localhost:8080/"
        },
        "id": "1fAw2pT4EgFQ",
        "outputId": "56fb8eb0-1ac7-45f7-efbf-c75c73ac8ecb"
      },
      "source": [
        "print(X_train.shape)\n",
        "print(y_train.shape)\n",
        "print(X_test.shape)"
      ],
      "execution_count": null,
      "outputs": [
        {
          "output_type": "stream",
          "name": "stdout",
          "text": [
            "(3500, 10)\n",
            "(3500, 2)\n",
            "(2482, 10)\n"
          ]
        }
      ]
    },
    {
      "cell_type": "markdown",
      "metadata": {
        "id": "uCS_mV0RFy8f"
      },
      "source": [
        "#basic EDA"
      ]
    },
    {
      "cell_type": "code",
      "metadata": {
        "colab": {
          "base_uri": "https://localhost:8080/"
        },
        "id": "tPrb9bPSEtj-",
        "outputId": "f1e2a138-4e56-4f10-db18-927ba9796b57"
      },
      "source": [
        "X_train.columns"
      ],
      "execution_count": null,
      "outputs": [
        {
          "output_type": "execute_result",
          "data": {
            "text/plain": [
              "Index(['cust_id', '총구매액', '최대구매액', '환불금액', '주구매상품', '주구매지점', '내점일수', '내점당구매건수',\n",
              "       '주말방문비율', '구매주기'],\n",
              "      dtype='object')"
            ]
          },
          "metadata": {},
          "execution_count": 10
        }
      ]
    },
    {
      "cell_type": "code",
      "metadata": {
        "colab": {
          "base_uri": "https://localhost:8080/",
          "height": 459
        },
        "id": "fEUDqMkdE3XX",
        "outputId": "bb909c80-3633-442d-c3be-28971b2bd332"
      },
      "source": [
        "X_train.head()"
      ],
      "execution_count": null,
      "outputs": [
        {
          "output_type": "execute_result",
          "data": {
            "text/html": [
              "<div>\n",
              "<style scoped>\n",
              "    .dataframe tbody tr th:only-of-type {\n",
              "        vertical-align: middle;\n",
              "    }\n",
              "\n",
              "    .dataframe tbody tr th {\n",
              "        vertical-align: top;\n",
              "    }\n",
              "\n",
              "    .dataframe thead th {\n",
              "        text-align: right;\n",
              "    }\n",
              "</style>\n",
              "<table border=\"1\" class=\"dataframe\">\n",
              "  <thead>\n",
              "    <tr style=\"text-align: right;\">\n",
              "      <th></th>\n",
              "      <th>cust_id</th>\n",
              "      <th>총구매액</th>\n",
              "      <th>최대구매액</th>\n",
              "      <th>환불금액</th>\n",
              "      <th>주구매상품</th>\n",
              "      <th>주구매지점</th>\n",
              "      <th>내점일수</th>\n",
              "      <th>내점당구매건수</th>\n",
              "      <th>주말방문비율</th>\n",
              "      <th>구매주기</th>\n",
              "    </tr>\n",
              "  </thead>\n",
              "  <tbody>\n",
              "    <tr>\n",
              "      <th>0</th>\n",
              "      <td>0</td>\n",
              "      <td>68282840</td>\n",
              "      <td>11264000</td>\n",
              "      <td>6860000.0</td>\n",
              "      <td>기타</td>\n",
              "      <td>강남점</td>\n",
              "      <td>19</td>\n",
              "      <td>3.894737</td>\n",
              "      <td>0.527027</td>\n",
              "      <td>17</td>\n",
              "    </tr>\n",
              "    <tr>\n",
              "      <th>1</th>\n",
              "      <td>1</td>\n",
              "      <td>2136000</td>\n",
              "      <td>2136000</td>\n",
              "      <td>300000.0</td>\n",
              "      <td>스포츠</td>\n",
              "      <td>잠실점</td>\n",
              "      <td>2</td>\n",
              "      <td>1.500000</td>\n",
              "      <td>0.000000</td>\n",
              "      <td>1</td>\n",
              "    </tr>\n",
              "    <tr>\n",
              "      <th>2</th>\n",
              "      <td>2</td>\n",
              "      <td>3197000</td>\n",
              "      <td>1639000</td>\n",
              "      <td>NaN</td>\n",
              "      <td>남성 캐주얼</td>\n",
              "      <td>관악점</td>\n",
              "      <td>2</td>\n",
              "      <td>2.000000</td>\n",
              "      <td>0.000000</td>\n",
              "      <td>1</td>\n",
              "    </tr>\n",
              "    <tr>\n",
              "      <th>3</th>\n",
              "      <td>3</td>\n",
              "      <td>16077620</td>\n",
              "      <td>4935000</td>\n",
              "      <td>NaN</td>\n",
              "      <td>기타</td>\n",
              "      <td>광주점</td>\n",
              "      <td>18</td>\n",
              "      <td>2.444444</td>\n",
              "      <td>0.318182</td>\n",
              "      <td>16</td>\n",
              "    </tr>\n",
              "    <tr>\n",
              "      <th>4</th>\n",
              "      <td>4</td>\n",
              "      <td>29050000</td>\n",
              "      <td>24000000</td>\n",
              "      <td>NaN</td>\n",
              "      <td>보석</td>\n",
              "      <td>본  점</td>\n",
              "      <td>2</td>\n",
              "      <td>1.500000</td>\n",
              "      <td>0.000000</td>\n",
              "      <td>85</td>\n",
              "    </tr>\n",
              "  </tbody>\n",
              "</table>\n",
              "</div>"
            ],
            "text/plain": [
              "   cust_id      총구매액     최대구매액       환불금액  ... 내점일수   내점당구매건수    주말방문비율  구매주기\n",
              "0        0  68282840  11264000  6860000.0  ...   19  3.894737  0.527027    17\n",
              "1        1   2136000   2136000   300000.0  ...    2  1.500000  0.000000     1\n",
              "2        2   3197000   1639000        NaN  ...    2  2.000000  0.000000     1\n",
              "3        3  16077620   4935000        NaN  ...   18  2.444444  0.318182    16\n",
              "4        4  29050000  24000000        NaN  ...    2  1.500000  0.000000    85\n",
              "\n",
              "[5 rows x 10 columns]"
            ]
          },
          "metadata": {},
          "execution_count": 11
        }
      ]
    },
    {
      "cell_type": "code",
      "metadata": {
        "colab": {
          "base_uri": "https://localhost:8080/",
          "height": 204
        },
        "id": "ToGBRmSiEwHu",
        "outputId": "9ad26ce0-96d0-419f-cb34-ce3efba5bc03"
      },
      "source": [
        "y_train.head()"
      ],
      "execution_count": null,
      "outputs": [
        {
          "output_type": "execute_result",
          "data": {
            "text/html": [
              "<div>\n",
              "<style scoped>\n",
              "    .dataframe tbody tr th:only-of-type {\n",
              "        vertical-align: middle;\n",
              "    }\n",
              "\n",
              "    .dataframe tbody tr th {\n",
              "        vertical-align: top;\n",
              "    }\n",
              "\n",
              "    .dataframe thead th {\n",
              "        text-align: right;\n",
              "    }\n",
              "</style>\n",
              "<table border=\"1\" class=\"dataframe\">\n",
              "  <thead>\n",
              "    <tr style=\"text-align: right;\">\n",
              "      <th></th>\n",
              "      <th>cust_id</th>\n",
              "      <th>gender</th>\n",
              "    </tr>\n",
              "  </thead>\n",
              "  <tbody>\n",
              "    <tr>\n",
              "      <th>0</th>\n",
              "      <td>0</td>\n",
              "      <td>0</td>\n",
              "    </tr>\n",
              "    <tr>\n",
              "      <th>1</th>\n",
              "      <td>1</td>\n",
              "      <td>0</td>\n",
              "    </tr>\n",
              "    <tr>\n",
              "      <th>2</th>\n",
              "      <td>2</td>\n",
              "      <td>1</td>\n",
              "    </tr>\n",
              "    <tr>\n",
              "      <th>3</th>\n",
              "      <td>3</td>\n",
              "      <td>1</td>\n",
              "    </tr>\n",
              "    <tr>\n",
              "      <th>4</th>\n",
              "      <td>4</td>\n",
              "      <td>0</td>\n",
              "    </tr>\n",
              "  </tbody>\n",
              "</table>\n",
              "</div>"
            ],
            "text/plain": [
              "   cust_id  gender\n",
              "0        0       0\n",
              "1        1       0\n",
              "2        2       1\n",
              "3        3       1\n",
              "4        4       0"
            ]
          },
          "metadata": {},
          "execution_count": 9
        }
      ]
    },
    {
      "cell_type": "code",
      "metadata": {
        "colab": {
          "base_uri": "https://localhost:8080/"
        },
        "id": "UXb2a9WbExcJ",
        "outputId": "695e79ca-0226-4530-e299-3be6db012fb6"
      },
      "source": [
        "#결측치 확인\n",
        "X_train.isnull().sum()"
      ],
      "execution_count": null,
      "outputs": [
        {
          "output_type": "execute_result",
          "data": {
            "text/plain": [
              "cust_id       0\n",
              "총구매액          0\n",
              "최대구매액         0\n",
              "환불금액       2295\n",
              "주구매상품         0\n",
              "주구매지점         0\n",
              "내점일수          0\n",
              "내점당구매건수       0\n",
              "주말방문비율        0\n",
              "구매주기          0\n",
              "dtype: int64"
            ]
          },
          "metadata": {},
          "execution_count": 13
        }
      ]
    },
    {
      "cell_type": "code",
      "metadata": {
        "colab": {
          "base_uri": "https://localhost:8080/",
          "height": 334
        },
        "id": "x0VHBNrlFB3u",
        "outputId": "4c311193-251d-4285-ad3c-3f90adfe425f"
      },
      "source": [
        "#X_train 데이터 기초 통계\n",
        "X_train.describe()"
      ],
      "execution_count": null,
      "outputs": [
        {
          "output_type": "execute_result",
          "data": {
            "text/html": [
              "<div>\n",
              "<style scoped>\n",
              "    .dataframe tbody tr th:only-of-type {\n",
              "        vertical-align: middle;\n",
              "    }\n",
              "\n",
              "    .dataframe tbody tr th {\n",
              "        vertical-align: top;\n",
              "    }\n",
              "\n",
              "    .dataframe thead th {\n",
              "        text-align: right;\n",
              "    }\n",
              "</style>\n",
              "<table border=\"1\" class=\"dataframe\">\n",
              "  <thead>\n",
              "    <tr style=\"text-align: right;\">\n",
              "      <th></th>\n",
              "      <th>cust_id</th>\n",
              "      <th>총구매액</th>\n",
              "      <th>최대구매액</th>\n",
              "      <th>환불금액</th>\n",
              "      <th>내점일수</th>\n",
              "      <th>내점당구매건수</th>\n",
              "      <th>주말방문비율</th>\n",
              "      <th>구매주기</th>\n",
              "    </tr>\n",
              "  </thead>\n",
              "  <tbody>\n",
              "    <tr>\n",
              "      <th>count</th>\n",
              "      <td>3500.000000</td>\n",
              "      <td>3.500000e+03</td>\n",
              "      <td>3.500000e+03</td>\n",
              "      <td>1.205000e+03</td>\n",
              "      <td>3500.000000</td>\n",
              "      <td>3500.000000</td>\n",
              "      <td>3500.000000</td>\n",
              "      <td>3500.000000</td>\n",
              "    </tr>\n",
              "    <tr>\n",
              "      <th>mean</th>\n",
              "      <td>1749.500000</td>\n",
              "      <td>9.191925e+07</td>\n",
              "      <td>1.966424e+07</td>\n",
              "      <td>2.407822e+07</td>\n",
              "      <td>19.253714</td>\n",
              "      <td>2.834963</td>\n",
              "      <td>0.307246</td>\n",
              "      <td>20.958286</td>\n",
              "    </tr>\n",
              "    <tr>\n",
              "      <th>std</th>\n",
              "      <td>1010.507298</td>\n",
              "      <td>1.635065e+08</td>\n",
              "      <td>3.199235e+07</td>\n",
              "      <td>4.746453e+07</td>\n",
              "      <td>27.174942</td>\n",
              "      <td>1.912368</td>\n",
              "      <td>0.289752</td>\n",
              "      <td>24.748682</td>\n",
              "    </tr>\n",
              "    <tr>\n",
              "      <th>min</th>\n",
              "      <td>0.000000</td>\n",
              "      <td>-5.242152e+07</td>\n",
              "      <td>-2.992000e+06</td>\n",
              "      <td>5.600000e+03</td>\n",
              "      <td>1.000000</td>\n",
              "      <td>1.000000</td>\n",
              "      <td>0.000000</td>\n",
              "      <td>0.000000</td>\n",
              "    </tr>\n",
              "    <tr>\n",
              "      <th>25%</th>\n",
              "      <td>874.750000</td>\n",
              "      <td>4.747050e+06</td>\n",
              "      <td>2.875000e+06</td>\n",
              "      <td>2.259000e+06</td>\n",
              "      <td>2.000000</td>\n",
              "      <td>1.666667</td>\n",
              "      <td>0.027291</td>\n",
              "      <td>4.000000</td>\n",
              "    </tr>\n",
              "    <tr>\n",
              "      <th>50%</th>\n",
              "      <td>1749.500000</td>\n",
              "      <td>2.822270e+07</td>\n",
              "      <td>9.837000e+06</td>\n",
              "      <td>7.392000e+06</td>\n",
              "      <td>8.000000</td>\n",
              "      <td>2.333333</td>\n",
              "      <td>0.256410</td>\n",
              "      <td>13.000000</td>\n",
              "    </tr>\n",
              "    <tr>\n",
              "      <th>75%</th>\n",
              "      <td>2624.250000</td>\n",
              "      <td>1.065079e+08</td>\n",
              "      <td>2.296250e+07</td>\n",
              "      <td>2.412000e+07</td>\n",
              "      <td>25.000000</td>\n",
              "      <td>3.375000</td>\n",
              "      <td>0.448980</td>\n",
              "      <td>28.000000</td>\n",
              "    </tr>\n",
              "    <tr>\n",
              "      <th>max</th>\n",
              "      <td>3499.000000</td>\n",
              "      <td>2.323180e+09</td>\n",
              "      <td>7.066290e+08</td>\n",
              "      <td>5.637530e+08</td>\n",
              "      <td>285.000000</td>\n",
              "      <td>22.083333</td>\n",
              "      <td>1.000000</td>\n",
              "      <td>166.000000</td>\n",
              "    </tr>\n",
              "  </tbody>\n",
              "</table>\n",
              "</div>"
            ],
            "text/plain": [
              "           cust_id          총구매액  ...       주말방문비율         구매주기\n",
              "count  3500.000000  3.500000e+03  ...  3500.000000  3500.000000\n",
              "mean   1749.500000  9.191925e+07  ...     0.307246    20.958286\n",
              "std    1010.507298  1.635065e+08  ...     0.289752    24.748682\n",
              "min       0.000000 -5.242152e+07  ...     0.000000     0.000000\n",
              "25%     874.750000  4.747050e+06  ...     0.027291     4.000000\n",
              "50%    1749.500000  2.822270e+07  ...     0.256410    13.000000\n",
              "75%    2624.250000  1.065079e+08  ...     0.448980    28.000000\n",
              "max    3499.000000  2.323180e+09  ...     1.000000   166.000000\n",
              "\n",
              "[8 rows x 8 columns]"
            ]
          },
          "metadata": {},
          "execution_count": 15
        }
      ]
    },
    {
      "cell_type": "code",
      "metadata": {
        "colab": {
          "base_uri": "https://localhost:8080/",
          "height": 173
        },
        "id": "u_cgZmqaFKln",
        "outputId": "c93d16f0-7e47-4d54-fab2-331d96ea8db3"
      },
      "source": [
        "X_train.describe(include = 'object')"
      ],
      "execution_count": null,
      "outputs": [
        {
          "output_type": "execute_result",
          "data": {
            "text/html": [
              "<div>\n",
              "<style scoped>\n",
              "    .dataframe tbody tr th:only-of-type {\n",
              "        vertical-align: middle;\n",
              "    }\n",
              "\n",
              "    .dataframe tbody tr th {\n",
              "        vertical-align: top;\n",
              "    }\n",
              "\n",
              "    .dataframe thead th {\n",
              "        text-align: right;\n",
              "    }\n",
              "</style>\n",
              "<table border=\"1\" class=\"dataframe\">\n",
              "  <thead>\n",
              "    <tr style=\"text-align: right;\">\n",
              "      <th></th>\n",
              "      <th>주구매상품</th>\n",
              "      <th>주구매지점</th>\n",
              "    </tr>\n",
              "  </thead>\n",
              "  <tbody>\n",
              "    <tr>\n",
              "      <th>count</th>\n",
              "      <td>3500</td>\n",
              "      <td>3500</td>\n",
              "    </tr>\n",
              "    <tr>\n",
              "      <th>unique</th>\n",
              "      <td>42</td>\n",
              "      <td>24</td>\n",
              "    </tr>\n",
              "    <tr>\n",
              "      <th>top</th>\n",
              "      <td>기타</td>\n",
              "      <td>본  점</td>\n",
              "    </tr>\n",
              "    <tr>\n",
              "      <th>freq</th>\n",
              "      <td>595</td>\n",
              "      <td>1077</td>\n",
              "    </tr>\n",
              "  </tbody>\n",
              "</table>\n",
              "</div>"
            ],
            "text/plain": [
              "       주구매상품 주구매지점\n",
              "count   3500  3500\n",
              "unique    42    24\n",
              "top       기타  본  점\n",
              "freq     595  1077"
            ]
          },
          "metadata": {},
          "execution_count": 20
        }
      ]
    },
    {
      "cell_type": "code",
      "metadata": {
        "colab": {
          "base_uri": "https://localhost:8080/"
        },
        "id": "hP482blzFTp4",
        "outputId": "ea06f081-9d48-4594-9c13-2b5d0123f926"
      },
      "source": [
        "X_train.info()"
      ],
      "execution_count": null,
      "outputs": [
        {
          "output_type": "stream",
          "name": "stdout",
          "text": [
            "<class 'pandas.core.frame.DataFrame'>\n",
            "RangeIndex: 3500 entries, 0 to 3499\n",
            "Data columns (total 10 columns):\n",
            " #   Column   Non-Null Count  Dtype  \n",
            "---  ------   --------------  -----  \n",
            " 0   cust_id  3500 non-null   int64  \n",
            " 1   총구매액     3500 non-null   int64  \n",
            " 2   최대구매액    3500 non-null   int64  \n",
            " 3   환불금액     1205 non-null   float64\n",
            " 4   주구매상품    3500 non-null   object \n",
            " 5   주구매지점    3500 non-null   object \n",
            " 6   내점일수     3500 non-null   int64  \n",
            " 7   내점당구매건수  3500 non-null   float64\n",
            " 8   주말방문비율   3500 non-null   float64\n",
            " 9   구매주기     3500 non-null   int64  \n",
            "dtypes: float64(3), int64(5), object(2)\n",
            "memory usage: 273.6+ KB\n"
          ]
        }
      ]
    },
    {
      "cell_type": "code",
      "metadata": {
        "colab": {
          "base_uri": "https://localhost:8080/"
        },
        "id": "G44YLjAPFaFO",
        "outputId": "8e92d36b-0b62-4e12-b486-fb5c017c8e17"
      },
      "source": [
        "y_train['gender'].value_counts()"
      ],
      "execution_count": null,
      "outputs": [
        {
          "output_type": "execute_result",
          "data": {
            "text/plain": [
              "0    2184\n",
              "1    1316\n",
              "Name: gender, dtype: int64"
            ]
          },
          "metadata": {},
          "execution_count": 23
        }
      ]
    },
    {
      "cell_type": "markdown",
      "metadata": {
        "id": "hCkuSMdWF1Oy"
      },
      "source": [
        "#데이터 전처리"
      ]
    },
    {
      "cell_type": "code",
      "metadata": {
        "colab": {
          "base_uri": "https://localhost:8080/"
        },
        "id": "zFf4F7vUFm_G",
        "outputId": "9c5e5539-6b80-41aa-c93c-8c13b6f2aafc"
      },
      "source": [
        "X_train = X_train.fillna(X_train['환불금액'].mean())\n",
        "X_test.info()"
      ],
      "execution_count": null,
      "outputs": [
        {
          "output_type": "stream",
          "name": "stdout",
          "text": [
            "<class 'pandas.core.frame.DataFrame'>\n",
            "RangeIndex: 2482 entries, 0 to 2481\n",
            "Data columns (total 10 columns):\n",
            " #   Column   Non-Null Count  Dtype  \n",
            "---  ------   --------------  -----  \n",
            " 0   cust_id  2482 non-null   int64  \n",
            " 1   총구매액     2482 non-null   int64  \n",
            " 2   최대구매액    2482 non-null   int64  \n",
            " 3   환불금액     871 non-null    float64\n",
            " 4   주구매상품    2482 non-null   object \n",
            " 5   주구매지점    2482 non-null   object \n",
            " 6   내점일수     2482 non-null   int64  \n",
            " 7   내점당구매건수  2482 non-null   float64\n",
            " 8   주말방문비율   2482 non-null   float64\n",
            " 9   구매주기     2482 non-null   int64  \n",
            "dtypes: float64(3), int64(5), object(2)\n",
            "memory usage: 194.0+ KB\n"
          ]
        }
      ]
    },
    {
      "cell_type": "code",
      "metadata": {
        "colab": {
          "base_uri": "https://localhost:8080/"
        },
        "id": "DVzimQNiGC7P",
        "outputId": "33a3625e-34bf-4b7c-d070-036d3886513a"
      },
      "source": [
        "X_test.isnull().sum()"
      ],
      "execution_count": null,
      "outputs": [
        {
          "output_type": "execute_result",
          "data": {
            "text/plain": [
              "cust_id       0\n",
              "총구매액          0\n",
              "최대구매액         0\n",
              "환불금액       1611\n",
              "주구매상품         0\n",
              "주구매지점         0\n",
              "내점일수          0\n",
              "내점당구매건수       0\n",
              "주말방문비율        0\n",
              "구매주기          0\n",
              "dtype: int64"
            ]
          },
          "metadata": {},
          "execution_count": 28
        }
      ]
    },
    {
      "cell_type": "code",
      "metadata": {
        "id": "aS-5PBWuGbCd"
      },
      "source": [
        "X_test = X_test.fillna(X_test['환불금액'].mean())"
      ],
      "execution_count": null,
      "outputs": []
    },
    {
      "cell_type": "code",
      "metadata": {
        "id": "zJg4PTG0GflW"
      },
      "source": [
        "X_train = X_train.drop(['cust_id'], axis = 1)\n",
        "cust_id = X_test.pop('cust_id') #csv파일을 만들때 사용학기 위해 잠시 저장"
      ],
      "execution_count": null,
      "outputs": []
    },
    {
      "cell_type": "code",
      "metadata": {
        "colab": {
          "base_uri": "https://localhost:8080/",
          "height": 340
        },
        "id": "gpoREu2QHKYQ",
        "outputId": "39487daa-f9ed-406b-83ea-6236fa83eec8"
      },
      "source": [
        "X_train.head()"
      ],
      "execution_count": null,
      "outputs": [
        {
          "output_type": "execute_result",
          "data": {
            "text/html": [
              "<div>\n",
              "<style scoped>\n",
              "    .dataframe tbody tr th:only-of-type {\n",
              "        vertical-align: middle;\n",
              "    }\n",
              "\n",
              "    .dataframe tbody tr th {\n",
              "        vertical-align: top;\n",
              "    }\n",
              "\n",
              "    .dataframe thead th {\n",
              "        text-align: right;\n",
              "    }\n",
              "</style>\n",
              "<table border=\"1\" class=\"dataframe\">\n",
              "  <thead>\n",
              "    <tr style=\"text-align: right;\">\n",
              "      <th></th>\n",
              "      <th>총구매액</th>\n",
              "      <th>최대구매액</th>\n",
              "      <th>환불금액</th>\n",
              "      <th>주구매상품</th>\n",
              "      <th>주구매지점</th>\n",
              "      <th>내점일수</th>\n",
              "      <th>내점당구매건수</th>\n",
              "      <th>주말방문비율</th>\n",
              "      <th>구매주기</th>\n",
              "    </tr>\n",
              "  </thead>\n",
              "  <tbody>\n",
              "    <tr>\n",
              "      <th>0</th>\n",
              "      <td>68282840</td>\n",
              "      <td>11264000</td>\n",
              "      <td>6.860000e+06</td>\n",
              "      <td>기타</td>\n",
              "      <td>강남점</td>\n",
              "      <td>19</td>\n",
              "      <td>3.894737</td>\n",
              "      <td>0.527027</td>\n",
              "      <td>17</td>\n",
              "    </tr>\n",
              "    <tr>\n",
              "      <th>1</th>\n",
              "      <td>2136000</td>\n",
              "      <td>2136000</td>\n",
              "      <td>3.000000e+05</td>\n",
              "      <td>스포츠</td>\n",
              "      <td>잠실점</td>\n",
              "      <td>2</td>\n",
              "      <td>1.500000</td>\n",
              "      <td>0.000000</td>\n",
              "      <td>1</td>\n",
              "    </tr>\n",
              "    <tr>\n",
              "      <th>2</th>\n",
              "      <td>3197000</td>\n",
              "      <td>1639000</td>\n",
              "      <td>2.407822e+07</td>\n",
              "      <td>남성 캐주얼</td>\n",
              "      <td>관악점</td>\n",
              "      <td>2</td>\n",
              "      <td>2.000000</td>\n",
              "      <td>0.000000</td>\n",
              "      <td>1</td>\n",
              "    </tr>\n",
              "    <tr>\n",
              "      <th>3</th>\n",
              "      <td>16077620</td>\n",
              "      <td>4935000</td>\n",
              "      <td>2.407822e+07</td>\n",
              "      <td>기타</td>\n",
              "      <td>광주점</td>\n",
              "      <td>18</td>\n",
              "      <td>2.444444</td>\n",
              "      <td>0.318182</td>\n",
              "      <td>16</td>\n",
              "    </tr>\n",
              "    <tr>\n",
              "      <th>4</th>\n",
              "      <td>29050000</td>\n",
              "      <td>24000000</td>\n",
              "      <td>2.407822e+07</td>\n",
              "      <td>보석</td>\n",
              "      <td>본  점</td>\n",
              "      <td>2</td>\n",
              "      <td>1.500000</td>\n",
              "      <td>0.000000</td>\n",
              "      <td>85</td>\n",
              "    </tr>\n",
              "  </tbody>\n",
              "</table>\n",
              "</div>"
            ],
            "text/plain": [
              "       총구매액     최대구매액          환불금액   주구매상품  ... 내점일수   내점당구매건수    주말방문비율  구매주기\n",
              "0  68282840  11264000  6.860000e+06      기타  ...   19  3.894737  0.527027    17\n",
              "1   2136000   2136000  3.000000e+05     스포츠  ...    2  1.500000  0.000000     1\n",
              "2   3197000   1639000  2.407822e+07  남성 캐주얼  ...    2  2.000000  0.000000     1\n",
              "3  16077620   4935000  2.407822e+07      기타  ...   18  2.444444  0.318182    16\n",
              "4  29050000  24000000  2.407822e+07      보석  ...    2  1.500000  0.000000    85\n",
              "\n",
              "[5 rows x 9 columns]"
            ]
          },
          "metadata": {},
          "execution_count": 32
        }
      ]
    },
    {
      "cell_type": "code",
      "metadata": {
        "colab": {
          "base_uri": "https://localhost:8080/"
        },
        "id": "yQywrS-PHMYv",
        "outputId": "3593068b-6720-4deb-f496-48947d5e26d2"
      },
      "source": [
        "cust_id"
      ],
      "execution_count": null,
      "outputs": [
        {
          "output_type": "execute_result",
          "data": {
            "text/plain": [
              "0       3500\n",
              "1       3501\n",
              "2       3502\n",
              "3       3503\n",
              "4       3504\n",
              "        ... \n",
              "2477    5977\n",
              "2478    5978\n",
              "2479    5979\n",
              "2480    5980\n",
              "2481    5981\n",
              "Name: cust_id, Length: 2482, dtype: int64"
            ]
          },
          "metadata": {},
          "execution_count": 33
        }
      ]
    },
    {
      "cell_type": "markdown",
      "metadata": {
        "id": "TXUpfFdIG6Aw"
      },
      "source": [
        "#피처엔지니어링"
      ]
    },
    {
      "cell_type": "code",
      "metadata": {
        "colab": {
          "base_uri": "https://localhost:8080/",
          "height": 255
        },
        "id": "Ze6ReCDLG5Dg",
        "outputId": "5bfb5350-8e9d-4052-a747-7b548a7d9afa"
      },
      "source": [
        "#레이블인코딩 - 범주형 변수 변환\n",
        "from sklearn.preprocessing import LabelEncoder\n",
        "cols = ['주구매상품', '주구매지점']\n",
        "for col in cols:\n",
        "  le = LabelEncoder()\n",
        "  X_train[col] = le.fit_transform(X_train[col])\n",
        "  X_test[col] = le.fit_transform(X_test[col])\n",
        "\n",
        "X_train.head()"
      ],
      "execution_count": null,
      "outputs": [
        {
          "output_type": "execute_result",
          "data": {
            "text/html": [
              "<div>\n",
              "<style scoped>\n",
              "    .dataframe tbody tr th:only-of-type {\n",
              "        vertical-align: middle;\n",
              "    }\n",
              "\n",
              "    .dataframe tbody tr th {\n",
              "        vertical-align: top;\n",
              "    }\n",
              "\n",
              "    .dataframe thead th {\n",
              "        text-align: right;\n",
              "    }\n",
              "</style>\n",
              "<table border=\"1\" class=\"dataframe\">\n",
              "  <thead>\n",
              "    <tr style=\"text-align: right;\">\n",
              "      <th></th>\n",
              "      <th>총구매액</th>\n",
              "      <th>최대구매액</th>\n",
              "      <th>환불금액</th>\n",
              "      <th>주구매상품</th>\n",
              "      <th>주구매지점</th>\n",
              "      <th>내점일수</th>\n",
              "      <th>내점당구매건수</th>\n",
              "      <th>주말방문비율</th>\n",
              "      <th>구매주기</th>\n",
              "    </tr>\n",
              "  </thead>\n",
              "  <tbody>\n",
              "    <tr>\n",
              "      <th>0</th>\n",
              "      <td>68282840</td>\n",
              "      <td>11264000</td>\n",
              "      <td>6.860000e+06</td>\n",
              "      <td>5</td>\n",
              "      <td>0</td>\n",
              "      <td>19</td>\n",
              "      <td>3.894737</td>\n",
              "      <td>0.527027</td>\n",
              "      <td>17</td>\n",
              "    </tr>\n",
              "    <tr>\n",
              "      <th>1</th>\n",
              "      <td>2136000</td>\n",
              "      <td>2136000</td>\n",
              "      <td>3.000000e+05</td>\n",
              "      <td>21</td>\n",
              "      <td>19</td>\n",
              "      <td>2</td>\n",
              "      <td>1.500000</td>\n",
              "      <td>0.000000</td>\n",
              "      <td>1</td>\n",
              "    </tr>\n",
              "    <tr>\n",
              "      <th>2</th>\n",
              "      <td>3197000</td>\n",
              "      <td>1639000</td>\n",
              "      <td>2.407822e+07</td>\n",
              "      <td>6</td>\n",
              "      <td>1</td>\n",
              "      <td>2</td>\n",
              "      <td>2.000000</td>\n",
              "      <td>0.000000</td>\n",
              "      <td>1</td>\n",
              "    </tr>\n",
              "    <tr>\n",
              "      <th>3</th>\n",
              "      <td>16077620</td>\n",
              "      <td>4935000</td>\n",
              "      <td>2.407822e+07</td>\n",
              "      <td>5</td>\n",
              "      <td>2</td>\n",
              "      <td>18</td>\n",
              "      <td>2.444444</td>\n",
              "      <td>0.318182</td>\n",
              "      <td>16</td>\n",
              "    </tr>\n",
              "    <tr>\n",
              "      <th>4</th>\n",
              "      <td>29050000</td>\n",
              "      <td>24000000</td>\n",
              "      <td>2.407822e+07</td>\n",
              "      <td>15</td>\n",
              "      <td>8</td>\n",
              "      <td>2</td>\n",
              "      <td>1.500000</td>\n",
              "      <td>0.000000</td>\n",
              "      <td>85</td>\n",
              "    </tr>\n",
              "  </tbody>\n",
              "</table>\n",
              "</div>"
            ],
            "text/plain": [
              "       총구매액     최대구매액          환불금액  주구매상품  ...  내점일수   내점당구매건수    주말방문비율  구매주기\n",
              "0  68282840  11264000  6.860000e+06      5  ...    19  3.894737  0.527027    17\n",
              "1   2136000   2136000  3.000000e+05     21  ...     2  1.500000  0.000000     1\n",
              "2   3197000   1639000  2.407822e+07      6  ...     2  2.000000  0.000000     1\n",
              "3  16077620   4935000  2.407822e+07      5  ...    18  2.444444  0.318182    16\n",
              "4  29050000  24000000  2.407822e+07     15  ...     2  1.500000  0.000000    85\n",
              "\n",
              "[5 rows x 9 columns]"
            ]
          },
          "metadata": {},
          "execution_count": 35
        }
      ]
    },
    {
      "cell_type": "markdown",
      "metadata": {
        "id": "XhbdhoGmHtjP"
      },
      "source": [
        "#모델링 & 하이퍼 파라미터 튜닝"
      ]
    },
    {
      "cell_type": "code",
      "metadata": {
        "colab": {
          "base_uri": "https://localhost:8080/"
        },
        "id": "ikfteyXVHmnP",
        "outputId": "5971adf9-b100-4ec5-a97e-dafc340f3985"
      },
      "source": [
        "#모델링, 하이퍼 파라미터 튜닝, 앙상블\n",
        "from sklearn.ensemble import RandomForestClassifier\n",
        "\n",
        "model = RandomForestClassifier(n_estimators = 100,\n",
        "                               max_depth = 5,\n",
        "                               random_state = 2022)\n",
        "\n",
        "model.fit(X_train, y_train['gender'])\n",
        "print(model.score(X_train, y_train['gender']))\n",
        "predictions = model.predict_proba(X_test)"
      ],
      "execution_count": null,
      "outputs": [
        {
          "output_type": "stream",
          "name": "stdout",
          "text": [
            "0.6871428571428572\n"
          ]
        }
      ]
    },
    {
      "cell_type": "code",
      "metadata": {
        "colab": {
          "base_uri": "https://localhost:8080/"
        },
        "id": "0CZ-hJG3JO_v",
        "outputId": "69f4893e-b6c2-41f5-b222-1e99f009ddea"
      },
      "source": [
        "predictions[:, 1]"
      ],
      "execution_count": null,
      "outputs": [
        {
          "output_type": "execute_result",
          "data": {
            "text/plain": [
              "array([0.44029057, 0.19185206, 0.21520348, ..., 0.3844777 , 0.36119256,\n",
              "       0.53373123])"
            ]
          },
          "metadata": {},
          "execution_count": 40
        }
      ]
    },
    {
      "cell_type": "code",
      "metadata": {
        "id": "EXNo5lE0JaDd"
      },
      "source": [
        "#csv 생성\n",
        "output = pd.DataFrame({'cust_id': cust_id, 'gender': predictions[:, 1]})"
      ],
      "execution_count": null,
      "outputs": []
    },
    {
      "cell_type": "code",
      "metadata": {
        "colab": {
          "base_uri": "https://localhost:8080/",
          "height": 204
        },
        "id": "9Y2BnSDQJ5mP",
        "outputId": "1916e085-951a-499a-b19f-14b46a012bd0"
      },
      "source": [
        "output.head()"
      ],
      "execution_count": null,
      "outputs": [
        {
          "output_type": "execute_result",
          "data": {
            "text/html": [
              "<div>\n",
              "<style scoped>\n",
              "    .dataframe tbody tr th:only-of-type {\n",
              "        vertical-align: middle;\n",
              "    }\n",
              "\n",
              "    .dataframe tbody tr th {\n",
              "        vertical-align: top;\n",
              "    }\n",
              "\n",
              "    .dataframe thead th {\n",
              "        text-align: right;\n",
              "    }\n",
              "</style>\n",
              "<table border=\"1\" class=\"dataframe\">\n",
              "  <thead>\n",
              "    <tr style=\"text-align: right;\">\n",
              "      <th></th>\n",
              "      <th>cust_id</th>\n",
              "      <th>gender</th>\n",
              "    </tr>\n",
              "  </thead>\n",
              "  <tbody>\n",
              "    <tr>\n",
              "      <th>0</th>\n",
              "      <td>3500</td>\n",
              "      <td>0.440291</td>\n",
              "    </tr>\n",
              "    <tr>\n",
              "      <th>1</th>\n",
              "      <td>3501</td>\n",
              "      <td>0.191852</td>\n",
              "    </tr>\n",
              "    <tr>\n",
              "      <th>2</th>\n",
              "      <td>3502</td>\n",
              "      <td>0.215203</td>\n",
              "    </tr>\n",
              "    <tr>\n",
              "      <th>3</th>\n",
              "      <td>3503</td>\n",
              "      <td>0.414284</td>\n",
              "    </tr>\n",
              "    <tr>\n",
              "      <th>4</th>\n",
              "      <td>3504</td>\n",
              "      <td>0.474877</td>\n",
              "    </tr>\n",
              "  </tbody>\n",
              "</table>\n",
              "</div>"
            ],
            "text/plain": [
              "   cust_id    gender\n",
              "0     3500  0.440291\n",
              "1     3501  0.191852\n",
              "2     3502  0.215203\n",
              "3     3503  0.414284\n",
              "4     3504  0.474877"
            ]
          },
          "metadata": {},
          "execution_count": 42
        }
      ]
    },
    {
      "cell_type": "code",
      "metadata": {
        "id": "ou8XgCA6J6r_"
      },
      "source": [
        "output.to_csv(\"123456789.csv\", index = False)"
      ],
      "execution_count": null,
      "outputs": []
    },
    {
      "cell_type": "code",
      "metadata": {
        "id": "XJdeZkU5KAse"
      },
      "source": [
        ""
      ],
      "execution_count": null,
      "outputs": []
    }
  ]
}